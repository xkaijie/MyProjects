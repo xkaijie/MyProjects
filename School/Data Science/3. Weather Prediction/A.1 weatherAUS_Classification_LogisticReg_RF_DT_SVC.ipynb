{
 "cells": [
  {
   "cell_type": "code",
   "execution_count": 1,
   "id": "e1f185e6",
   "metadata": {},
   "outputs": [],
   "source": [
    "# Import libraries\n",
    "import pandas as pd\n",
    "import numpy as np\n",
    "import matplotlib.pyplot as plt\n",
    "\n",
    "import warnings\n",
    "warnings.filterwarnings(\"ignore\")"
   ]
  },
  {
   "cell_type": "code",
   "execution_count": 2,
   "id": "985833bd",
   "metadata": {},
   "outputs": [],
   "source": [
    "# Read Data\n",
    "weather = pd.read_csv('weatherAUS.csv')"
   ]
  },
  {
   "cell_type": "code",
   "execution_count": 3,
   "id": "9412dab4",
   "metadata": {
    "scrolled": true
   },
   "outputs": [
    {
     "data": {
      "text/html": [
       "<div>\n",
       "<style scoped>\n",
       "    .dataframe tbody tr th:only-of-type {\n",
       "        vertical-align: middle;\n",
       "    }\n",
       "\n",
       "    .dataframe tbody tr th {\n",
       "        vertical-align: top;\n",
       "    }\n",
       "\n",
       "    .dataframe thead th {\n",
       "        text-align: right;\n",
       "    }\n",
       "</style>\n",
       "<table border=\"1\" class=\"dataframe\">\n",
       "  <thead>\n",
       "    <tr style=\"text-align: right;\">\n",
       "      <th></th>\n",
       "      <th>Date</th>\n",
       "      <th>Location</th>\n",
       "      <th>MinTemp</th>\n",
       "      <th>MaxTemp</th>\n",
       "      <th>Rainfall</th>\n",
       "      <th>Evaporation</th>\n",
       "      <th>Sunshine</th>\n",
       "      <th>WindGustDir</th>\n",
       "      <th>WindGustSpeed</th>\n",
       "      <th>WindDir9am</th>\n",
       "      <th>...</th>\n",
       "      <th>Humidity9am</th>\n",
       "      <th>Humidity3pm</th>\n",
       "      <th>Pressure9am</th>\n",
       "      <th>Pressure3pm</th>\n",
       "      <th>Cloud9am</th>\n",
       "      <th>Cloud3pm</th>\n",
       "      <th>Temp9am</th>\n",
       "      <th>Temp3pm</th>\n",
       "      <th>RainToday</th>\n",
       "      <th>RainTomorrow</th>\n",
       "    </tr>\n",
       "  </thead>\n",
       "  <tbody>\n",
       "    <tr>\n",
       "      <th>0</th>\n",
       "      <td>2008-12-01</td>\n",
       "      <td>Albury</td>\n",
       "      <td>13.4</td>\n",
       "      <td>22.9</td>\n",
       "      <td>0.6</td>\n",
       "      <td>NaN</td>\n",
       "      <td>NaN</td>\n",
       "      <td>W</td>\n",
       "      <td>44.0</td>\n",
       "      <td>W</td>\n",
       "      <td>...</td>\n",
       "      <td>71.0</td>\n",
       "      <td>22.0</td>\n",
       "      <td>1007.7</td>\n",
       "      <td>1007.1</td>\n",
       "      <td>8.0</td>\n",
       "      <td>NaN</td>\n",
       "      <td>16.9</td>\n",
       "      <td>21.8</td>\n",
       "      <td>No</td>\n",
       "      <td>No</td>\n",
       "    </tr>\n",
       "    <tr>\n",
       "      <th>1</th>\n",
       "      <td>2008-12-02</td>\n",
       "      <td>Albury</td>\n",
       "      <td>7.4</td>\n",
       "      <td>25.1</td>\n",
       "      <td>0.0</td>\n",
       "      <td>NaN</td>\n",
       "      <td>NaN</td>\n",
       "      <td>WNW</td>\n",
       "      <td>44.0</td>\n",
       "      <td>NNW</td>\n",
       "      <td>...</td>\n",
       "      <td>44.0</td>\n",
       "      <td>25.0</td>\n",
       "      <td>1010.6</td>\n",
       "      <td>1007.8</td>\n",
       "      <td>NaN</td>\n",
       "      <td>NaN</td>\n",
       "      <td>17.2</td>\n",
       "      <td>24.3</td>\n",
       "      <td>No</td>\n",
       "      <td>No</td>\n",
       "    </tr>\n",
       "    <tr>\n",
       "      <th>2</th>\n",
       "      <td>2008-12-03</td>\n",
       "      <td>Albury</td>\n",
       "      <td>12.9</td>\n",
       "      <td>25.7</td>\n",
       "      <td>0.0</td>\n",
       "      <td>NaN</td>\n",
       "      <td>NaN</td>\n",
       "      <td>WSW</td>\n",
       "      <td>46.0</td>\n",
       "      <td>W</td>\n",
       "      <td>...</td>\n",
       "      <td>38.0</td>\n",
       "      <td>30.0</td>\n",
       "      <td>1007.6</td>\n",
       "      <td>1008.7</td>\n",
       "      <td>NaN</td>\n",
       "      <td>2.0</td>\n",
       "      <td>21.0</td>\n",
       "      <td>23.2</td>\n",
       "      <td>No</td>\n",
       "      <td>No</td>\n",
       "    </tr>\n",
       "    <tr>\n",
       "      <th>3</th>\n",
       "      <td>2008-12-04</td>\n",
       "      <td>Albury</td>\n",
       "      <td>9.2</td>\n",
       "      <td>28.0</td>\n",
       "      <td>0.0</td>\n",
       "      <td>NaN</td>\n",
       "      <td>NaN</td>\n",
       "      <td>NE</td>\n",
       "      <td>24.0</td>\n",
       "      <td>SE</td>\n",
       "      <td>...</td>\n",
       "      <td>45.0</td>\n",
       "      <td>16.0</td>\n",
       "      <td>1017.6</td>\n",
       "      <td>1012.8</td>\n",
       "      <td>NaN</td>\n",
       "      <td>NaN</td>\n",
       "      <td>18.1</td>\n",
       "      <td>26.5</td>\n",
       "      <td>No</td>\n",
       "      <td>No</td>\n",
       "    </tr>\n",
       "    <tr>\n",
       "      <th>4</th>\n",
       "      <td>2008-12-05</td>\n",
       "      <td>Albury</td>\n",
       "      <td>17.5</td>\n",
       "      <td>32.3</td>\n",
       "      <td>1.0</td>\n",
       "      <td>NaN</td>\n",
       "      <td>NaN</td>\n",
       "      <td>W</td>\n",
       "      <td>41.0</td>\n",
       "      <td>ENE</td>\n",
       "      <td>...</td>\n",
       "      <td>82.0</td>\n",
       "      <td>33.0</td>\n",
       "      <td>1010.8</td>\n",
       "      <td>1006.0</td>\n",
       "      <td>7.0</td>\n",
       "      <td>8.0</td>\n",
       "      <td>17.8</td>\n",
       "      <td>29.7</td>\n",
       "      <td>No</td>\n",
       "      <td>No</td>\n",
       "    </tr>\n",
       "  </tbody>\n",
       "</table>\n",
       "<p>5 rows × 23 columns</p>\n",
       "</div>"
      ],
      "text/plain": [
       "         Date Location  MinTemp  MaxTemp  Rainfall  Evaporation  Sunshine  \\\n",
       "0  2008-12-01   Albury     13.4     22.9       0.6          NaN       NaN   \n",
       "1  2008-12-02   Albury      7.4     25.1       0.0          NaN       NaN   \n",
       "2  2008-12-03   Albury     12.9     25.7       0.0          NaN       NaN   \n",
       "3  2008-12-04   Albury      9.2     28.0       0.0          NaN       NaN   \n",
       "4  2008-12-05   Albury     17.5     32.3       1.0          NaN       NaN   \n",
       "\n",
       "  WindGustDir  WindGustSpeed WindDir9am  ... Humidity9am  Humidity3pm  \\\n",
       "0           W           44.0          W  ...        71.0         22.0   \n",
       "1         WNW           44.0        NNW  ...        44.0         25.0   \n",
       "2         WSW           46.0          W  ...        38.0         30.0   \n",
       "3          NE           24.0         SE  ...        45.0         16.0   \n",
       "4           W           41.0        ENE  ...        82.0         33.0   \n",
       "\n",
       "   Pressure9am  Pressure3pm  Cloud9am  Cloud3pm  Temp9am  Temp3pm  RainToday  \\\n",
       "0       1007.7       1007.1       8.0       NaN     16.9     21.8         No   \n",
       "1       1010.6       1007.8       NaN       NaN     17.2     24.3         No   \n",
       "2       1007.6       1008.7       NaN       2.0     21.0     23.2         No   \n",
       "3       1017.6       1012.8       NaN       NaN     18.1     26.5         No   \n",
       "4       1010.8       1006.0       7.0       8.0     17.8     29.7         No   \n",
       "\n",
       "   RainTomorrow  \n",
       "0            No  \n",
       "1            No  \n",
       "2            No  \n",
       "3            No  \n",
       "4            No  \n",
       "\n",
       "[5 rows x 23 columns]"
      ]
     },
     "execution_count": 3,
     "metadata": {},
     "output_type": "execute_result"
    }
   ],
   "source": [
    "# First 5 rows\n",
    "weather.head()"
   ]
  },
  {
   "cell_type": "code",
   "execution_count": 4,
   "id": "256fcceb",
   "metadata": {},
   "outputs": [
    {
     "data": {
      "text/plain": [
       "(145460, 23)"
      ]
     },
     "execution_count": 4,
     "metadata": {},
     "output_type": "execute_result"
    }
   ],
   "source": [
    "# weather rows and columns\n",
    "weather.shape"
   ]
  },
  {
   "cell_type": "code",
   "execution_count": 5,
   "id": "5d084b4f",
   "metadata": {
    "scrolled": true
   },
   "outputs": [
    {
     "name": "stdout",
     "output_type": "stream",
     "text": [
      "<class 'pandas.core.frame.DataFrame'>\n",
      "RangeIndex: 145460 entries, 0 to 145459\n",
      "Data columns (total 23 columns):\n",
      " #   Column         Non-Null Count   Dtype  \n",
      "---  ------         --------------   -----  \n",
      " 0   Date           145460 non-null  object \n",
      " 1   Location       145460 non-null  object \n",
      " 2   MinTemp        143975 non-null  float64\n",
      " 3   MaxTemp        144199 non-null  float64\n",
      " 4   Rainfall       142199 non-null  float64\n",
      " 5   Evaporation    82670 non-null   float64\n",
      " 6   Sunshine       75625 non-null   float64\n",
      " 7   WindGustDir    135134 non-null  object \n",
      " 8   WindGustSpeed  135197 non-null  float64\n",
      " 9   WindDir9am     134894 non-null  object \n",
      " 10  WindDir3pm     141232 non-null  object \n",
      " 11  WindSpeed9am   143693 non-null  float64\n",
      " 12  WindSpeed3pm   142398 non-null  float64\n",
      " 13  Humidity9am    142806 non-null  float64\n",
      " 14  Humidity3pm    140953 non-null  float64\n",
      " 15  Pressure9am    130395 non-null  float64\n",
      " 16  Pressure3pm    130432 non-null  float64\n",
      " 17  Cloud9am       89572 non-null   float64\n",
      " 18  Cloud3pm       86102 non-null   float64\n",
      " 19  Temp9am        143693 non-null  float64\n",
      " 20  Temp3pm        141851 non-null  float64\n",
      " 21  RainToday      142199 non-null  object \n",
      " 22  RainTomorrow   142193 non-null  object \n",
      "dtypes: float64(16), object(7)\n",
      "memory usage: 25.5+ MB\n"
     ]
    }
   ],
   "source": [
    "weather.info()"
   ]
  },
  {
   "cell_type": "markdown",
   "id": "0d7c76c7",
   "metadata": {},
   "source": [
    "## Data Preprocessing"
   ]
  },
  {
   "cell_type": "code",
   "execution_count": 6,
   "id": "88366f16",
   "metadata": {},
   "outputs": [
    {
     "data": {
      "text/plain": [
       "Date                 0\n",
       "Location             0\n",
       "MinTemp           1485\n",
       "MaxTemp           1261\n",
       "Rainfall          3261\n",
       "Evaporation      62790\n",
       "Sunshine         69835\n",
       "WindGustDir      10326\n",
       "WindGustSpeed    10263\n",
       "WindDir9am       10566\n",
       "WindDir3pm        4228\n",
       "WindSpeed9am      1767\n",
       "WindSpeed3pm      3062\n",
       "Humidity9am       2654\n",
       "Humidity3pm       4507\n",
       "Pressure9am      15065\n",
       "Pressure3pm      15028\n",
       "Cloud9am         55888\n",
       "Cloud3pm         59358\n",
       "Temp9am           1767\n",
       "Temp3pm           3609\n",
       "RainToday         3261\n",
       "RainTomorrow      3267\n",
       "dtype: int64"
      ]
     },
     "execution_count": 6,
     "metadata": {},
     "output_type": "execute_result"
    }
   ],
   "source": [
    "#Check for any missing value\n",
    "weather.isnull().sum()"
   ]
  },
  {
   "cell_type": "code",
   "execution_count": 7,
   "id": "9b5c41b7",
   "metadata": {},
   "outputs": [],
   "source": [
    "categorical_features = list(weather.select_dtypes(include='object').columns)\n",
    "numerical_features = list(weather.select_dtypes(exclude='object').columns)"
   ]
  },
  {
   "cell_type": "code",
   "execution_count": 8,
   "id": "be12ff14",
   "metadata": {},
   "outputs": [
    {
     "data": {
      "text/plain": [
       "['Date',\n",
       " 'Location',\n",
       " 'WindGustDir',\n",
       " 'WindDir9am',\n",
       " 'WindDir3pm',\n",
       " 'RainToday',\n",
       " 'RainTomorrow']"
      ]
     },
     "execution_count": 8,
     "metadata": {},
     "output_type": "execute_result"
    }
   ],
   "source": [
    "categorical_features"
   ]
  },
  {
   "cell_type": "code",
   "execution_count": 9,
   "id": "3501827a",
   "metadata": {
    "scrolled": true
   },
   "outputs": [
    {
     "data": {
      "text/plain": [
       "['MinTemp',\n",
       " 'MaxTemp',\n",
       " 'Rainfall',\n",
       " 'Evaporation',\n",
       " 'Sunshine',\n",
       " 'WindGustSpeed',\n",
       " 'WindSpeed9am',\n",
       " 'WindSpeed3pm',\n",
       " 'Humidity9am',\n",
       " 'Humidity3pm',\n",
       " 'Pressure9am',\n",
       " 'Pressure3pm',\n",
       " 'Cloud9am',\n",
       " 'Cloud3pm',\n",
       " 'Temp9am',\n",
       " 'Temp3pm']"
      ]
     },
     "execution_count": 9,
     "metadata": {},
     "output_type": "execute_result"
    }
   ],
   "source": [
    "numerical_features"
   ]
  },
  {
   "cell_type": "code",
   "execution_count": 10,
   "id": "bf4ffce2",
   "metadata": {},
   "outputs": [
    {
     "data": {
      "text/plain": [
       "Date                0\n",
       "Location            0\n",
       "WindGustDir     10326\n",
       "WindDir9am      10566\n",
       "WindDir3pm       4228\n",
       "RainToday        3261\n",
       "RainTomorrow     3267\n",
       "dtype: int64"
      ]
     },
     "execution_count": 10,
     "metadata": {},
     "output_type": "execute_result"
    }
   ],
   "source": [
    "weather[categorical_features].isnull().sum()"
   ]
  },
  {
   "cell_type": "code",
   "execution_count": 11,
   "id": "2dd6f79a",
   "metadata": {},
   "outputs": [],
   "source": [
    "# Fill in missing values in the 'RainTomorrow' column of the data frame 'weather' with \n",
    "# the most common value (the mode) of the column. \n",
    "# The inplace=True argument makes the changes to the data frame itself, rather than returning a new one.\n",
    "\n",
    "weather['WindGustDir'].fillna(weather['WindGustDir'].value_counts().index[0],inplace=True)\n",
    "weather['WindDir9am'].fillna(weather['WindDir9am'].value_counts().index[0],inplace=True)\n",
    "weather['WindDir3pm'].fillna(weather['WindDir3pm'].value_counts().index[0],inplace=True)\n",
    "weather['RainToday'].fillna(weather['RainToday'].value_counts().index[0],inplace=True)\n",
    "weather['RainTomorrow'].fillna(weather['RainTomorrow'].value_counts().index[0],inplace=True)"
   ]
  },
  {
   "cell_type": "code",
   "execution_count": 12,
   "id": "c2878ac1",
   "metadata": {
    "scrolled": true
   },
   "outputs": [
    {
     "data": {
      "text/plain": [
       "Date            0\n",
       "Location        0\n",
       "WindGustDir     0\n",
       "WindDir9am      0\n",
       "WindDir3pm      0\n",
       "RainToday       0\n",
       "RainTomorrow    0\n",
       "dtype: int64"
      ]
     },
     "execution_count": 12,
     "metadata": {},
     "output_type": "execute_result"
    }
   ],
   "source": [
    "weather[categorical_features].isnull().sum()"
   ]
  },
  {
   "cell_type": "code",
   "execution_count": 14,
   "id": "135de213",
   "metadata": {},
   "outputs": [
    {
     "data": {
      "text/plain": [
       "['MinTemp',\n",
       " 'MaxTemp',\n",
       " 'Rainfall',\n",
       " 'Evaporation',\n",
       " 'Sunshine',\n",
       " 'WindGustSpeed',\n",
       " 'WindSpeed9am',\n",
       " 'WindSpeed3pm',\n",
       " 'Humidity9am',\n",
       " 'Humidity3pm',\n",
       " 'Pressure9am',\n",
       " 'Pressure3pm',\n",
       " 'Cloud9am',\n",
       " 'Cloud3pm',\n",
       " 'Temp9am',\n",
       " 'Temp3pm']"
      ]
     },
     "execution_count": 14,
     "metadata": {},
     "output_type": "execute_result"
    }
   ],
   "source": [
    "numerical_features"
   ]
  },
  {
   "cell_type": "code",
   "execution_count": null,
   "id": "d6b9b988",
   "metadata": {},
   "outputs": [],
   "source": [
    "# Fill missing values with mean\n",
    "weather['MinTemp'] = weather['MinTemp'].fillna(weather['MinTemp'].mean())\n",
    "weather['MaxTemp'] = weather['MaxTemp'].fillna(weather['MaxTemp'].mean())\n",
    "weather['Rainfall'] = weather['Rainfall'].fillna(weather['Rainfall'].mean())\n",
    "weather['Evaporation'] = weather['Evaporation'].fillna(weather['Evaporation'].mean())\n",
    "weather['Sunshine'] = weather['Sunshine'].fillna(weather['Sunshine'].mean())\n",
    "weather['WindGustSpeed'] = weather['WindGustSpeed'].fillna(weather['WindGustSpeed'].mean())\n",
    "weather['WindSpeed9am'] = weather['WindSpeed9am'].fillna(weather['WindSpeed9am'].mean())\n",
    "weather['WindSpeed3pm'] = weather['WindSpeed3pm'].fillna(weather['WindSpeed3pm'].mean())\n",
    "weather['Humidity9am'] = weather['Humidity9am'].fillna(weather['Humidity9am'].mean())\n",
    "weather['Humidity3pm'] = weather['Humidity3pm'].fillna(weather['Humidity3pm'].mean())\n",
    "weather['Pressure9am'] = weather['Pressure9am'].fillna(weather['Pressure9am'].mean())\n",
    "weather['Pressure3pm'] = weather['Pressure3pm'].fillna(weather['Pressure3pm'].mean())\n",
    "weather['Cloud9am'] = weather['Cloud9am'].fillna(weather['Cloud9am'].mean())\n",
    "weather['Cloud3pm'] = weather['Cloud3pm'].fillna(weather['Humidity3pm'].mean())\n",
    "weather['Temp9am'] = weather['Temp9am'].fillna(weather['Temp9am'].mean())\n",
    "weather['Temp3pm'] = weather['Temp3pm'].fillna(weather['Temp3pm'].mean())"
   ]
  },
  {
   "cell_type": "code",
   "execution_count": 16,
   "id": "f63752f9",
   "metadata": {},
   "outputs": [
    {
     "data": {
      "text/plain": [
       "MinTemp          0\n",
       "MaxTemp          0\n",
       "Rainfall         0\n",
       "Evaporation      0\n",
       "Sunshine         0\n",
       "WindGustSpeed    0\n",
       "WindSpeed9am     0\n",
       "WindSpeed3pm     0\n",
       "Humidity9am      0\n",
       "Humidity3pm      0\n",
       "Pressure9am      0\n",
       "Pressure3pm      0\n",
       "Cloud9am         0\n",
       "Cloud3pm         0\n",
       "Temp9am          0\n",
       "Temp3pm          0\n",
       "dtype: int64"
      ]
     },
     "execution_count": 16,
     "metadata": {},
     "output_type": "execute_result"
    }
   ],
   "source": [
    "weather[numerical_features].isnull().sum()"
   ]
  },
  {
   "cell_type": "code",
   "execution_count": 17,
   "id": "d8d8ad2d",
   "metadata": {
    "scrolled": false
   },
   "outputs": [
    {
     "data": {
      "text/plain": [
       "Date             0\n",
       "Location         0\n",
       "MinTemp          0\n",
       "MaxTemp          0\n",
       "Rainfall         0\n",
       "Evaporation      0\n",
       "Sunshine         0\n",
       "WindGustDir      0\n",
       "WindGustSpeed    0\n",
       "WindDir9am       0\n",
       "WindDir3pm       0\n",
       "WindSpeed9am     0\n",
       "WindSpeed3pm     0\n",
       "Humidity9am      0\n",
       "Humidity3pm      0\n",
       "Pressure9am      0\n",
       "Pressure3pm      0\n",
       "Cloud9am         0\n",
       "Cloud3pm         0\n",
       "Temp9am          0\n",
       "Temp3pm          0\n",
       "RainToday        0\n",
       "RainTomorrow     0\n",
       "dtype: int64"
      ]
     },
     "execution_count": 17,
     "metadata": {},
     "output_type": "execute_result"
    }
   ],
   "source": [
    "weather.isnull().sum()"
   ]
  },
  {
   "cell_type": "code",
   "execution_count": 21,
   "id": "f3e4afbb",
   "metadata": {},
   "outputs": [],
   "source": [
    "weather['Date'] = pd.to_datetime(weather['Date'])\n",
    "weather['Year'] = weather['Date'].dt.year\n",
    "weather['Month'] = weather['Date'].dt.month\n",
    "weather['Day'] = weather['Date'].dt.day\n",
    "weather.drop(['Date'],inplace=True,axis=1)"
   ]
  },
  {
   "cell_type": "markdown",
   "id": "dd43b80a",
   "metadata": {},
   "source": [
    "## Exploratory Data Analysis"
   ]
  },
  {
   "cell_type": "code",
   "execution_count": 13,
   "id": "866393fa",
   "metadata": {
    "scrolled": true
   },
   "outputs": [
    {
     "data": {
      "image/png": "[encoded data removed]",
      "text/plain": [
       "<Figure size 360x360 with 1 Axes>"
      ]
     },
     "metadata": {
      "needs_background": "light"
     },
     "output_type": "display_data"
    },
    {
     "data": {
      "image/png": "[encoded data removed]",
      "text/plain": [
       "<Figure size 360x360 with 1 Axes>"
      ]
     },
     "metadata": {
      "needs_background": "light"
     },
     "output_type": "display_data"
    },
    {
     "data": {
      "image/png": "[encoded data removed]",
      "text/plain": [
       "<Figure size 360x360 with 1 Axes>"
      ]
     },
     "metadata": {
      "needs_background": "light"
     },
     "output_type": "display_data"
    },
    {
     "data": {
      "image/png": "[encoded data removed]",
      "text/plain": [
       "<Figure size 360x360 with 1 Axes>"
      ]
     },
     "metadata": {
      "needs_background": "light"
     },
     "output_type": "display_data"
    },
    {
     "data": {
      "image/png": "[encoded data removed]",
      "text/plain": [
       "<Figure size 360x360 with 1 Axes>"
      ]
     },
     "metadata": {
      "needs_background": "light"
     },
     "output_type": "display_data"
    },
    {
     "data": {
      "image/png": "[encoded data removed]",
      "text/plain": [
       "<Figure size 360x360 with 1 Axes>"
      ]
     },
     "metadata": {
      "needs_background": "light"
     },
     "output_type": "display_data"
    },
    {
     "data": {
      "image/png": "[encoded data removed]",
      "text/plain": [
       "<Figure size 360x360 with 1 Axes>"
      ]
     },
     "metadata": {
      "needs_background": "light"
     },
     "output_type": "display_data"
    },
    {
     "data": {
      "image/png": "[encoded data removed]",
      "text/plain": [
       "<Figure size 360x360 with 1 Axes>"
      ]
     },
     "metadata": {
      "needs_background": "light"
     },
     "output_type": "display_data"
    },
    {
     "data": {
      "image/png": "[encoded data removed]",
      "text/plain": [
       "<Figure size 360x360 with 1 Axes>"
      ]
     },
     "metadata": {
      "needs_background": "light"
     },
     "output_type": "display_data"
    },
    {
     "data": {
      "image/png": "[encoded data removed]",
      "text/plain": [
       "<Figure size 360x360 with 1 Axes>"
      ]
     },
     "metadata": {
      "needs_background": "light"
     },
     "output_type": "display_data"
    },
    {
     "data": {
      "image/png": "[encoded data removed]",
      "text/plain": [
       "<Figure size 360x360 with 1 Axes>"
      ]
     },
     "metadata": {
      "needs_background": "light"
     },
     "output_type": "display_data"
    },
    {
     "data": {
      "image/png": "[encoded data removed]",
      "text/plain": [
       "<Figure size 360x360 with 1 Axes>"
      ]
     },
     "metadata": {
      "needs_background": "light"
     },
     "output_type": "display_data"
    },
    {
     "data": {
      "image/png": "[encoded data removed]",
      "text/plain": [
       "<Figure size 360x360 with 1 Axes>"
      ]
     },
     "metadata": {
      "needs_background": "light"
     },
     "output_type": "display_data"
    },
    {
     "data": {
      "image/png": "[encoded data removed]",
      "text/plain": [
       "<Figure size 360x360 with 1 Axes>"
      ]
     },
     "metadata": {
      "needs_background": "light"
     },
     "output_type": "display_data"
    },
    {
     "data": {
      "image/png": "[encoded data removed]",
      "text/plain": [
       "<Figure size 360x360 with 1 Axes>"
      ]
     },
     "metadata": {
      "needs_background": "light"
     },
     "output_type": "display_data"
    },
    {
     "data": {
      "image/png": "[encoded data removed]",
      "text/plain": [
       "<Figure size 360x360 with 1 Axes>"
      ]
     },
     "metadata": {
      "needs_background": "light"
     },
     "output_type": "display_data"
    }
   ],
   "source": [
    "import seaborn as sns\n",
    "for i in numerical_features:\n",
    "    sns.displot(weather[i])\n",
    "    plt.show()\n",
    "\n"
   ]
  },
  {
   "cell_type": "markdown",
   "id": "c47ef8f2",
   "metadata": {},
   "source": [
    "### Identity outlier"
   ]
  },
  {
   "cell_type": "code",
   "execution_count": 18,
   "id": "4f93e2bf",
   "metadata": {},
   "outputs": [],
   "source": [
    "# Interquantitle Range  function for boxplot\n",
    "def iqr(weather,col):\n",
    "    q1,q3 = np.percentile(weather[col],[25,75])\n",
    "    iqr = q3-q1 \n",
    "    lower = q1-1.5*iqr\n",
    "    upper = q3+1.5*iqr\n",
    "    weather = weather[(weather[col]>lower) & (weather[col]<upper)]\n",
    "    weather.boxplot(col)"
   ]
  },
  {
   "cell_type": "code",
   "execution_count": 19,
   "id": "347f9f59",
   "metadata": {
    "scrolled": true
   },
   "outputs": [
    {
     "data": {
      "image/png": "[encoded data removed]",
      "text/plain": [
       "<Figure size 432x288 with 1 Axes>"
      ]
     },
     "metadata": {
      "needs_background": "light"
     },
     "output_type": "display_data"
    },
    {
     "data": {
      "image/png": "[encoded data removed]",
      "text/plain": [
       "<Figure size 432x288 with 1 Axes>"
      ]
     },
     "metadata": {
      "needs_background": "light"
     },
     "output_type": "display_data"
    },
    {
     "data": {
      "image/png": "[encoded data removed]",
      "text/plain": [
       "<Figure size 432x288 with 1 Axes>"
      ]
     },
     "metadata": {
      "needs_background": "light"
     },
     "output_type": "display_data"
    },
    {
     "data": {
      "image/png": "[encoded data removed]",
      "text/plain": [
       "<Figure size 432x288 with 1 Axes>"
      ]
     },
     "metadata": {
      "needs_background": "light"
     },
     "output_type": "display_data"
    },
    {
     "data": {
      "image/png": "[encoded data removed]",
      "text/plain": [
       "<Figure size 432x288 with 1 Axes>"
      ]
     },
     "metadata": {
      "needs_background": "light"
     },
     "output_type": "display_data"
    },
    {
     "data": {
      "image/png": "[encoded data removed]",
      "text/plain": [
       "<Figure size 432x288 with 1 Axes>"
      ]
     },
     "metadata": {
      "needs_background": "light"
     },
     "output_type": "display_data"
    },
    {
     "data": {
      "image/png": "[encoded data removed]",
      "text/plain": [
       "<Figure size 432x288 with 1 Axes>"
      ]
     },
     "metadata": {
      "needs_background": "light"
     },
     "output_type": "display_data"
    },
    {
     "data": {
      "image/png": "[encoded data removed]",
      "text/plain": [
       "<Figure size 432x288 with 1 Axes>"
      ]
     },
     "metadata": {
      "needs_background": "light"
     },
     "output_type": "display_data"
    },
    {
     "data": {
      "image/png": "[encoded data removed]",
      "text/plain": [
       "<Figure size 432x288 with 1 Axes>"
      ]
     },
     "metadata": {
      "needs_background": "light"
     },
     "output_type": "display_data"
    },
    {
     "data": {
      "image/png": "[encoded data removed]",
      "text/plain": [
       "<Figure size 432x288 with 1 Axes>"
      ]
     },
     "metadata": {
      "needs_background": "light"
     },
     "output_type": "display_data"
    },
    {
     "data": {
      "image/png": "[encoded data removed]",
      "text/plain": [
       "<Figure size 432x288 with 1 Axes>"
      ]
     },
     "metadata": {
      "needs_background": "light"
     },
     "output_type": "display_data"
    },
    {
     "data": {
      "image/png": "[encoded data removed]",
      "text/plain": [
       "<Figure size 432x288 with 1 Axes>"
      ]
     },
     "metadata": {
      "needs_background": "light"
     },
     "output_type": "display_data"
    },
    {
     "data": {
      "image/png": "[encoded data removed]",
      "text/plain": [
       "<Figure size 432x288 with 1 Axes>"
      ]
     },
     "metadata": {
      "needs_background": "light"
     },
     "output_type": "display_data"
    },
    {
     "data": {
      "image/png": "[encoded data removed]",
      "text/plain": [
       "<Figure size 432x288 with 1 Axes>"
      ]
     },
     "metadata": {
      "needs_background": "light"
     },
     "output_type": "display_data"
    },
    {
     "data": {
      "image/png": "[encoded data removed]",
      "text/plain": [
       "<Figure size 432x288 with 1 Axes>"
      ]
     },
     "metadata": {
      "needs_background": "light"
     },
     "output_type": "display_data"
    },
    {
     "data": {
      "image/png": "[encoded data removed]",
      "text/plain": [
       "<Figure size 432x288 with 1 Axes>"
      ]
     },
     "metadata": {
      "needs_background": "light"
     },
     "output_type": "display_data"
    }
   ],
   "source": [
    "# box plot\n",
    "for i in numerical_features:\n",
    "    iqr(weather,i)\n",
    "    plt.show()"
   ]
  },
  {
   "cell_type": "code",
   "execution_count": 20,
   "id": "30b25cf5",
   "metadata": {
    "scrolled": true
   },
   "outputs": [
    {
     "data": {
      "text/html": [
       "<div>\n",
       "<style scoped>\n",
       "    .dataframe tbody tr th:only-of-type {\n",
       "        vertical-align: middle;\n",
       "    }\n",
       "\n",
       "    .dataframe tbody tr th {\n",
       "        vertical-align: top;\n",
       "    }\n",
       "\n",
       "    .dataframe thead th {\n",
       "        text-align: right;\n",
       "    }\n",
       "</style>\n",
       "<table border=\"1\" class=\"dataframe\">\n",
       "  <thead>\n",
       "    <tr style=\"text-align: right;\">\n",
       "      <th></th>\n",
       "      <th>Date</th>\n",
       "      <th>Location</th>\n",
       "      <th>MinTemp</th>\n",
       "      <th>MaxTemp</th>\n",
       "      <th>Rainfall</th>\n",
       "      <th>Evaporation</th>\n",
       "      <th>Sunshine</th>\n",
       "      <th>WindGustDir</th>\n",
       "      <th>WindGustSpeed</th>\n",
       "      <th>WindDir9am</th>\n",
       "      <th>...</th>\n",
       "      <th>Humidity9am</th>\n",
       "      <th>Humidity3pm</th>\n",
       "      <th>Pressure9am</th>\n",
       "      <th>Pressure3pm</th>\n",
       "      <th>Cloud9am</th>\n",
       "      <th>Cloud3pm</th>\n",
       "      <th>Temp9am</th>\n",
       "      <th>Temp3pm</th>\n",
       "      <th>RainToday</th>\n",
       "      <th>RainTomorrow</th>\n",
       "    </tr>\n",
       "  </thead>\n",
       "  <tbody>\n",
       "    <tr>\n",
       "      <th>0</th>\n",
       "      <td>2008-12-01</td>\n",
       "      <td>Albury</td>\n",
       "      <td>13.4</td>\n",
       "      <td>22.9</td>\n",
       "      <td>0.6</td>\n",
       "      <td>5.468232</td>\n",
       "      <td>7.611178</td>\n",
       "      <td>W</td>\n",
       "      <td>44.0</td>\n",
       "      <td>W</td>\n",
       "      <td>...</td>\n",
       "      <td>71.0</td>\n",
       "      <td>22.0</td>\n",
       "      <td>1007.7</td>\n",
       "      <td>1007.1</td>\n",
       "      <td>8.000000</td>\n",
       "      <td>51.539116</td>\n",
       "      <td>16.9</td>\n",
       "      <td>21.8</td>\n",
       "      <td>No</td>\n",
       "      <td>No</td>\n",
       "    </tr>\n",
       "    <tr>\n",
       "      <th>1</th>\n",
       "      <td>2008-12-02</td>\n",
       "      <td>Albury</td>\n",
       "      <td>7.4</td>\n",
       "      <td>25.1</td>\n",
       "      <td>0.0</td>\n",
       "      <td>5.468232</td>\n",
       "      <td>7.611178</td>\n",
       "      <td>WNW</td>\n",
       "      <td>44.0</td>\n",
       "      <td>NNW</td>\n",
       "      <td>...</td>\n",
       "      <td>44.0</td>\n",
       "      <td>25.0</td>\n",
       "      <td>1010.6</td>\n",
       "      <td>1007.8</td>\n",
       "      <td>4.447461</td>\n",
       "      <td>51.539116</td>\n",
       "      <td>17.2</td>\n",
       "      <td>24.3</td>\n",
       "      <td>No</td>\n",
       "      <td>No</td>\n",
       "    </tr>\n",
       "    <tr>\n",
       "      <th>2</th>\n",
       "      <td>2008-12-03</td>\n",
       "      <td>Albury</td>\n",
       "      <td>12.9</td>\n",
       "      <td>25.7</td>\n",
       "      <td>0.0</td>\n",
       "      <td>5.468232</td>\n",
       "      <td>7.611178</td>\n",
       "      <td>WSW</td>\n",
       "      <td>46.0</td>\n",
       "      <td>W</td>\n",
       "      <td>...</td>\n",
       "      <td>38.0</td>\n",
       "      <td>30.0</td>\n",
       "      <td>1007.6</td>\n",
       "      <td>1008.7</td>\n",
       "      <td>4.447461</td>\n",
       "      <td>2.000000</td>\n",
       "      <td>21.0</td>\n",
       "      <td>23.2</td>\n",
       "      <td>No</td>\n",
       "      <td>No</td>\n",
       "    </tr>\n",
       "    <tr>\n",
       "      <th>3</th>\n",
       "      <td>2008-12-04</td>\n",
       "      <td>Albury</td>\n",
       "      <td>9.2</td>\n",
       "      <td>28.0</td>\n",
       "      <td>0.0</td>\n",
       "      <td>5.468232</td>\n",
       "      <td>7.611178</td>\n",
       "      <td>NE</td>\n",
       "      <td>24.0</td>\n",
       "      <td>SE</td>\n",
       "      <td>...</td>\n",
       "      <td>45.0</td>\n",
       "      <td>16.0</td>\n",
       "      <td>1017.6</td>\n",
       "      <td>1012.8</td>\n",
       "      <td>4.447461</td>\n",
       "      <td>51.539116</td>\n",
       "      <td>18.1</td>\n",
       "      <td>26.5</td>\n",
       "      <td>No</td>\n",
       "      <td>No</td>\n",
       "    </tr>\n",
       "    <tr>\n",
       "      <th>4</th>\n",
       "      <td>2008-12-05</td>\n",
       "      <td>Albury</td>\n",
       "      <td>17.5</td>\n",
       "      <td>32.3</td>\n",
       "      <td>1.0</td>\n",
       "      <td>5.468232</td>\n",
       "      <td>7.611178</td>\n",
       "      <td>W</td>\n",
       "      <td>41.0</td>\n",
       "      <td>ENE</td>\n",
       "      <td>...</td>\n",
       "      <td>82.0</td>\n",
       "      <td>33.0</td>\n",
       "      <td>1010.8</td>\n",
       "      <td>1006.0</td>\n",
       "      <td>7.000000</td>\n",
       "      <td>8.000000</td>\n",
       "      <td>17.8</td>\n",
       "      <td>29.7</td>\n",
       "      <td>No</td>\n",
       "      <td>No</td>\n",
       "    </tr>\n",
       "  </tbody>\n",
       "</table>\n",
       "<p>5 rows × 23 columns</p>\n",
       "</div>"
      ],
      "text/plain": [
       "         Date Location  MinTemp  MaxTemp  Rainfall  Evaporation  Sunshine  \\\n",
       "0  2008-12-01   Albury     13.4     22.9       0.6     5.468232  7.611178   \n",
       "1  2008-12-02   Albury      7.4     25.1       0.0     5.468232  7.611178   \n",
       "2  2008-12-03   Albury     12.9     25.7       0.0     5.468232  7.611178   \n",
       "3  2008-12-04   Albury      9.2     28.0       0.0     5.468232  7.611178   \n",
       "4  2008-12-05   Albury     17.5     32.3       1.0     5.468232  7.611178   \n",
       "\n",
       "  WindGustDir  WindGustSpeed WindDir9am  ... Humidity9am  Humidity3pm  \\\n",
       "0           W           44.0          W  ...        71.0         22.0   \n",
       "1         WNW           44.0        NNW  ...        44.0         25.0   \n",
       "2         WSW           46.0          W  ...        38.0         30.0   \n",
       "3          NE           24.0         SE  ...        45.0         16.0   \n",
       "4           W           41.0        ENE  ...        82.0         33.0   \n",
       "\n",
       "   Pressure9am  Pressure3pm  Cloud9am   Cloud3pm  Temp9am  Temp3pm  RainToday  \\\n",
       "0       1007.7       1007.1  8.000000  51.539116     16.9     21.8         No   \n",
       "1       1010.6       1007.8  4.447461  51.539116     17.2     24.3         No   \n",
       "2       1007.6       1008.7  4.447461   2.000000     21.0     23.2         No   \n",
       "3       1017.6       1012.8  4.447461  51.539116     18.1     26.5         No   \n",
       "4       1010.8       1006.0  7.000000   8.000000     17.8     29.7         No   \n",
       "\n",
       "   RainTomorrow  \n",
       "0            No  \n",
       "1            No  \n",
       "2            No  \n",
       "3            No  \n",
       "4            No  \n",
       "\n",
       "[5 rows x 23 columns]"
      ]
     },
     "execution_count": 20,
     "metadata": {},
     "output_type": "execute_result"
    }
   ],
   "source": [
    "weather.head()"
   ]
  },
  {
   "cell_type": "code",
   "execution_count": 22,
   "id": "7624a6d7",
   "metadata": {
    "scrolled": true
   },
   "outputs": [
    {
     "name": "stdout",
     "output_type": "stream",
     "text": [
      "<class 'pandas.core.frame.DataFrame'>\n",
      "RangeIndex: 145460 entries, 0 to 145459\n",
      "Data columns (total 25 columns):\n",
      " #   Column         Non-Null Count   Dtype  \n",
      "---  ------         --------------   -----  \n",
      " 0   Location       145460 non-null  object \n",
      " 1   MinTemp        145460 non-null  float64\n",
      " 2   MaxTemp        145460 non-null  float64\n",
      " 3   Rainfall       145460 non-null  float64\n",
      " 4   Evaporation    145460 non-null  float64\n",
      " 5   Sunshine       145460 non-null  float64\n",
      " 6   WindGustDir    145460 non-null  object \n",
      " 7   WindGustSpeed  145460 non-null  float64\n",
      " 8   WindDir9am     145460 non-null  object \n",
      " 9   WindDir3pm     145460 non-null  object \n",
      " 10  WindSpeed9am   145460 non-null  float64\n",
      " 11  WindSpeed3pm   145460 non-null  float64\n",
      " 12  Humidity9am    145460 non-null  float64\n",
      " 13  Humidity3pm    145460 non-null  float64\n",
      " 14  Pressure9am    145460 non-null  float64\n",
      " 15  Pressure3pm    145460 non-null  float64\n",
      " 16  Cloud9am       145460 non-null  float64\n",
      " 17  Cloud3pm       145460 non-null  float64\n",
      " 18  Temp9am        145460 non-null  float64\n",
      " 19  Temp3pm        145460 non-null  float64\n",
      " 20  RainToday      145460 non-null  object \n",
      " 21  RainTomorrow   145460 non-null  object \n",
      " 22  Year           145460 non-null  int64  \n",
      " 23  Month          145460 non-null  int64  \n",
      " 24  Day            145460 non-null  int64  \n",
      "dtypes: float64(16), int64(3), object(6)\n",
      "memory usage: 27.7+ MB\n"
     ]
    }
   ],
   "source": [
    "weather.info()"
   ]
  },
  {
   "cell_type": "code",
   "execution_count": 23,
   "id": "ae543e2c",
   "metadata": {},
   "outputs": [
    {
     "data": {
      "text/html": [
       "<div>\n",
       "<style scoped>\n",
       "    .dataframe tbody tr th:only-of-type {\n",
       "        vertical-align: middle;\n",
       "    }\n",
       "\n",
       "    .dataframe tbody tr th {\n",
       "        vertical-align: top;\n",
       "    }\n",
       "\n",
       "    .dataframe thead th {\n",
       "        text-align: right;\n",
       "    }\n",
       "</style>\n",
       "<table border=\"1\" class=\"dataframe\">\n",
       "  <thead>\n",
       "    <tr style=\"text-align: right;\">\n",
       "      <th></th>\n",
       "      <th>MinTemp</th>\n",
       "      <th>MaxTemp</th>\n",
       "      <th>Rainfall</th>\n",
       "      <th>Evaporation</th>\n",
       "      <th>Sunshine</th>\n",
       "      <th>WindGustSpeed</th>\n",
       "      <th>WindSpeed9am</th>\n",
       "      <th>WindSpeed3pm</th>\n",
       "      <th>Humidity9am</th>\n",
       "      <th>Humidity3pm</th>\n",
       "      <th>Pressure9am</th>\n",
       "      <th>Pressure3pm</th>\n",
       "      <th>Cloud9am</th>\n",
       "      <th>Cloud3pm</th>\n",
       "      <th>Temp9am</th>\n",
       "      <th>Temp3pm</th>\n",
       "      <th>Year</th>\n",
       "      <th>Month</th>\n",
       "      <th>Day</th>\n",
       "    </tr>\n",
       "  </thead>\n",
       "  <tbody>\n",
       "    <tr>\n",
       "      <th>MinTemp</th>\n",
       "      <td>1.000000</td>\n",
       "      <td>0.733400</td>\n",
       "      <td>0.102706</td>\n",
       "      <td>0.351321</td>\n",
       "      <td>0.051297</td>\n",
       "      <td>0.172553</td>\n",
       "      <td>0.173404</td>\n",
       "      <td>0.173058</td>\n",
       "      <td>-0.230970</td>\n",
       "      <td>0.005995</td>\n",
       "      <td>-0.423584</td>\n",
       "      <td>-0.433147</td>\n",
       "      <td>0.062151</td>\n",
       "      <td>-0.141572</td>\n",
       "      <td>0.897692</td>\n",
       "      <td>0.699211</td>\n",
       "      <td>0.042997</td>\n",
       "      <td>-0.202730</td>\n",
       "      <td>0.002347</td>\n",
       "    </tr>\n",
       "    <tr>\n",
       "      <th>MaxTemp</th>\n",
       "      <td>0.733400</td>\n",
       "      <td>1.000000</td>\n",
       "      <td>-0.074040</td>\n",
       "      <td>0.438653</td>\n",
       "      <td>0.328931</td>\n",
       "      <td>0.065895</td>\n",
       "      <td>0.014294</td>\n",
       "      <td>0.049717</td>\n",
       "      <td>-0.497927</td>\n",
       "      <td>-0.498760</td>\n",
       "      <td>-0.308309</td>\n",
       "      <td>-0.396622</td>\n",
       "      <td>-0.225315</td>\n",
       "      <td>-0.079473</td>\n",
       "      <td>0.879170</td>\n",
       "      <td>0.968713</td>\n",
       "      <td>0.061720</td>\n",
       "      <td>-0.163100</td>\n",
       "      <td>0.000609</td>\n",
       "    </tr>\n",
       "    <tr>\n",
       "      <th>Rainfall</th>\n",
       "      <td>0.102706</td>\n",
       "      <td>-0.074040</td>\n",
       "      <td>1.000000</td>\n",
       "      <td>-0.037863</td>\n",
       "      <td>-0.170973</td>\n",
       "      <td>0.126446</td>\n",
       "      <td>0.085925</td>\n",
       "      <td>0.056527</td>\n",
       "      <td>0.221380</td>\n",
       "      <td>0.248905</td>\n",
       "      <td>-0.159055</td>\n",
       "      <td>-0.119541</td>\n",
       "      <td>0.171144</td>\n",
       "      <td>-0.019905</td>\n",
       "      <td>0.011069</td>\n",
       "      <td>-0.077684</td>\n",
       "      <td>-0.008868</td>\n",
       "      <td>-0.031009</td>\n",
       "      <td>0.001693</td>\n",
       "    </tr>\n",
       "    <tr>\n",
       "      <th>Evaporation</th>\n",
       "      <td>0.351321</td>\n",
       "      <td>0.438653</td>\n",
       "      <td>-0.037863</td>\n",
       "      <td>1.000000</td>\n",
       "      <td>0.288169</td>\n",
       "      <td>0.147353</td>\n",
       "      <td>0.139968</td>\n",
       "      <td>0.094352</td>\n",
       "      <td>-0.373732</td>\n",
       "      <td>-0.286025</td>\n",
       "      <td>-0.210961</td>\n",
       "      <td>-0.230351</td>\n",
       "      <td>-0.150264</td>\n",
       "      <td>-0.027014</td>\n",
       "      <td>0.414592</td>\n",
       "      <td>0.425573</td>\n",
       "      <td>0.061981</td>\n",
       "      <td>-0.020194</td>\n",
       "      <td>-0.004560</td>\n",
       "    </tr>\n",
       "    <tr>\n",
       "      <th>Sunshine</th>\n",
       "      <td>0.051297</td>\n",
       "      <td>0.328931</td>\n",
       "      <td>-0.170973</td>\n",
       "      <td>0.288169</td>\n",
       "      <td>1.000000</td>\n",
       "      <td>-0.023844</td>\n",
       "      <td>0.003843</td>\n",
       "      <td>0.037836</td>\n",
       "      <td>-0.348855</td>\n",
       "      <td>-0.443121</td>\n",
       "      <td>0.031406</td>\n",
       "      <td>-0.014815</td>\n",
       "      <td>-0.532497</td>\n",
       "      <td>-0.055223</td>\n",
       "      <td>0.208580</td>\n",
       "      <td>0.346685</td>\n",
       "      <td>0.006072</td>\n",
       "      <td>0.017589</td>\n",
       "      <td>-0.000286</td>\n",
       "    </tr>\n",
       "    <tr>\n",
       "      <th>WindGustSpeed</th>\n",
       "      <td>0.172553</td>\n",
       "      <td>0.065895</td>\n",
       "      <td>0.126446</td>\n",
       "      <td>0.147353</td>\n",
       "      <td>-0.023844</td>\n",
       "      <td>1.000000</td>\n",
       "      <td>0.577319</td>\n",
       "      <td>0.657243</td>\n",
       "      <td>-0.207964</td>\n",
       "      <td>-0.025355</td>\n",
       "      <td>-0.425760</td>\n",
       "      <td>-0.383938</td>\n",
       "      <td>0.052417</td>\n",
       "      <td>-0.049967</td>\n",
       "      <td>0.145904</td>\n",
       "      <td>0.031884</td>\n",
       "      <td>-0.029264</td>\n",
       "      <td>0.058778</td>\n",
       "      <td>-0.008736</td>\n",
       "    </tr>\n",
       "    <tr>\n",
       "      <th>WindSpeed9am</th>\n",
       "      <td>0.173404</td>\n",
       "      <td>0.014294</td>\n",
       "      <td>0.085925</td>\n",
       "      <td>0.139968</td>\n",
       "      <td>0.003843</td>\n",
       "      <td>0.577319</td>\n",
       "      <td>1.000000</td>\n",
       "      <td>0.512427</td>\n",
       "      <td>-0.268271</td>\n",
       "      <td>-0.030887</td>\n",
       "      <td>-0.215339</td>\n",
       "      <td>-0.165388</td>\n",
       "      <td>0.019714</td>\n",
       "      <td>-0.108282</td>\n",
       "      <td>0.127592</td>\n",
       "      <td>0.004476</td>\n",
       "      <td>-0.018306</td>\n",
       "      <td>0.050927</td>\n",
       "      <td>-0.008733</td>\n",
       "    </tr>\n",
       "    <tr>\n",
       "      <th>WindSpeed3pm</th>\n",
       "      <td>0.173058</td>\n",
       "      <td>0.049717</td>\n",
       "      <td>0.056527</td>\n",
       "      <td>0.094352</td>\n",
       "      <td>0.037836</td>\n",
       "      <td>0.657243</td>\n",
       "      <td>0.512427</td>\n",
       "      <td>1.000000</td>\n",
       "      <td>-0.143458</td>\n",
       "      <td>0.016275</td>\n",
       "      <td>-0.277604</td>\n",
       "      <td>-0.239659</td>\n",
       "      <td>0.041611</td>\n",
       "      <td>-0.079410</td>\n",
       "      <td>0.161060</td>\n",
       "      <td>0.027587</td>\n",
       "      <td>-0.029333</td>\n",
       "      <td>0.059683</td>\n",
       "      <td>-0.009841</td>\n",
       "    </tr>\n",
       "    <tr>\n",
       "      <th>Humidity9am</th>\n",
       "      <td>-0.230970</td>\n",
       "      <td>-0.497927</td>\n",
       "      <td>0.221380</td>\n",
       "      <td>-0.373732</td>\n",
       "      <td>-0.348855</td>\n",
       "      <td>-0.207964</td>\n",
       "      <td>-0.268271</td>\n",
       "      <td>-0.143458</td>\n",
       "      <td>1.000000</td>\n",
       "      <td>0.659072</td>\n",
       "      <td>0.131503</td>\n",
       "      <td>0.176009</td>\n",
       "      <td>0.353490</td>\n",
       "      <td>0.081149</td>\n",
       "      <td>-0.469641</td>\n",
       "      <td>-0.490709</td>\n",
       "      <td>0.009757</td>\n",
       "      <td>-0.089981</td>\n",
       "      <td>0.015028</td>\n",
       "    </tr>\n",
       "    <tr>\n",
       "      <th>Humidity3pm</th>\n",
       "      <td>0.005995</td>\n",
       "      <td>-0.498760</td>\n",
       "      <td>0.248905</td>\n",
       "      <td>-0.286025</td>\n",
       "      <td>-0.443121</td>\n",
       "      <td>-0.025355</td>\n",
       "      <td>-0.030887</td>\n",
       "      <td>0.016275</td>\n",
       "      <td>0.659072</td>\n",
       "      <td>1.000000</td>\n",
       "      <td>-0.025848</td>\n",
       "      <td>0.048695</td>\n",
       "      <td>0.398762</td>\n",
       "      <td>0.031929</td>\n",
       "      <td>-0.216964</td>\n",
       "      <td>-0.555608</td>\n",
       "      <td>-0.009463</td>\n",
       "      <td>-0.018568</td>\n",
       "      <td>0.012813</td>\n",
       "    </tr>\n",
       "    <tr>\n",
       "      <th>Pressure9am</th>\n",
       "      <td>-0.423584</td>\n",
       "      <td>-0.308309</td>\n",
       "      <td>-0.159055</td>\n",
       "      <td>-0.210961</td>\n",
       "      <td>0.031406</td>\n",
       "      <td>-0.425760</td>\n",
       "      <td>-0.215339</td>\n",
       "      <td>-0.277604</td>\n",
       "      <td>0.131503</td>\n",
       "      <td>-0.025848</td>\n",
       "      <td>1.000000</td>\n",
       "      <td>0.959662</td>\n",
       "      <td>-0.101611</td>\n",
       "      <td>0.040497</td>\n",
       "      <td>-0.397131</td>\n",
       "      <td>-0.265532</td>\n",
       "      <td>0.028525</td>\n",
       "      <td>0.033035</td>\n",
       "      <td>-0.020284</td>\n",
       "    </tr>\n",
       "    <tr>\n",
       "      <th>Pressure3pm</th>\n",
       "      <td>-0.433147</td>\n",
       "      <td>-0.396622</td>\n",
       "      <td>-0.119541</td>\n",
       "      <td>-0.230351</td>\n",
       "      <td>-0.014815</td>\n",
       "      <td>-0.383938</td>\n",
       "      <td>-0.165388</td>\n",
       "      <td>-0.239659</td>\n",
       "      <td>0.176009</td>\n",
       "      <td>0.048695</td>\n",
       "      <td>0.959662</td>\n",
       "      <td>1.000000</td>\n",
       "      <td>-0.047718</td>\n",
       "      <td>0.042419</td>\n",
       "      <td>-0.441459</td>\n",
       "      <td>-0.360707</td>\n",
       "      <td>0.023421</td>\n",
       "      <td>0.024227</td>\n",
       "      <td>-0.020616</td>\n",
       "    </tr>\n",
       "    <tr>\n",
       "      <th>Cloud9am</th>\n",
       "      <td>0.062151</td>\n",
       "      <td>-0.225315</td>\n",
       "      <td>0.171144</td>\n",
       "      <td>-0.150264</td>\n",
       "      <td>-0.532497</td>\n",
       "      <td>0.052417</td>\n",
       "      <td>0.019714</td>\n",
       "      <td>0.041611</td>\n",
       "      <td>0.353490</td>\n",
       "      <td>0.398762</td>\n",
       "      <td>-0.101611</td>\n",
       "      <td>-0.047718</td>\n",
       "      <td>1.000000</td>\n",
       "      <td>0.045251</td>\n",
       "      <td>-0.108986</td>\n",
       "      <td>-0.231807</td>\n",
       "      <td>0.051533</td>\n",
       "      <td>-0.007930</td>\n",
       "      <td>0.005702</td>\n",
       "    </tr>\n",
       "    <tr>\n",
       "      <th>Cloud3pm</th>\n",
       "      <td>-0.141572</td>\n",
       "      <td>-0.079473</td>\n",
       "      <td>-0.019905</td>\n",
       "      <td>-0.027014</td>\n",
       "      <td>-0.055223</td>\n",
       "      <td>-0.049967</td>\n",
       "      <td>-0.108282</td>\n",
       "      <td>-0.079410</td>\n",
       "      <td>0.081149</td>\n",
       "      <td>0.031929</td>\n",
       "      <td>0.040497</td>\n",
       "      <td>0.042419</td>\n",
       "      <td>0.045251</td>\n",
       "      <td>1.000000</td>\n",
       "      <td>-0.118906</td>\n",
       "      <td>-0.089702</td>\n",
       "      <td>0.119624</td>\n",
       "      <td>-0.005670</td>\n",
       "      <td>-0.002444</td>\n",
       "    </tr>\n",
       "    <tr>\n",
       "      <th>Temp9am</th>\n",
       "      <td>0.897692</td>\n",
       "      <td>0.879170</td>\n",
       "      <td>0.011069</td>\n",
       "      <td>0.414592</td>\n",
       "      <td>0.208580</td>\n",
       "      <td>0.145904</td>\n",
       "      <td>0.127592</td>\n",
       "      <td>0.161060</td>\n",
       "      <td>-0.469641</td>\n",
       "      <td>-0.216964</td>\n",
       "      <td>-0.397131</td>\n",
       "      <td>-0.441459</td>\n",
       "      <td>-0.108986</td>\n",
       "      <td>-0.118906</td>\n",
       "      <td>1.000000</td>\n",
       "      <td>0.846141</td>\n",
       "      <td>0.045654</td>\n",
       "      <td>-0.135286</td>\n",
       "      <td>0.000183</td>\n",
       "    </tr>\n",
       "    <tr>\n",
       "      <th>Temp3pm</th>\n",
       "      <td>0.699211</td>\n",
       "      <td>0.968713</td>\n",
       "      <td>-0.077684</td>\n",
       "      <td>0.425573</td>\n",
       "      <td>0.346685</td>\n",
       "      <td>0.031884</td>\n",
       "      <td>0.004476</td>\n",
       "      <td>0.027587</td>\n",
       "      <td>-0.490709</td>\n",
       "      <td>-0.555608</td>\n",
       "      <td>-0.265532</td>\n",
       "      <td>-0.360707</td>\n",
       "      <td>-0.231807</td>\n",
       "      <td>-0.089702</td>\n",
       "      <td>0.846141</td>\n",
       "      <td>1.000000</td>\n",
       "      <td>0.050431</td>\n",
       "      <td>-0.172694</td>\n",
       "      <td>-0.000275</td>\n",
       "    </tr>\n",
       "    <tr>\n",
       "      <th>Year</th>\n",
       "      <td>0.042997</td>\n",
       "      <td>0.061720</td>\n",
       "      <td>-0.008868</td>\n",
       "      <td>0.061981</td>\n",
       "      <td>0.006072</td>\n",
       "      <td>-0.029264</td>\n",
       "      <td>-0.018306</td>\n",
       "      <td>-0.029333</td>\n",
       "      <td>0.009757</td>\n",
       "      <td>-0.009463</td>\n",
       "      <td>0.028525</td>\n",
       "      <td>0.023421</td>\n",
       "      <td>0.051533</td>\n",
       "      <td>0.119624</td>\n",
       "      <td>0.045654</td>\n",
       "      <td>0.050431</td>\n",
       "      <td>1.000000</td>\n",
       "      <td>-0.112375</td>\n",
       "      <td>-0.005042</td>\n",
       "    </tr>\n",
       "    <tr>\n",
       "      <th>Month</th>\n",
       "      <td>-0.202730</td>\n",
       "      <td>-0.163100</td>\n",
       "      <td>-0.031009</td>\n",
       "      <td>-0.020194</td>\n",
       "      <td>0.017589</td>\n",
       "      <td>0.058778</td>\n",
       "      <td>0.050927</td>\n",
       "      <td>0.059683</td>\n",
       "      <td>-0.089981</td>\n",
       "      <td>-0.018568</td>\n",
       "      <td>0.033035</td>\n",
       "      <td>0.024227</td>\n",
       "      <td>-0.007930</td>\n",
       "      <td>-0.005670</td>\n",
       "      <td>-0.135286</td>\n",
       "      <td>-0.172694</td>\n",
       "      <td>-0.112375</td>\n",
       "      <td>1.000000</td>\n",
       "      <td>0.009223</td>\n",
       "    </tr>\n",
       "    <tr>\n",
       "      <th>Day</th>\n",
       "      <td>0.002347</td>\n",
       "      <td>0.000609</td>\n",
       "      <td>0.001693</td>\n",
       "      <td>-0.004560</td>\n",
       "      <td>-0.000286</td>\n",
       "      <td>-0.008736</td>\n",
       "      <td>-0.008733</td>\n",
       "      <td>-0.009841</td>\n",
       "      <td>0.015028</td>\n",
       "      <td>0.012813</td>\n",
       "      <td>-0.020284</td>\n",
       "      <td>-0.020616</td>\n",
       "      <td>0.005702</td>\n",
       "      <td>-0.002444</td>\n",
       "      <td>0.000183</td>\n",
       "      <td>-0.000275</td>\n",
       "      <td>-0.005042</td>\n",
       "      <td>0.009223</td>\n",
       "      <td>1.000000</td>\n",
       "    </tr>\n",
       "  </tbody>\n",
       "</table>\n",
       "</div>"
      ],
      "text/plain": [
       "                MinTemp   MaxTemp  Rainfall  Evaporation  Sunshine  \\\n",
       "MinTemp        1.000000  0.733400  0.102706     0.351321  0.051297   \n",
       "MaxTemp        0.733400  1.000000 -0.074040     0.438653  0.328931   \n",
       "Rainfall       0.102706 -0.074040  1.000000    -0.037863 -0.170973   \n",
       "Evaporation    0.351321  0.438653 -0.037863     1.000000  0.288169   \n",
       "Sunshine       0.051297  0.328931 -0.170973     0.288169  1.000000   \n",
       "WindGustSpeed  0.172553  0.065895  0.126446     0.147353 -0.023844   \n",
       "WindSpeed9am   0.173404  0.014294  0.085925     0.139968  0.003843   \n",
       "WindSpeed3pm   0.173058  0.049717  0.056527     0.094352  0.037836   \n",
       "Humidity9am   -0.230970 -0.497927  0.221380    -0.373732 -0.348855   \n",
       "Humidity3pm    0.005995 -0.498760  0.248905    -0.286025 -0.443121   \n",
       "Pressure9am   -0.423584 -0.308309 -0.159055    -0.210961  0.031406   \n",
       "Pressure3pm   -0.433147 -0.396622 -0.119541    -0.230351 -0.014815   \n",
       "Cloud9am       0.062151 -0.225315  0.171144    -0.150264 -0.532497   \n",
       "Cloud3pm      -0.141572 -0.079473 -0.019905    -0.027014 -0.055223   \n",
       "Temp9am        0.897692  0.879170  0.011069     0.414592  0.208580   \n",
       "Temp3pm        0.699211  0.968713 -0.077684     0.425573  0.346685   \n",
       "Year           0.042997  0.061720 -0.008868     0.061981  0.006072   \n",
       "Month         -0.202730 -0.163100 -0.031009    -0.020194  0.017589   \n",
       "Day            0.002347  0.000609  0.001693    -0.004560 -0.000286   \n",
       "\n",
       "               WindGustSpeed  WindSpeed9am  WindSpeed3pm  Humidity9am  \\\n",
       "MinTemp             0.172553      0.173404      0.173058    -0.230970   \n",
       "MaxTemp             0.065895      0.014294      0.049717    -0.497927   \n",
       "Rainfall            0.126446      0.085925      0.056527     0.221380   \n",
       "Evaporation         0.147353      0.139968      0.094352    -0.373732   \n",
       "Sunshine           -0.023844      0.003843      0.037836    -0.348855   \n",
       "WindGustSpeed       1.000000      0.577319      0.657243    -0.207964   \n",
       "WindSpeed9am        0.577319      1.000000      0.512427    -0.268271   \n",
       "WindSpeed3pm        0.657243      0.512427      1.000000    -0.143458   \n",
       "Humidity9am        -0.207964     -0.268271     -0.143458     1.000000   \n",
       "Humidity3pm        -0.025355     -0.030887      0.016275     0.659072   \n",
       "Pressure9am        -0.425760     -0.215339     -0.277604     0.131503   \n",
       "Pressure3pm        -0.383938     -0.165388     -0.239659     0.176009   \n",
       "Cloud9am            0.052417      0.019714      0.041611     0.353490   \n",
       "Cloud3pm           -0.049967     -0.108282     -0.079410     0.081149   \n",
       "Temp9am             0.145904      0.127592      0.161060    -0.469641   \n",
       "Temp3pm             0.031884      0.004476      0.027587    -0.490709   \n",
       "Year               -0.029264     -0.018306     -0.029333     0.009757   \n",
       "Month               0.058778      0.050927      0.059683    -0.089981   \n",
       "Day                -0.008736     -0.008733     -0.009841     0.015028   \n",
       "\n",
       "               Humidity3pm  Pressure9am  Pressure3pm  Cloud9am  Cloud3pm  \\\n",
       "MinTemp           0.005995    -0.423584    -0.433147  0.062151 -0.141572   \n",
       "MaxTemp          -0.498760    -0.308309    -0.396622 -0.225315 -0.079473   \n",
       "Rainfall          0.248905    -0.159055    -0.119541  0.171144 -0.019905   \n",
       "Evaporation      -0.286025    -0.210961    -0.230351 -0.150264 -0.027014   \n",
       "Sunshine         -0.443121     0.031406    -0.014815 -0.532497 -0.055223   \n",
       "WindGustSpeed    -0.025355    -0.425760    -0.383938  0.052417 -0.049967   \n",
       "WindSpeed9am     -0.030887    -0.215339    -0.165388  0.019714 -0.108282   \n",
       "WindSpeed3pm      0.016275    -0.277604    -0.239659  0.041611 -0.079410   \n",
       "Humidity9am       0.659072     0.131503     0.176009  0.353490  0.081149   \n",
       "Humidity3pm       1.000000    -0.025848     0.048695  0.398762  0.031929   \n",
       "Pressure9am      -0.025848     1.000000     0.959662 -0.101611  0.040497   \n",
       "Pressure3pm       0.048695     0.959662     1.000000 -0.047718  0.042419   \n",
       "Cloud9am          0.398762    -0.101611    -0.047718  1.000000  0.045251   \n",
       "Cloud3pm          0.031929     0.040497     0.042419  0.045251  1.000000   \n",
       "Temp9am          -0.216964    -0.397131    -0.441459 -0.108986 -0.118906   \n",
       "Temp3pm          -0.555608    -0.265532    -0.360707 -0.231807 -0.089702   \n",
       "Year             -0.009463     0.028525     0.023421  0.051533  0.119624   \n",
       "Month            -0.018568     0.033035     0.024227 -0.007930 -0.005670   \n",
       "Day               0.012813    -0.020284    -0.020616  0.005702 -0.002444   \n",
       "\n",
       "                Temp9am   Temp3pm      Year     Month       Day  \n",
       "MinTemp        0.897692  0.699211  0.042997 -0.202730  0.002347  \n",
       "MaxTemp        0.879170  0.968713  0.061720 -0.163100  0.000609  \n",
       "Rainfall       0.011069 -0.077684 -0.008868 -0.031009  0.001693  \n",
       "Evaporation    0.414592  0.425573  0.061981 -0.020194 -0.004560  \n",
       "Sunshine       0.208580  0.346685  0.006072  0.017589 -0.000286  \n",
       "WindGustSpeed  0.145904  0.031884 -0.029264  0.058778 -0.008736  \n",
       "WindSpeed9am   0.127592  0.004476 -0.018306  0.050927 -0.008733  \n",
       "WindSpeed3pm   0.161060  0.027587 -0.029333  0.059683 -0.009841  \n",
       "Humidity9am   -0.469641 -0.490709  0.009757 -0.089981  0.015028  \n",
       "Humidity3pm   -0.216964 -0.555608 -0.009463 -0.018568  0.012813  \n",
       "Pressure9am   -0.397131 -0.265532  0.028525  0.033035 -0.020284  \n",
       "Pressure3pm   -0.441459 -0.360707  0.023421  0.024227 -0.020616  \n",
       "Cloud9am      -0.108986 -0.231807  0.051533 -0.007930  0.005702  \n",
       "Cloud3pm      -0.118906 -0.089702  0.119624 -0.005670 -0.002444  \n",
       "Temp9am        1.000000  0.846141  0.045654 -0.135286  0.000183  \n",
       "Temp3pm        0.846141  1.000000  0.050431 -0.172694 -0.000275  \n",
       "Year           0.045654  0.050431  1.000000 -0.112375 -0.005042  \n",
       "Month         -0.135286 -0.172694 -0.112375  1.000000  0.009223  \n",
       "Day            0.000183 -0.000275 -0.005042  0.009223  1.000000  "
      ]
     },
     "execution_count": 23,
     "metadata": {},
     "output_type": "execute_result"
    }
   ],
   "source": [
    "weather.corr()"
   ]
  },
  {
   "cell_type": "code",
   "execution_count": 25,
   "id": "f652f0e4",
   "metadata": {},
   "outputs": [],
   "source": [
    "from sklearn.preprocessing import LabelEncoder\n",
    "le = LabelEncoder()\n",
    "for i in weather.select_dtypes(include='object').columns:\n",
    "    weather[i] = le.fit_transform(weather[i].astype(str))\n",
    "# it's transforming the data type of the column to string and then using the label encoder \n",
    "# to convert the column to numerical values. \n",
    "# This is useful for machine learning algorithms which only work with numbers."
   ]
  },
  {
   "cell_type": "code",
   "execution_count": 26,
   "id": "0dc11d2d",
   "metadata": {},
   "outputs": [
    {
     "data": {
      "text/html": [
       "<div>\n",
       "<style scoped>\n",
       "    .dataframe tbody tr th:only-of-type {\n",
       "        vertical-align: middle;\n",
       "    }\n",
       "\n",
       "    .dataframe tbody tr th {\n",
       "        vertical-align: top;\n",
       "    }\n",
       "\n",
       "    .dataframe thead th {\n",
       "        text-align: right;\n",
       "    }\n",
       "</style>\n",
       "<table border=\"1\" class=\"dataframe\">\n",
       "  <thead>\n",
       "    <tr style=\"text-align: right;\">\n",
       "      <th></th>\n",
       "      <th>Location</th>\n",
       "      <th>MinTemp</th>\n",
       "      <th>MaxTemp</th>\n",
       "      <th>Rainfall</th>\n",
       "      <th>Evaporation</th>\n",
       "      <th>Sunshine</th>\n",
       "      <th>WindGustDir</th>\n",
       "      <th>WindGustSpeed</th>\n",
       "      <th>WindDir9am</th>\n",
       "      <th>WindDir3pm</th>\n",
       "      <th>...</th>\n",
       "      <th>Pressure3pm</th>\n",
       "      <th>Cloud9am</th>\n",
       "      <th>Cloud3pm</th>\n",
       "      <th>Temp9am</th>\n",
       "      <th>Temp3pm</th>\n",
       "      <th>RainToday</th>\n",
       "      <th>RainTomorrow</th>\n",
       "      <th>Year</th>\n",
       "      <th>Month</th>\n",
       "      <th>Day</th>\n",
       "    </tr>\n",
       "  </thead>\n",
       "  <tbody>\n",
       "    <tr>\n",
       "      <th>0</th>\n",
       "      <td>2</td>\n",
       "      <td>13.4</td>\n",
       "      <td>22.9</td>\n",
       "      <td>0.6</td>\n",
       "      <td>5.468232</td>\n",
       "      <td>7.611178</td>\n",
       "      <td>13</td>\n",
       "      <td>44.0</td>\n",
       "      <td>13</td>\n",
       "      <td>14</td>\n",
       "      <td>...</td>\n",
       "      <td>1007.1</td>\n",
       "      <td>8.000000</td>\n",
       "      <td>51.539116</td>\n",
       "      <td>16.9</td>\n",
       "      <td>21.8</td>\n",
       "      <td>0</td>\n",
       "      <td>0</td>\n",
       "      <td>2008</td>\n",
       "      <td>12</td>\n",
       "      <td>1</td>\n",
       "    </tr>\n",
       "    <tr>\n",
       "      <th>1</th>\n",
       "      <td>2</td>\n",
       "      <td>7.4</td>\n",
       "      <td>25.1</td>\n",
       "      <td>0.0</td>\n",
       "      <td>5.468232</td>\n",
       "      <td>7.611178</td>\n",
       "      <td>14</td>\n",
       "      <td>44.0</td>\n",
       "      <td>6</td>\n",
       "      <td>15</td>\n",
       "      <td>...</td>\n",
       "      <td>1007.8</td>\n",
       "      <td>4.447461</td>\n",
       "      <td>51.539116</td>\n",
       "      <td>17.2</td>\n",
       "      <td>24.3</td>\n",
       "      <td>0</td>\n",
       "      <td>0</td>\n",
       "      <td>2008</td>\n",
       "      <td>12</td>\n",
       "      <td>2</td>\n",
       "    </tr>\n",
       "    <tr>\n",
       "      <th>2</th>\n",
       "      <td>2</td>\n",
       "      <td>12.9</td>\n",
       "      <td>25.7</td>\n",
       "      <td>0.0</td>\n",
       "      <td>5.468232</td>\n",
       "      <td>7.611178</td>\n",
       "      <td>15</td>\n",
       "      <td>46.0</td>\n",
       "      <td>13</td>\n",
       "      <td>15</td>\n",
       "      <td>...</td>\n",
       "      <td>1008.7</td>\n",
       "      <td>4.447461</td>\n",
       "      <td>2.000000</td>\n",
       "      <td>21.0</td>\n",
       "      <td>23.2</td>\n",
       "      <td>0</td>\n",
       "      <td>0</td>\n",
       "      <td>2008</td>\n",
       "      <td>12</td>\n",
       "      <td>3</td>\n",
       "    </tr>\n",
       "    <tr>\n",
       "      <th>3</th>\n",
       "      <td>2</td>\n",
       "      <td>9.2</td>\n",
       "      <td>28.0</td>\n",
       "      <td>0.0</td>\n",
       "      <td>5.468232</td>\n",
       "      <td>7.611178</td>\n",
       "      <td>4</td>\n",
       "      <td>24.0</td>\n",
       "      <td>9</td>\n",
       "      <td>0</td>\n",
       "      <td>...</td>\n",
       "      <td>1012.8</td>\n",
       "      <td>4.447461</td>\n",
       "      <td>51.539116</td>\n",
       "      <td>18.1</td>\n",
       "      <td>26.5</td>\n",
       "      <td>0</td>\n",
       "      <td>0</td>\n",
       "      <td>2008</td>\n",
       "      <td>12</td>\n",
       "      <td>4</td>\n",
       "    </tr>\n",
       "    <tr>\n",
       "      <th>4</th>\n",
       "      <td>2</td>\n",
       "      <td>17.5</td>\n",
       "      <td>32.3</td>\n",
       "      <td>1.0</td>\n",
       "      <td>5.468232</td>\n",
       "      <td>7.611178</td>\n",
       "      <td>13</td>\n",
       "      <td>41.0</td>\n",
       "      <td>1</td>\n",
       "      <td>7</td>\n",
       "      <td>...</td>\n",
       "      <td>1006.0</td>\n",
       "      <td>7.000000</td>\n",
       "      <td>8.000000</td>\n",
       "      <td>17.8</td>\n",
       "      <td>29.7</td>\n",
       "      <td>0</td>\n",
       "      <td>0</td>\n",
       "      <td>2008</td>\n",
       "      <td>12</td>\n",
       "      <td>5</td>\n",
       "    </tr>\n",
       "  </tbody>\n",
       "</table>\n",
       "<p>5 rows × 25 columns</p>\n",
       "</div>"
      ],
      "text/plain": [
       "   Location  MinTemp  MaxTemp  Rainfall  Evaporation  Sunshine  WindGustDir  \\\n",
       "0         2     13.4     22.9       0.6     5.468232  7.611178           13   \n",
       "1         2      7.4     25.1       0.0     5.468232  7.611178           14   \n",
       "2         2     12.9     25.7       0.0     5.468232  7.611178           15   \n",
       "3         2      9.2     28.0       0.0     5.468232  7.611178            4   \n",
       "4         2     17.5     32.3       1.0     5.468232  7.611178           13   \n",
       "\n",
       "   WindGustSpeed  WindDir9am  WindDir3pm  ...  Pressure3pm  Cloud9am  \\\n",
       "0           44.0          13          14  ...       1007.1  8.000000   \n",
       "1           44.0           6          15  ...       1007.8  4.447461   \n",
       "2           46.0          13          15  ...       1008.7  4.447461   \n",
       "3           24.0           9           0  ...       1012.8  4.447461   \n",
       "4           41.0           1           7  ...       1006.0  7.000000   \n",
       "\n",
       "    Cloud3pm  Temp9am  Temp3pm  RainToday  RainTomorrow  Year  Month  Day  \n",
       "0  51.539116     16.9     21.8          0             0  2008     12    1  \n",
       "1  51.539116     17.2     24.3          0             0  2008     12    2  \n",
       "2   2.000000     21.0     23.2          0             0  2008     12    3  \n",
       "3  51.539116     18.1     26.5          0             0  2008     12    4  \n",
       "4   8.000000     17.8     29.7          0             0  2008     12    5  \n",
       "\n",
       "[5 rows x 25 columns]"
      ]
     },
     "execution_count": 26,
     "metadata": {},
     "output_type": "execute_result"
    }
   ],
   "source": [
    "weather.head()"
   ]
  },
  {
   "cell_type": "code",
   "execution_count": 27,
   "id": "d341726a",
   "metadata": {},
   "outputs": [
    {
     "data": {
      "text/plain": [
       "['Date',\n",
       " 'Location',\n",
       " 'WindGustDir',\n",
       " 'WindDir9am',\n",
       " 'WindDir3pm',\n",
       " 'RainToday',\n",
       " 'RainTomorrow']"
      ]
     },
     "execution_count": 27,
     "metadata": {},
     "output_type": "execute_result"
    }
   ],
   "source": [
    "categorical_features"
   ]
  },
  {
   "cell_type": "code",
   "execution_count": 28,
   "id": "7b7748b9",
   "metadata": {},
   "outputs": [
    {
     "name": "stdout",
     "output_type": "stream",
     "text": [
      "<class 'pandas.core.frame.DataFrame'>\n",
      "RangeIndex: 145460 entries, 0 to 145459\n",
      "Data columns (total 25 columns):\n",
      " #   Column         Non-Null Count   Dtype  \n",
      "---  ------         --------------   -----  \n",
      " 0   Location       145460 non-null  int32  \n",
      " 1   MinTemp        145460 non-null  float64\n",
      " 2   MaxTemp        145460 non-null  float64\n",
      " 3   Rainfall       145460 non-null  float64\n",
      " 4   Evaporation    145460 non-null  float64\n",
      " 5   Sunshine       145460 non-null  float64\n",
      " 6   WindGustDir    145460 non-null  int32  \n",
      " 7   WindGustSpeed  145460 non-null  float64\n",
      " 8   WindDir9am     145460 non-null  int32  \n",
      " 9   WindDir3pm     145460 non-null  int32  \n",
      " 10  WindSpeed9am   145460 non-null  float64\n",
      " 11  WindSpeed3pm   145460 non-null  float64\n",
      " 12  Humidity9am    145460 non-null  float64\n",
      " 13  Humidity3pm    145460 non-null  float64\n",
      " 14  Pressure9am    145460 non-null  float64\n",
      " 15  Pressure3pm    145460 non-null  float64\n",
      " 16  Cloud9am       145460 non-null  float64\n",
      " 17  Cloud3pm       145460 non-null  float64\n",
      " 18  Temp9am        145460 non-null  float64\n",
      " 19  Temp3pm        145460 non-null  float64\n",
      " 20  RainToday      145460 non-null  int32  \n",
      " 21  RainTomorrow   145460 non-null  int32  \n",
      " 22  Year           145460 non-null  int64  \n",
      " 23  Month          145460 non-null  int64  \n",
      " 24  Day            145460 non-null  int64  \n",
      "dtypes: float64(16), int32(6), int64(3)\n",
      "memory usage: 24.4 MB\n"
     ]
    }
   ],
   "source": [
    "weather.info()"
   ]
  },
  {
   "cell_type": "markdown",
   "id": "15587da0",
   "metadata": {},
   "source": [
    "## Model 1: Logistic Regression"
   ]
  },
  {
   "cell_type": "code",
   "execution_count": 29,
   "id": "7943c346",
   "metadata": {},
   "outputs": [],
   "source": [
    "x = weather.drop(['RainTomorrow'],axis=1).values # Predictor value\n",
    "y = weather['RainTomorrow'].values # Target value"
   ]
  },
  {
   "cell_type": "code",
   "execution_count": 30,
   "id": "bb3364d2",
   "metadata": {},
   "outputs": [
    {
     "name": "stdout",
     "output_type": "stream",
     "text": [
      "(101822, 24)\n",
      "(101822,)\n",
      "(43638, 24)\n",
      "(43638,)\n"
     ]
    }
   ],
   "source": [
    "import time\n",
    "start_time = time.time()\n",
    "# Build train test model\n",
    "from sklearn.model_selection import train_test_split\n",
    "x_train,x_test,y_train,y_test = train_test_split(x,y,test_size=0.3,random_state=33) \n",
    "\n",
    "print(x_train.shape)\n",
    "print(y_train.shape)\n",
    "print(x_test.shape)\n",
    "print(y_test.shape)"
   ]
  },
  {
   "cell_type": "code",
   "execution_count": 31,
   "id": "670703af",
   "metadata": {},
   "outputs": [],
   "source": [
    "# Feature Scaling, Normalizaiton\n",
    "from sklearn.preprocessing import StandardScaler\n",
    "scaler = StandardScaler()\n",
    "x_train = scaler.fit_transform(x_train)\n",
    "x_test = scaler.transform(x_test)"
   ]
  },
  {
   "cell_type": "code",
   "execution_count": 32,
   "id": "0dc6753c",
   "metadata": {},
   "outputs": [
    {
     "data": {
      "text/plain": [
       "array([0, 1, 0, ..., 0, 0, 1])"
      ]
     },
     "execution_count": 32,
     "metadata": {},
     "output_type": "execute_result"
    }
   ],
   "source": [
    "# Apply Logistic Regression\n",
    "from sklearn.linear_model import LogisticRegression\n",
    "log_reg = LogisticRegression()\n",
    "# Fit Model\n",
    "log_reg.fit(x_train, y_train)\n",
    "#Predict values\n",
    "y_pred = log_reg.predict(x_test)\n",
    "end_time = time.time()\n",
    "y_pred"
   ]
  },
  {
   "cell_type": "code",
   "execution_count": 33,
   "id": "bab419a5",
   "metadata": {},
   "outputs": [
    {
     "data": {
      "text/plain": [
       "array([0.98145446, 0.4274255 , 0.82867231, ..., 0.94471647, 0.80942157,\n",
       "       0.33623809])"
      ]
     },
     "execution_count": 33,
     "metadata": {},
     "output_type": "execute_result"
    }
   ],
   "source": [
    "# predict_proba method gives the probabilities for the target variable(0 and 1) in this case, in array form.\n",
    "# 0 is for probability of no rain and 1 is for probability of rain\n",
    "log_reg.predict_proba(x_test)[:,0]"
   ]
  },
  {
   "cell_type": "code",
   "execution_count": 34,
   "id": "22ee1cce",
   "metadata": {
    "scrolled": true
   },
   "outputs": [
    {
     "data": {
      "text/plain": [
       "array([0.01854554, 0.5725745 , 0.17132769, ..., 0.05528353, 0.19057843,\n",
       "       0.66376191])"
      ]
     },
     "execution_count": 34,
     "metadata": {},
     "output_type": "execute_result"
    }
   ],
   "source": [
    "log_reg.predict_proba(x_test)[:,1]"
   ]
  },
  {
   "cell_type": "markdown",
   "id": "4878db4d",
   "metadata": {},
   "source": [
    "### Classification Metrics Evaluation "
   ]
  },
  {
   "cell_type": "code",
   "execution_count": 35,
   "id": "49a18d4e",
   "metadata": {},
   "outputs": [
    {
     "name": "stdout",
     "output_type": "stream",
     "text": [
      "Accuarcy_Score is: 84.22934139969752\n",
      "Precision_Score is: 71.02352391338215\n",
      "Recall_Score is: 47.58375952405803\n"
     ]
    }
   ],
   "source": [
    "# Accuaracy Score\n",
    "from sklearn.metrics import accuracy_score\n",
    "acc = accuracy_score(y_test, y_pred) * 100\n",
    "acc\n",
    "\n",
    "# Precision Score\n",
    "from sklearn.metrics import precision_score\n",
    "prec = precision_score(y_test,y_pred)\n",
    "prec = prec*100\n",
    "\n",
    "# Recall Score\n",
    "from sklearn.metrics import recall_score\n",
    "recall = recall_score(y_test,y_pred) #Average ='micro' used only for multi class only\n",
    "recall = recall*100\n",
    "\n",
    "print('Accuarcy_Score is:', acc)\n",
    "print('Precision_Score is:',prec)\n",
    "print('Recall_Score is:',recall)"
   ]
  },
  {
   "cell_type": "code",
   "execution_count": 36,
   "id": "d0065c62",
   "metadata": {
    "scrolled": true
   },
   "outputs": [
    {
     "data": {
      "text/plain": [
       "array([[32197,  1860],\n",
       "       [ 5022,  4559]], dtype=int64)"
      ]
     },
     "execution_count": 36,
     "metadata": {},
     "output_type": "execute_result"
    }
   ],
   "source": [
    "# Confusion Matrix\n",
    "from sklearn.metrics import confusion_matrix\n",
    "confusion_matrix(y_test, y_pred)"
   ]
  },
  {
   "cell_type": "markdown",
   "id": "b2d4839e",
   "metadata": {},
   "source": [
    "- 26,805+3,725 =30,530 correct predictions,\n",
    "- 1,497 Type I errors( False Positives),  \n",
    "- 4,338 Type II errors( False Negatives)"
   ]
  },
  {
   "cell_type": "code",
   "execution_count": 37,
   "id": "affa042c",
   "metadata": {},
   "outputs": [
    {
     "name": "stdout",
     "output_type": "stream",
     "text": [
      "Training set score: 84.2539\n",
      "Test set score: 84.2293\n"
     ]
    }
   ],
   "source": [
    "print('Training set score: {:.4f}'.format(log_reg.score(x_train, y_train)*100))\n",
    "print('Test set score: {:.4f}'.format(log_reg.score(x_test, y_test)*100))\n",
    "# two values are quite comparable. So, there is no question of overfitting."
   ]
  },
  {
   "cell_type": "code",
   "execution_count": 38,
   "id": "60271362",
   "metadata": {
    "scrolled": true
   },
   "outputs": [
    {
     "name": "stdout",
     "output_type": "stream",
     "text": [
      "              precision    recall  f1-score   support\n",
      "\n",
      "           0       0.87      0.95      0.90     34057\n",
      "           1       0.71      0.48      0.57      9581\n",
      "\n",
      "    accuracy                           0.84     43638\n",
      "   macro avg       0.79      0.71      0.74     43638\n",
      "weighted avg       0.83      0.84      0.83     43638\n",
      "\n"
     ]
    }
   ],
   "source": [
    "# Classification Report\n",
    "from sklearn.metrics import classification_report\n",
    "print(classification_report(y_test, y_pred))"
   ]
  },
  {
   "cell_type": "markdown",
   "id": "b9966302",
   "metadata": {},
   "source": [
    "## Model 2: Random Forest Classifier"
   ]
  },
  {
   "cell_type": "code",
   "execution_count": 39,
   "id": "08f3264f",
   "metadata": {},
   "outputs": [],
   "source": [
    "x = weather.drop(['RainTomorrow'],axis=1).values # Predictor value\n",
    "y = weather['RainTomorrow'].values # Target value"
   ]
  },
  {
   "cell_type": "code",
   "execution_count": 40,
   "id": "59ea0ac2",
   "metadata": {
    "scrolled": true
   },
   "outputs": [
    {
     "name": "stdout",
     "output_type": "stream",
     "text": [
      "(101822, 24)\n",
      "(101822,)\n",
      "(43638, 24)\n",
      "(43638,)\n"
     ]
    }
   ],
   "source": [
    "rf_start_time = time.time()\n",
    "# Build train test model\n",
    "from sklearn.model_selection import train_test_split\n",
    "x_train_rf,x_test_rf,y_train_rf,y_test_rf = train_test_split(x,y,test_size=0.3,random_state=33) \n",
    "print(x_train_rf.shape)\n",
    "print(y_train_rf.shape)\n",
    "print(x_test_rf.shape)\n",
    "print(y_test_rf.shape)"
   ]
  },
  {
   "cell_type": "code",
   "execution_count": 41,
   "id": "0d6a1ad9",
   "metadata": {},
   "outputs": [],
   "source": [
    "# Feature Scaling, Normalizaiton\n",
    "from sklearn.preprocessing import StandardScaler\n",
    "scaler = StandardScaler()\n",
    "x_train_rf = scaler.fit_transform(x_train_rf)\n",
    "x_test_rf = scaler.transform(x_test_rf)"
   ]
  },
  {
   "cell_type": "code",
   "execution_count": 42,
   "id": "68e3087f",
   "metadata": {},
   "outputs": [],
   "source": [
    "#Import RandomForestClassifier \n",
    "from sklearn.ensemble import RandomForestClassifier\n",
    "#Init RandomForestCkassifier()\n",
    "rf = RandomForestClassifier(criterion = 'gini',n_estimators=100,max_depth=20,random_state=33)\n",
    "rf.fit(x_train_rf, y_train_rf)\n",
    "\n",
    "# Predicted the result\n",
    "y_pred_rf= rf.predict(x_test_rf)\n",
    "y_pred_rf\n",
    "rf_end_time = time.time()"
   ]
  },
  {
   "cell_type": "code",
   "execution_count": 43,
   "id": "bf6f877a",
   "metadata": {},
   "outputs": [
    {
     "data": {
      "text/plain": [
       "array([[32557,  1500],\n",
       "       [ 4783,  4798]], dtype=int64)"
      ]
     },
     "execution_count": 43,
     "metadata": {},
     "output_type": "execute_result"
    }
   ],
   "source": [
    "# Making a Confusion Matrix\n",
    "from sklearn.metrics import confusion_matrix\n",
    "cm_rf=confusion_matrix(y_test_rf, y_pred_rf)\n",
    "cm_rf"
   ]
  },
  {
   "cell_type": "code",
   "execution_count": 44,
   "id": "afa712b0",
   "metadata": {},
   "outputs": [
    {
     "name": "stdout",
     "output_type": "stream",
     "text": [
      "              precision    recall  f1-score   support\n",
      "\n",
      "           0       0.87      0.96      0.91     34057\n",
      "           1       0.76      0.50      0.60      9581\n",
      "\n",
      "    accuracy                           0.86     43638\n",
      "   macro avg       0.82      0.73      0.76     43638\n",
      "weighted avg       0.85      0.86      0.84     43638\n",
      "\n"
     ]
    }
   ],
   "source": [
    "# check the accuracy score\n",
    "from sklearn.metrics import accuracy_score\n",
    "acc_rf=accuracy_score(y_test_rf, y_pred_rf)\n",
    "acc_rf =acc_rf*100\n",
    "acc_rf\n",
    "# Precision Score\n",
    "from sklearn.metrics import precision_score\n",
    "prec_rf = precision_score(y_test_rf,y_pred_rf)\n",
    "prec_rf= prec_rf*100\n",
    "# Recall Score\n",
    "from sklearn.metrics import recall_score\n",
    "recall_rf = recall_score(y_test_rf,y_pred_rf) #Average ='micro' used only for multi class only\n",
    "recall_rf = recall_rf*100\n",
    "# Classification Report\n",
    "from sklearn.metrics import classification_report\n",
    "print(classification_report(y_test_rf, y_pred_rf))"
   ]
  },
  {
   "cell_type": "code",
   "execution_count": 45,
   "id": "e61133b9",
   "metadata": {
    "scrolled": true
   },
   "outputs": [
    {
     "name": "stdout",
     "output_type": "stream",
     "text": [
      "RandomForestClassifierModel Train Score is : 97.9336\n",
      "RandomForestClassifierModel Test Score is : 85.6020\n"
     ]
    }
   ],
   "source": [
    "print('RandomForestClassifierModel Train Score is : {:.4f}'.format(rf.score(x_train_rf, y_train_rf)*100))\n",
    "print('RandomForestClassifierModel Test Score is : {:.4f}'.format(rf.score(x_test_rf, y_test_rf)*100))"
   ]
  },
  {
   "cell_type": "markdown",
   "id": "b7d39efa",
   "metadata": {},
   "source": [
    "## Model 3: Decision Tree Classifier"
   ]
  },
  {
   "cell_type": "code",
   "execution_count": 46,
   "id": "68962fdc",
   "metadata": {},
   "outputs": [],
   "source": [
    "x = weather.drop(['RainTomorrow'],axis=1).values # Predictaor value\n",
    "y = weather['RainTomorrow'].values # Target value"
   ]
  },
  {
   "cell_type": "code",
   "execution_count": 47,
   "id": "afd60fa7",
   "metadata": {},
   "outputs": [
    {
     "name": "stdout",
     "output_type": "stream",
     "text": [
      "(101822, 24)\n",
      "(101822,)\n",
      "(43638, 24)\n",
      "(43638,)\n"
     ]
    }
   ],
   "source": [
    "dt_start_time = time.time()\n",
    "# Build train test model\n",
    "from sklearn.model_selection import train_test_split\n",
    "x_train_dt,x_test_dt,y_train_dt,y_test_dt = train_test_split(x,y,test_size=0.3,random_state=33) \n",
    "print(x_train_dt.shape)\n",
    "print(y_train_dt.shape)\n",
    "print(x_test_dt.shape)\n",
    "print(y_test_dt.shape)"
   ]
  },
  {
   "cell_type": "code",
   "execution_count": 48,
   "id": "203f2578",
   "metadata": {},
   "outputs": [],
   "source": [
    "# Feature Scaling, Normalizaiton\n",
    "from sklearn.preprocessing import StandardScaler\n",
    "scaler = StandardScaler()\n",
    "x_train_dt = scaler.fit_transform(x_train_dt)\n",
    "x_test_dt = scaler.transform(x_test_dt)"
   ]
  },
  {
   "cell_type": "code",
   "execution_count": 49,
   "id": "aa354419",
   "metadata": {},
   "outputs": [],
   "source": [
    "# import the Decision tree classifier from scikit learn\n",
    "from sklearn.tree import DecisionTreeClassifier\n",
    "#initialize the Decision tree model using Entropy (Information Gain)\n",
    "DT = DecisionTreeClassifier(criterion ='entropy', max_depth=6,random_state= 33)\n",
    "#fit the DT Model\n",
    "DT.fit(x_train,y_train)\n",
    "# Predicted the result\n",
    "y_pred_dt = DT.predict(x_test_dt)\n",
    "y_pred_dt\n",
    "dt_end_time = time.time()"
   ]
  },
  {
   "cell_type": "code",
   "execution_count": 50,
   "id": "3358a00f",
   "metadata": {},
   "outputs": [
    {
     "name": "stdout",
     "output_type": "stream",
     "text": [
      "Decision Tree Classifier Model Train Score is :  84.18711084048634\n",
      "Decision Tree Classifier Model Test Score is :  83.78477473761401\n"
     ]
    }
   ],
   "source": [
    "print('Decision Tree Classifier Model Train Score is : ' , DT.score(x_train, y_train)*100)\n",
    "print('Decision Tree Classifier Model Test Score is : ' , DT.score(x_test, y_test)*100)"
   ]
  },
  {
   "cell_type": "code",
   "execution_count": 51,
   "id": "1d0eb024",
   "metadata": {},
   "outputs": [
    {
     "data": {
      "text/plain": [
       "array([[32092,  1965],\n",
       "       [ 5111,  4470]], dtype=int64)"
      ]
     },
     "execution_count": 51,
     "metadata": {},
     "output_type": "execute_result"
    }
   ],
   "source": [
    "# Making  a Confusion Matrix\n",
    "from sklearn.metrics import confusion_matrix\n",
    "cm_dt=confusion_matrix(y_test_dt, y_pred_dt)\n",
    "cm_dt"
   ]
  },
  {
   "cell_type": "code",
   "execution_count": 52,
   "id": "3e817b8f",
   "metadata": {},
   "outputs": [
    {
     "name": "stdout",
     "output_type": "stream",
     "text": [
      "Accuarcy_Score is: 83.78477473761401\n",
      "Precision_Score is: 69.46386946386947\n",
      "Recall_Score is: 46.65483769961382\n",
      "              precision    recall  f1-score   support\n",
      "\n",
      "           0       0.86      0.94      0.90     34057\n",
      "           1       0.69      0.47      0.56      9581\n",
      "\n",
      "    accuracy                           0.84     43638\n",
      "   macro avg       0.78      0.70      0.73     43638\n",
      "weighted avg       0.83      0.84      0.83     43638\n",
      "\n"
     ]
    }
   ],
   "source": [
    "# check the accuracy score\n",
    "from sklearn.metrics import accuracy_score\n",
    "acc_dt=accuracy_score(y_test_dt, y_pred_dt)\n",
    "acc_dt =acc_dt*100\n",
    "# Precision Score\n",
    "from sklearn.metrics import precision_score\n",
    "prec_dt = precision_score(y_test_dt,y_pred_dt)\n",
    "prec_dt = prec_dt*100\n",
    "# Recall Score\n",
    "from sklearn.metrics import recall_score\n",
    "recall_dt = recall_score(y_test_dt,y_pred_dt) #Average ='micro' used only for multi class only\n",
    "recall_dt = recall_dt*100\n",
    "print('Accuarcy_Score is:', acc_dt)\n",
    "print('Precision_Score is:',prec_dt)\n",
    "print('Recall_Score is:',recall_dt)\n",
    "print(classification_report(y_test_dt, y_pred_dt))"
   ]
  },
  {
   "cell_type": "markdown",
   "id": "98f940dd",
   "metadata": {},
   "source": [
    "## Model 4: SVC - linear"
   ]
  },
  {
   "cell_type": "code",
   "execution_count": 53,
   "id": "d6f8f604",
   "metadata": {},
   "outputs": [],
   "source": [
    "x = weather.drop(['RainTomorrow'],axis=1).values # Predictor value\n",
    "y = weather['RainTomorrow'].values # Target value"
   ]
  },
  {
   "cell_type": "code",
   "execution_count": 54,
   "id": "e7b5d2dc",
   "metadata": {
    "scrolled": true
   },
   "outputs": [
    {
     "name": "stdout",
     "output_type": "stream",
     "text": [
      "(101822, 24)\n",
      "(101822,)\n",
      "(43638, 24)\n",
      "(43638,)\n"
     ]
    }
   ],
   "source": [
    "svc_start_time = time.time()\n",
    "# Build train test model\n",
    "from sklearn.model_selection import train_test_split\n",
    "x_train_svc,x_test_svc,y_train_svc,y_test_svc = train_test_split(x,y,test_size=0.3,random_state=33) \n",
    "print(x_train_svc.shape)\n",
    "print(y_train_svc.shape)\n",
    "print(x_test_svc.shape)\n",
    "print(y_test_svc.shape)"
   ]
  },
  {
   "cell_type": "code",
   "execution_count": 55,
   "id": "4b17b282",
   "metadata": {},
   "outputs": [],
   "source": [
    "# Feature Scaling, Normalizaiton\n",
    "from sklearn.preprocessing import StandardScaler\n",
    "scaler = StandardScaler()\n",
    "x_train_svc = scaler.fit_transform(x_train_svc)\n",
    "x_test_svc = scaler.transform(x_test_svc)"
   ]
  },
  {
   "cell_type": "code",
   "execution_count": 56,
   "id": "78128445",
   "metadata": {},
   "outputs": [],
   "source": [
    "# import support vector machine from scikit learn\n",
    "from sklearn.svm import SVC\n",
    "svc_linear = SVC(kernel = 'linear')\n",
    "# Fitting the dataset\n",
    "svc_linear.fit(x_train_svc, y_train_svc)\n",
    "#training begin\n",
    "# Prediction - always use X_test\n",
    "y_pred_svc = svc_linear.predict(x_test_svc)\n",
    "y_pred_svc\n",
    "svc_end_time = time.time()"
   ]
  },
  {
   "cell_type": "code",
   "execution_count": 57,
   "id": "b3aaab2a",
   "metadata": {},
   "outputs": [
    {
     "name": "stdout",
     "output_type": "stream",
     "text": [
      "Support Vecotr Machine Model Train Score is :  84.22344876352851\n",
      "Support Vecotr Machine Model Test Score is :  84.167468719923\n"
     ]
    }
   ],
   "source": [
    "print('Support Vecotr Machine Model Train Score is : ' , svc_linear.score(x_train_svc, y_train_svc)*100)\n",
    "print('Support Vecotr Machine Model Test Score is : ' , svc_linear.score(x_test_svc, y_test_svc)*100)"
   ]
  },
  {
   "cell_type": "code",
   "execution_count": 58,
   "id": "100a9c66",
   "metadata": {},
   "outputs": [
    {
     "data": {
      "text/plain": [
       "array([[32493,  1564],\n",
       "       [ 5345,  4236]], dtype=int64)"
      ]
     },
     "execution_count": 58,
     "metadata": {},
     "output_type": "execute_result"
    }
   ],
   "source": [
    "# Making  a Confusion Matrix\n",
    "from sklearn.metrics import confusion_matrix\n",
    "cm_svc=confusion_matrix(y_test_svc, y_pred_svc)\n",
    "cm_svc"
   ]
  },
  {
   "cell_type": "code",
   "execution_count": 59,
   "id": "6ca8df4b",
   "metadata": {},
   "outputs": [
    {
     "name": "stdout",
     "output_type": "stream",
     "text": [
      "Accuarcy_Score is: 84.167468719923\n",
      "Precision_Score is: 73.03448275862068\n",
      "Recall_Score is: 44.21250391399646\n",
      "              precision    recall  f1-score   support\n",
      "\n",
      "           0       0.86      0.95      0.90     34057\n",
      "           1       0.73      0.44      0.55      9581\n",
      "\n",
      "    accuracy                           0.84     43638\n",
      "   macro avg       0.79      0.70      0.73     43638\n",
      "weighted avg       0.83      0.84      0.83     43638\n",
      "\n"
     ]
    }
   ],
   "source": [
    "# check the accuracy score\n",
    "from sklearn.metrics import accuracy_score\n",
    "acc_svc=accuracy_score(y_test_svc, y_pred_svc)\n",
    "acc_svc =acc_svc*100\n",
    "# Precision Score\n",
    "from sklearn.metrics import precision_score\n",
    "prec_svc = precision_score(y_test_svc,y_pred_svc)\n",
    "prec_svc= prec_svc*100\n",
    "\n",
    "from sklearn.metrics import recall_score\n",
    "recall_svc = recall_score(y_test_svc,y_pred_svc) #Average ='micro' used only for multi class only\n",
    "recall_svc = recall_svc*100\n",
    "from sklearn.metrics import classification_report\n",
    "print('Accuarcy_Score is:', acc_svc)\n",
    "print('Precision_Score is:',prec_svc)\n",
    "print('Recall_Score is:',recall_svc)\n",
    "print(classification_report(y_test_svc, y_pred_svc))"
   ]
  },
  {
   "cell_type": "code",
   "execution_count": 60,
   "id": "9672731e",
   "metadata": {},
   "outputs": [
    {
     "data": {
      "text/html": [
       "<div>\n",
       "<style scoped>\n",
       "    .dataframe tbody tr th:only-of-type {\n",
       "        vertical-align: middle;\n",
       "    }\n",
       "\n",
       "    .dataframe tbody tr th {\n",
       "        vertical-align: top;\n",
       "    }\n",
       "\n",
       "    .dataframe thead th {\n",
       "        text-align: right;\n",
       "    }\n",
       "</style>\n",
       "<table border=\"1\" class=\"dataframe\">\n",
       "  <thead>\n",
       "    <tr style=\"text-align: right;\">\n",
       "      <th></th>\n",
       "      <th>Logistic Regression</th>\n",
       "      <th>Random Forest</th>\n",
       "      <th>Decision Tree</th>\n",
       "      <th>SVC Linear</th>\n",
       "    </tr>\n",
       "  </thead>\n",
       "  <tbody>\n",
       "    <tr>\n",
       "      <th>0</th>\n",
       "      <td>84.229341</td>\n",
       "      <td>85.601998</td>\n",
       "      <td>83.784775</td>\n",
       "      <td>84.167469</td>\n",
       "    </tr>\n",
       "  </tbody>\n",
       "</table>\n",
       "</div>"
      ],
      "text/plain": [
       "   Logistic Regression  Random Forest  Decision Tree  SVC Linear\n",
       "0            84.229341      85.601998      83.784775   84.167469"
      ]
     },
     "execution_count": 60,
     "metadata": {},
     "output_type": "execute_result"
    }
   ],
   "source": [
    "# To read accuracy score of different models in dataframe\n",
    "df_modelAcc = pd.DataFrame({'Logistic Regression': [acc],\n",
    "                            'Random Forest': [acc_rf],\n",
    "                            'Decision Tree': [acc_dt],\n",
    "                            'SVC Linear': [acc_svc]})\n",
    "df_modelAcc"
   ]
  },
  {
   "cell_type": "code",
   "execution_count": 61,
   "id": "af0b3a7f",
   "metadata": {
    "scrolled": true
   },
   "outputs": [
    {
     "data": {
      "text/html": [
       "<div>\n",
       "<style scoped>\n",
       "    .dataframe tbody tr th:only-of-type {\n",
       "        vertical-align: middle;\n",
       "    }\n",
       "\n",
       "    .dataframe tbody tr th {\n",
       "        vertical-align: top;\n",
       "    }\n",
       "\n",
       "    .dataframe thead th {\n",
       "        text-align: right;\n",
       "    }\n",
       "</style>\n",
       "<table border=\"1\" class=\"dataframe\">\n",
       "  <thead>\n",
       "    <tr style=\"text-align: right;\">\n",
       "      <th></th>\n",
       "      <th>Model</th>\n",
       "      <th>Accuracy Score</th>\n",
       "    </tr>\n",
       "  </thead>\n",
       "  <tbody>\n",
       "    <tr>\n",
       "      <th>1</th>\n",
       "      <td>Random Forest</td>\n",
       "      <td>85.60%</td>\n",
       "    </tr>\n",
       "    <tr>\n",
       "      <th>0</th>\n",
       "      <td>Logistic Regression</td>\n",
       "      <td>84.23%</td>\n",
       "    </tr>\n",
       "    <tr>\n",
       "      <th>3</th>\n",
       "      <td>SVC Linear</td>\n",
       "      <td>84.17%</td>\n",
       "    </tr>\n",
       "    <tr>\n",
       "      <th>2</th>\n",
       "      <td>Decision Tree</td>\n",
       "      <td>83.78%</td>\n",
       "    </tr>\n",
       "  </tbody>\n",
       "</table>\n",
       "</div>"
      ],
      "text/plain": [
       "                 Model Accuracy Score\n",
       "1        Random Forest         85.60%\n",
       "0  Logistic Regression         84.23%\n",
       "3           SVC Linear         84.17%\n",
       "2        Decision Tree         83.78%"
      ]
     },
     "execution_count": 61,
     "metadata": {},
     "output_type": "execute_result"
    }
   ],
   "source": [
    "# Select the 'Logistic Regression', 'Random Forest', 'Decision Tree', 'SVC Linear' columns\n",
    "series = df_modelAcc[['Logistic Regression', 'Random Forest', 'Decision Tree', 'SVC Linear']]\n",
    "series = series.squeeze()\n",
    "df = series.to_frame()\n",
    "df = df.reset_index()\n",
    "df.columns = ['Model','Accuracy Score']\n",
    "df['Accuracy Score'] = df['Accuracy Score'].apply(lambda x: f'{x/100:.2%}')\n",
    "df.sort_values(by=\"Accuracy Score\", ascending= False)"
   ]
  },
  {
   "cell_type": "code",
   "execution_count": 62,
   "id": "5453a6b5",
   "metadata": {},
   "outputs": [
    {
     "data": {
      "text/html": [
       "<div>\n",
       "<style scoped>\n",
       "    .dataframe tbody tr th:only-of-type {\n",
       "        vertical-align: middle;\n",
       "    }\n",
       "\n",
       "    .dataframe tbody tr th {\n",
       "        vertical-align: top;\n",
       "    }\n",
       "\n",
       "    .dataframe thead th {\n",
       "        text-align: right;\n",
       "    }\n",
       "</style>\n",
       "<table border=\"1\" class=\"dataframe\">\n",
       "  <thead>\n",
       "    <tr style=\"text-align: right;\">\n",
       "      <th></th>\n",
       "      <th>Logistic Regression</th>\n",
       "      <th>Random Forest</th>\n",
       "      <th>Decision Tree</th>\n",
       "      <th>SVC Linear</th>\n",
       "    </tr>\n",
       "  </thead>\n",
       "  <tbody>\n",
       "    <tr>\n",
       "      <th>0</th>\n",
       "      <td>0.408</td>\n",
       "      <td>21.787</td>\n",
       "      <td>1.002</td>\n",
       "      <td>1468.513</td>\n",
       "    </tr>\n",
       "  </tbody>\n",
       "</table>\n",
       "</div>"
      ],
      "text/plain": [
       "   Logistic Regression  Random Forest  Decision Tree  SVC Linear\n",
       "0                0.408         21.787          1.002    1468.513"
      ]
     },
     "execution_count": 62,
     "metadata": {},
     "output_type": "execute_result"
    }
   ],
   "source": [
    "lr_time = round(end_time - start_time,3)\n",
    "rf_time = round(rf_end_time - rf_start_time,3)\n",
    "dt_time = round(dt_end_time - dt_start_time,3)\n",
    "svc_time = round(svc_end_time - svc_start_time,3)\n",
    "\n",
    "# To read time score of different models in dataframe\n",
    "df_modelTime = pd.DataFrame({'Logistic Regression': [lr_time],\n",
    "                   'Random Forest': [rf_time],\n",
    "                   'Decision Tree': [dt_time],\n",
    "                   'SVC Linear': [svc_time]})\n",
    "df_modelTime"
   ]
  },
  {
   "cell_type": "code",
   "execution_count": 67,
   "id": "9cdecd2e",
   "metadata": {},
   "outputs": [
    {
     "data": {
      "text/html": [
       "<div>\n",
       "<style scoped>\n",
       "    .dataframe tbody tr th:only-of-type {\n",
       "        vertical-align: middle;\n",
       "    }\n",
       "\n",
       "    .dataframe tbody tr th {\n",
       "        vertical-align: top;\n",
       "    }\n",
       "\n",
       "    .dataframe thead th {\n",
       "        text-align: right;\n",
       "    }\n",
       "</style>\n",
       "<table border=\"1\" class=\"dataframe\">\n",
       "  <thead>\n",
       "    <tr style=\"text-align: right;\">\n",
       "      <th></th>\n",
       "      <th>Model</th>\n",
       "      <th>Run Time</th>\n",
       "    </tr>\n",
       "  </thead>\n",
       "  <tbody>\n",
       "    <tr>\n",
       "      <th>0</th>\n",
       "      <td>Logistic Regression</td>\n",
       "      <td>0.408s</td>\n",
       "    </tr>\n",
       "    <tr>\n",
       "      <th>2</th>\n",
       "      <td>Decision Tree</td>\n",
       "      <td>1.002s</td>\n",
       "    </tr>\n",
       "    <tr>\n",
       "      <th>3</th>\n",
       "      <td>SVC Linear</td>\n",
       "      <td>1468.513s</td>\n",
       "    </tr>\n",
       "    <tr>\n",
       "      <th>1</th>\n",
       "      <td>Random Forest</td>\n",
       "      <td>21.787s</td>\n",
       "    </tr>\n",
       "  </tbody>\n",
       "</table>\n",
       "</div>"
      ],
      "text/plain": [
       "                 Model   Run Time\n",
       "0  Logistic Regression     0.408s\n",
       "2        Decision Tree     1.002s\n",
       "3           SVC Linear  1468.513s\n",
       "1        Random Forest    21.787s"
      ]
     },
     "execution_count": 67,
     "metadata": {},
     "output_type": "execute_result"
    }
   ],
   "source": [
    " #Select the 'Logistic Regression', 'Random Forest', 'Decision Tree', 'SVC Linear' columns\n",
    "series2 = df_modelTime[['Logistic Regression', 'Random Forest', 'Decision Tree', 'SVC Linear']]\n",
    "series2 = series2.squeeze()\n",
    "df2 = series2.to_frame()\n",
    "df2 = df2.reset_index()\n",
    "df2.columns = ['Model','Run Time']\n",
    "df2['Run Time'] = df2['Run Time'].apply(lambda x: f'{x:.3f}s')\n",
    "df2.sort_values(by=\"Run Time\")"
   ]
  },
  {
   "cell_type": "code",
   "execution_count": 64,
   "id": "9c2a757f",
   "metadata": {},
   "outputs": [
    {
     "name": "stdout",
     "output_type": "stream",
     "text": [
      "              precision    recall  f1-score   support\n",
      "\n",
      "           0       0.87      0.95      0.90     34057\n",
      "           1       0.71      0.48      0.57      9581\n",
      "\n",
      "    accuracy                           0.84     43638\n",
      "   macro avg       0.79      0.71      0.74     43638\n",
      "weighted avg       0.83      0.84      0.83     43638\n",
      "\n",
      "              precision    recall  f1-score   support\n",
      "\n",
      "           0       0.87      0.96      0.91     34057\n",
      "           1       0.76      0.50      0.60      9581\n",
      "\n",
      "    accuracy                           0.86     43638\n",
      "   macro avg       0.82      0.73      0.76     43638\n",
      "weighted avg       0.85      0.86      0.84     43638\n",
      "\n",
      "              precision    recall  f1-score   support\n",
      "\n",
      "           0       0.86      0.94      0.90     34057\n",
      "           1       0.69      0.47      0.56      9581\n",
      "\n",
      "    accuracy                           0.84     43638\n",
      "   macro avg       0.78      0.70      0.73     43638\n",
      "weighted avg       0.83      0.84      0.83     43638\n",
      "\n",
      "              precision    recall  f1-score   support\n",
      "\n",
      "           0       0.86      0.95      0.90     34057\n",
      "           1       0.73      0.44      0.55      9581\n",
      "\n",
      "    accuracy                           0.84     43638\n",
      "   macro avg       0.79      0.70      0.73     43638\n",
      "weighted avg       0.83      0.84      0.83     43638\n",
      "\n"
     ]
    }
   ],
   "source": [
    "print(classification_report(y_test, y_pred))\n",
    "print(classification_report(y_test_rf, y_pred_rf))\n",
    "print(classification_report(y_test_dt, y_pred_dt))\n",
    "print(classification_report(y_test_svc, y_pred_svc))"
   ]
  }
 ],
 "metadata": {
  "hide_input": false,
  "kernelspec": {
   "display_name": "Python 3 (ipykernel)",
   "language": "python",
   "name": "python3"
  },
  "language_info": {
   "codemirror_mode": {
    "name": "ipython",
    "version": 3
   },
   "file_extension": ".py",
   "mimetype": "text/x-python",
   "name": "python",
   "nbconvert_exporter": "python",
   "pygments_lexer": "ipython3",
   "version": "3.9.12"
  },
  "toc": {
   "base_numbering": 1,
   "nav_menu": {},
   "number_sections": true,
   "sideBar": true,
   "skip_h1_title": false,
   "title_cell": "Table of Contents",
   "title_sidebar": "Contents",
   "toc_cell": false,
   "toc_position": {},
   "toc_section_display": true,
   "toc_window_display": false
  },
  "varInspector": {
   "cols": {
    "lenName": 16,
    "lenType": 16,
    "lenVar": 40
   },
   "kernels_config": {
    "python": {
     "delete_cmd_postfix": "",
     "delete_cmd_prefix": "del ",
     "library": "var_list.py",
     "varRefreshCmd": "print(var_dic_list())"
    },
    "r": {
     "delete_cmd_postfix": ") ",
     "delete_cmd_prefix": "rm(",
     "library": "var_list.r",
     "varRefreshCmd": "cat(var_dic_list()) "
    }
   },
   "types_to_exclude": [
    "module",
    "function",
    "builtin_function_or_method",
    "instance",
    "_Feature"
   ],
   "window_display": false
  }
 },
 "nbformat": 4,
 "nbformat_minor": 5
}
