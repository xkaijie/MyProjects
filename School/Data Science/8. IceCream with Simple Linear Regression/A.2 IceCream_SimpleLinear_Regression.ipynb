{
 "cells": [
  {
   "cell_type": "code",
   "execution_count": 1,
   "id": "b53c62b5",
   "metadata": {},
   "outputs": [],
   "source": [
    "#Import Libraries\n",
    "import pandas as pd\n",
    "import numpy as np\n",
    "import matplotlib.pyplot as plt\n",
    "%matplotlib inline"
   ]
  },
  {
   "cell_type": "code",
   "execution_count": 2,
   "id": "41aac2d7",
   "metadata": {},
   "outputs": [],
   "source": [
    "# Read IceCream data\n",
    "icecream = pd.read_csv('IceCreamData.csv')"
   ]
  },
  {
   "cell_type": "code",
   "execution_count": 3,
   "id": "19f19e60",
   "metadata": {
    "scrolled": true
   },
   "outputs": [
    {
     "data": {
      "text/html": [
       "<div>\n",
       "<style scoped>\n",
       "    .dataframe tbody tr th:only-of-type {\n",
       "        vertical-align: middle;\n",
       "    }\n",
       "\n",
       "    .dataframe tbody tr th {\n",
       "        vertical-align: top;\n",
       "    }\n",
       "\n",
       "    .dataframe thead th {\n",
       "        text-align: right;\n",
       "    }\n",
       "</style>\n",
       "<table border=\"1\" class=\"dataframe\">\n",
       "  <thead>\n",
       "    <tr style=\"text-align: right;\">\n",
       "      <th></th>\n",
       "      <th>Temperature</th>\n",
       "      <th>Revenue</th>\n",
       "    </tr>\n",
       "  </thead>\n",
       "  <tbody>\n",
       "    <tr>\n",
       "      <th>0</th>\n",
       "      <td>24.566884</td>\n",
       "      <td>534.799028</td>\n",
       "    </tr>\n",
       "    <tr>\n",
       "      <th>1</th>\n",
       "      <td>26.005191</td>\n",
       "      <td>625.190122</td>\n",
       "    </tr>\n",
       "    <tr>\n",
       "      <th>2</th>\n",
       "      <td>27.790554</td>\n",
       "      <td>660.632289</td>\n",
       "    </tr>\n",
       "    <tr>\n",
       "      <th>3</th>\n",
       "      <td>20.595335</td>\n",
       "      <td>487.706960</td>\n",
       "    </tr>\n",
       "    <tr>\n",
       "      <th>4</th>\n",
       "      <td>11.503498</td>\n",
       "      <td>316.240194</td>\n",
       "    </tr>\n",
       "  </tbody>\n",
       "</table>\n",
       "</div>"
      ],
      "text/plain": [
       "   Temperature     Revenue\n",
       "0    24.566884  534.799028\n",
       "1    26.005191  625.190122\n",
       "2    27.790554  660.632289\n",
       "3    20.595335  487.706960\n",
       "4    11.503498  316.240194"
      ]
     },
     "execution_count": 3,
     "metadata": {},
     "output_type": "execute_result"
    }
   ],
   "source": [
    "# First 5 rows\n",
    "icecream.head()"
   ]
  },
  {
   "cell_type": "markdown",
   "id": "3e0738ae",
   "metadata": {},
   "source": [
    "## Data Processing"
   ]
  },
  {
   "cell_type": "code",
   "execution_count": 4,
   "id": "a6899f2a",
   "metadata": {},
   "outputs": [
    {
     "data": {
      "text/html": [
       "<div>\n",
       "<style scoped>\n",
       "    .dataframe tbody tr th:only-of-type {\n",
       "        vertical-align: middle;\n",
       "    }\n",
       "\n",
       "    .dataframe tbody tr th {\n",
       "        vertical-align: top;\n",
       "    }\n",
       "\n",
       "    .dataframe thead th {\n",
       "        text-align: right;\n",
       "    }\n",
       "</style>\n",
       "<table border=\"1\" class=\"dataframe\">\n",
       "  <thead>\n",
       "    <tr style=\"text-align: right;\">\n",
       "      <th></th>\n",
       "      <th>Temperature</th>\n",
       "      <th>Revenue</th>\n",
       "    </tr>\n",
       "  </thead>\n",
       "  <tbody>\n",
       "  </tbody>\n",
       "</table>\n",
       "</div>"
      ],
      "text/plain": [
       "Empty DataFrame\n",
       "Columns: [Temperature, Revenue]\n",
       "Index: []"
      ]
     },
     "execution_count": 4,
     "metadata": {},
     "output_type": "execute_result"
    }
   ],
   "source": [
    "# Check if there is any duplicate data\n",
    "icecream.loc[icecream.duplicated(),:]"
   ]
  },
  {
   "cell_type": "code",
   "execution_count": 5,
   "id": "b58e71db",
   "metadata": {},
   "outputs": [
    {
     "data": {
      "text/plain": [
       "Temperature    0\n",
       "Revenue        0\n",
       "dtype: int64"
      ]
     },
     "execution_count": 5,
     "metadata": {},
     "output_type": "execute_result"
    }
   ],
   "source": [
    "icecream.isnull().sum()"
   ]
  },
  {
   "cell_type": "code",
   "execution_count": 6,
   "id": "f86f0769",
   "metadata": {
    "scrolled": false
   },
   "outputs": [
    {
     "name": "stdout",
     "output_type": "stream",
     "text": [
      "<class 'pandas.core.frame.DataFrame'>\n",
      "RangeIndex: 500 entries, 0 to 499\n",
      "Data columns (total 2 columns):\n",
      " #   Column       Non-Null Count  Dtype  \n",
      "---  ------       --------------  -----  \n",
      " 0   Temperature  500 non-null    float64\n",
      " 1   Revenue      500 non-null    float64\n",
      "dtypes: float64(2)\n",
      "memory usage: 7.9 KB\n"
     ]
    }
   ],
   "source": [
    "icecream.info()"
   ]
  },
  {
   "cell_type": "markdown",
   "id": "78491929",
   "metadata": {},
   "source": [
    "## IceCream Correlation"
   ]
  },
  {
   "cell_type": "code",
   "execution_count": 7,
   "id": "5b91cafe",
   "metadata": {},
   "outputs": [
    {
     "data": {
      "text/html": [
       "<div>\n",
       "<style scoped>\n",
       "    .dataframe tbody tr th:only-of-type {\n",
       "        vertical-align: middle;\n",
       "    }\n",
       "\n",
       "    .dataframe tbody tr th {\n",
       "        vertical-align: top;\n",
       "    }\n",
       "\n",
       "    .dataframe thead th {\n",
       "        text-align: right;\n",
       "    }\n",
       "</style>\n",
       "<table border=\"1\" class=\"dataframe\">\n",
       "  <thead>\n",
       "    <tr style=\"text-align: right;\">\n",
       "      <th></th>\n",
       "      <th>Temperature</th>\n",
       "      <th>Revenue</th>\n",
       "    </tr>\n",
       "  </thead>\n",
       "  <tbody>\n",
       "    <tr>\n",
       "      <th>Temperature</th>\n",
       "      <td>1.000000</td>\n",
       "      <td>0.989802</td>\n",
       "    </tr>\n",
       "    <tr>\n",
       "      <th>Revenue</th>\n",
       "      <td>0.989802</td>\n",
       "      <td>1.000000</td>\n",
       "    </tr>\n",
       "  </tbody>\n",
       "</table>\n",
       "</div>"
      ],
      "text/plain": [
       "             Temperature   Revenue\n",
       "Temperature     1.000000  0.989802\n",
       "Revenue         0.989802  1.000000"
      ]
     },
     "execution_count": 7,
     "metadata": {},
     "output_type": "execute_result"
    }
   ],
   "source": [
    "icecream.corr()"
   ]
  },
  {
   "cell_type": "code",
   "execution_count": 8,
   "id": "b951188b",
   "metadata": {
    "scrolled": true
   },
   "outputs": [
    {
     "data": {
      "text/plain": [
       "<seaborn.axisgrid.PairGrid at 0x149014f31c0>"
      ]
     },
     "execution_count": 8,
     "metadata": {},
     "output_type": "execute_result"
    },
    {
     "data": {
      "image/png": "[encoded data removed]",
      "text/plain": [
       "<Figure size 360x360 with 6 Axes>"
      ]
     },
     "metadata": {
      "needs_background": "light"
     },
     "output_type": "display_data"
    }
   ],
   "source": [
    "import seaborn as sns\n",
    "sns.pairplot(icecream)"
   ]
  },
  {
   "cell_type": "markdown",
   "id": "1576aafa",
   "metadata": {},
   "source": [
    "## Simple Linear Regression"
   ]
  },
  {
   "cell_type": "code",
   "execution_count": 9,
   "id": "e530a177",
   "metadata": {},
   "outputs": [],
   "source": [
    "X = icecream.iloc[:,0].values.reshape(-1,1)    \n",
    "y = icecream.iloc[:,-1].values"
   ]
  },
  {
   "cell_type": "code",
   "execution_count": 10,
   "id": "e67addf4",
   "metadata": {
    "scrolled": true
   },
   "outputs": [
    {
     "data": {
      "text/plain": [
       "array([[24.56688442],\n",
       "       [26.00519115],\n",
       "       [27.79055388],\n",
       "       [20.59533505],\n",
       "       [11.50349764],\n",
       "       [14.35251388],\n",
       "       [13.70777988],\n",
       "       [30.83398474],\n",
       "       [ 0.97686999],\n",
       "       [31.66946458],\n",
       "       [11.45525338],\n",
       "       [ 3.66466958],\n",
       "       [18.81182403],\n",
       "       [13.62450892],\n",
       "       [39.53990899],\n",
       "       [18.48314099],\n",
       "       [25.93537514],\n",
       "       [42.51528041],\n",
       "       [29.58948056],\n",
       "       [21.77594799],\n",
       "       [25.45783637],\n",
       "       [15.21456942],\n",
       "       [22.61931574],\n",
       "       [16.25872074],\n",
       "       [23.88172478],\n",
       "       [18.97830025],\n",
       "       [15.6614643 ],\n",
       "       [29.18504465],\n",
       "       [19.02461092],\n",
       "       [35.12015142],\n",
       "       [24.18393726],\n",
       "       [15.23119012],\n",
       "       [ 8.79095281],\n",
       "       [18.23322784],\n",
       "       [35.62892497],\n",
       "       [37.05754246],\n",
       "       [22.28455032],\n",
       "       [17.51707397],\n",
       "       [31.7379196 ],\n",
       "       [17.04973761],\n",
       "       [23.0034888 ],\n",
       "       [ 8.75555394],\n",
       "       [18.77535808],\n",
       "       [14.10966102],\n",
       "       [18.63391286],\n",
       "       [15.67648661],\n",
       "       [20.94791347],\n",
       "       [30.6353071 ],\n",
       "       [20.47359412],\n",
       "       [31.22898848],\n",
       "       [ 6.39383463],\n",
       "       [27.18581031],\n",
       "       [28.63373276],\n",
       "       [27.99922248],\n",
       "       [10.32638937],\n",
       "       [27.31281141],\n",
       "       [33.23567229],\n",
       "       [36.56911506],\n",
       "       [12.46293731],\n",
       "       [14.37969698],\n",
       "       [16.30255473],\n",
       "       [11.56964367],\n",
       "       [33.55141872],\n",
       "       [ 3.98652317],\n",
       "       [20.51163741],\n",
       "       [ 6.5425144 ],\n",
       "       [19.81753939],\n",
       "       [11.69453767],\n",
       "       [21.4881766 ],\n",
       "       [18.77353222],\n",
       "       [12.68842965],\n",
       "       [27.88711086],\n",
       "       [26.9567197 ],\n",
       "       [27.37540101],\n",
       "       [24.10161613],\n",
       "       [28.7901015 ],\n",
       "       [40.47398918],\n",
       "       [25.54596553],\n",
       "       [28.70127646],\n",
       "       [29.4637861 ],\n",
       "       [16.02097541],\n",
       "       [14.73955066],\n",
       "       [22.17119887],\n",
       "       [29.03573877],\n",
       "       [29.20971484],\n",
       "       [16.36494499],\n",
       "       [27.78049953],\n",
       "       [13.33060576],\n",
       "       [29.3050392 ],\n",
       "       [14.3840835 ],\n",
       "       [30.42779184],\n",
       "       [ 9.07383825],\n",
       "       [23.07061587],\n",
       "       [ 8.58694814],\n",
       "       [12.35208102],\n",
       "       [ 9.01886024],\n",
       "       [20.26501213],\n",
       "       [19.36315346],\n",
       "       [14.6859445 ],\n",
       "       [ 9.95435701],\n",
       "       [19.97746731],\n",
       "       [32.00416835],\n",
       "       [14.28719594],\n",
       "       [17.65850231],\n",
       "       [26.59505405],\n",
       "       [17.26218112],\n",
       "       [23.76143592],\n",
       "       [15.58806128],\n",
       "       [28.43656665],\n",
       "       [27.72739922],\n",
       "       [25.41930193],\n",
       "       [18.4750345 ],\n",
       "       [24.24311263],\n",
       "       [31.66848495],\n",
       "       [17.69003162],\n",
       "       [31.8914678 ],\n",
       "       [25.925171  ],\n",
       "       [29.31201255],\n",
       "       [11.05909651],\n",
       "       [25.49662411],\n",
       "       [22.94031709],\n",
       "       [12.90177331],\n",
       "       [28.26283094],\n",
       "       [30.56266124],\n",
       "       [12.57151377],\n",
       "       [19.05928653],\n",
       "       [15.99234716],\n",
       "       [26.18796989],\n",
       "       [31.41262876],\n",
       "       [32.29733128],\n",
       "       [21.6967827 ],\n",
       "       [20.47502254],\n",
       "       [19.43326763],\n",
       "       [20.12955049],\n",
       "       [ 6.09389721],\n",
       "       [22.84197048],\n",
       "       [24.58590837],\n",
       "       [28.54798741],\n",
       "       [19.77936855],\n",
       "       [12.4508333 ],\n",
       "       [36.70257212],\n",
       "       [19.62265889],\n",
       "       [32.40924246],\n",
       "       [19.26778542],\n",
       "       [19.72807749],\n",
       "       [ 8.63807589],\n",
       "       [29.43057848],\n",
       "       [19.25165371],\n",
       "       [24.61523866],\n",
       "       [12.44265041],\n",
       "       [24.54855656],\n",
       "       [12.20968364],\n",
       "       [12.26588434],\n",
       "       [19.75470829],\n",
       "       [23.34903419],\n",
       "       [21.14404693],\n",
       "       [18.88035599],\n",
       "       [28.2717647 ],\n",
       "       [16.40602096],\n",
       "       [28.99373705],\n",
       "       [10.24505765],\n",
       "       [11.07784312],\n",
       "       [25.49968375],\n",
       "       [27.93134811],\n",
       "       [28.4595428 ],\n",
       "       [13.30179635],\n",
       "       [25.99599345],\n",
       "       [32.80503252],\n",
       "       [32.71638067],\n",
       "       [32.10707989],\n",
       "       [24.77867495],\n",
       "       [15.02911176],\n",
       "       [23.42464718],\n",
       "       [35.21724007],\n",
       "       [16.37957324],\n",
       "       [20.55667911],\n",
       "       [21.32239237],\n",
       "       [26.94363797],\n",
       "       [22.63473505],\n",
       "       [33.25089892],\n",
       "       [ 8.99176011],\n",
       "       [26.87495294],\n",
       "       [21.35802411],\n",
       "       [22.00987431],\n",
       "       [29.12912778],\n",
       "       [16.19129752],\n",
       "       [35.35976059],\n",
       "       [11.18775682],\n",
       "       [16.55584289],\n",
       "       [30.33033167],\n",
       "       [12.90066587],\n",
       "       [19.81463838],\n",
       "       [20.93460766],\n",
       "       [23.59102806],\n",
       "       [16.55794796],\n",
       "       [30.66659556],\n",
       "       [ 9.81251047],\n",
       "       [31.57998903],\n",
       "       [25.42216523],\n",
       "       [25.24114819],\n",
       "       [26.87358624],\n",
       "       [21.42455778],\n",
       "       [23.9638795 ],\n",
       "       [10.4471261 ],\n",
       "       [ 5.82233235],\n",
       "       [16.14582413],\n",
       "       [23.95931178],\n",
       "       [ 9.78238075],\n",
       "       [23.97593152],\n",
       "       [10.09664458],\n",
       "       [22.38760374],\n",
       "       [27.32232277],\n",
       "       [20.24734584],\n",
       "       [23.15300185],\n",
       "       [15.75395072],\n",
       "       [27.57296049],\n",
       "       [18.77682968],\n",
       "       [22.65313582],\n",
       "       [17.99302022],\n",
       "       [13.11245224],\n",
       "       [24.80257679],\n",
       "       [18.60275025],\n",
       "       [25.8659433 ],\n",
       "       [26.25074588],\n",
       "       [13.36431317],\n",
       "       [21.54045905],\n",
       "       [27.12812867],\n",
       "       [26.9441229 ],\n",
       "       [38.14633277],\n",
       "       [ 4.23646497],\n",
       "       [ 9.40347921],\n",
       "       [20.15334527],\n",
       "       [19.72133149],\n",
       "       [19.19495126],\n",
       "       [19.17204498],\n",
       "       [36.11656147],\n",
       "       [23.41086133],\n",
       "       [29.91930886],\n",
       "       [32.00436506],\n",
       "       [29.76822349],\n",
       "       [11.13270573],\n",
       "       [23.38514451],\n",
       "       [27.70505923],\n",
       "       [15.04792332],\n",
       "       [ 6.35245937],\n",
       "       [14.2635406 ],\n",
       "       [25.42294716],\n",
       "       [24.72715441],\n",
       "       [16.30012497],\n",
       "       [18.14895234],\n",
       "       [18.57811922],\n",
       "       [32.33480808],\n",
       "       [ 7.56112494],\n",
       "       [31.47122432],\n",
       "       [28.33536277],\n",
       "       [17.63693676],\n",
       "       [21.70395288],\n",
       "       [18.46290678],\n",
       "       [32.47979434],\n",
       "       [17.36073198],\n",
       "       [21.00704512],\n",
       "       [23.57711325],\n",
       "       [30.76273994],\n",
       "       [22.6785601 ],\n",
       "       [28.85519147],\n",
       "       [ 9.65149525],\n",
       "       [18.50623116],\n",
       "       [ 5.33841267],\n",
       "       [35.4581362 ],\n",
       "       [24.77819856],\n",
       "       [24.62861149],\n",
       "       [28.4917635 ],\n",
       "       [24.94971519],\n",
       "       [25.44824   ],\n",
       "       [22.24873896],\n",
       "       [24.76187643],\n",
       "       [22.44803391],\n",
       "       [35.03345633],\n",
       "       [33.7442087 ],\n",
       "       [22.52674945],\n",
       "       [28.46493296],\n",
       "       [23.49753209],\n",
       "       [26.07840506],\n",
       "       [28.86558895],\n",
       "       [22.14631706],\n",
       "       [26.33705248],\n",
       "       [25.00237968],\n",
       "       [26.4560508 ],\n",
       "       [22.18951589],\n",
       "       [15.52116187],\n",
       "       [17.6568394 ],\n",
       "       [28.72991474],\n",
       "       [27.52923218],\n",
       "       [27.18851714],\n",
       "       [10.40342267],\n",
       "       [17.58837197],\n",
       "       [24.52184673],\n",
       "       [37.99863474],\n",
       "       [16.95477783],\n",
       "       [ 7.74528596],\n",
       "       [ 5.85845428],\n",
       "       [26.85972289],\n",
       "       [24.49347704],\n",
       "       [21.90251935],\n",
       "       [30.02820743],\n",
       "       [21.28191601],\n",
       "       [32.46497067],\n",
       "       [17.09064457],\n",
       "       [33.31499762],\n",
       "       [23.4125478 ],\n",
       "       [18.97799114],\n",
       "       [12.27096675],\n",
       "       [25.19142452],\n",
       "       [27.06860738],\n",
       "       [25.72547019],\n",
       "       [22.31107869],\n",
       "       [25.11606991],\n",
       "       [22.15258869],\n",
       "       [28.29868977],\n",
       "       [21.71200518],\n",
       "       [15.11819661],\n",
       "       [25.37410906],\n",
       "       [18.43998163],\n",
       "       [22.87056201],\n",
       "       [14.36142415],\n",
       "       [ 7.2613484 ],\n",
       "       [25.22777375],\n",
       "       [20.97115284],\n",
       "       [19.77514871],\n",
       "       [41.92444647],\n",
       "       [28.64919191],\n",
       "       [29.24175192],\n",
       "       [15.84302201],\n",
       "       [20.89871624],\n",
       "       [30.45673953],\n",
       "       [24.81875357],\n",
       "       [19.84924077],\n",
       "       [22.11870569],\n",
       "       [34.0616734 ],\n",
       "       [ 9.55727588],\n",
       "       [25.55120003],\n",
       "       [19.06659113],\n",
       "       [23.08766377],\n",
       "       [ 8.03315296],\n",
       "       [29.70702382],\n",
       "       [12.18941793],\n",
       "       [35.09479555],\n",
       "       [24.96044566],\n",
       "       [38.18519935],\n",
       "       [18.98527518],\n",
       "       [18.70847606],\n",
       "       [ 7.22337716],\n",
       "       [12.70471774],\n",
       "       [24.5288527 ],\n",
       "       [39.76412854],\n",
       "       [30.24724825],\n",
       "       [24.47243216],\n",
       "       [20.24414985],\n",
       "       [20.22642046],\n",
       "       [14.89697237],\n",
       "       [28.78743552],\n",
       "       [29.70418303],\n",
       "       [26.36974685],\n",
       "       [ 6.77520631],\n",
       "       [23.24671713],\n",
       "       [24.30829573],\n",
       "       [25.71796257],\n",
       "       [21.68442569],\n",
       "       [26.19166817],\n",
       "       [21.6018917 ],\n",
       "       [18.88371892],\n",
       "       [ 0.2670277 ],\n",
       "       [19.61787546],\n",
       "       [20.10390047],\n",
       "       [23.98464085],\n",
       "       [29.25112258],\n",
       "       [34.86070051],\n",
       "       [11.17715183],\n",
       "       [26.12624136],\n",
       "       [39.8593964 ],\n",
       "       [20.41103121],\n",
       "       [17.87119907],\n",
       "       [18.34681936],\n",
       "       [ 9.90029326],\n",
       "       [25.05628082],\n",
       "       [12.08460133],\n",
       "       [36.99708394],\n",
       "       [14.73182422],\n",
       "       [ 7.10749101],\n",
       "       [38.09660871],\n",
       "       [26.9236056 ],\n",
       "       [12.43313955],\n",
       "       [10.11973687],\n",
       "       [17.57423462],\n",
       "       [12.06247527],\n",
       "       [30.40761507],\n",
       "       [ 7.33544501],\n",
       "       [22.63297707],\n",
       "       [28.04640445],\n",
       "       [33.51453981],\n",
       "       [24.24037247],\n",
       "       [38.62886243],\n",
       "       [ 0.        ],\n",
       "       [24.34910395],\n",
       "       [26.16885914],\n",
       "       [ 5.30750735],\n",
       "       [17.99701481],\n",
       "       [30.96508651],\n",
       "       [29.7185162 ],\n",
       "       [32.64993621],\n",
       "       [21.12912561],\n",
       "       [18.55163953],\n",
       "       [14.55121221],\n",
       "       [41.76658912],\n",
       "       [27.11773949],\n",
       "       [20.01638438],\n",
       "       [20.56301483],\n",
       "       [27.51664567],\n",
       "       [30.22810362],\n",
       "       [21.67989703],\n",
       "       [20.05018591],\n",
       "       [17.29920384],\n",
       "       [17.19943002],\n",
       "       [35.44454622],\n",
       "       [19.11365281],\n",
       "       [18.95252067],\n",
       "       [26.12213765],\n",
       "       [19.98286779],\n",
       "       [27.72143999],\n",
       "       [21.02639814],\n",
       "       [25.3804373 ],\n",
       "       [24.11359659],\n",
       "       [27.5990664 ],\n",
       "       [ 8.75600403],\n",
       "       [27.54196095],\n",
       "       [15.91667782],\n",
       "       [17.18894776],\n",
       "       [28.79315859],\n",
       "       [17.13279538],\n",
       "       [ 8.79430294],\n",
       "       [31.03033279],\n",
       "       [19.20297003],\n",
       "       [27.12941186],\n",
       "       [30.08108934],\n",
       "       [45.        ],\n",
       "       [18.90848865],\n",
       "       [15.10292191],\n",
       "       [21.89743267],\n",
       "       [29.50819457],\n",
       "       [19.2786717 ],\n",
       "       [29.87997288],\n",
       "       [21.61064376],\n",
       "       [24.98851899],\n",
       "       [31.16003022],\n",
       "       [34.67804648],\n",
       "       [20.90057478],\n",
       "       [37.12707034],\n",
       "       [26.36052065],\n",
       "       [35.33120818],\n",
       "       [24.48490862],\n",
       "       [38.66820248],\n",
       "       [28.90019172],\n",
       "       [12.12301401],\n",
       "       [11.5951027 ],\n",
       "       [17.45516162],\n",
       "       [20.89661921],\n",
       "       [40.30376781],\n",
       "       [26.53021877],\n",
       "       [39.5131548 ],\n",
       "       [22.39797728],\n",
       "       [ 9.3093456 ],\n",
       "       [19.49474317],\n",
       "       [22.22512228],\n",
       "       [18.88716165],\n",
       "       [21.75209218],\n",
       "       [18.15921677],\n",
       "       [14.86610347],\n",
       "       [28.82975908],\n",
       "       [25.33342015],\n",
       "       [18.50836039],\n",
       "       [22.48279827],\n",
       "       [30.08518963],\n",
       "       [16.99788893],\n",
       "       [27.28106383],\n",
       "       [ 4.86587362],\n",
       "       [23.40725697],\n",
       "       [12.30161489],\n",
       "       [32.63285815],\n",
       "       [16.70385182],\n",
       "       [26.96421749],\n",
       "       [23.82492237],\n",
       "       [34.47216919],\n",
       "       [23.05621357],\n",
       "       [14.93150577],\n",
       "       [25.11206572],\n",
       "       [22.27489926],\n",
       "       [32.89309211],\n",
       "       [12.58815695],\n",
       "       [22.36240237],\n",
       "       [28.95773632]])"
      ]
     },
     "execution_count": 10,
     "metadata": {},
     "output_type": "execute_result"
    }
   ],
   "source": [
    "X"
   ]
  },
  {
   "cell_type": "code",
   "execution_count": 11,
   "id": "fcca3f03",
   "metadata": {},
   "outputs": [
    {
     "data": {
      "text/plain": [
       "array([ 534.7990284 ,  625.1901215 ,  660.6322888 ,  487.7069603 ,\n",
       "        316.2401944 ,  367.9407438 ,  308.8945179 ,  696.7166402 ,\n",
       "         55.39033824,  737.8008241 ,  325.9684084 ,   71.16015301,\n",
       "        467.4467066 ,  289.5409341 ,  905.4776043 ,  469.9090332 ,\n",
       "        648.2099977 ,  921.508275  ,  649.5611747 ,  534.6228653 ,\n",
       "        612.1539491 ,  353.3256334 ,  524.2361154 ,  374.231135  ,\n",
       "        523.1245467 ,  473.6043349 ,  402.4553204 ,  679.3177906 ,\n",
       "        517.5340283 ,  809.6720534 ,  528.3804165 ,  356.0980075 ,\n",
       "        237.7639106 ,  418.1372788 ,  809.4634112 ,  870.7659159 ,\n",
       "        550.2785159 ,  405.6614459 ,  740.9356848 ,  501.7329901 ,\n",
       "        539.6880057 ,  242.2362083 ,  421.621505  ,  358.0028493 ,\n",
       "        467.631063  ,  396.9356482 ,  500.9250645 ,  651.8615363 ,\n",
       "        451.4507843 ,  697.8339862 ,  190.7109408 ,  621.1897304 ,\n",
       "        666.1368355 ,  628.4532107 ,  219.3039932 ,  623.5988607 ,\n",
       "        749.3671543 ,  827.6848313 ,  303.7343815 ,  351.2888691 ,\n",
       "        381.5641352 ,  321.8482734 ,  774.1080813 ,  131.6570175 ,\n",
       "        498.7570498 ,  195.7357217 ,  496.0112948 ,  284.7727889 ,\n",
       "        483.4897686 ,  430.3439033 ,  276.787086  ,  627.2912952 ,\n",
       "        643.6486011 ,  623.2487008 ,  586.150568  ,  653.9867356 ,\n",
       "        918.3912316 ,  591.1733898 ,  651.1862423 ,  682.7528689 ,\n",
       "        372.9906055 ,  381.8030138 ,  515.4591017 ,  685.3623881 ,\n",
       "        654.7474611 ,  406.5792487 ,  643.9443266 ,  344.6887652 ,\n",
       "        642.2272909 ,  361.1191443 ,  704.2814391 ,  222.8723171 ,\n",
       "        543.5995933 ,  221.2232906 ,  337.1190252 ,  212.5917401 ,\n",
       "        474.7493924 ,  460.4025002 ,  343.3629045 ,  283.8343266 ,\n",
       "        468.9751034 ,  711.1740653 ,  322.592741  ,  401.4330183 ,\n",
       "        627.9018411 ,  415.8176744 ,  553.4452906 ,  362.5152155 ,\n",
       "        643.7883311 ,  651.5043041 ,  603.0371179 ,  427.2113597 ,\n",
       "        565.8749999 ,  733.215828  ,  385.6725008 ,  689.930778  ,\n",
       "        572.0812915 ,  719.4717014 ,  306.7499304 ,  596.2366902 ,\n",
       "        540.798122  ,  341.8593529 ,  655.4339792 ,  702.9017171 ,\n",
       "        319.3494624 ,  450.4732071 ,  382.0739541 ,  674.1506442 ,\n",
       "        731.5982226 ,  751.0545702 ,  496.0119175 ,  417.3548387 ,\n",
       "        448.4713348 ,  477.2950539 ,  158.8498064 ,  516.5486011 ,\n",
       "        599.3649136 ,  656.6365226 ,  507.35681   ,  279.866148  ,\n",
       "        841.1714271 ,  483.3330784 ,  739.3872716 ,  486.4749845 ,\n",
       "        456.524341  ,  241.2785475 ,  618.2357655 ,  446.9466515 ,\n",
       "        603.0913818 ,  274.0656189 ,  531.7424848 ,  297.4991195 ,\n",
       "        319.4029032 ,  493.7103332 ,  586.1387673 ,  497.7523178 ,\n",
       "        476.7945251 ,  625.8046425 ,  390.4033487 ,  675.8289158 ,\n",
       "        273.0733418 ,  280.5184674 ,  583.0844489 ,  648.5546445 ,\n",
       "        726.2337713 ,  335.8156867 ,  570.5778753 ,  685.6546554 ,\n",
       "        775.7228577 ,  773.9247547 ,  540.9775109 ,  366.2477143 ,\n",
       "        539.5277397 ,  809.7777259 ,  376.5544719 ,  477.8417185 ,\n",
       "        520.4703098 ,  654.1974057 ,  518.2161052 ,  782.0125497 ,\n",
       "        250.1317278 ,  634.5847506 ,  488.1708088 ,  520.8534562 ,\n",
       "        652.0054081 ,  383.9562396 ,  796.5176848 ,  293.9263927 ,\n",
       "        414.423028  ,  691.9580059 ,  339.1095829 ,  471.7015569 ,\n",
       "        499.4583433 ,  542.6080704 ,  401.9247923 ,  680.0271205 ,\n",
       "        258.2868099 ,  715.1246952 ,  608.9363452 ,  574.7106486 ,\n",
       "        615.9266502 ,  533.3243245 ,  578.3604354 ,  278.3098441 ,\n",
       "        186.4764868 ,  395.2737497 ,  537.113833  ,  228.9010303 ,\n",
       "        603.2329422 ,  272.8570213 ,  493.1154676 ,  612.8037704 ,\n",
       "        437.2519927 ,  506.4937476 ,  409.4938476 ,  562.7924633 ,\n",
       "        402.3984607 ,  532.05402   ,  413.9140669 ,  332.1501054 ,\n",
       "        563.3012801 ,  472.5493427 ,  596.9842407 ,  596.8891052 ,\n",
       "        268.9291794 ,  528.1162401 ,  627.6508336 ,  618.1720908 ,\n",
       "        850.2469822 ,  118.8121496 ,  278.0627594 ,  449.1128688 ,\n",
       "        448.9304429 ,  463.0656143 ,  474.832244  ,  824.9543567 ,\n",
       "        553.1196514 ,  696.6401775 ,  675.807151  ,  695.8512979 ,\n",
       "        288.1581451 ,  506.4321353 ,  618.4572771 ,  367.0523757 ,\n",
       "        191.6233119 ,  334.4337199 ,  583.7597813 ,  538.1796842 ,\n",
       "        394.1686196 ,  473.5681122 ,  427.1383693 ,  747.9632701 ,\n",
       "        212.4835594 ,  691.5165411 ,  632.901914  ,  448.5499609 ,\n",
       "        521.6728037 ,  437.8287103 ,  706.7246037 ,  405.2503868 ,\n",
       "        503.0842679 ,  570.9909316 ,  706.3649044 ,  543.9850584 ,\n",
       "        641.0253891 ,  274.6789209 ,  420.9664529 ,  145.6253019 ,\n",
       "        828.2960767 ,  594.8048712 ,  603.3053386 ,  651.486741  ,\n",
       "        607.5421478 ,  625.8464212 ,  535.8667293 ,  530.7482251 ,\n",
       "        535.7089203 ,  781.9837945 ,  797.566536  ,  521.2673794 ,\n",
       "        607.8391938 ,  534.3645388 ,  599.2782774 ,  662.5589903 ,\n",
       "        512.5881071 ,  574.4233102 ,  550.7014036 ,  554.7429738 ,\n",
       "        496.4613625 ,  350.6290364 ,  409.4028016 ,  631.3182368 ,\n",
       "        661.4675188 ,  642.3498137 ,  321.7500343 ,  412.0650006 ,\n",
       "        538.31289   ,  857.5266413 ,  425.2655958 ,  198.1215634 ,\n",
       "        170.2377561 ,  599.1163601 ,  558.636932  ,  550.4412717 ,\n",
       "        714.5600563 ,  526.7008607 ,  759.3774317 ,  441.5087331 ,\n",
       "        756.0377021 ,  542.8391063 ,  454.1892673 ,  335.1568558 ,\n",
       "        575.176896  ,  594.6510092 ,  621.9692088 ,  520.3924054 ,\n",
       "        587.2212461 ,  537.7661123 ,  639.5380115 ,  467.4023646 ,\n",
       "        374.9557024 ,  604.6266727 ,  463.4805082 ,  550.055216  ,\n",
       "        315.6465807 ,  223.4350161 ,  563.2509867 ,  489.3152348 ,\n",
       "        458.860905  ,  965.4930396 ,  689.8516908 ,  678.7513876 ,\n",
       "        379.5642675 ,  508.7204715 ,  684.8030705 ,  598.6761971 ,\n",
       "        416.8486183 ,  571.7642733 ,  771.7895369 ,  235.3646433 ,\n",
       "        579.3073878 ,  406.516091  ,  536.2081816 ,  249.8842521 ,\n",
       "        702.9940111 ,  335.770416  ,  807.5412872 ,  564.3105317 ,\n",
       "        856.3033039 ,  482.5719881 ,  436.9513113 ,  216.183462  ,\n",
       "        295.3396989 ,  594.1103517 ,  935.7172907 ,  648.4536093 ,\n",
       "        596.8767502 ,  498.2521461 ,  475.5382094 ,  384.6994155 ,\n",
       "        633.5040087 ,  659.8732869 ,  609.4174787 ,  199.5552938 ,\n",
       "        555.245217  ,  594.3116748 ,  572.5370483 ,  478.5985086 ,\n",
       "        563.3816326 ,  545.9039291 ,  444.8268017 ,   32.54661902,\n",
       "        506.2223794 ,  491.4304998 ,  559.1358692 ,  697.1474728 ,\n",
       "        798.0597179 ,  278.7319615 ,  594.8724701 ,  875.0193476 ,\n",
       "        513.8043817 ,  440.6778286 ,  410.860905  ,  256.772593  ,\n",
       "        583.8552306 ,  278.4182651 ,  851.3430963 ,  322.9839774 ,\n",
       "        221.400252  ,  819.1175879 ,  644.4886327 ,  283.6796571 ,\n",
       "        276.3733742 ,  402.7931738 ,  300.9322734 ,  690.7892959 ,\n",
       "        192.3419961 ,  546.6938576 ,  665.6726764 ,  750.4447328 ,\n",
       "        569.6187562 ,  916.648613  ,   10.        ,  572.6720474 ,\n",
       "        658.6004564 ,  242.5098553 ,  441.0029443 ,  702.6236136 ,\n",
       "        643.0909437 ,  818.135393  ,  493.2266364 ,  443.1136034 ,\n",
       "        323.9446718 ,  969.2916296 ,  658.5937316 ,  477.3151879 ,\n",
       "        425.0120182 ,  649.729072  ,  679.7120584 ,  505.7438672 ,\n",
       "        473.4996311 ,  405.9151588 ,  428.8543561 ,  800.2024937 ,\n",
       "        445.7723999 ,  450.708589  ,  617.1007232 ,  541.2936627 ,\n",
       "        654.8949545 ,  521.7754452 ,  603.3246306 ,  588.5275513 ,\n",
       "        634.1219776 ,  246.7871609 ,  640.1770588 ,  381.0433769 ,\n",
       "        390.8791194 ,  654.1293765 ,  412.082357  ,  264.123914  ,\n",
       "        684.1584437 ,  459.7353497 ,  615.1753845 ,  698.9718063 ,\n",
       "       1000.        ,  449.8133003 ,  322.888783  ,  493.4202188 ,\n",
       "        629.8937918 ,  452.6263171 ,  683.5447809 ,  537.6648006 ,\n",
       "        608.6299921 ,  746.9463889 ,  756.9625616 ,  491.2306027 ,\n",
       "        892.9477198 ,  646.2669458 ,  804.2600255 ,  526.5470649 ,\n",
       "        891.4136462 ,  636.298374  ,  297.0254137 ,  257.078777  ,\n",
       "        391.7152986 ,  494.6274373 ,  926.0671533 ,  612.2437215 ,\n",
       "        898.805423  ,  489.5690899 ,  291.7230401 ,  429.4357021 ,\n",
       "        500.0657787 ,  475.2133537 ,  530.356713  ,  453.7856066 ,\n",
       "        296.9065323 ,  682.8085663 ,  581.2620157 ,  432.8197952 ,\n",
       "        507.900282  ,  691.8554843 ,  448.3259814 ,  612.2419632 ,\n",
       "        188.1513313 ,  501.34533   ,  333.3342585 ,  793.079011  ,\n",
       "        379.318226  ,  581.0740052 ,  584.399945  ,  809.3525195 ,\n",
       "        552.8193512 ,  377.4309279 ,  571.4342569 ,  524.7463643 ,\n",
       "        755.8183987 ,  306.0907189 ,  566.2173038 ,  655.6603879 ])"
      ]
     },
     "execution_count": 11,
     "metadata": {},
     "output_type": "execute_result"
    }
   ],
   "source": [
    "y"
   ]
  },
  {
   "cell_type": "code",
   "execution_count": 12,
   "id": "45d51fa0",
   "metadata": {},
   "outputs": [],
   "source": [
    "# split the dataset into test set and train set\n",
    "from sklearn.model_selection import train_test_split\n",
    "X_train, X_test, y_train, y_test =train_test_split(X,y, test_size=0.30, random_state=0)"
   ]
  },
  {
   "cell_type": "code",
   "execution_count": 13,
   "id": "1c16088b",
   "metadata": {},
   "outputs": [
    {
     "data": {
      "text/plain": [
       "LinearRegression()"
      ]
     },
     "execution_count": 13,
     "metadata": {},
     "output_type": "execute_result"
    }
   ],
   "source": [
    "# import the Linear Regression model from scikit learn\n",
    "from sklearn.linear_model import LinearRegression\n",
    "#initialize the simple linear regression model\n",
    "slr =LinearRegression()\n",
    "slr\n"
   ]
  },
  {
   "cell_type": "code",
   "execution_count": 14,
   "id": "9288e170",
   "metadata": {},
   "outputs": [
    {
     "data": {
      "text/plain": [
       "LinearRegression()"
      ]
     },
     "execution_count": 14,
     "metadata": {},
     "output_type": "execute_result"
    }
   ],
   "source": [
    "# Fit model\n",
    "slr.fit(X_train,y_train)"
   ]
  },
  {
   "cell_type": "code",
   "execution_count": 15,
   "id": "ac20d4e7",
   "metadata": {},
   "outputs": [
    {
     "data": {
      "text/plain": [
       "array([697.40760182, 652.67518783, 664.01048102, 451.14537645,\n",
       "       664.75022673, 442.05219958, 583.85242913, 623.3625391 ,\n",
       "       666.7500596 , 469.23604811, 546.84832099, 444.08266531,\n",
       "       622.49432909, 378.73035124, 368.21119457, 943.18564123,\n",
       "       891.63651167, 693.5479008 , 546.07634654, 421.39940399,\n",
       "       392.08451996, 596.71982427, 284.91295994, 654.83874688,\n",
       "       382.05091808, 413.18421083, 372.17594967, 510.48997583,\n",
       "       480.14543708, 457.26943784, 639.55061011, 283.33932566,\n",
       "       315.67211819, 470.5172469 , 559.66448707, 539.8163622 ,\n",
       "       309.24695716, 508.91264932, 571.29876902, 731.11193473,\n",
       "       441.12952919, 494.7446538 , 567.45606027, 444.60923294,\n",
       "       912.17744272, 602.86026073, 541.88552358, 202.15022192,\n",
       "       693.13862264, 352.35035317, 191.75736834, 576.63952464,\n",
       "       218.6500316 , 468.66672894, 462.36421819, 449.07885871,\n",
       "       495.24147022, 799.7974912 , 332.62076008, 540.48871157,\n",
       "       660.49777207, 526.81456218, 361.85571542, 452.08670277,\n",
       "       621.1286303 , 256.68953207, 291.80845533, 525.74444041,\n",
       "       656.01875741, 662.39669353, 739.76749383, 186.78282881,\n",
       "       593.1547376 , 150.93922946, 486.38075865, 610.65381356,\n",
       "       663.78820138, 473.99823998, 783.86920023, 422.92362849,\n",
       "       172.15883942, 819.02338409, 435.12727557, 327.2364211 ,\n",
       "       659.38429697, 586.24045866, 416.7417279 , 651.31557414,\n",
       "       863.24718473, 267.67534948, 577.15050349,  46.91550105,\n",
       "       899.03854159, 621.42500408, 757.7606128 , 466.31080544,\n",
       "       757.43509452, 710.28885625, 395.43514158, 559.47829707,\n",
       "       380.16054171, 471.25698449, 643.09235881, 511.9365651 ,\n",
       "       339.96346779, 357.99455171, 723.93141504, 547.39810089,\n",
       "       212.49594675, 498.93763853, 580.29606093, 706.09128397,\n",
       "       657.22072467,  67.79924492, 294.79818519, 636.93448028,\n",
       "       672.2525047 , 520.36439226, 525.52267256, 400.84999219,\n",
       "       589.50413398, 714.53576177, 177.19219071, 566.58365307,\n",
       "       939.8109317 , 683.30720295, 354.32786098, 431.659686  ,\n",
       "       312.71392334, 443.51657661, 547.32104608, 137.48359138,\n",
       "       859.25876501, 630.81485745, 628.1576669 , 556.24998988,\n",
       "       802.2339268 , 610.4565738 , 713.06155675, 802.84432657,\n",
       "       400.89499485, 659.05380783, 562.16521062, 381.72976779,\n",
       "       404.01416001, 292.83983185, 651.89118428, 672.05217665,\n",
       "       351.84464405, 353.74673462])"
      ]
     },
     "execution_count": 15,
     "metadata": {},
     "output_type": "execute_result"
    }
   ],
   "source": [
    "# Predicted the result\n",
    "y_pred= slr.predict(X_test)\n",
    "y_pred"
   ]
  },
  {
   "cell_type": "code",
   "execution_count": 16,
   "id": "97109173",
   "metadata": {},
   "outputs": [
    {
     "data": {
      "image/png": "[encoded data removed]",
      "text/plain": [
       "<Figure size 432x288 with 1 Axes>"
      ]
     },
     "metadata": {
      "needs_background": "light"
     },
     "output_type": "display_data"
    }
   ],
   "source": [
    "# Visualizing the Result (Training_Set)\n",
    "plt.scatter(X_train,y_train, color= 'blue')\n",
    "plt.plot(X_train, slr.predict(X_train), color= 'red' )\n",
    "plt.title('Temperature vs Revenue (Train)')\n",
    "plt.xlabel('Temperature [degC]')\n",
    "plt.ylabel('Revenue [dollars]')\n",
    "plt.show()"
   ]
  },
  {
   "cell_type": "code",
   "execution_count": 17,
   "id": "e720fe0b",
   "metadata": {},
   "outputs": [
    {
     "data": {
      "text/plain": [
       "<function matplotlib.pyplot.show(close=None, block=None)>"
      ]
     },
     "execution_count": 17,
     "metadata": {},
     "output_type": "execute_result"
    },
    {
     "data": {
      "image/png": "[encoded data removed]",
      "text/plain": [
       "<Figure size 432x288 with 1 Axes>"
      ]
     },
     "metadata": {
      "needs_background": "light"
     },
     "output_type": "display_data"
    }
   ],
   "source": [
    "# Visualizing the Result (Test Set)\n",
    "plt.scatter(X_test,y_test, color='orange')\n",
    "plt.plot(X_train, slr.predict(X_train), color='red')\n",
    "plt.title('Temperature vs Revenue (Test)')\n",
    "plt.xlabel('Temperature [degC]')\n",
    "plt.ylabel('Revenue [dollars]')\n",
    "plt.show"
   ]
  },
  {
   "cell_type": "code",
   "execution_count": 18,
   "id": "bfc2a515",
   "metadata": {},
   "outputs": [
    {
     "name": "stdout",
     "output_type": "stream",
     "text": [
      "46.915501046762756\n",
      "[21.37822239]\n"
     ]
    }
   ],
   "source": [
    "#To retrieve the intercept:\n",
    "print(slr.intercept_)\n",
    "\n",
    "#For retrieving the slope:\n",
    "print(slr.coef_)\n"
   ]
  },
  {
   "cell_type": "code",
   "execution_count": 19,
   "id": "27623e44",
   "metadata": {},
   "outputs": [
    {
     "data": {
      "text/plain": [
       "<function matplotlib.pyplot.show(close=None, block=None)>"
      ]
     },
     "execution_count": 19,
     "metadata": {},
     "output_type": "execute_result"
    },
    {
     "data": {
      "image/png": "[encoded data removed]",
      "text/plain": [
       "<Figure size 432x288 with 1 Axes>"
      ]
     },
     "metadata": {
      "needs_background": "light"
     },
     "output_type": "display_data"
    }
   ],
   "source": [
    "# y = mx + c linear regression model\n",
    "line = slr.intercept_ + slr.coef_ * X\n",
    "\n",
    "#Scatter plot for actual data\n",
    "plt.scatter(X,y)\n",
    "plt.plot(X,line, color=\"red\")\n",
    "plt.title('Temperature vs Revenue (Actual)')\n",
    "plt.xlabel('Temperature [degC]')\n",
    "plt.ylabel('Revenue [dollars]')\n",
    "plt.show"
   ]
  },
  {
   "cell_type": "code",
   "execution_count": 20,
   "id": "09f32f5a",
   "metadata": {},
   "outputs": [
    {
     "name": "stdout",
     "output_type": "stream",
     "text": [
      "Mean Absolute Error: 17.976807512195343\n",
      "Mean Squared Error: 503.3547092334282\n",
      "Root Mean Squared Error: 22.43556794987433\n",
      "R2 Score: 0.9854012979456143\n"
     ]
    }
   ],
   "source": [
    "# Evaluation\n",
    "from sklearn import metrics # best result 0\n",
    "from sklearn.metrics import r2_score\n",
    "print('Mean Absolute Error:', metrics.mean_absolute_error(y_test, y_pred))  \n",
    "print('Mean Squared Error:', metrics.mean_squared_error(y_test, y_pred))     \n",
    "print('Root Mean Squared Error:', np.sqrt(metrics.mean_squared_error(y_test, y_pred)))\n",
    "print('R2 Score:', r2_score(y_test, y_pred))"
   ]
  }
 ],
 "metadata": {
  "hide_input": false,
  "kernelspec": {
   "display_name": "Python 3 (ipykernel)",
   "language": "python",
   "name": "python3"
  },
  "language_info": {
   "codemirror_mode": {
    "name": "ipython",
    "version": 3
   },
   "file_extension": ".py",
   "mimetype": "text/x-python",
   "name": "python",
   "nbconvert_exporter": "python",
   "pygments_lexer": "ipython3",
   "version": "3.9.12"
  },
  "toc": {
   "base_numbering": 1,
   "nav_menu": {},
   "number_sections": true,
   "sideBar": true,
   "skip_h1_title": false,
   "title_cell": "Table of Contents",
   "title_sidebar": "Contents",
   "toc_cell": false,
   "toc_position": {},
   "toc_section_display": true,
   "toc_window_display": false
  },
  "varInspector": {
   "cols": {
    "lenName": 16,
    "lenType": 16,
    "lenVar": 40
   },
   "kernels_config": {
    "python": {
     "delete_cmd_postfix": "",
     "delete_cmd_prefix": "del ",
     "library": "var_list.py",
     "varRefreshCmd": "print(var_dic_list())"
    },
    "r": {
     "delete_cmd_postfix": ") ",
     "delete_cmd_prefix": "rm(",
     "library": "var_list.r",
     "varRefreshCmd": "cat(var_dic_list()) "
    }
   },
   "types_to_exclude": [
    "module",
    "function",
    "builtin_function_or_method",
    "instance",
    "_Feature"
   ],
   "window_display": false
  }
 },
 "nbformat": 4,
 "nbformat_minor": 5
}
