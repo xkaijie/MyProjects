{
 "cells": [
  {
   "cell_type": "code",
   "execution_count": 1,
   "id": "e71b23ae",
   "metadata": {},
   "outputs": [],
   "source": [
    "# Import libraries\n",
    "import pandas as pd\n",
    "import numpy as np\n",
    "import matplotlib.pyplot as plt\n",
    "\n",
    "import warnings\n",
    "warnings.filterwarnings(\"ignore\")"
   ]
  },
  {
   "cell_type": "markdown",
   "id": "f2a7e694",
   "metadata": {},
   "source": [
    "## Data understanding"
   ]
  },
  {
   "cell_type": "code",
   "execution_count": 2,
   "id": "c906264c",
   "metadata": {},
   "outputs": [],
   "source": [
    "# Read data\n",
    "gender = pd.read_csv('gender_classification_v7.csv')"
   ]
  },
  {
   "cell_type": "code",
   "execution_count": 3,
   "id": "20650041",
   "metadata": {
    "scrolled": true
   },
   "outputs": [
    {
     "data": {
      "text/html": [
       "<div>\n",
       "<style scoped>\n",
       "    .dataframe tbody tr th:only-of-type {\n",
       "        vertical-align: middle;\n",
       "    }\n",
       "\n",
       "    .dataframe tbody tr th {\n",
       "        vertical-align: top;\n",
       "    }\n",
       "\n",
       "    .dataframe thead th {\n",
       "        text-align: right;\n",
       "    }\n",
       "</style>\n",
       "<table border=\"1\" class=\"dataframe\">\n",
       "  <thead>\n",
       "    <tr style=\"text-align: right;\">\n",
       "      <th></th>\n",
       "      <th>long_hair</th>\n",
       "      <th>forehead_width_cm</th>\n",
       "      <th>forehead_height_cm</th>\n",
       "      <th>nose_wide</th>\n",
       "      <th>nose_long</th>\n",
       "      <th>lips_thin</th>\n",
       "      <th>distance_nose_to_lip_long</th>\n",
       "      <th>gender</th>\n",
       "    </tr>\n",
       "  </thead>\n",
       "  <tbody>\n",
       "    <tr>\n",
       "      <th>0</th>\n",
       "      <td>1</td>\n",
       "      <td>11.8</td>\n",
       "      <td>6.1</td>\n",
       "      <td>1</td>\n",
       "      <td>0</td>\n",
       "      <td>1</td>\n",
       "      <td>1</td>\n",
       "      <td>Male</td>\n",
       "    </tr>\n",
       "    <tr>\n",
       "      <th>1</th>\n",
       "      <td>0</td>\n",
       "      <td>14.0</td>\n",
       "      <td>5.4</td>\n",
       "      <td>0</td>\n",
       "      <td>0</td>\n",
       "      <td>1</td>\n",
       "      <td>0</td>\n",
       "      <td>Female</td>\n",
       "    </tr>\n",
       "    <tr>\n",
       "      <th>2</th>\n",
       "      <td>0</td>\n",
       "      <td>11.8</td>\n",
       "      <td>6.3</td>\n",
       "      <td>1</td>\n",
       "      <td>1</td>\n",
       "      <td>1</td>\n",
       "      <td>1</td>\n",
       "      <td>Male</td>\n",
       "    </tr>\n",
       "    <tr>\n",
       "      <th>3</th>\n",
       "      <td>0</td>\n",
       "      <td>14.4</td>\n",
       "      <td>6.1</td>\n",
       "      <td>0</td>\n",
       "      <td>1</td>\n",
       "      <td>1</td>\n",
       "      <td>1</td>\n",
       "      <td>Male</td>\n",
       "    </tr>\n",
       "    <tr>\n",
       "      <th>4</th>\n",
       "      <td>1</td>\n",
       "      <td>13.5</td>\n",
       "      <td>5.9</td>\n",
       "      <td>0</td>\n",
       "      <td>0</td>\n",
       "      <td>0</td>\n",
       "      <td>0</td>\n",
       "      <td>Female</td>\n",
       "    </tr>\n",
       "  </tbody>\n",
       "</table>\n",
       "</div>"
      ],
      "text/plain": [
       "   long_hair  forehead_width_cm  forehead_height_cm  nose_wide  nose_long  \\\n",
       "0          1               11.8                 6.1          1          0   \n",
       "1          0               14.0                 5.4          0          0   \n",
       "2          0               11.8                 6.3          1          1   \n",
       "3          0               14.4                 6.1          0          1   \n",
       "4          1               13.5                 5.9          0          0   \n",
       "\n",
       "   lips_thin  distance_nose_to_lip_long  gender  \n",
       "0          1                          1    Male  \n",
       "1          1                          0  Female  \n",
       "2          1                          1    Male  \n",
       "3          1                          1    Male  \n",
       "4          0                          0  Female  "
      ]
     },
     "execution_count": 3,
     "metadata": {},
     "output_type": "execute_result"
    }
   ],
   "source": [
    "# First 5 rows\n",
    "gender.head()"
   ]
  },
  {
   "cell_type": "code",
   "execution_count": 4,
   "id": "ad6ddefe",
   "metadata": {
    "scrolled": true
   },
   "outputs": [
    {
     "name": "stdout",
     "output_type": "stream",
     "text": [
      "<class 'pandas.core.frame.DataFrame'>\n",
      "RangeIndex: 5001 entries, 0 to 5000\n",
      "Data columns (total 8 columns):\n",
      " #   Column                     Non-Null Count  Dtype  \n",
      "---  ------                     --------------  -----  \n",
      " 0   long_hair                  5001 non-null   int64  \n",
      " 1   forehead_width_cm          5001 non-null   float64\n",
      " 2   forehead_height_cm         5001 non-null   float64\n",
      " 3   nose_wide                  5001 non-null   int64  \n",
      " 4   nose_long                  5001 non-null   int64  \n",
      " 5   lips_thin                  5001 non-null   int64  \n",
      " 6   distance_nose_to_lip_long  5001 non-null   int64  \n",
      " 7   gender                     5001 non-null   object \n",
      "dtypes: float64(2), int64(5), object(1)\n",
      "memory usage: 312.7+ KB\n"
     ]
    }
   ],
   "source": [
    "gender.info()"
   ]
  },
  {
   "cell_type": "code",
   "execution_count": 5,
   "id": "3fdbcb84",
   "metadata": {},
   "outputs": [
    {
     "data": {
      "text/plain": [
       "(5001, 8)"
      ]
     },
     "execution_count": 5,
     "metadata": {},
     "output_type": "execute_result"
    }
   ],
   "source": [
    "gender.shape"
   ]
  },
  {
   "cell_type": "markdown",
   "id": "38940053",
   "metadata": {},
   "source": [
    "## Data Preprocessing"
   ]
  },
  {
   "cell_type": "code",
   "execution_count": 6,
   "id": "308288aa",
   "metadata": {
    "scrolled": false
   },
   "outputs": [
    {
     "data": {
      "text/html": [
       "<div>\n",
       "<style scoped>\n",
       "    .dataframe tbody tr th:only-of-type {\n",
       "        vertical-align: middle;\n",
       "    }\n",
       "\n",
       "    .dataframe tbody tr th {\n",
       "        vertical-align: top;\n",
       "    }\n",
       "\n",
       "    .dataframe thead th {\n",
       "        text-align: right;\n",
       "    }\n",
       "</style>\n",
       "<table border=\"1\" class=\"dataframe\">\n",
       "  <thead>\n",
       "    <tr style=\"text-align: right;\">\n",
       "      <th></th>\n",
       "      <th>long_hair</th>\n",
       "      <th>forehead_width_cm</th>\n",
       "      <th>forehead_height_cm</th>\n",
       "      <th>nose_wide</th>\n",
       "      <th>nose_long</th>\n",
       "      <th>lips_thin</th>\n",
       "      <th>distance_nose_to_lip_long</th>\n",
       "      <th>gender</th>\n",
       "    </tr>\n",
       "  </thead>\n",
       "  <tbody>\n",
       "    <tr>\n",
       "      <th>59</th>\n",
       "      <td>1</td>\n",
       "      <td>14.1</td>\n",
       "      <td>5.9</td>\n",
       "      <td>0</td>\n",
       "      <td>0</td>\n",
       "      <td>0</td>\n",
       "      <td>0</td>\n",
       "      <td>Female</td>\n",
       "    </tr>\n",
       "    <tr>\n",
       "      <th>66</th>\n",
       "      <td>1</td>\n",
       "      <td>14.2</td>\n",
       "      <td>6.2</td>\n",
       "      <td>0</td>\n",
       "      <td>0</td>\n",
       "      <td>0</td>\n",
       "      <td>0</td>\n",
       "      <td>Female</td>\n",
       "    </tr>\n",
       "    <tr>\n",
       "      <th>175</th>\n",
       "      <td>1</td>\n",
       "      <td>12.7</td>\n",
       "      <td>5.7</td>\n",
       "      <td>1</td>\n",
       "      <td>1</td>\n",
       "      <td>1</td>\n",
       "      <td>1</td>\n",
       "      <td>Male</td>\n",
       "    </tr>\n",
       "    <tr>\n",
       "      <th>230</th>\n",
       "      <td>1</td>\n",
       "      <td>12.9</td>\n",
       "      <td>5.1</td>\n",
       "      <td>0</td>\n",
       "      <td>0</td>\n",
       "      <td>0</td>\n",
       "      <td>0</td>\n",
       "      <td>Female</td>\n",
       "    </tr>\n",
       "    <tr>\n",
       "      <th>261</th>\n",
       "      <td>1</td>\n",
       "      <td>13.0</td>\n",
       "      <td>6.2</td>\n",
       "      <td>1</td>\n",
       "      <td>1</td>\n",
       "      <td>1</td>\n",
       "      <td>1</td>\n",
       "      <td>Male</td>\n",
       "    </tr>\n",
       "    <tr>\n",
       "      <th>...</th>\n",
       "      <td>...</td>\n",
       "      <td>...</td>\n",
       "      <td>...</td>\n",
       "      <td>...</td>\n",
       "      <td>...</td>\n",
       "      <td>...</td>\n",
       "      <td>...</td>\n",
       "      <td>...</td>\n",
       "    </tr>\n",
       "    <tr>\n",
       "      <th>4996</th>\n",
       "      <td>1</td>\n",
       "      <td>13.6</td>\n",
       "      <td>5.1</td>\n",
       "      <td>0</td>\n",
       "      <td>0</td>\n",
       "      <td>0</td>\n",
       "      <td>0</td>\n",
       "      <td>Female</td>\n",
       "    </tr>\n",
       "    <tr>\n",
       "      <th>4997</th>\n",
       "      <td>1</td>\n",
       "      <td>11.9</td>\n",
       "      <td>5.4</td>\n",
       "      <td>0</td>\n",
       "      <td>0</td>\n",
       "      <td>0</td>\n",
       "      <td>0</td>\n",
       "      <td>Female</td>\n",
       "    </tr>\n",
       "    <tr>\n",
       "      <th>4998</th>\n",
       "      <td>1</td>\n",
       "      <td>12.9</td>\n",
       "      <td>5.7</td>\n",
       "      <td>0</td>\n",
       "      <td>0</td>\n",
       "      <td>0</td>\n",
       "      <td>0</td>\n",
       "      <td>Female</td>\n",
       "    </tr>\n",
       "    <tr>\n",
       "      <th>4999</th>\n",
       "      <td>1</td>\n",
       "      <td>13.2</td>\n",
       "      <td>6.2</td>\n",
       "      <td>0</td>\n",
       "      <td>0</td>\n",
       "      <td>0</td>\n",
       "      <td>0</td>\n",
       "      <td>Female</td>\n",
       "    </tr>\n",
       "    <tr>\n",
       "      <th>5000</th>\n",
       "      <td>1</td>\n",
       "      <td>15.4</td>\n",
       "      <td>5.4</td>\n",
       "      <td>1</td>\n",
       "      <td>1</td>\n",
       "      <td>1</td>\n",
       "      <td>1</td>\n",
       "      <td>Male</td>\n",
       "    </tr>\n",
       "  </tbody>\n",
       "</table>\n",
       "<p>1768 rows × 8 columns</p>\n",
       "</div>"
      ],
      "text/plain": [
       "      long_hair  forehead_width_cm  forehead_height_cm  nose_wide  nose_long  \\\n",
       "59            1               14.1                 5.9          0          0   \n",
       "66            1               14.2                 6.2          0          0   \n",
       "175           1               12.7                 5.7          1          1   \n",
       "230           1               12.9                 5.1          0          0   \n",
       "261           1               13.0                 6.2          1          1   \n",
       "...         ...                ...                 ...        ...        ...   \n",
       "4996          1               13.6                 5.1          0          0   \n",
       "4997          1               11.9                 5.4          0          0   \n",
       "4998          1               12.9                 5.7          0          0   \n",
       "4999          1               13.2                 6.2          0          0   \n",
       "5000          1               15.4                 5.4          1          1   \n",
       "\n",
       "      lips_thin  distance_nose_to_lip_long  gender  \n",
       "59            0                          0  Female  \n",
       "66            0                          0  Female  \n",
       "175           1                          1    Male  \n",
       "230           0                          0  Female  \n",
       "261           1                          1    Male  \n",
       "...         ...                        ...     ...  \n",
       "4996          0                          0  Female  \n",
       "4997          0                          0  Female  \n",
       "4998          0                          0  Female  \n",
       "4999          0                          0  Female  \n",
       "5000          1                          1    Male  \n",
       "\n",
       "[1768 rows x 8 columns]"
      ]
     },
     "execution_count": 6,
     "metadata": {},
     "output_type": "execute_result"
    }
   ],
   "source": [
    "#check if got any duplicated\n",
    "gender.loc[gender.duplicated(),:]"
   ]
  },
  {
   "cell_type": "code",
   "execution_count": 7,
   "id": "e5319c47",
   "metadata": {},
   "outputs": [
    {
     "data": {
      "text/html": [
       "<div>\n",
       "<style scoped>\n",
       "    .dataframe tbody tr th:only-of-type {\n",
       "        vertical-align: middle;\n",
       "    }\n",
       "\n",
       "    .dataframe tbody tr th {\n",
       "        vertical-align: top;\n",
       "    }\n",
       "\n",
       "    .dataframe thead th {\n",
       "        text-align: right;\n",
       "    }\n",
       "</style>\n",
       "<table border=\"1\" class=\"dataframe\">\n",
       "  <thead>\n",
       "    <tr style=\"text-align: right;\">\n",
       "      <th></th>\n",
       "      <th>long_hair</th>\n",
       "      <th>forehead_width_cm</th>\n",
       "      <th>forehead_height_cm</th>\n",
       "      <th>nose_wide</th>\n",
       "      <th>nose_long</th>\n",
       "      <th>lips_thin</th>\n",
       "      <th>distance_nose_to_lip_long</th>\n",
       "      <th>gender</th>\n",
       "    </tr>\n",
       "  </thead>\n",
       "  <tbody>\n",
       "    <tr>\n",
       "      <th>0</th>\n",
       "      <td>1</td>\n",
       "      <td>11.8</td>\n",
       "      <td>6.1</td>\n",
       "      <td>1</td>\n",
       "      <td>0</td>\n",
       "      <td>1</td>\n",
       "      <td>1</td>\n",
       "      <td>Male</td>\n",
       "    </tr>\n",
       "    <tr>\n",
       "      <th>1</th>\n",
       "      <td>0</td>\n",
       "      <td>14.0</td>\n",
       "      <td>5.4</td>\n",
       "      <td>0</td>\n",
       "      <td>0</td>\n",
       "      <td>1</td>\n",
       "      <td>0</td>\n",
       "      <td>Female</td>\n",
       "    </tr>\n",
       "    <tr>\n",
       "      <th>2</th>\n",
       "      <td>0</td>\n",
       "      <td>11.8</td>\n",
       "      <td>6.3</td>\n",
       "      <td>1</td>\n",
       "      <td>1</td>\n",
       "      <td>1</td>\n",
       "      <td>1</td>\n",
       "      <td>Male</td>\n",
       "    </tr>\n",
       "    <tr>\n",
       "      <th>3</th>\n",
       "      <td>0</td>\n",
       "      <td>14.4</td>\n",
       "      <td>6.1</td>\n",
       "      <td>0</td>\n",
       "      <td>1</td>\n",
       "      <td>1</td>\n",
       "      <td>1</td>\n",
       "      <td>Male</td>\n",
       "    </tr>\n",
       "    <tr>\n",
       "      <th>4</th>\n",
       "      <td>1</td>\n",
       "      <td>13.5</td>\n",
       "      <td>5.9</td>\n",
       "      <td>0</td>\n",
       "      <td>0</td>\n",
       "      <td>0</td>\n",
       "      <td>0</td>\n",
       "      <td>Female</td>\n",
       "    </tr>\n",
       "    <tr>\n",
       "      <th>...</th>\n",
       "      <td>...</td>\n",
       "      <td>...</td>\n",
       "      <td>...</td>\n",
       "      <td>...</td>\n",
       "      <td>...</td>\n",
       "      <td>...</td>\n",
       "      <td>...</td>\n",
       "      <td>...</td>\n",
       "    </tr>\n",
       "    <tr>\n",
       "      <th>4986</th>\n",
       "      <td>1</td>\n",
       "      <td>11.7</td>\n",
       "      <td>6.1</td>\n",
       "      <td>1</td>\n",
       "      <td>1</td>\n",
       "      <td>0</td>\n",
       "      <td>1</td>\n",
       "      <td>Male</td>\n",
       "    </tr>\n",
       "    <tr>\n",
       "      <th>4990</th>\n",
       "      <td>1</td>\n",
       "      <td>12.6</td>\n",
       "      <td>5.7</td>\n",
       "      <td>0</td>\n",
       "      <td>0</td>\n",
       "      <td>1</td>\n",
       "      <td>0</td>\n",
       "      <td>Female</td>\n",
       "    </tr>\n",
       "    <tr>\n",
       "      <th>4992</th>\n",
       "      <td>1</td>\n",
       "      <td>14.1</td>\n",
       "      <td>7.0</td>\n",
       "      <td>1</td>\n",
       "      <td>1</td>\n",
       "      <td>1</td>\n",
       "      <td>1</td>\n",
       "      <td>Male</td>\n",
       "    </tr>\n",
       "    <tr>\n",
       "      <th>4993</th>\n",
       "      <td>1</td>\n",
       "      <td>11.6</td>\n",
       "      <td>5.9</td>\n",
       "      <td>0</td>\n",
       "      <td>0</td>\n",
       "      <td>0</td>\n",
       "      <td>1</td>\n",
       "      <td>Female</td>\n",
       "    </tr>\n",
       "    <tr>\n",
       "      <th>4995</th>\n",
       "      <td>1</td>\n",
       "      <td>12.3</td>\n",
       "      <td>6.9</td>\n",
       "      <td>0</td>\n",
       "      <td>1</td>\n",
       "      <td>1</td>\n",
       "      <td>1</td>\n",
       "      <td>Male</td>\n",
       "    </tr>\n",
       "  </tbody>\n",
       "</table>\n",
       "<p>3233 rows × 8 columns</p>\n",
       "</div>"
      ],
      "text/plain": [
       "      long_hair  forehead_width_cm  forehead_height_cm  nose_wide  nose_long  \\\n",
       "0             1               11.8                 6.1          1          0   \n",
       "1             0               14.0                 5.4          0          0   \n",
       "2             0               11.8                 6.3          1          1   \n",
       "3             0               14.4                 6.1          0          1   \n",
       "4             1               13.5                 5.9          0          0   \n",
       "...         ...                ...                 ...        ...        ...   \n",
       "4986          1               11.7                 6.1          1          1   \n",
       "4990          1               12.6                 5.7          0          0   \n",
       "4992          1               14.1                 7.0          1          1   \n",
       "4993          1               11.6                 5.9          0          0   \n",
       "4995          1               12.3                 6.9          0          1   \n",
       "\n",
       "      lips_thin  distance_nose_to_lip_long  gender  \n",
       "0             1                          1    Male  \n",
       "1             1                          0  Female  \n",
       "2             1                          1    Male  \n",
       "3             1                          1    Male  \n",
       "4             0                          0  Female  \n",
       "...         ...                        ...     ...  \n",
       "4986          0                          1    Male  \n",
       "4990          1                          0  Female  \n",
       "4992          1                          1    Male  \n",
       "4993          0                          1  Female  \n",
       "4995          1                          1    Male  \n",
       "\n",
       "[3233 rows x 8 columns]"
      ]
     },
     "execution_count": 7,
     "metadata": {},
     "output_type": "execute_result"
    }
   ],
   "source": [
    "gender.drop_duplicates(inplace=True)\n",
    "gender"
   ]
  },
  {
   "cell_type": "code",
   "execution_count": 8,
   "id": "689e93b8",
   "metadata": {},
   "outputs": [
    {
     "data": {
      "text/plain": [
       "long_hair                    0\n",
       "forehead_width_cm            0\n",
       "forehead_height_cm           0\n",
       "nose_wide                    0\n",
       "nose_long                    0\n",
       "lips_thin                    0\n",
       "distance_nose_to_lip_long    0\n",
       "gender                       0\n",
       "dtype: int64"
      ]
     },
     "execution_count": 8,
     "metadata": {},
     "output_type": "execute_result"
    }
   ],
   "source": [
    "# Check if any missing values\n",
    "gender.isna().sum()"
   ]
  },
  {
   "cell_type": "code",
   "execution_count": 9,
   "id": "c69a51a7",
   "metadata": {
    "scrolled": true
   },
   "outputs": [
    {
     "data": {
      "text/html": [
       "<div>\n",
       "<style scoped>\n",
       "    .dataframe tbody tr th:only-of-type {\n",
       "        vertical-align: middle;\n",
       "    }\n",
       "\n",
       "    .dataframe tbody tr th {\n",
       "        vertical-align: top;\n",
       "    }\n",
       "\n",
       "    .dataframe thead th {\n",
       "        text-align: right;\n",
       "    }\n",
       "</style>\n",
       "<table border=\"1\" class=\"dataframe\">\n",
       "  <thead>\n",
       "    <tr style=\"text-align: right;\">\n",
       "      <th></th>\n",
       "      <th>Number of null</th>\n",
       "      <th>percentage</th>\n",
       "    </tr>\n",
       "  </thead>\n",
       "  <tbody>\n",
       "    <tr>\n",
       "      <th>long_hair</th>\n",
       "      <td>0</td>\n",
       "      <td>0.0</td>\n",
       "    </tr>\n",
       "    <tr>\n",
       "      <th>forehead_width_cm</th>\n",
       "      <td>0</td>\n",
       "      <td>0.0</td>\n",
       "    </tr>\n",
       "    <tr>\n",
       "      <th>forehead_height_cm</th>\n",
       "      <td>0</td>\n",
       "      <td>0.0</td>\n",
       "    </tr>\n",
       "    <tr>\n",
       "      <th>nose_wide</th>\n",
       "      <td>0</td>\n",
       "      <td>0.0</td>\n",
       "    </tr>\n",
       "    <tr>\n",
       "      <th>nose_long</th>\n",
       "      <td>0</td>\n",
       "      <td>0.0</td>\n",
       "    </tr>\n",
       "    <tr>\n",
       "      <th>lips_thin</th>\n",
       "      <td>0</td>\n",
       "      <td>0.0</td>\n",
       "    </tr>\n",
       "    <tr>\n",
       "      <th>distance_nose_to_lip_long</th>\n",
       "      <td>0</td>\n",
       "      <td>0.0</td>\n",
       "    </tr>\n",
       "    <tr>\n",
       "      <th>gender</th>\n",
       "      <td>0</td>\n",
       "      <td>0.0</td>\n",
       "    </tr>\n",
       "  </tbody>\n",
       "</table>\n",
       "</div>"
      ],
      "text/plain": [
       "                           Number of null  percentage\n",
       "long_hair                               0         0.0\n",
       "forehead_width_cm                       0         0.0\n",
       "forehead_height_cm                      0         0.0\n",
       "nose_wide                               0         0.0\n",
       "nose_long                               0         0.0\n",
       "lips_thin                               0         0.0\n",
       "distance_nose_to_lip_long               0         0.0\n",
       "gender                                  0         0.0"
      ]
     },
     "execution_count": 9,
     "metadata": {},
     "output_type": "execute_result"
    }
   ],
   "source": [
    "# Show data with null values \n",
    "gender_null = pd.DataFrame(gender.isnull().sum(),columns=['Number of null'])\n",
    "gender_null['percentage'] = (gender.isnull().sum())/len(gender)*100\n",
    "gender_null"
   ]
  },
  {
   "cell_type": "code",
   "execution_count": 10,
   "id": "3729ead6",
   "metadata": {
    "scrolled": true
   },
   "outputs": [
    {
     "data": {
      "text/html": [
       "<div>\n",
       "<style scoped>\n",
       "    .dataframe tbody tr th:only-of-type {\n",
       "        vertical-align: middle;\n",
       "    }\n",
       "\n",
       "    .dataframe tbody tr th {\n",
       "        vertical-align: top;\n",
       "    }\n",
       "\n",
       "    .dataframe thead th {\n",
       "        text-align: right;\n",
       "    }\n",
       "</style>\n",
       "<table border=\"1\" class=\"dataframe\">\n",
       "  <thead>\n",
       "    <tr style=\"text-align: right;\">\n",
       "      <th></th>\n",
       "      <th>long_hair</th>\n",
       "      <th>forehead_width_cm</th>\n",
       "      <th>forehead_height_cm</th>\n",
       "      <th>nose_wide</th>\n",
       "      <th>nose_long</th>\n",
       "      <th>lips_thin</th>\n",
       "      <th>distance_nose_to_lip_long</th>\n",
       "    </tr>\n",
       "  </thead>\n",
       "  <tbody>\n",
       "    <tr>\n",
       "      <th>long_hair</th>\n",
       "      <td>1.000000</td>\n",
       "      <td>-0.013151</td>\n",
       "      <td>-0.005145</td>\n",
       "      <td>0.024123</td>\n",
       "      <td>0.042556</td>\n",
       "      <td>0.037514</td>\n",
       "      <td>-0.011362</td>\n",
       "    </tr>\n",
       "    <tr>\n",
       "      <th>forehead_width_cm</th>\n",
       "      <td>-0.013151</td>\n",
       "      <td>1.000000</td>\n",
       "      <td>0.079665</td>\n",
       "      <td>0.212223</td>\n",
       "      <td>0.212032</td>\n",
       "      <td>0.220566</td>\n",
       "      <td>0.206636</td>\n",
       "    </tr>\n",
       "    <tr>\n",
       "      <th>forehead_height_cm</th>\n",
       "      <td>-0.005145</td>\n",
       "      <td>0.079665</td>\n",
       "      <td>1.000000</td>\n",
       "      <td>0.180526</td>\n",
       "      <td>0.153438</td>\n",
       "      <td>0.170018</td>\n",
       "      <td>0.183036</td>\n",
       "    </tr>\n",
       "    <tr>\n",
       "      <th>nose_wide</th>\n",
       "      <td>0.024123</td>\n",
       "      <td>0.212223</td>\n",
       "      <td>0.180526</td>\n",
       "      <td>1.000000</td>\n",
       "      <td>0.394605</td>\n",
       "      <td>0.379767</td>\n",
       "      <td>0.395401</td>\n",
       "    </tr>\n",
       "    <tr>\n",
       "      <th>nose_long</th>\n",
       "      <td>0.042556</td>\n",
       "      <td>0.212032</td>\n",
       "      <td>0.153438</td>\n",
       "      <td>0.394605</td>\n",
       "      <td>1.000000</td>\n",
       "      <td>0.384860</td>\n",
       "      <td>0.377462</td>\n",
       "    </tr>\n",
       "    <tr>\n",
       "      <th>lips_thin</th>\n",
       "      <td>0.037514</td>\n",
       "      <td>0.220566</td>\n",
       "      <td>0.170018</td>\n",
       "      <td>0.379767</td>\n",
       "      <td>0.384860</td>\n",
       "      <td>1.000000</td>\n",
       "      <td>0.380805</td>\n",
       "    </tr>\n",
       "    <tr>\n",
       "      <th>distance_nose_to_lip_long</th>\n",
       "      <td>-0.011362</td>\n",
       "      <td>0.206636</td>\n",
       "      <td>0.183036</td>\n",
       "      <td>0.395401</td>\n",
       "      <td>0.377462</td>\n",
       "      <td>0.380805</td>\n",
       "      <td>1.000000</td>\n",
       "    </tr>\n",
       "  </tbody>\n",
       "</table>\n",
       "</div>"
      ],
      "text/plain": [
       "                           long_hair  forehead_width_cm  forehead_height_cm  \\\n",
       "long_hair                   1.000000          -0.013151           -0.005145   \n",
       "forehead_width_cm          -0.013151           1.000000            0.079665   \n",
       "forehead_height_cm         -0.005145           0.079665            1.000000   \n",
       "nose_wide                   0.024123           0.212223            0.180526   \n",
       "nose_long                   0.042556           0.212032            0.153438   \n",
       "lips_thin                   0.037514           0.220566            0.170018   \n",
       "distance_nose_to_lip_long  -0.011362           0.206636            0.183036   \n",
       "\n",
       "                           nose_wide  nose_long  lips_thin  \\\n",
       "long_hair                   0.024123   0.042556   0.037514   \n",
       "forehead_width_cm           0.212223   0.212032   0.220566   \n",
       "forehead_height_cm          0.180526   0.153438   0.170018   \n",
       "nose_wide                   1.000000   0.394605   0.379767   \n",
       "nose_long                   0.394605   1.000000   0.384860   \n",
       "lips_thin                   0.379767   0.384860   1.000000   \n",
       "distance_nose_to_lip_long   0.395401   0.377462   0.380805   \n",
       "\n",
       "                           distance_nose_to_lip_long  \n",
       "long_hair                                  -0.011362  \n",
       "forehead_width_cm                           0.206636  \n",
       "forehead_height_cm                          0.183036  \n",
       "nose_wide                                   0.395401  \n",
       "nose_long                                   0.377462  \n",
       "lips_thin                                   0.380805  \n",
       "distance_nose_to_lip_long                   1.000000  "
      ]
     },
     "execution_count": 10,
     "metadata": {},
     "output_type": "execute_result"
    }
   ],
   "source": [
    "gender.corr()"
   ]
  },
  {
   "cell_type": "code",
   "execution_count": 11,
   "id": "1168110c",
   "metadata": {
    "scrolled": true
   },
   "outputs": [
    {
     "data": {
      "text/plain": [
       "<AxesSubplot:>"
      ]
     },
     "execution_count": 11,
     "metadata": {},
     "output_type": "execute_result"
    },
    {
     "data": {
      "image/png": "[encoded data removed]",
      "text/plain": [
       "<Figure size 432x288 with 2 Axes>"
      ]
     },
     "metadata": {
      "needs_background": "light"
     },
     "output_type": "display_data"
    }
   ],
   "source": [
    "import seaborn as sns\n",
    "sns.heatmap(gender.corr(),annot=True)"
   ]
  },
  {
   "cell_type": "markdown",
   "id": "7c95b2e1",
   "metadata": {},
   "source": [
    "##  Logistic Regression"
   ]
  },
  {
   "cell_type": "code",
   "execution_count": 12,
   "id": "36db47ff",
   "metadata": {},
   "outputs": [],
   "source": [
    "X = gender.iloc[:,:-1] # All except last column(Gender)\n",
    "y = gender.iloc[:,-1] # Gender only"
   ]
  },
  {
   "cell_type": "code",
   "execution_count": 13,
   "id": "3a744e7b",
   "metadata": {
    "scrolled": true
   },
   "outputs": [
    {
     "data": {
      "text/html": [
       "<div>\n",
       "<style scoped>\n",
       "    .dataframe tbody tr th:only-of-type {\n",
       "        vertical-align: middle;\n",
       "    }\n",
       "\n",
       "    .dataframe tbody tr th {\n",
       "        vertical-align: top;\n",
       "    }\n",
       "\n",
       "    .dataframe thead th {\n",
       "        text-align: right;\n",
       "    }\n",
       "</style>\n",
       "<table border=\"1\" class=\"dataframe\">\n",
       "  <thead>\n",
       "    <tr style=\"text-align: right;\">\n",
       "      <th></th>\n",
       "      <th>long_hair</th>\n",
       "      <th>forehead_width_cm</th>\n",
       "      <th>forehead_height_cm</th>\n",
       "      <th>nose_wide</th>\n",
       "      <th>nose_long</th>\n",
       "      <th>lips_thin</th>\n",
       "      <th>distance_nose_to_lip_long</th>\n",
       "    </tr>\n",
       "  </thead>\n",
       "  <tbody>\n",
       "    <tr>\n",
       "      <th>0</th>\n",
       "      <td>1</td>\n",
       "      <td>11.8</td>\n",
       "      <td>6.1</td>\n",
       "      <td>1</td>\n",
       "      <td>0</td>\n",
       "      <td>1</td>\n",
       "      <td>1</td>\n",
       "    </tr>\n",
       "    <tr>\n",
       "      <th>1</th>\n",
       "      <td>0</td>\n",
       "      <td>14.0</td>\n",
       "      <td>5.4</td>\n",
       "      <td>0</td>\n",
       "      <td>0</td>\n",
       "      <td>1</td>\n",
       "      <td>0</td>\n",
       "    </tr>\n",
       "    <tr>\n",
       "      <th>2</th>\n",
       "      <td>0</td>\n",
       "      <td>11.8</td>\n",
       "      <td>6.3</td>\n",
       "      <td>1</td>\n",
       "      <td>1</td>\n",
       "      <td>1</td>\n",
       "      <td>1</td>\n",
       "    </tr>\n",
       "    <tr>\n",
       "      <th>3</th>\n",
       "      <td>0</td>\n",
       "      <td>14.4</td>\n",
       "      <td>6.1</td>\n",
       "      <td>0</td>\n",
       "      <td>1</td>\n",
       "      <td>1</td>\n",
       "      <td>1</td>\n",
       "    </tr>\n",
       "    <tr>\n",
       "      <th>4</th>\n",
       "      <td>1</td>\n",
       "      <td>13.5</td>\n",
       "      <td>5.9</td>\n",
       "      <td>0</td>\n",
       "      <td>0</td>\n",
       "      <td>0</td>\n",
       "      <td>0</td>\n",
       "    </tr>\n",
       "    <tr>\n",
       "      <th>...</th>\n",
       "      <td>...</td>\n",
       "      <td>...</td>\n",
       "      <td>...</td>\n",
       "      <td>...</td>\n",
       "      <td>...</td>\n",
       "      <td>...</td>\n",
       "      <td>...</td>\n",
       "    </tr>\n",
       "    <tr>\n",
       "      <th>4986</th>\n",
       "      <td>1</td>\n",
       "      <td>11.7</td>\n",
       "      <td>6.1</td>\n",
       "      <td>1</td>\n",
       "      <td>1</td>\n",
       "      <td>0</td>\n",
       "      <td>1</td>\n",
       "    </tr>\n",
       "    <tr>\n",
       "      <th>4990</th>\n",
       "      <td>1</td>\n",
       "      <td>12.6</td>\n",
       "      <td>5.7</td>\n",
       "      <td>0</td>\n",
       "      <td>0</td>\n",
       "      <td>1</td>\n",
       "      <td>0</td>\n",
       "    </tr>\n",
       "    <tr>\n",
       "      <th>4992</th>\n",
       "      <td>1</td>\n",
       "      <td>14.1</td>\n",
       "      <td>7.0</td>\n",
       "      <td>1</td>\n",
       "      <td>1</td>\n",
       "      <td>1</td>\n",
       "      <td>1</td>\n",
       "    </tr>\n",
       "    <tr>\n",
       "      <th>4993</th>\n",
       "      <td>1</td>\n",
       "      <td>11.6</td>\n",
       "      <td>5.9</td>\n",
       "      <td>0</td>\n",
       "      <td>0</td>\n",
       "      <td>0</td>\n",
       "      <td>1</td>\n",
       "    </tr>\n",
       "    <tr>\n",
       "      <th>4995</th>\n",
       "      <td>1</td>\n",
       "      <td>12.3</td>\n",
       "      <td>6.9</td>\n",
       "      <td>0</td>\n",
       "      <td>1</td>\n",
       "      <td>1</td>\n",
       "      <td>1</td>\n",
       "    </tr>\n",
       "  </tbody>\n",
       "</table>\n",
       "<p>3233 rows × 7 columns</p>\n",
       "</div>"
      ],
      "text/plain": [
       "      long_hair  forehead_width_cm  forehead_height_cm  nose_wide  nose_long  \\\n",
       "0             1               11.8                 6.1          1          0   \n",
       "1             0               14.0                 5.4          0          0   \n",
       "2             0               11.8                 6.3          1          1   \n",
       "3             0               14.4                 6.1          0          1   \n",
       "4             1               13.5                 5.9          0          0   \n",
       "...         ...                ...                 ...        ...        ...   \n",
       "4986          1               11.7                 6.1          1          1   \n",
       "4990          1               12.6                 5.7          0          0   \n",
       "4992          1               14.1                 7.0          1          1   \n",
       "4993          1               11.6                 5.9          0          0   \n",
       "4995          1               12.3                 6.9          0          1   \n",
       "\n",
       "      lips_thin  distance_nose_to_lip_long  \n",
       "0             1                          1  \n",
       "1             1                          0  \n",
       "2             1                          1  \n",
       "3             1                          1  \n",
       "4             0                          0  \n",
       "...         ...                        ...  \n",
       "4986          0                          1  \n",
       "4990          1                          0  \n",
       "4992          1                          1  \n",
       "4993          0                          1  \n",
       "4995          1                          1  \n",
       "\n",
       "[3233 rows x 7 columns]"
      ]
     },
     "execution_count": 13,
     "metadata": {},
     "output_type": "execute_result"
    }
   ],
   "source": [
    "X"
   ]
  },
  {
   "cell_type": "code",
   "execution_count": 14,
   "id": "c38851c9",
   "metadata": {},
   "outputs": [
    {
     "data": {
      "text/plain": [
       "0         Male\n",
       "1       Female\n",
       "2         Male\n",
       "3         Male\n",
       "4       Female\n",
       "         ...  \n",
       "4986      Male\n",
       "4990    Female\n",
       "4992      Male\n",
       "4993    Female\n",
       "4995      Male\n",
       "Name: gender, Length: 3233, dtype: object"
      ]
     },
     "execution_count": 14,
     "metadata": {},
     "output_type": "execute_result"
    }
   ],
   "source": [
    "y "
   ]
  },
  {
   "cell_type": "code",
   "execution_count": 15,
   "id": "b33edcd4",
   "metadata": {},
   "outputs": [],
   "source": [
    "# trasnform gender columns values to 0 or 1 only\n",
    "from sklearn.preprocessing import LabelEncoder\n",
    "le = LabelEncoder()\n",
    "y = le.fit_transform(y)\n",
    "le_g = pd.DataFrame(y)"
   ]
  },
  {
   "cell_type": "code",
   "execution_count": 16,
   "id": "60e179c4",
   "metadata": {},
   "outputs": [
    {
     "data": {
      "text/html": [
       "<div>\n",
       "<style scoped>\n",
       "    .dataframe tbody tr th:only-of-type {\n",
       "        vertical-align: middle;\n",
       "    }\n",
       "\n",
       "    .dataframe tbody tr th {\n",
       "        vertical-align: top;\n",
       "    }\n",
       "\n",
       "    .dataframe thead th {\n",
       "        text-align: right;\n",
       "    }\n",
       "</style>\n",
       "<table border=\"1\" class=\"dataframe\">\n",
       "  <thead>\n",
       "    <tr style=\"text-align: right;\">\n",
       "      <th></th>\n",
       "      <th>0</th>\n",
       "    </tr>\n",
       "  </thead>\n",
       "  <tbody>\n",
       "    <tr>\n",
       "      <th>0</th>\n",
       "      <td>1</td>\n",
       "    </tr>\n",
       "    <tr>\n",
       "      <th>1</th>\n",
       "      <td>0</td>\n",
       "    </tr>\n",
       "    <tr>\n",
       "      <th>2</th>\n",
       "      <td>1</td>\n",
       "    </tr>\n",
       "    <tr>\n",
       "      <th>3</th>\n",
       "      <td>1</td>\n",
       "    </tr>\n",
       "    <tr>\n",
       "      <th>4</th>\n",
       "      <td>0</td>\n",
       "    </tr>\n",
       "    <tr>\n",
       "      <th>...</th>\n",
       "      <td>...</td>\n",
       "    </tr>\n",
       "    <tr>\n",
       "      <th>3228</th>\n",
       "      <td>1</td>\n",
       "    </tr>\n",
       "    <tr>\n",
       "      <th>3229</th>\n",
       "      <td>0</td>\n",
       "    </tr>\n",
       "    <tr>\n",
       "      <th>3230</th>\n",
       "      <td>1</td>\n",
       "    </tr>\n",
       "    <tr>\n",
       "      <th>3231</th>\n",
       "      <td>0</td>\n",
       "    </tr>\n",
       "    <tr>\n",
       "      <th>3232</th>\n",
       "      <td>1</td>\n",
       "    </tr>\n",
       "  </tbody>\n",
       "</table>\n",
       "<p>3233 rows × 1 columns</p>\n",
       "</div>"
      ],
      "text/plain": [
       "      0\n",
       "0     1\n",
       "1     0\n",
       "2     1\n",
       "3     1\n",
       "4     0\n",
       "...  ..\n",
       "3228  1\n",
       "3229  0\n",
       "3230  1\n",
       "3231  0\n",
       "3232  1\n",
       "\n",
       "[3233 rows x 1 columns]"
      ]
     },
     "execution_count": 16,
     "metadata": {},
     "output_type": "execute_result"
    }
   ],
   "source": [
    "le_g "
   ]
  },
  {
   "cell_type": "code",
   "execution_count": 17,
   "id": "3f031f50",
   "metadata": {},
   "outputs": [
    {
     "name": "stdout",
     "output_type": "stream",
     "text": [
      "X_train shape is  (2263, 7)\n",
      "X_test shape is  (970, 7)\n",
      "y_train shape is  (2263,)\n",
      "y_test shape is  (970,)\n"
     ]
    }
   ],
   "source": [
    "import time\n",
    "start_time = time.time()\n",
    "from sklearn.model_selection import train_test_split\n",
    "X_train, X_test, y_train, y_test = train_test_split(X, y, test_size=0.3, random_state=1, shuffle =True)\n",
    "print('X_train shape is ' , X_train.shape)\n",
    "print('X_test shape is ' , X_test.shape)\n",
    "print('y_train shape is ' , y_train.shape)\n",
    "print('y_test shape is ' , y_test.shape)"
   ]
  },
  {
   "cell_type": "code",
   "execution_count": 18,
   "id": "c5dd091d",
   "metadata": {},
   "outputs": [],
   "source": [
    "# transform all columns values except gender column to 0 to 1 range only\n",
    "from sklearn.preprocessing import MinMaxScaler\n",
    "scaler = MinMaxScaler(copy=True, feature_range=(0, 1))\n",
    "X_train = scaler.fit_transform(X_train)\n",
    "X_test = scaler.transform(X_test)"
   ]
  },
  {
   "cell_type": "code",
   "execution_count": 19,
   "id": "e85bc408",
   "metadata": {},
   "outputs": [
    {
     "name": "stdout",
     "output_type": "stream",
     "text": [
      "LogisticRegressionModel Train Score is :  94.91825011047283\n",
      "LogisticRegressionModel Test Score is :  95.56701030927836\n",
      "LogisticRegressionModel Classes are :  [0 1]\n",
      "LogisticRegressionModel No. of iteratios is :  [18]\n"
     ]
    }
   ],
   "source": [
    "from sklearn.linear_model import LogisticRegression\n",
    "log_reg = LogisticRegression()\n",
    "log_reg.fit(X_train, y_train)\n",
    "# Predict Values\n",
    "y_pred = log_reg.predict(X_test)\n",
    "\n",
    "end_time = time.time()\n",
    "\n",
    "print('LogisticRegressionModel Train Score is : ' , log_reg.score(X_train, y_train)*100)\n",
    "print('LogisticRegressionModel Test Score is : ' , log_reg.score(X_test, y_test)*100)\n",
    "print('LogisticRegressionModel Classes are : ' , log_reg.classes_)\n",
    "print('LogisticRegressionModel No. of iteratios is : ' , log_reg.n_iter_)"
   ]
  },
  {
   "cell_type": "code",
   "execution_count": 20,
   "id": "300cbccf",
   "metadata": {
    "scrolled": true
   },
   "outputs": [
    {
     "data": {
      "text/plain": [
       "array([0, 1, 1, 1, 0, 0, 1, 1, 0, 1, 1, 0, 1, 1, 0, 1, 1, 0, 1, 0, 1, 1,\n",
       "       0, 1, 1, 0, 1, 0, 0, 0, 0, 0, 1, 1, 1, 1, 0, 0, 1, 0, 1, 1, 1, 1,\n",
       "       1, 1, 0, 1, 1, 1, 0, 0, 1, 1, 0, 1, 0, 1, 1, 1, 1, 1, 1, 1, 0, 1,\n",
       "       0, 0, 0, 1, 1, 1, 1, 1, 0, 1, 1, 1, 1, 1, 0, 0, 0, 0, 0, 0, 1, 1,\n",
       "       1, 1, 0, 1, 0, 1, 1, 1, 0, 1, 1, 1, 0, 1, 1, 0, 1, 1, 0, 1, 1, 1,\n",
       "       0, 0, 1, 1, 0, 0, 0, 1, 1, 1, 0, 0, 1, 1, 0, 1, 0, 0, 0, 1, 1, 0,\n",
       "       1, 1, 0, 1, 1, 0, 1, 1, 1, 1, 0, 1, 1, 1, 1, 0, 0, 0, 1, 0, 1, 1,\n",
       "       1, 0, 1, 1, 1, 1, 0, 1, 1, 1, 1, 0, 1, 1, 0, 1, 0, 1, 1, 1, 0, 0,\n",
       "       0, 1, 1, 1, 1, 0, 1, 0, 0, 1, 1, 1, 1, 0, 0, 0, 1, 1, 1, 0, 0, 1,\n",
       "       1, 1, 0, 1, 0, 1, 1, 0, 0, 1, 1, 1, 0, 1, 1, 0, 1, 0, 0, 0, 0, 1,\n",
       "       0, 1, 0, 0, 1, 0, 1, 1, 1, 0, 1, 1, 1, 1, 1, 0, 1, 0, 0, 1, 1, 0,\n",
       "       0, 0, 0, 0, 1, 1, 1, 0, 0, 1, 1, 1, 1, 0, 0, 0, 0, 0, 1, 0, 1, 1,\n",
       "       0, 1, 0, 0, 0, 0, 0, 1, 0, 1, 0, 1, 1, 0, 0, 1, 0, 0, 0, 0, 0, 1,\n",
       "       0, 0, 0, 1, 1, 1, 0, 1, 1, 0, 0, 1, 1, 0, 0, 1, 1, 0, 0, 1, 0, 0,\n",
       "       1, 0, 1, 1, 0, 1, 0, 1, 1, 1, 0, 0, 0, 0, 1, 0, 1, 0, 0, 1, 1, 0,\n",
       "       1, 1, 1, 0, 1, 0, 0, 1, 1, 1, 1, 1, 1, 0, 1, 1, 1, 1, 0, 0, 1, 1,\n",
       "       0, 1, 1, 0, 0, 1, 1, 1, 1, 1, 1, 0, 0, 0, 0, 0, 0, 0, 0, 1, 0, 1,\n",
       "       0, 1, 1, 0, 1, 0, 1, 0, 1, 0, 1, 0, 1, 1, 1, 1, 1, 1, 0, 1, 1, 0,\n",
       "       1, 0, 0, 0, 1, 1, 1, 1, 0, 1, 0, 0, 0, 0, 0, 1, 0, 1, 0, 1, 0, 1,\n",
       "       0, 0, 1, 1, 0, 0, 1, 1, 1, 0, 1, 1, 0, 0, 0, 0, 0, 1, 0, 1, 1, 1,\n",
       "       0, 0, 0, 0, 1, 1, 0, 1, 1, 0, 1, 0, 0, 1, 1, 0, 1, 0, 0, 0, 0, 1,\n",
       "       1, 1, 1, 0, 1, 1, 1, 0, 1, 1, 1, 1, 1, 1, 1, 1, 1, 1, 1, 0, 1, 1,\n",
       "       1, 0, 0, 0, 1, 0, 1, 1, 1, 0, 0, 1, 1, 0, 0, 1, 0, 1, 0, 0, 0, 0,\n",
       "       1, 0, 0, 1, 0, 1, 0, 0, 1, 0, 1, 1, 1, 0, 1, 1, 0, 1, 0, 1, 0, 0,\n",
       "       0, 0, 1, 1, 0, 1, 0, 0, 1, 1, 0, 1, 1, 1, 1, 1, 0, 1, 0, 1, 0, 1,\n",
       "       1, 1, 1, 0, 1, 1, 1, 1, 0, 0, 1, 1, 1, 1, 1, 1, 1, 0, 1, 0, 1, 1,\n",
       "       1, 1, 1, 0, 1, 0, 0, 1, 0, 0, 1, 0, 1, 1, 0, 1, 0, 1, 1, 1, 1, 0,\n",
       "       1, 0, 0, 1, 1, 1, 1, 0, 1, 0, 0, 1, 0, 1, 1, 1, 1, 1, 1, 1, 1, 0,\n",
       "       1, 1, 1, 1, 1, 1, 0, 0, 1, 1, 0, 1, 1, 0, 0, 1, 0, 0, 0, 1, 0, 0,\n",
       "       1, 0, 0, 0, 1, 0, 1, 1, 1, 0, 0, 1, 0, 1, 1, 1, 1, 0, 1, 1, 1, 0,\n",
       "       1, 0, 0, 1, 0, 1, 0, 1, 0, 1, 0, 0, 1, 1, 1, 1, 0, 1, 1, 1, 1, 0,\n",
       "       1, 1, 0, 0, 1, 1, 1, 0, 0, 1, 1, 0, 1, 0, 0, 0, 0, 0, 0, 0, 0, 1,\n",
       "       1, 1, 0, 0, 0, 1, 1, 1, 1, 1, 0, 0, 0, 0, 1, 0, 0, 1, 0, 0, 0, 1,\n",
       "       0, 1, 1, 1, 1, 1, 1, 0, 0, 0, 0, 1, 1, 0, 0, 1, 1, 1, 1, 1, 0, 1,\n",
       "       0, 1, 1, 0, 0, 1, 0, 1, 1, 0, 1, 1, 1, 1, 1, 0, 0, 1, 0, 1, 0, 1,\n",
       "       1, 0, 0, 0, 1, 0, 1, 0, 1, 0, 1, 0, 1, 1, 0, 1, 0, 1, 1, 1, 0, 1,\n",
       "       1, 1, 1, 1, 0, 1, 1, 0, 1, 1, 0, 1, 0, 1, 0, 0, 1, 1, 1, 1, 0, 1,\n",
       "       1, 1, 1, 1, 1, 0, 1, 0, 0, 0, 1, 0, 0, 1, 0, 0, 1, 1, 0, 1, 1, 0,\n",
       "       0, 1, 0, 0, 0, 0, 1, 0, 0, 0, 1, 0, 1, 1, 0, 1, 1, 0, 1, 1, 1, 1,\n",
       "       1, 0, 0, 0, 1, 1, 1, 1, 1, 1, 1, 1, 0, 0, 1, 0, 1, 0, 1, 1, 1, 0,\n",
       "       0, 1, 0, 1, 0, 1, 1, 1, 1, 0, 1, 0, 1, 0, 0, 1, 1, 1, 1, 1, 0, 0,\n",
       "       1, 0, 0, 1, 1, 1, 1, 0, 0, 0, 1, 0, 1, 1, 1, 1, 0, 1, 1, 0, 0, 1,\n",
       "       1, 0, 1, 1, 0, 1, 0, 0, 1, 0, 0, 0, 0, 0, 1, 0, 0, 1, 1, 1, 1, 0,\n",
       "       0, 0, 1, 0, 0, 1, 1, 1, 0, 0, 1, 1, 1, 0, 1, 1, 0, 1, 0, 0, 1, 1,\n",
       "       1, 0])"
      ]
     },
     "execution_count": 20,
     "metadata": {},
     "output_type": "execute_result"
    }
   ],
   "source": [
    "y_pred"
   ]
  },
  {
   "cell_type": "code",
   "execution_count": 21,
   "id": "23f973fc",
   "metadata": {},
   "outputs": [
    {
     "data": {
      "text/plain": [
       "array([8.86778107e-01, 1.95387310e-03, 9.48108323e-03, 4.00375507e-03,\n",
       "       9.32485879e-01, 6.19945233e-01, 8.86059664e-04, 3.14516353e-02,\n",
       "       9.89724684e-01, 7.86101372e-03, 4.36967194e-04, 9.60952341e-01,\n",
       "       3.72920976e-01, 8.95050222e-04, 9.99381031e-01, 1.87486737e-02,\n",
       "       5.06015397e-04, 9.98975125e-01, 1.61826241e-02, 9.63336386e-01,\n",
       "       1.36852913e-02, 2.33737165e-02, 9.90040166e-01, 2.12482459e-02,\n",
       "       6.96863180e-03, 9.97616436e-01, 2.19707897e-02, 9.99240723e-01,\n",
       "       9.99537936e-01, 9.76073117e-01, 9.35419793e-01, 9.99067462e-01,\n",
       "       9.75765370e-03, 1.32216896e-02, 1.72997203e-04, 2.75370356e-02,\n",
       "       9.98843092e-01, 9.77996024e-01, 2.28616613e-04, 9.99226103e-01,\n",
       "       6.41803522e-04, 8.71949134e-04, 1.03416565e-02, 1.05702473e-03,\n",
       "       7.08804283e-03, 1.39627812e-02, 9.99369908e-01, 3.77726669e-01,\n",
       "       5.54489442e-02, 6.13467408e-04, 9.98680092e-01, 9.84482129e-01,\n",
       "       7.15885677e-04, 5.80123353e-04, 9.98659588e-01, 1.24670037e-03,\n",
       "       9.98974478e-01, 1.32766935e-03, 9.11404505e-03, 4.88032975e-04,\n",
       "       1.87676658e-04, 2.72605990e-02, 8.84230677e-03, 1.06266879e-03,\n",
       "       9.72360837e-01, 4.37523424e-02, 9.57957087e-01, 9.24885308e-01,\n",
       "       9.98816025e-01, 1.70864088e-03, 9.45791301e-03, 8.33986674e-04,\n",
       "       4.16020686e-03, 8.27001999e-02, 9.19020342e-01, 1.21731391e-02,\n",
       "       2.41304975e-01, 2.45513293e-03, 4.36691338e-04, 1.72185601e-03,\n",
       "       7.42300335e-01, 9.86407722e-01, 9.98192215e-01, 5.20368233e-01,\n",
       "       9.75628543e-01, 9.51512299e-01, 5.62497838e-04, 3.61440269e-02,\n",
       "       2.29561426e-02, 4.59463441e-02, 9.63862813e-01, 2.75511673e-04,\n",
       "       9.99673419e-01, 1.04824501e-03, 6.06361540e-02, 2.38357718e-01,\n",
       "       9.99287053e-01, 3.29667321e-02, 5.05695974e-04, 2.51641465e-02,\n",
       "       9.64418307e-01, 2.68793552e-02, 5.34961434e-03, 9.99346282e-01,\n",
       "       1.37183221e-03, 2.46544189e-02, 9.98601838e-01, 8.85500549e-04,\n",
       "       9.58897757e-04, 2.84823777e-02, 9.97865419e-01, 9.67784197e-01,\n",
       "       6.90014416e-04, 1.92400314e-03, 9.27894901e-01, 9.99246080e-01,\n",
       "       9.54215090e-01, 6.21127571e-04, 6.74376557e-02, 1.06624367e-02,\n",
       "       9.26521109e-01, 9.78831207e-01, 1.54157859e-02, 2.39752102e-04,\n",
       "       9.77025824e-01, 9.65445886e-03, 9.84401758e-01, 9.98301344e-01,\n",
       "       9.92427457e-01, 3.60923288e-01, 1.40392014e-03, 9.99690980e-01,\n",
       "       1.59622999e-01, 2.91864127e-04, 6.08500856e-01, 1.84897371e-03,\n",
       "       2.01554939e-04, 9.98771656e-01, 2.89861178e-03, 1.94080408e-02,\n",
       "       6.84281020e-04, 5.53537186e-04, 6.21738712e-01, 2.00080916e-03,\n",
       "       9.15996179e-04, 4.04031044e-02, 1.80705514e-02, 9.81882780e-01,\n",
       "       9.85460374e-01, 8.99798983e-01, 1.48758364e-02, 9.98215610e-01,\n",
       "       1.94263161e-02, 7.73920577e-03, 9.37058317e-02, 9.84244547e-01,\n",
       "       2.40332038e-02, 1.03220558e-03, 4.50376562e-04, 3.52791223e-04,\n",
       "       9.99381422e-01, 8.67317153e-04, 7.78286630e-02, 2.92100356e-03,\n",
       "       1.64219572e-01, 9.84640105e-01, 8.38535167e-02, 2.50182340e-01,\n",
       "       9.75010273e-01, 4.95694306e-02, 9.96297730e-01, 2.41609165e-04,\n",
       "       3.94909538e-02, 2.19825614e-04, 8.83821686e-01, 9.92253978e-01,\n",
       "       9.97598014e-01, 6.13836803e-02, 8.01936037e-04, 3.61473996e-01,\n",
       "       4.50426067e-03, 9.99428424e-01, 4.31240149e-01, 9.65135650e-01,\n",
       "       6.76766646e-01, 1.12497865e-03, 2.82889160e-03, 5.39245732e-04,\n",
       "       2.11430451e-03, 9.58574383e-01, 9.99207490e-01, 9.83522764e-01,\n",
       "       4.36858013e-02, 4.91775403e-02, 1.49602816e-03, 9.92907742e-01,\n",
       "       9.97143999e-01, 4.60882238e-03, 3.30675597e-04, 2.25291408e-03,\n",
       "       9.99264252e-01, 4.73472034e-02, 7.30467685e-01, 3.46342721e-04,\n",
       "       5.45063260e-04, 9.83654236e-01, 7.46623697e-01, 3.56713925e-01,\n",
       "       3.94639059e-01, 2.48230382e-01, 9.20772926e-01, 1.22553695e-04,\n",
       "       3.18967135e-01, 9.71423897e-01, 4.49983186e-01, 9.44901309e-01,\n",
       "       9.98328373e-01, 9.61181565e-01, 9.91484635e-01, 4.93381745e-02,\n",
       "       9.86509700e-01, 7.29670126e-04, 9.71875524e-01, 9.96403590e-01,\n",
       "       3.58503367e-04, 9.74020657e-01, 4.77402645e-01, 3.71742503e-01,\n",
       "       1.85883856e-03, 9.57974277e-01, 9.24836009e-04, 5.98700808e-03,\n",
       "       1.60548773e-03, 5.23448838e-04, 2.97231872e-02, 6.37156217e-01,\n",
       "       3.53548308e-01, 9.64232884e-01, 9.99163006e-01, 7.40544294e-04,\n",
       "       2.25088476e-02, 9.81160062e-01, 9.63298977e-01, 9.71257478e-01,\n",
       "       9.22114738e-01, 9.68261986e-01, 2.05016257e-03, 6.97158643e-03,\n",
       "       1.09810181e-02, 9.57752745e-01, 9.42394786e-01, 1.68913826e-02,\n",
       "       1.16519869e-02, 3.80067305e-02, 1.51830589e-03, 9.99262029e-01,\n",
       "       9.88634968e-01, 9.66938446e-01, 9.55646329e-01, 9.99029584e-01,\n",
       "       4.33061915e-04, 9.98550369e-01, 4.48507852e-01, 2.08004230e-04,\n",
       "       7.84843670e-01, 9.60768177e-03, 9.98881599e-01, 9.90174165e-01,\n",
       "       9.99096356e-01, 9.50765606e-01, 9.99479942e-01, 1.82070448e-03,\n",
       "       9.99738198e-01, 3.41761665e-03, 9.71275109e-01, 3.02210933e-02,\n",
       "       3.09786650e-02, 6.61855754e-01, 9.99589465e-01, 6.84713169e-04,\n",
       "       9.99251872e-01, 9.99662971e-01, 9.97225728e-01, 9.42394786e-01,\n",
       "       9.79045486e-01, 2.92048523e-04, 9.57322632e-01, 9.55485052e-01,\n",
       "       9.37749021e-01, 1.43082106e-01, 3.90310309e-04, 6.66616218e-04,\n",
       "       9.26812483e-01, 4.83671531e-04, 1.06012510e-02, 9.82436199e-01,\n",
       "       9.98594375e-01, 3.69169653e-03, 2.94289861e-02, 9.36840938e-01,\n",
       "       9.99400594e-01, 6.68208109e-04, 4.33315314e-02, 9.98959199e-01,\n",
       "       9.54538578e-01, 4.39765708e-02, 9.97899370e-01, 9.41974379e-01,\n",
       "       2.23258698e-02, 9.97182695e-01, 3.43192607e-02, 1.71775830e-03,\n",
       "       9.71646400e-01, 1.96502708e-01, 9.97317924e-01, 2.03062689e-02,\n",
       "       2.49479974e-03, 3.53244908e-02, 9.97090959e-01, 9.80720779e-01,\n",
       "       9.46929431e-01, 9.67911249e-01, 1.49893614e-02, 9.45753768e-01,\n",
       "       4.29143229e-01, 9.66767103e-01, 9.80162490e-01, 3.46561524e-04,\n",
       "       4.46119116e-02, 9.92667562e-01, 8.13886296e-04, 4.95620710e-04,\n",
       "       5.51869754e-04, 9.99635249e-01, 1.05182740e-01, 6.56056948e-01,\n",
       "       9.83348120e-01, 7.95779205e-03, 1.66742015e-04, 1.12639940e-03,\n",
       "       7.34391348e-04, 4.71394408e-02, 4.40351165e-04, 9.74278784e-01,\n",
       "       8.61198336e-04, 1.58997002e-04, 4.07313279e-02, 6.07713684e-02,\n",
       "       9.98478891e-01, 9.30696925e-01, 4.30005398e-04, 2.19177721e-02,\n",
       "       9.99019739e-01, 6.37587728e-04, 2.24877390e-02, 9.99296289e-01,\n",
       "       9.78551924e-01, 2.63805016e-01, 6.46422867e-03, 6.47908107e-04,\n",
       "       1.47601784e-02, 3.36544507e-03, 2.00947578e-04, 9.16800667e-01,\n",
       "       9.97672330e-01, 9.99178298e-01, 9.98012133e-01, 9.99344721e-01,\n",
       "       9.92682420e-01, 9.98972678e-01, 6.67471638e-01, 2.50810162e-03,\n",
       "       9.99158005e-01, 1.48360746e-03, 9.96088098e-01, 4.77252400e-02,\n",
       "       2.34281937e-03, 6.72279595e-01, 2.69850768e-04, 9.97232323e-01,\n",
       "       3.95458790e-01, 9.99292083e-01, 1.23496094e-03, 9.74806026e-01,\n",
       "       2.90515126e-01, 9.17232474e-01, 4.96561159e-02, 5.83820650e-02,\n",
       "       2.80912792e-02, 9.28601911e-04, 4.91501755e-04, 6.97923650e-02,\n",
       "       9.74554602e-01, 1.68357511e-03, 2.23422344e-03, 9.24855646e-01,\n",
       "       3.41251286e-01, 9.98616748e-01, 9.72902656e-01, 9.85861747e-01,\n",
       "       2.75685740e-04, 1.20732255e-03, 4.57688271e-03, 1.67482851e-02,\n",
       "       6.15036679e-01, 1.35482085e-01, 9.45818846e-01, 9.98204957e-01,\n",
       "       9.82063127e-01, 9.86576119e-01, 9.75670237e-01, 9.55383741e-03,\n",
       "       9.73009533e-01, 9.77356850e-04, 9.99400215e-01, 5.14207163e-04,\n",
       "       9.98799736e-01, 2.31618636e-04, 9.98656389e-01, 9.99169436e-01,\n",
       "       7.91647219e-03, 5.70882085e-04, 9.98314381e-01, 9.63791573e-01,\n",
       "       1.87439478e-03, 1.84974679e-02, 5.76029486e-04, 9.98602720e-01,\n",
       "       3.34641537e-01, 3.31465523e-04, 9.99491839e-01, 9.67963233e-01,\n",
       "       9.99318097e-01, 9.61515287e-01, 9.97400884e-01, 5.60803429e-04,\n",
       "       9.61618700e-01, 2.78813329e-02, 2.18055600e-02, 4.91802818e-01,\n",
       "       9.99073001e-01, 9.79694692e-01, 9.97210940e-01, 9.99540391e-01,\n",
       "       5.47767539e-03, 1.76254650e-02, 9.99423635e-01, 1.69659671e-03,\n",
       "       1.24409171e-02, 9.98615875e-01, 2.46675534e-01, 9.99405199e-01,\n",
       "       9.87427082e-01, 1.30218097e-02, 4.50661058e-04, 9.85555480e-01,\n",
       "       1.49863365e-02, 9.55216056e-01, 6.76087702e-01, 9.98956056e-01,\n",
       "       9.98148782e-01, 2.01627944e-03, 3.82050201e-04, 2.76432476e-03,\n",
       "       2.61874687e-02, 9.57645151e-01, 1.08244001e-03, 7.99520947e-04,\n",
       "       7.01625625e-04, 9.99117019e-01, 2.94650981e-02, 9.91292746e-04,\n",
       "       4.85456352e-02, 9.14391490e-04, 9.76123903e-04, 3.13155170e-01,\n",
       "       1.23352364e-02, 2.89803884e-04, 2.16322586e-04, 1.01512916e-03,\n",
       "       2.11239114e-04, 6.50888325e-01, 2.14136382e-02, 1.34999619e-03,\n",
       "       1.44878658e-03, 9.99203258e-01, 9.99058000e-01, 9.98133290e-01,\n",
       "       4.09973124e-03, 9.99445790e-01, 1.28654886e-03, 3.26820920e-02,\n",
       "       1.04110515e-02, 9.98808953e-01, 9.98418143e-01, 1.80129641e-03,\n",
       "       4.94154398e-01, 9.97360560e-01, 9.99320151e-01, 3.13212827e-02,\n",
       "       5.37373002e-01, 1.06587791e-03, 9.99492160e-01, 9.99356289e-01,\n",
       "       9.99523155e-01, 9.88214543e-01, 1.19814370e-02, 9.98503100e-01,\n",
       "       9.99614523e-01, 2.29327543e-02, 9.61332834e-01, 1.75551756e-02,\n",
       "       9.28984183e-01, 9.76250765e-01, 6.17827183e-04, 9.40660568e-01,\n",
       "       1.87603000e-02, 9.79693905e-02, 3.76536290e-01, 9.70756179e-01,\n",
       "       8.60654896e-04, 1.71045947e-02, 9.97121935e-01, 3.09976357e-02,\n",
       "       5.50186529e-01, 3.30122531e-02, 9.18948881e-01, 9.87711307e-01,\n",
       "       9.97797254e-01, 9.98690226e-01, 4.85935449e-01, 1.16094105e-03,\n",
       "       9.83221272e-01, 4.00403217e-04, 9.35457020e-01, 9.97482871e-01,\n",
       "       3.70745240e-01, 1.61994872e-02, 9.98526924e-01, 6.77057273e-03,\n",
       "       1.63144955e-03, 6.27827907e-04, 2.43013408e-01, 6.29176805e-03,\n",
       "       9.98907858e-01, 1.95759387e-01, 9.69458022e-01, 1.09856568e-03,\n",
       "       9.99515435e-01, 2.92176292e-01, 1.26173980e-04, 4.29438278e-02,\n",
       "       2.36738011e-02, 9.98787561e-01, 2.91235525e-01, 4.46653277e-03,\n",
       "       3.43898051e-04, 1.97022308e-03, 9.85228353e-01, 9.89318062e-01,\n",
       "       5.03326355e-04, 1.75903239e-03, 1.21807385e-02, 3.47277988e-03,\n",
       "       4.29873589e-02, 8.99290130e-02, 4.10058151e-02, 9.44232168e-01,\n",
       "       1.87734707e-02, 9.92008053e-01, 6.50125302e-02, 2.89912896e-02,\n",
       "       1.38982522e-03, 1.05384224e-03, 1.90715896e-04, 9.82434759e-01,\n",
       "       5.66138010e-04, 9.66624476e-01, 9.99361234e-01, 5.13330421e-03,\n",
       "       9.97380799e-01, 9.99386175e-01, 1.54679342e-02, 9.99422258e-01,\n",
       "       2.67714030e-03, 3.65877086e-01, 9.89590971e-01, 1.89278975e-02,\n",
       "       9.99470261e-01, 2.28243698e-03, 1.33794188e-03, 1.23790837e-03,\n",
       "       4.50945735e-04, 9.67448258e-01, 1.10911333e-02, 9.58241554e-01,\n",
       "       9.99376239e-01, 6.37185303e-04, 3.52085109e-03, 4.74779503e-03,\n",
       "       2.83027603e-02, 9.99680331e-01, 2.25115673e-04, 9.73347948e-01,\n",
       "       9.85222139e-01, 3.61118921e-03, 9.97866764e-01, 4.43049197e-01,\n",
       "       3.78201227e-01, 8.67864796e-04, 1.08332663e-02, 8.24403657e-02,\n",
       "       3.01420658e-03, 4.14585138e-02, 3.89817639e-04, 9.73813764e-01,\n",
       "       1.27506902e-02, 1.93811949e-02, 1.70094570e-02, 4.80483155e-02,\n",
       "       9.30856723e-03, 5.74330891e-02, 9.71702639e-01, 5.13414562e-01,\n",
       "       5.47737942e-02, 1.37604251e-02, 9.73400904e-01, 6.77406150e-04,\n",
       "       2.61438007e-03, 9.98118854e-01, 9.72268505e-01, 8.11319934e-03,\n",
       "       9.86918353e-01, 7.29388700e-01, 9.99611538e-01, 1.09995311e-03,\n",
       "       9.89037911e-01, 9.90197359e-01, 1.50213828e-02, 9.77944602e-01,\n",
       "       8.97098287e-01, 6.53994020e-01, 2.80199495e-01, 9.83226683e-01,\n",
       "       1.33238588e-02, 2.30701712e-03, 6.33776877e-02, 9.99030197e-01,\n",
       "       9.98677777e-01, 3.17760618e-04, 9.99379945e-01, 2.35931611e-04,\n",
       "       4.54741811e-01, 1.35451842e-02, 2.65828738e-03, 9.67720429e-01,\n",
       "       3.63906557e-03, 4.27149120e-01, 9.39208594e-04, 9.98627368e-01,\n",
       "       2.21235712e-02, 9.86496920e-01, 5.74182434e-01, 1.73768253e-02,\n",
       "       9.74424149e-01, 2.59474602e-04, 5.09399843e-01, 2.63139400e-01,\n",
       "       5.19593973e-01, 3.33821844e-04, 9.98658742e-01, 9.97052863e-01,\n",
       "       2.13199410e-03, 1.21358942e-02, 8.28216041e-03, 1.70754847e-04,\n",
       "       9.86393727e-01, 2.06313777e-02, 6.18217391e-04, 2.88771647e-02,\n",
       "       4.74831867e-04, 9.99471523e-01, 2.97546381e-01, 2.63805016e-01,\n",
       "       9.78346098e-01, 9.99345869e-01, 4.06629075e-04, 3.25978098e-04,\n",
       "       8.54043772e-04, 9.71489652e-01, 9.98761370e-01, 4.80102695e-01,\n",
       "       2.92179561e-02, 9.99660361e-01, 1.25986729e-02, 9.91574675e-01,\n",
       "       9.99366142e-01, 5.79987302e-01, 9.98498582e-01, 9.76500336e-01,\n",
       "       9.92069009e-01, 7.11431306e-01, 9.23731354e-01, 1.55046408e-01,\n",
       "       8.88175125e-04, 1.29423323e-03, 9.98043756e-01, 9.56123221e-01,\n",
       "       7.39702817e-01, 1.09464428e-04, 9.82575930e-04, 1.86444753e-03,\n",
       "       4.00083932e-03, 9.13814514e-04, 9.96709415e-01, 9.28450523e-01,\n",
       "       9.31998374e-01, 9.63758063e-01, 1.50943444e-02, 6.61087675e-01,\n",
       "       9.77544330e-01, 2.51429843e-04, 9.70527598e-01, 9.46094393e-01,\n",
       "       9.97832287e-01, 1.58207012e-01, 9.98748017e-01, 3.87990799e-04,\n",
       "       1.49414188e-03, 1.95510548e-03, 1.32704922e-02, 7.41479900e-04,\n",
       "       2.05815242e-02, 9.57032186e-01, 9.99079540e-01, 9.34501129e-01,\n",
       "       8.40569075e-01, 6.28224426e-04, 4.50481614e-02, 9.80627834e-01,\n",
       "       9.86330306e-01, 3.52764206e-02, 1.19956462e-03, 1.11262015e-01,\n",
       "       1.50955851e-02, 9.09534251e-04, 9.73761607e-01, 1.51311119e-02,\n",
       "       9.77647590e-01, 5.21774764e-02, 3.53787673e-02, 8.17470507e-01,\n",
       "       9.72778087e-01, 1.74969628e-03, 9.88803467e-01, 2.47410734e-03,\n",
       "       3.85009047e-04, 6.34527538e-01, 5.30749864e-03, 1.15202594e-03,\n",
       "       1.29732194e-03, 1.85840709e-01, 9.38023727e-04, 9.99507901e-01,\n",
       "       9.98363705e-01, 6.48043426e-02, 6.46683364e-01, 1.22840293e-03,\n",
       "       9.77699353e-01, 4.40965521e-01, 2.21509233e-02, 9.35626691e-01,\n",
       "       9.79690616e-01, 9.98606046e-01, 1.76218780e-04, 8.00320747e-01,\n",
       "       3.96929969e-03, 9.85115611e-01, 1.45373829e-02, 9.38253663e-01,\n",
       "       1.85936317e-01, 9.97521330e-01, 1.48267184e-03, 2.73854881e-02,\n",
       "       9.12485106e-01, 1.43089881e-02, 9.77040001e-01, 1.64406864e-03,\n",
       "       1.86931181e-02, 3.26141686e-03, 9.60915732e-01, 1.25634722e-03,\n",
       "       1.77798589e-03, 2.03116196e-04, 3.98252047e-02, 1.74173631e-02,\n",
       "       9.99045037e-01, 1.64575536e-02, 5.03008629e-04, 9.19743819e-01,\n",
       "       8.76577780e-02, 1.41388954e-03, 9.99707596e-01, 3.67079653e-02,\n",
       "       9.97115077e-01, 3.36994907e-02, 9.98982354e-01, 9.70841314e-01,\n",
       "       1.66854720e-03, 1.18046741e-03, 3.96087850e-02, 6.72527849e-03,\n",
       "       9.57536513e-01, 2.65718553e-04, 1.70971884e-03, 1.51926396e-03,\n",
       "       3.75660351e-03, 1.65678518e-03, 6.52736503e-02, 7.01080344e-01,\n",
       "       4.71816165e-03, 6.49229777e-01, 9.78895387e-01, 9.62486990e-01,\n",
       "       3.55523548e-04, 9.87457713e-01, 9.80253656e-01, 2.12262406e-02,\n",
       "       9.54565986e-01, 9.99182663e-01, 5.19098732e-04, 2.08067487e-03,\n",
       "       9.99622681e-01, 1.24243785e-02, 7.56341560e-03, 9.99714467e-01,\n",
       "       7.81713682e-01, 4.32798190e-02, 9.99131081e-01, 9.72927949e-01,\n",
       "       9.99340805e-01, 9.96523012e-01, 7.10385808e-04, 9.74969053e-01,\n",
       "       7.10335634e-01, 9.98260528e-01, 1.43661135e-01, 9.30819437e-01,\n",
       "       1.12306003e-02, 4.47583346e-02, 9.98872944e-01, 4.40359553e-02,\n",
       "       1.13284771e-02, 9.98778179e-01, 1.68704130e-02, 6.31181684e-04,\n",
       "       2.39081199e-02, 3.35191872e-02, 3.75745832e-03, 9.74188631e-01,\n",
       "       9.57523172e-01, 9.97910516e-01, 6.89578923e-04, 2.70400620e-02,\n",
       "       1.67532874e-02, 4.62300340e-01, 3.24057695e-02, 6.24354658e-02,\n",
       "       4.11279727e-02, 1.42572739e-03, 9.61005273e-01, 9.99399162e-01,\n",
       "       1.58837015e-03, 9.98511986e-01, 5.06756979e-02, 6.13358929e-01,\n",
       "       2.32318678e-04, 2.18186777e-01, 3.33020132e-01, 9.75486360e-01,\n",
       "       9.55318047e-01, 1.63042085e-03, 9.79952955e-01, 1.09012904e-03,\n",
       "       9.58159714e-01, 7.63947058e-02, 3.29920914e-02, 2.62318687e-02,\n",
       "       9.91918593e-04, 9.99149998e-01, 3.32392058e-02, 9.76213836e-01,\n",
       "       5.43599726e-02, 9.69464088e-01, 9.88174528e-01, 3.38749722e-01,\n",
       "       1.35815068e-02, 2.06275076e-04, 1.24461314e-01, 5.25441922e-03,\n",
       "       9.99006876e-01, 6.89895310e-01, 1.54066974e-04, 9.38371935e-01,\n",
       "       9.47943098e-01, 2.25894273e-02, 6.23004129e-04, 8.25087976e-04,\n",
       "       3.72838132e-04, 9.98430286e-01, 9.86011767e-01, 9.84109415e-01,\n",
       "       3.15987457e-03, 9.99552259e-01, 2.69952619e-03, 1.70564997e-03,\n",
       "       2.35284807e-02, 5.27631186e-02, 8.14996468e-01, 1.69776749e-01,\n",
       "       9.09176358e-03, 9.66029141e-01, 9.96786510e-01, 2.34623181e-01,\n",
       "       6.25904423e-03, 9.93273015e-01, 2.78568208e-03, 9.83679115e-04,\n",
       "       9.98389744e-01, 9.55981744e-03, 9.80260302e-01, 9.99409769e-01,\n",
       "       4.91191489e-04, 9.85898986e-01, 9.51353092e-01, 9.98302415e-01,\n",
       "       9.97780225e-01, 9.39318927e-01, 9.74413982e-04, 9.81631614e-01,\n",
       "       6.98828758e-01, 5.50132618e-02, 9.69238213e-04, 2.99076093e-04,\n",
       "       1.90654461e-01, 9.80460405e-01, 9.97461819e-01, 9.96982139e-01,\n",
       "       2.74313074e-03, 9.99548791e-01, 9.98624093e-01, 9.17117289e-03,\n",
       "       1.54286010e-03, 1.88118811e-02, 9.70585989e-01, 9.56878386e-01,\n",
       "       2.67568579e-02, 2.07591850e-02, 4.13773879e-02, 9.97340165e-01,\n",
       "       7.41579715e-02, 3.84513252e-03, 9.97915487e-01, 2.14358335e-02,\n",
       "       9.89074135e-01, 9.41492807e-01, 2.09808369e-03, 6.69052387e-04,\n",
       "       5.31819838e-02, 6.43939015e-01])"
      ]
     },
     "execution_count": 21,
     "metadata": {},
     "output_type": "execute_result"
    }
   ],
   "source": [
    " # 0 for probability of Female in Gender (target) column\n",
    "log_reg.predict_proba(X_test)[:,0]"
   ]
  },
  {
   "cell_type": "code",
   "execution_count": 22,
   "id": "c2b54073",
   "metadata": {},
   "outputs": [
    {
     "data": {
      "text/plain": [
       "array([1.13221893e-01, 9.98046127e-01, 9.90518917e-01, 9.95996245e-01,\n",
       "       6.75141209e-02, 3.80054767e-01, 9.99113940e-01, 9.68548365e-01,\n",
       "       1.02753162e-02, 9.92138986e-01, 9.99563033e-01, 3.90476592e-02,\n",
       "       6.27079024e-01, 9.99104950e-01, 6.18968652e-04, 9.81251326e-01,\n",
       "       9.99493985e-01, 1.02487522e-03, 9.83817376e-01, 3.66636137e-02,\n",
       "       9.86314709e-01, 9.76626284e-01, 9.95983363e-03, 9.78751754e-01,\n",
       "       9.93031368e-01, 2.38356381e-03, 9.78029210e-01, 7.59277269e-04,\n",
       "       4.62064473e-04, 2.39268829e-02, 6.45802072e-02, 9.32538045e-04,\n",
       "       9.90242346e-01, 9.86778310e-01, 9.99827003e-01, 9.72462964e-01,\n",
       "       1.15690802e-03, 2.20039762e-02, 9.99771383e-01, 7.73896580e-04,\n",
       "       9.99358196e-01, 9.99128051e-01, 9.89658343e-01, 9.98942975e-01,\n",
       "       9.92911957e-01, 9.86037219e-01, 6.30091983e-04, 6.22273331e-01,\n",
       "       9.44551056e-01, 9.99386533e-01, 1.31990798e-03, 1.55178710e-02,\n",
       "       9.99284114e-01, 9.99419877e-01, 1.34041202e-03, 9.98753300e-01,\n",
       "       1.02552224e-03, 9.98672331e-01, 9.90885955e-01, 9.99511967e-01,\n",
       "       9.99812323e-01, 9.72739401e-01, 9.91157693e-01, 9.98937331e-01,\n",
       "       2.76391626e-02, 9.56247658e-01, 4.20429126e-02, 7.51146924e-02,\n",
       "       1.18397471e-03, 9.98291359e-01, 9.90542087e-01, 9.99166013e-01,\n",
       "       9.95839793e-01, 9.17299800e-01, 8.09796580e-02, 9.87826861e-01,\n",
       "       7.58695025e-01, 9.97544867e-01, 9.99563309e-01, 9.98278144e-01,\n",
       "       2.57699665e-01, 1.35922783e-02, 1.80778461e-03, 4.79631767e-01,\n",
       "       2.43714571e-02, 4.84877008e-02, 9.99437502e-01, 9.63855973e-01,\n",
       "       9.77043857e-01, 9.54053656e-01, 3.61371870e-02, 9.99724488e-01,\n",
       "       3.26580536e-04, 9.98951755e-01, 9.39363846e-01, 7.61642282e-01,\n",
       "       7.12947393e-04, 9.67033268e-01, 9.99494304e-01, 9.74835853e-01,\n",
       "       3.55816935e-02, 9.73120645e-01, 9.94650386e-01, 6.53717995e-04,\n",
       "       9.98628168e-01, 9.75345581e-01, 1.39816183e-03, 9.99114499e-01,\n",
       "       9.99041102e-01, 9.71517622e-01, 2.13458098e-03, 3.22158029e-02,\n",
       "       9.99309986e-01, 9.98075997e-01, 7.21050990e-02, 7.53920086e-04,\n",
       "       4.57849100e-02, 9.99378872e-01, 9.32562344e-01, 9.89337563e-01,\n",
       "       7.34788912e-02, 2.11687932e-02, 9.84584214e-01, 9.99760248e-01,\n",
       "       2.29741760e-02, 9.90345541e-01, 1.55982424e-02, 1.69865619e-03,\n",
       "       7.57254276e-03, 6.39076712e-01, 9.98596080e-01, 3.09020055e-04,\n",
       "       8.40377001e-01, 9.99708136e-01, 3.91499144e-01, 9.98151026e-01,\n",
       "       9.99798445e-01, 1.22834365e-03, 9.97101388e-01, 9.80591959e-01,\n",
       "       9.99315719e-01, 9.99446463e-01, 3.78261288e-01, 9.97999191e-01,\n",
       "       9.99084004e-01, 9.59596896e-01, 9.81929449e-01, 1.81172203e-02,\n",
       "       1.45396261e-02, 1.00201017e-01, 9.85124164e-01, 1.78439027e-03,\n",
       "       9.80573684e-01, 9.92260794e-01, 9.06294168e-01, 1.57554529e-02,\n",
       "       9.75966796e-01, 9.98967794e-01, 9.99549623e-01, 9.99647209e-01,\n",
       "       6.18577971e-04, 9.99132683e-01, 9.22171337e-01, 9.97078996e-01,\n",
       "       8.35780428e-01, 1.53598949e-02, 9.16146483e-01, 7.49817660e-01,\n",
       "       2.49897266e-02, 9.50430569e-01, 3.70226962e-03, 9.99758391e-01,\n",
       "       9.60509046e-01, 9.99780174e-01, 1.16178314e-01, 7.74602156e-03,\n",
       "       2.40198643e-03, 9.38616320e-01, 9.99198064e-01, 6.38526004e-01,\n",
       "       9.95495739e-01, 5.71575857e-04, 5.68759851e-01, 3.48643504e-02,\n",
       "       3.23233354e-01, 9.98875021e-01, 9.97171108e-01, 9.99460754e-01,\n",
       "       9.97885695e-01, 4.14256169e-02, 7.92509678e-04, 1.64772356e-02,\n",
       "       9.56314199e-01, 9.50822460e-01, 9.98503972e-01, 7.09225840e-03,\n",
       "       2.85600146e-03, 9.95391178e-01, 9.99669324e-01, 9.97747086e-01,\n",
       "       7.35748017e-04, 9.52652797e-01, 2.69532315e-01, 9.99653657e-01,\n",
       "       9.99454937e-01, 1.63457640e-02, 2.53376303e-01, 6.43286075e-01,\n",
       "       6.05360941e-01, 7.51769618e-01, 7.92270742e-02, 9.99877446e-01,\n",
       "       6.81032865e-01, 2.85761032e-02, 5.50016814e-01, 5.50986914e-02,\n",
       "       1.67162669e-03, 3.88184350e-02, 8.51536487e-03, 9.50661825e-01,\n",
       "       1.34903002e-02, 9.99270330e-01, 2.81244763e-02, 3.59641019e-03,\n",
       "       9.99641497e-01, 2.59793431e-02, 5.22597355e-01, 6.28257497e-01,\n",
       "       9.98141161e-01, 4.20257235e-02, 9.99075164e-01, 9.94012992e-01,\n",
       "       9.98394512e-01, 9.99476551e-01, 9.70276813e-01, 3.62843783e-01,\n",
       "       6.46451692e-01, 3.57671163e-02, 8.36993578e-04, 9.99259456e-01,\n",
       "       9.77491152e-01, 1.88399380e-02, 3.67010228e-02, 2.87425221e-02,\n",
       "       7.78852624e-02, 3.17380135e-02, 9.97949837e-01, 9.93028414e-01,\n",
       "       9.89018982e-01, 4.22472546e-02, 5.76052139e-02, 9.83108617e-01,\n",
       "       9.88348013e-01, 9.61993270e-01, 9.98481694e-01, 7.37970612e-04,\n",
       "       1.13650316e-02, 3.30615538e-02, 4.43536711e-02, 9.70415623e-04,\n",
       "       9.99566938e-01, 1.44963090e-03, 5.51492148e-01, 9.99791996e-01,\n",
       "       2.15156330e-01, 9.90392318e-01, 1.11840085e-03, 9.82583506e-03,\n",
       "       9.03644468e-04, 4.92343941e-02, 5.20057890e-04, 9.98179296e-01,\n",
       "       2.61802262e-04, 9.96582383e-01, 2.87248906e-02, 9.69778907e-01,\n",
       "       9.69021335e-01, 3.38144246e-01, 4.10535442e-04, 9.99315287e-01,\n",
       "       7.48128232e-04, 3.37029009e-04, 2.77427210e-03, 5.76052139e-02,\n",
       "       2.09545137e-02, 9.99707951e-01, 4.26773679e-02, 4.45149480e-02,\n",
       "       6.22509791e-02, 8.56917894e-01, 9.99609690e-01, 9.99333384e-01,\n",
       "       7.31875170e-02, 9.99516328e-01, 9.89398749e-01, 1.75638011e-02,\n",
       "       1.40562485e-03, 9.96308303e-01, 9.70571014e-01, 6.31590625e-02,\n",
       "       5.99406235e-04, 9.99331792e-01, 9.56668469e-01, 1.04080086e-03,\n",
       "       4.54614216e-02, 9.56023429e-01, 2.10062951e-03, 5.80256209e-02,\n",
       "       9.77674130e-01, 2.81730514e-03, 9.65680739e-01, 9.98282242e-01,\n",
       "       2.83536000e-02, 8.03497292e-01, 2.68207625e-03, 9.79693731e-01,\n",
       "       9.97505200e-01, 9.64675509e-01, 2.90904093e-03, 1.92792215e-02,\n",
       "       5.30705694e-02, 3.20887514e-02, 9.85010639e-01, 5.42462318e-02,\n",
       "       5.70856771e-01, 3.32328966e-02, 1.98375101e-02, 9.99653438e-01,\n",
       "       9.55388088e-01, 7.33243837e-03, 9.99186114e-01, 9.99504379e-01,\n",
       "       9.99448130e-01, 3.64750787e-04, 8.94817260e-01, 3.43943052e-01,\n",
       "       1.66518801e-02, 9.92042208e-01, 9.99833258e-01, 9.98873601e-01,\n",
       "       9.99265609e-01, 9.52860559e-01, 9.99559649e-01, 2.57212164e-02,\n",
       "       9.99138802e-01, 9.99841003e-01, 9.59268672e-01, 9.39228632e-01,\n",
       "       1.52110851e-03, 6.93030752e-02, 9.99569995e-01, 9.78082228e-01,\n",
       "       9.80261273e-04, 9.99362412e-01, 9.77512261e-01, 7.03711232e-04,\n",
       "       2.14480755e-02, 7.36194984e-01, 9.93535771e-01, 9.99352092e-01,\n",
       "       9.85239822e-01, 9.96634555e-01, 9.99799052e-01, 8.31993331e-02,\n",
       "       2.32766983e-03, 8.21701849e-04, 1.98786677e-03, 6.55279106e-04,\n",
       "       7.31758049e-03, 1.02732176e-03, 3.32528362e-01, 9.97491898e-01,\n",
       "       8.41995083e-04, 9.98516393e-01, 3.91190153e-03, 9.52274760e-01,\n",
       "       9.97657181e-01, 3.27720405e-01, 9.99730149e-01, 2.76767676e-03,\n",
       "       6.04541210e-01, 7.07916865e-04, 9.98765039e-01, 2.51939742e-02,\n",
       "       7.09484874e-01, 8.27675258e-02, 9.50343884e-01, 9.41617935e-01,\n",
       "       9.71908721e-01, 9.99071398e-01, 9.99508498e-01, 9.30207635e-01,\n",
       "       2.54453976e-02, 9.98316425e-01, 9.97765777e-01, 7.51443538e-02,\n",
       "       6.58748714e-01, 1.38325168e-03, 2.70973440e-02, 1.41382528e-02,\n",
       "       9.99724314e-01, 9.98792677e-01, 9.95423117e-01, 9.83251715e-01,\n",
       "       3.84963321e-01, 8.64517915e-01, 5.41811545e-02, 1.79504283e-03,\n",
       "       1.79368731e-02, 1.34238811e-02, 2.43297625e-02, 9.90446163e-01,\n",
       "       2.69904674e-02, 9.99022643e-01, 5.99784815e-04, 9.99485793e-01,\n",
       "       1.20026387e-03, 9.99768381e-01, 1.34361078e-03, 8.30564058e-04,\n",
       "       9.92083528e-01, 9.99429118e-01, 1.68561882e-03, 3.62084269e-02,\n",
       "       9.98125605e-01, 9.81502532e-01, 9.99423971e-01, 1.39728003e-03,\n",
       "       6.65358463e-01, 9.99668534e-01, 5.08161193e-04, 3.20367666e-02,\n",
       "       6.81902742e-04, 3.84847125e-02, 2.59911635e-03, 9.99439197e-01,\n",
       "       3.83812998e-02, 9.72118667e-01, 9.78194440e-01, 5.08197182e-01,\n",
       "       9.26999208e-04, 2.03053076e-02, 2.78905991e-03, 4.59608885e-04,\n",
       "       9.94522325e-01, 9.82374535e-01, 5.76365473e-04, 9.98303403e-01,\n",
       "       9.87559083e-01, 1.38412464e-03, 7.53324466e-01, 5.94800699e-04,\n",
       "       1.25729178e-02, 9.86978190e-01, 9.99549339e-01, 1.44445204e-02,\n",
       "       9.85013664e-01, 4.47839438e-02, 3.23912298e-01, 1.04394402e-03,\n",
       "       1.85121782e-03, 9.97983721e-01, 9.99617950e-01, 9.97235675e-01,\n",
       "       9.73812531e-01, 4.23548494e-02, 9.98917560e-01, 9.99200479e-01,\n",
       "       9.99298374e-01, 8.82980707e-04, 9.70534902e-01, 9.99008707e-01,\n",
       "       9.51454365e-01, 9.99085609e-01, 9.99023876e-01, 6.86844830e-01,\n",
       "       9.87664764e-01, 9.99710196e-01, 9.99783677e-01, 9.98984871e-01,\n",
       "       9.99788761e-01, 3.49111675e-01, 9.78586362e-01, 9.98650004e-01,\n",
       "       9.98551213e-01, 7.96742462e-04, 9.41999759e-04, 1.86671039e-03,\n",
       "       9.95900269e-01, 5.54209891e-04, 9.98713451e-01, 9.67317908e-01,\n",
       "       9.89588949e-01, 1.19104715e-03, 1.58185650e-03, 9.98198704e-01,\n",
       "       5.05845602e-01, 2.63943966e-03, 6.79848895e-04, 9.68678717e-01,\n",
       "       4.62626998e-01, 9.98934122e-01, 5.07840416e-04, 6.43711420e-04,\n",
       "       4.76845490e-04, 1.17854571e-02, 9.88018563e-01, 1.49689996e-03,\n",
       "       3.85477021e-04, 9.77067246e-01, 3.86671658e-02, 9.82444824e-01,\n",
       "       7.10158168e-02, 2.37492345e-02, 9.99382173e-01, 5.93394316e-02,\n",
       "       9.81239700e-01, 9.02030610e-01, 6.23463710e-01, 2.92438214e-02,\n",
       "       9.99139345e-01, 9.82895405e-01, 2.87806503e-03, 9.69002364e-01,\n",
       "       4.49813471e-01, 9.66987747e-01, 8.10511189e-02, 1.22886933e-02,\n",
       "       2.20274636e-03, 1.30977372e-03, 5.14064551e-01, 9.98839059e-01,\n",
       "       1.67787281e-02, 9.99599597e-01, 6.45429803e-02, 2.51712927e-03,\n",
       "       6.29254760e-01, 9.83800513e-01, 1.47307612e-03, 9.93229427e-01,\n",
       "       9.98368550e-01, 9.99372172e-01, 7.56986592e-01, 9.93708232e-01,\n",
       "       1.09214215e-03, 8.04240613e-01, 3.05419784e-02, 9.98901434e-01,\n",
       "       4.84565260e-04, 7.07823708e-01, 9.99873826e-01, 9.57056172e-01,\n",
       "       9.76326199e-01, 1.21243868e-03, 7.08764475e-01, 9.95533467e-01,\n",
       "       9.99656102e-01, 9.98029777e-01, 1.47716471e-02, 1.06819378e-02,\n",
       "       9.99496674e-01, 9.98240968e-01, 9.87819262e-01, 9.96527220e-01,\n",
       "       9.57012641e-01, 9.10070987e-01, 9.58994185e-01, 5.57678319e-02,\n",
       "       9.81226529e-01, 7.99194662e-03, 9.34987470e-01, 9.71008710e-01,\n",
       "       9.98610175e-01, 9.98946158e-01, 9.99809284e-01, 1.75652412e-02,\n",
       "       9.99433862e-01, 3.33755240e-02, 6.38765682e-04, 9.94866696e-01,\n",
       "       2.61920061e-03, 6.13825219e-04, 9.84532066e-01, 5.77741969e-04,\n",
       "       9.97322860e-01, 6.34122914e-01, 1.04090287e-02, 9.81072103e-01,\n",
       "       5.29739053e-04, 9.97717563e-01, 9.98662058e-01, 9.98762092e-01,\n",
       "       9.99549054e-01, 3.25517416e-02, 9.88908867e-01, 4.17584459e-02,\n",
       "       6.23761204e-04, 9.99362815e-01, 9.96479149e-01, 9.95252205e-01,\n",
       "       9.71697240e-01, 3.19668706e-04, 9.99774884e-01, 2.66520523e-02,\n",
       "       1.47778609e-02, 9.96388811e-01, 2.13323572e-03, 5.56950803e-01,\n",
       "       6.21798773e-01, 9.99132135e-01, 9.89166734e-01, 9.17559634e-01,\n",
       "       9.96985793e-01, 9.58541486e-01, 9.99610182e-01, 2.61862364e-02,\n",
       "       9.87249310e-01, 9.80618805e-01, 9.82990543e-01, 9.51951685e-01,\n",
       "       9.90691433e-01, 9.42566911e-01, 2.82973607e-02, 4.86585438e-01,\n",
       "       9.45226206e-01, 9.86239575e-01, 2.65990956e-02, 9.99322594e-01,\n",
       "       9.97385620e-01, 1.88114577e-03, 2.77314955e-02, 9.91886801e-01,\n",
       "       1.30816470e-02, 2.70611300e-01, 3.88462396e-04, 9.98900047e-01,\n",
       "       1.09620894e-02, 9.80264068e-03, 9.84978617e-01, 2.20553976e-02,\n",
       "       1.02901713e-01, 3.46005980e-01, 7.19800505e-01, 1.67733170e-02,\n",
       "       9.86676141e-01, 9.97692983e-01, 9.36622312e-01, 9.69803330e-04,\n",
       "       1.32222338e-03, 9.99682239e-01, 6.20055217e-04, 9.99764068e-01,\n",
       "       5.45258189e-01, 9.86454816e-01, 9.97341713e-01, 3.22795711e-02,\n",
       "       9.96360934e-01, 5.72850880e-01, 9.99060791e-01, 1.37263174e-03,\n",
       "       9.77876429e-01, 1.35030798e-02, 4.25817566e-01, 9.82623175e-01,\n",
       "       2.55758507e-02, 9.99740525e-01, 4.90600157e-01, 7.36860600e-01,\n",
       "       4.80406027e-01, 9.99666178e-01, 1.34125798e-03, 2.94713652e-03,\n",
       "       9.97868006e-01, 9.87864106e-01, 9.91717840e-01, 9.99829245e-01,\n",
       "       1.36062733e-02, 9.79368622e-01, 9.99381783e-01, 9.71122835e-01,\n",
       "       9.99525168e-01, 5.28476866e-04, 7.02453619e-01, 7.36194984e-01,\n",
       "       2.16539023e-02, 6.54130855e-04, 9.99593371e-01, 9.99674022e-01,\n",
       "       9.99145956e-01, 2.85103478e-02, 1.23862994e-03, 5.19897305e-01,\n",
       "       9.70782044e-01, 3.39639300e-04, 9.87401327e-01, 8.42532478e-03,\n",
       "       6.33857920e-04, 4.20012698e-01, 1.50141844e-03, 2.34996644e-02,\n",
       "       7.93099128e-03, 2.88568694e-01, 7.62686460e-02, 8.44953592e-01,\n",
       "       9.99111825e-01, 9.98705767e-01, 1.95624428e-03, 4.38767789e-02,\n",
       "       2.60297183e-01, 9.99890536e-01, 9.99017424e-01, 9.98135552e-01,\n",
       "       9.95999161e-01, 9.99086185e-01, 3.29058530e-03, 7.15494772e-02,\n",
       "       6.80016257e-02, 3.62419372e-02, 9.84905656e-01, 3.38912325e-01,\n",
       "       2.24556699e-02, 9.99748570e-01, 2.94724024e-02, 5.39056070e-02,\n",
       "       2.16771304e-03, 8.41792988e-01, 1.25198316e-03, 9.99612009e-01,\n",
       "       9.98505858e-01, 9.98044895e-01, 9.86729508e-01, 9.99258520e-01,\n",
       "       9.79418476e-01, 4.29678138e-02, 9.20459730e-04, 6.54988706e-02,\n",
       "       1.59430925e-01, 9.99371776e-01, 9.54951839e-01, 1.93721655e-02,\n",
       "       1.36696940e-02, 9.64723579e-01, 9.98800435e-01, 8.88737985e-01,\n",
       "       9.84904415e-01, 9.99090466e-01, 2.62383932e-02, 9.84868888e-01,\n",
       "       2.23524103e-02, 9.47822524e-01, 9.64621233e-01, 1.82529493e-01,\n",
       "       2.72219130e-02, 9.98250304e-01, 1.11965329e-02, 9.97525893e-01,\n",
       "       9.99614991e-01, 3.65472462e-01, 9.94692501e-01, 9.98847974e-01,\n",
       "       9.98702678e-01, 8.14159291e-01, 9.99061976e-01, 4.92099106e-04,\n",
       "       1.63629456e-03, 9.35195657e-01, 3.53316636e-01, 9.98771597e-01,\n",
       "       2.23006473e-02, 5.59034479e-01, 9.77849077e-01, 6.43733086e-02,\n",
       "       2.03093840e-02, 1.39395367e-03, 9.99823781e-01, 1.99679253e-01,\n",
       "       9.96030700e-01, 1.48843890e-02, 9.85462617e-01, 6.17463373e-02,\n",
       "       8.14063683e-01, 2.47866988e-03, 9.98517328e-01, 9.72614512e-01,\n",
       "       8.75148939e-02, 9.85691012e-01, 2.29599993e-02, 9.98355931e-01,\n",
       "       9.81306882e-01, 9.96738583e-01, 3.90842677e-02, 9.98743653e-01,\n",
       "       9.98222014e-01, 9.99796884e-01, 9.60174795e-01, 9.82582637e-01,\n",
       "       9.54963005e-04, 9.83542446e-01, 9.99496991e-01, 8.02561812e-02,\n",
       "       9.12342222e-01, 9.98586110e-01, 2.92403538e-04, 9.63292035e-01,\n",
       "       2.88492266e-03, 9.66300509e-01, 1.01764598e-03, 2.91586859e-02,\n",
       "       9.98331453e-01, 9.98819533e-01, 9.60391215e-01, 9.93274722e-01,\n",
       "       4.24634874e-02, 9.99734281e-01, 9.98290281e-01, 9.98480736e-01,\n",
       "       9.96243396e-01, 9.98343215e-01, 9.34726350e-01, 2.98919656e-01,\n",
       "       9.95281838e-01, 3.50770223e-01, 2.11046132e-02, 3.75130096e-02,\n",
       "       9.99644476e-01, 1.25422873e-02, 1.97463440e-02, 9.78773759e-01,\n",
       "       4.54340139e-02, 8.17336574e-04, 9.99480901e-01, 9.97919325e-01,\n",
       "       3.77319161e-04, 9.87575621e-01, 9.92436584e-01, 2.85532712e-04,\n",
       "       2.18286318e-01, 9.56720181e-01, 8.68919166e-04, 2.70720515e-02,\n",
       "       6.59195481e-04, 3.47698795e-03, 9.99289614e-01, 2.50309471e-02,\n",
       "       2.89664366e-01, 1.73947210e-03, 8.56338865e-01, 6.91805630e-02,\n",
       "       9.88769400e-01, 9.55241665e-01, 1.12705605e-03, 9.55964045e-01,\n",
       "       9.88671523e-01, 1.22182074e-03, 9.83129587e-01, 9.99368818e-01,\n",
       "       9.76091880e-01, 9.66480813e-01, 9.96242542e-01, 2.58113686e-02,\n",
       "       4.24768283e-02, 2.08948417e-03, 9.99310421e-01, 9.72959938e-01,\n",
       "       9.83246713e-01, 5.37699660e-01, 9.67594231e-01, 9.37564534e-01,\n",
       "       9.58872027e-01, 9.98574273e-01, 3.89947273e-02, 6.00837725e-04,\n",
       "       9.98411630e-01, 1.48801407e-03, 9.49324302e-01, 3.86641071e-01,\n",
       "       9.99767681e-01, 7.81813223e-01, 6.66979868e-01, 2.45136399e-02,\n",
       "       4.46819528e-02, 9.98369579e-01, 2.00470446e-02, 9.98909871e-01,\n",
       "       4.18402863e-02, 9.23605294e-01, 9.67007909e-01, 9.73768131e-01,\n",
       "       9.99008081e-01, 8.50002194e-04, 9.66760794e-01, 2.37861640e-02,\n",
       "       9.45640027e-01, 3.05359122e-02, 1.18254723e-02, 6.61250278e-01,\n",
       "       9.86418493e-01, 9.99793725e-01, 8.75538686e-01, 9.94745581e-01,\n",
       "       9.93123527e-04, 3.10104690e-01, 9.99845933e-01, 6.16280646e-02,\n",
       "       5.20569016e-02, 9.77410573e-01, 9.99376996e-01, 9.99174912e-01,\n",
       "       9.99627162e-01, 1.56971417e-03, 1.39882331e-02, 1.58905854e-02,\n",
       "       9.96840125e-01, 4.47741424e-04, 9.97300474e-01, 9.98294350e-01,\n",
       "       9.76471519e-01, 9.47236881e-01, 1.85003532e-01, 8.30223251e-01,\n",
       "       9.90908236e-01, 3.39708593e-02, 3.21349040e-03, 7.65376819e-01,\n",
       "       9.93740956e-01, 6.72698474e-03, 9.97214318e-01, 9.99016321e-01,\n",
       "       1.61025577e-03, 9.90440183e-01, 1.97396977e-02, 5.90230529e-04,\n",
       "       9.99508809e-01, 1.41010145e-02, 4.86469080e-02, 1.69758519e-03,\n",
       "       2.21977455e-03, 6.06810732e-02, 9.99025586e-01, 1.83683859e-02,\n",
       "       3.01171242e-01, 9.44986738e-01, 9.99030762e-01, 9.99700924e-01,\n",
       "       8.09345539e-01, 1.95395954e-02, 2.53818057e-03, 3.01786067e-03,\n",
       "       9.97256869e-01, 4.51208796e-04, 1.37590729e-03, 9.90828827e-01,\n",
       "       9.98457140e-01, 9.81188119e-01, 2.94140112e-02, 4.31216142e-02,\n",
       "       9.73243142e-01, 9.79240815e-01, 9.58622612e-01, 2.65983468e-03,\n",
       "       9.25842028e-01, 9.96154867e-01, 2.08451339e-03, 9.78564167e-01,\n",
       "       1.09258652e-02, 5.85071932e-02, 9.97901916e-01, 9.99330948e-01,\n",
       "       9.46818016e-01, 3.56060985e-01])"
      ]
     },
     "execution_count": 22,
     "metadata": {},
     "output_type": "execute_result"
    }
   ],
   "source": [
    " # 1 is for probability of Male in Gender (target) column\n",
    "log_reg.predict_proba(X_test)[:,1]"
   ]
  },
  {
   "cell_type": "code",
   "execution_count": 23,
   "id": "172dd3d1",
   "metadata": {},
   "outputs": [
    {
     "data": {
      "text/plain": [
       "array([[401,  24],\n",
       "       [ 19, 526]], dtype=int64)"
      ]
     },
     "execution_count": 23,
     "metadata": {},
     "output_type": "execute_result"
    }
   ],
   "source": [
    "from sklearn.metrics import accuracy_score, precision_score,confusion_matrix\n",
    "cm_lr = confusion_matrix(y_test, y_pred)\n",
    "cm_lr"
   ]
  },
  {
   "cell_type": "code",
   "execution_count": 24,
   "id": "27789841",
   "metadata": {},
   "outputs": [
    {
     "data": {
      "text/plain": [
       "<AxesSubplot:>"
      ]
     },
     "execution_count": 24,
     "metadata": {},
     "output_type": "execute_result"
    },
    {
     "data": {
      "image/png": "[encoded data removed]",
      "text/plain": [
       "<Figure size 432x288 with 2 Axes>"
      ]
     },
     "metadata": {
      "needs_background": "light"
     },
     "output_type": "display_data"
    }
   ],
   "source": [
    "sns.heatmap(cm_lr, annot = True)"
   ]
  },
  {
   "cell_type": "code",
   "execution_count": 25,
   "id": "4a5fb713",
   "metadata": {
    "scrolled": true
   },
   "outputs": [
    {
     "name": "stdout",
     "output_type": "stream",
     "text": [
      "Accuarcy Score is: 95.57\n",
      "Precision Score is :  95.63636363636364\n"
     ]
    }
   ],
   "source": [
    "#Print accuarcy score\n",
    "AccScore_lr = accuracy_score(y_test, y_pred)\n",
    "AccScore_lr = round(AccScore_lr * 100,2)\n",
    "print(\"Accuarcy Score is:\", AccScore_lr)\n",
    "PrecisionScore_lr = precision_score(y_test, y_pred)\n",
    "PrecisionScore_lr = PrecisionScore_lr*100\n",
    "print('Precision Score is : ', PrecisionScore_lr)"
   ]
  },
  {
   "cell_type": "markdown",
   "id": "2bc02f9c",
   "metadata": {},
   "source": [
    "## Random Forest Classifier"
   ]
  },
  {
   "cell_type": "code",
   "execution_count": 26,
   "id": "71fa3dc3",
   "metadata": {},
   "outputs": [],
   "source": [
    "X_rf = gender.iloc[:,:-1] # All except last column(Gender)\n",
    "y_rf= gender.iloc[:,-1] # Gender only"
   ]
  },
  {
   "cell_type": "code",
   "execution_count": 27,
   "id": "439cf06d",
   "metadata": {},
   "outputs": [
    {
     "data": {
      "text/html": [
       "<div>\n",
       "<style scoped>\n",
       "    .dataframe tbody tr th:only-of-type {\n",
       "        vertical-align: middle;\n",
       "    }\n",
       "\n",
       "    .dataframe tbody tr th {\n",
       "        vertical-align: top;\n",
       "    }\n",
       "\n",
       "    .dataframe thead th {\n",
       "        text-align: right;\n",
       "    }\n",
       "</style>\n",
       "<table border=\"1\" class=\"dataframe\">\n",
       "  <thead>\n",
       "    <tr style=\"text-align: right;\">\n",
       "      <th></th>\n",
       "      <th>0</th>\n",
       "    </tr>\n",
       "  </thead>\n",
       "  <tbody>\n",
       "    <tr>\n",
       "      <th>0</th>\n",
       "      <td>1</td>\n",
       "    </tr>\n",
       "    <tr>\n",
       "      <th>1</th>\n",
       "      <td>0</td>\n",
       "    </tr>\n",
       "    <tr>\n",
       "      <th>2</th>\n",
       "      <td>1</td>\n",
       "    </tr>\n",
       "    <tr>\n",
       "      <th>3</th>\n",
       "      <td>1</td>\n",
       "    </tr>\n",
       "    <tr>\n",
       "      <th>4</th>\n",
       "      <td>0</td>\n",
       "    </tr>\n",
       "    <tr>\n",
       "      <th>...</th>\n",
       "      <td>...</td>\n",
       "    </tr>\n",
       "    <tr>\n",
       "      <th>3228</th>\n",
       "      <td>1</td>\n",
       "    </tr>\n",
       "    <tr>\n",
       "      <th>3229</th>\n",
       "      <td>0</td>\n",
       "    </tr>\n",
       "    <tr>\n",
       "      <th>3230</th>\n",
       "      <td>1</td>\n",
       "    </tr>\n",
       "    <tr>\n",
       "      <th>3231</th>\n",
       "      <td>0</td>\n",
       "    </tr>\n",
       "    <tr>\n",
       "      <th>3232</th>\n",
       "      <td>1</td>\n",
       "    </tr>\n",
       "  </tbody>\n",
       "</table>\n",
       "<p>3233 rows × 1 columns</p>\n",
       "</div>"
      ],
      "text/plain": [
       "      0\n",
       "0     1\n",
       "1     0\n",
       "2     1\n",
       "3     1\n",
       "4     0\n",
       "...  ..\n",
       "3228  1\n",
       "3229  0\n",
       "3230  1\n",
       "3231  0\n",
       "3232  1\n",
       "\n",
       "[3233 rows x 1 columns]"
      ]
     },
     "execution_count": 27,
     "metadata": {},
     "output_type": "execute_result"
    }
   ],
   "source": [
    "# trasnform gender columns values to 0 or 1 only\n",
    "from sklearn.preprocessing import LabelEncoder\n",
    "le = LabelEncoder()\n",
    "y_rf = le.fit_transform(y_rf)\n",
    "pd.DataFrame(y_rf)"
   ]
  },
  {
   "cell_type": "code",
   "execution_count": 28,
   "id": "617cab1f",
   "metadata": {},
   "outputs": [
    {
     "name": "stdout",
     "output_type": "stream",
     "text": [
      "X_train shape is  (2263, 7)\n",
      "X_test shape is  (970, 7)\n",
      "y_train shape is  (2263,)\n",
      "y_test shape is  (970,)\n"
     ]
    }
   ],
   "source": [
    "rf_start_time = time.time()\n",
    "from sklearn.model_selection import train_test_split\n",
    "X_train_rf, X_test_rf, y_train_rf, y_test_rf = train_test_split(X_rf, y_rf, test_size=0.3, random_state=33, shuffle =True)\n",
    "print('X_train shape is ' , X_train_rf.shape)\n",
    "print('X_test shape is ' , X_test_rf.shape)\n",
    "print('y_train shape is ' , y_train_rf.shape)\n",
    "print('y_test shape is ' , y_test_rf.shape)"
   ]
  },
  {
   "cell_type": "code",
   "execution_count": 29,
   "id": "fcd62a0e",
   "metadata": {},
   "outputs": [],
   "source": [
    "from sklearn.preprocessing import StandardScaler\n",
    "sc = StandardScaler()\n",
    "X_train_rf = sc.fit_transform(X_train_rf)\n",
    "X_test_rf = sc.transform(X_test_rf)"
   ]
  },
  {
   "cell_type": "code",
   "execution_count": 30,
   "id": "ca1ad1ae",
   "metadata": {
    "scrolled": true
   },
   "outputs": [],
   "source": [
    "from sklearn.ensemble import RandomForestClassifier\n",
    "rf = RandomForestClassifier(criterion = 'gini',n_estimators=100,max_depth=20,random_state=33)\n",
    "rf.fit(X_train_rf, y_train_rf)\n",
    "# Predict Values\n",
    "y_pred_rf = rf.predict(X_test_rf)\n",
    "rf_end_time = time.time()"
   ]
  },
  {
   "cell_type": "code",
   "execution_count": 31,
   "id": "cfd75a1f",
   "metadata": {},
   "outputs": [
    {
     "name": "stdout",
     "output_type": "stream",
     "text": [
      "RandomForestClassifierModel Train Score is :  99.9116217410517\n",
      "RandomForestClassifierModel Test Score is :  94.84536082474226\n",
      "RandomForestClassifierModel features importances are :  [0.00379362 0.12248296 0.08468397 0.24464497 0.1502159  0.18566263\n",
      " 0.20851595]\n",
      "RandomForestClassifierModel Classes are :  [0 1]\n"
     ]
    }
   ],
   "source": [
    "print('RandomForestClassifierModel Train Score is : ' , rf.score(X_train_rf, y_train_rf)*100)\n",
    "print('RandomForestClassifierModel Test Score is : ' , rf.score(X_test_rf, y_test_rf)*100)\n",
    "print('RandomForestClassifierModel features importances are : ' , rf.feature_importances_)\n",
    "print('RandomForestClassifierModel Classes are : ' , rf.classes_)"
   ]
  },
  {
   "cell_type": "code",
   "execution_count": 32,
   "id": "09ad82cd",
   "metadata": {
    "scrolled": true
   },
   "outputs": [
    {
     "data": {
      "text/plain": [
       "array([[431,  26],\n",
       "       [ 24, 489]], dtype=int64)"
      ]
     },
     "execution_count": 32,
     "metadata": {},
     "output_type": "execute_result"
    }
   ],
   "source": [
    "from sklearn.metrics import accuracy_score, precision_score,confusion_matrix\n",
    "cm_rf = confusion_matrix(y_test_rf, y_pred_rf)\n",
    "cm_rf"
   ]
  },
  {
   "cell_type": "code",
   "execution_count": 33,
   "id": "64f45aaa",
   "metadata": {
    "scrolled": true
   },
   "outputs": [
    {
     "data": {
      "text/plain": [
       "<AxesSubplot:>"
      ]
     },
     "execution_count": 33,
     "metadata": {},
     "output_type": "execute_result"
    },
    {
     "data": {
      "image/png": "[encoded data removed]",
      "text/plain": [
       "<Figure size 432x288 with 2 Axes>"
      ]
     },
     "metadata": {
      "needs_background": "light"
     },
     "output_type": "display_data"
    }
   ],
   "source": [
    "sns.heatmap(cm_rf, annot = True)"
   ]
  },
  {
   "cell_type": "code",
   "execution_count": 34,
   "id": "167e636b",
   "metadata": {},
   "outputs": [
    {
     "name": "stdout",
     "output_type": "stream",
     "text": [
      "Accuarcy Score is: 94.85\n",
      "Precision Score is :  94.95145631067962\n"
     ]
    }
   ],
   "source": [
    "#Print accuarcy score\n",
    "AccScore_rf = accuracy_score(y_test_rf, y_pred_rf)\n",
    "AccScore_rf = round(AccScore_rf * 100,2)\n",
    "print(\"Accuarcy Score is:\", AccScore_rf)\n",
    "PrecisionScore_rf = precision_score(y_test_rf, y_pred_rf)\n",
    "PrecisionScore_rf = PrecisionScore_rf*100\n",
    "print('Precision Score is : ', PrecisionScore_rf)"
   ]
  },
  {
   "cell_type": "markdown",
   "id": "5506b98f",
   "metadata": {},
   "source": [
    "## Decision Tree Classifier"
   ]
  },
  {
   "cell_type": "code",
   "execution_count": 35,
   "id": "8646b6fe",
   "metadata": {},
   "outputs": [],
   "source": [
    "X_dt = gender.iloc[:,:-1] # All except last column(Gender)\n",
    "y_dt= gender.iloc[:,-1] # Gender only"
   ]
  },
  {
   "cell_type": "code",
   "execution_count": 36,
   "id": "936b9a34",
   "metadata": {},
   "outputs": [],
   "source": [
    "# trasnform gender columns values to 0 or 1 only\n",
    "from sklearn.preprocessing import LabelEncoder\n",
    "le = LabelEncoder()\n",
    "y_dt = le.fit_transform(y_dt)\n",
    "le_g = pd.DataFrame(y_dt)"
   ]
  },
  {
   "cell_type": "code",
   "execution_count": 37,
   "id": "93f3e003",
   "metadata": {},
   "outputs": [
    {
     "name": "stdout",
     "output_type": "stream",
     "text": [
      "X_train shape is  (2263, 7)\n",
      "X_test shape is  (970, 7)\n",
      "y_train shape is  (2263,)\n",
      "y_test shape is  (970,)\n"
     ]
    }
   ],
   "source": [
    "dt_start_time = time.time()\n",
    "from sklearn.model_selection import train_test_split\n",
    "X_train_dt, X_test_dt, y_train_dt, y_test_dt = train_test_split(X_dt, y_dt, test_size=0.3, random_state=33, shuffle =True)\n",
    "print('X_train shape is ' , X_train_dt.shape)\n",
    "print('X_test shape is ' , X_test_dt.shape)\n",
    "print('y_train shape is ' , y_train_dt.shape)\n",
    "print('y_test shape is ' , y_test_dt.shape)"
   ]
  },
  {
   "cell_type": "code",
   "execution_count": 38,
   "id": "310a8e4d",
   "metadata": {},
   "outputs": [],
   "source": [
    "from sklearn.preprocessing import StandardScaler\n",
    "sc = StandardScaler()\n",
    "X_train_dt = sc.fit_transform(X_train_dt)\n",
    "X_test_dt = sc.transform(X_test_dt)"
   ]
  },
  {
   "cell_type": "code",
   "execution_count": 39,
   "id": "0588cead",
   "metadata": {},
   "outputs": [],
   "source": [
    "# import the Decision tree classifier from scikit learn\n",
    "from sklearn.tree import DecisionTreeClassifier\n",
    "#initialize the Decision tree model using Entropy (Information Gain)\n",
    "DT=DecisionTreeClassifier(criterion ='entropy', max_depth=6,random_state= 33)\n",
    "#fit the DT Model\n",
    "DT.fit(X_train_dt,y_train_dt)\n",
    "# Predicted the result\n",
    "y_pred_dt=DT.predict(X_test_dt)\n",
    "y_pred_dt\n",
    "dt_end_time = time.time()"
   ]
  },
  {
   "cell_type": "code",
   "execution_count": 40,
   "id": "42a5a876",
   "metadata": {},
   "outputs": [
    {
     "name": "stdout",
     "output_type": "stream",
     "text": [
      "Decision Tree Classifier Model Train Score is :  96.90676093680955\n",
      "Decision Tree Classifier Model Test Score is :  95.15463917525773\n"
     ]
    }
   ],
   "source": [
    "print('Decision Tree Classifier Model Train Score is : ' , DT.score(X_train_dt, y_train_dt)*100)\n",
    "print('Decision Tree Classifier Model Test Score is : ' , DT.score(X_test_dt, y_test_dt)*100)"
   ]
  },
  {
   "cell_type": "code",
   "execution_count": 41,
   "id": "264def98",
   "metadata": {},
   "outputs": [
    {
     "data": {
      "text/plain": [
       "array([[439,  18],\n",
       "       [ 29, 484]], dtype=int64)"
      ]
     },
     "execution_count": 41,
     "metadata": {},
     "output_type": "execute_result"
    }
   ],
   "source": [
    "# Making  a Confusion Matrix\n",
    "from sklearn.metrics import confusion_matrix\n",
    "cm_dt=confusion_matrix(y_test_dt, y_pred_dt)\n",
    "cm_dt\n"
   ]
  },
  {
   "cell_type": "code",
   "execution_count": 42,
   "id": "380da6c2",
   "metadata": {
    "scrolled": true
   },
   "outputs": [
    {
     "name": "stdout",
     "output_type": "stream",
     "text": [
      "Accuarcy Score is: 94.85\n",
      "Precision Score is :  96.41434262948208\n",
      "Recall_Score is: 94.34697855750487\n"
     ]
    }
   ],
   "source": [
    "#Print accuarcy score\n",
    "AccScore_dt = accuracy_score(y_test_dt, y_pred_dt)\n",
    "AccScore_dt = round(AccScore_dt * 100,2)\n",
    "print(\"Accuarcy Score is:\", AccScore_rf)\n",
    "\n",
    "#Print Precision  Score\n",
    "PrecisionScore_dt = precision_score(y_test_dt, y_pred_dt)\n",
    "PrecisionScore_dt = PrecisionScore_dt*100\n",
    "print('Precision Score is : ', PrecisionScore_dt)\n",
    "\n",
    "# Recall Score\n",
    "from sklearn.metrics import recall_score\n",
    "recall_dt = recall_score(y_test_dt,y_pred_dt) #Average ='micro' used only for multi class only\n",
    "recall_dt = recall_dt*100\n",
    "print('Recall_Score is:',recall_dt)"
   ]
  },
  {
   "cell_type": "markdown",
   "id": "6f79ac96",
   "metadata": {},
   "source": [
    "## SVC- Linear"
   ]
  },
  {
   "cell_type": "code",
   "execution_count": 43,
   "id": "541548c7",
   "metadata": {},
   "outputs": [],
   "source": [
    "X_svc = gender.iloc[:,:-1] # All except last column(Gender)\n",
    "y_svc= gender.iloc[:,-1] # Gender only"
   ]
  },
  {
   "cell_type": "code",
   "execution_count": 44,
   "id": "a39efe9a",
   "metadata": {},
   "outputs": [
    {
     "name": "stdout",
     "output_type": "stream",
     "text": [
      "X_train shape is  (2263, 7)\n",
      "X_test shape is  (970, 7)\n",
      "y_train shape is  (2263,)\n",
      "y_test shape is  (970,)\n"
     ]
    }
   ],
   "source": [
    "svc_start_time = time.time()\n",
    "from sklearn.model_selection import train_test_split\n",
    "X_train_svc, X_test_svc, y_train_svc, y_test_svc = train_test_split(X_svc, y_svc, test_size=0.3, random_state=33, shuffle =True)\n",
    "print('X_train shape is ' , X_train_svc.shape)\n",
    "print('X_test shape is ' , X_test_svc.shape)\n",
    "print('y_train shape is ' , y_train_svc.shape)\n",
    "print('y_test shape is ' , y_test_svc.shape)"
   ]
  },
  {
   "cell_type": "code",
   "execution_count": 45,
   "id": "7d39bae4",
   "metadata": {},
   "outputs": [],
   "source": [
    "# transform all columns values except gender column to 0 to 1 range only\n",
    "from sklearn.preprocessing import StandardScaler\n",
    "sc = StandardScaler()\n",
    "X_train_svc = sc.fit_transform(X_train_svc)\n",
    "X_test_svc = sc.transform(X_test_svc)"
   ]
  },
  {
   "cell_type": "code",
   "execution_count": 46,
   "id": "d40266d1",
   "metadata": {},
   "outputs": [],
   "source": [
    "# import support vector machine from scikit learn\n",
    "from sklearn.svm import SVC\n",
    "svc_linear = SVC(kernel = 'linear')\n",
    "# Fitting the dataset\n",
    "svc_linear.fit(X_train_svc, y_train_svc)\n",
    "# Prediction - always use X_test\n",
    "y_pred_svc = svc_linear.predict(X_test_svc)\n",
    "y_pred_svc\n",
    "svc_end_time = time.time()"
   ]
  },
  {
   "cell_type": "code",
   "execution_count": 47,
   "id": "e172b10b",
   "metadata": {},
   "outputs": [
    {
     "name": "stdout",
     "output_type": "stream",
     "text": [
      "Support Vector Machine Linear Model Train Score is :  95.44851966416262\n",
      "Support Vector Machine Linear Model Test Score is :  94.3298969072165\n"
     ]
    }
   ],
   "source": [
    "print('Support Vector Machine Linear Model Train Score is : ' , svc_linear.score(X_train_svc, y_train_svc)*100)\n",
    "print('Support Vector Machine Linear Model Test Score is : ' , svc_linear.score(X_test_svc, y_test_svc)*100)"
   ]
  },
  {
   "cell_type": "code",
   "execution_count": 48,
   "id": "ae186336",
   "metadata": {},
   "outputs": [
    {
     "data": {
      "text/plain": [
       "array([[425,  32],\n",
       "       [ 23, 490]], dtype=int64)"
      ]
     },
     "execution_count": 48,
     "metadata": {},
     "output_type": "execute_result"
    }
   ],
   "source": [
    "# Making  a Confusion Matrix\n",
    "from sklearn.metrics import confusion_matrix\n",
    "cm_svc=confusion_matrix(y_test_svc, y_pred_svc)\n",
    "cm_svc"
   ]
  },
  {
   "cell_type": "code",
   "execution_count": 49,
   "id": "c6f1fdeb",
   "metadata": {},
   "outputs": [
    {
     "name": "stdout",
     "output_type": "stream",
     "text": [
      "Accuarcy Score is: 94.33\n"
     ]
    }
   ],
   "source": [
    "#Print accuarcy score\n",
    "AccScore_svc = accuracy_score(y_test_svc, y_pred_svc)\n",
    "AccScore_svc = round(AccScore_svc * 100,2)\n",
    "print(\"Accuarcy Score is:\", AccScore_svc)\n"
   ]
  },
  {
   "cell_type": "markdown",
   "id": "e81c7b6a",
   "metadata": {},
   "source": [
    "##  Summary Metrics for the 4 classifications"
   ]
  },
  {
   "cell_type": "code",
   "execution_count": 50,
   "id": "72fc82d2",
   "metadata": {},
   "outputs": [
    {
     "data": {
      "text/html": [
       "<div>\n",
       "<style scoped>\n",
       "    .dataframe tbody tr th:only-of-type {\n",
       "        vertical-align: middle;\n",
       "    }\n",
       "\n",
       "    .dataframe tbody tr th {\n",
       "        vertical-align: top;\n",
       "    }\n",
       "\n",
       "    .dataframe thead th {\n",
       "        text-align: right;\n",
       "    }\n",
       "</style>\n",
       "<table border=\"1\" class=\"dataframe\">\n",
       "  <thead>\n",
       "    <tr style=\"text-align: right;\">\n",
       "      <th></th>\n",
       "      <th>Logistic Regression</th>\n",
       "      <th>Random Forest</th>\n",
       "      <th>Decision Tree</th>\n",
       "      <th>SVC Linear</th>\n",
       "    </tr>\n",
       "  </thead>\n",
       "  <tbody>\n",
       "    <tr>\n",
       "      <th>0</th>\n",
       "      <td>95.57</td>\n",
       "      <td>94.85</td>\n",
       "      <td>95.15</td>\n",
       "      <td>94.33</td>\n",
       "    </tr>\n",
       "  </tbody>\n",
       "</table>\n",
       "</div>"
      ],
      "text/plain": [
       "   Logistic Regression  Random Forest  Decision Tree  SVC Linear\n",
       "0                95.57          94.85          95.15       94.33"
      ]
     },
     "execution_count": 50,
     "metadata": {},
     "output_type": "execute_result"
    }
   ],
   "source": [
    "# To read accuracy score of different models in dataframe\n",
    "df_modelAcc = pd.DataFrame({'Logistic Regression': [AccScore_lr],\n",
    "                   'Random Forest': [AccScore_rf],\n",
    "                   'Decision Tree': [AccScore_dt],\n",
    "                   'SVC Linear': [AccScore_svc]})\n",
    "df_modelAcc"
   ]
  },
  {
   "cell_type": "code",
   "execution_count": 51,
   "id": "640a235a",
   "metadata": {
    "scrolled": true
   },
   "outputs": [
    {
     "data": {
      "text/html": [
       "<div>\n",
       "<style scoped>\n",
       "    .dataframe tbody tr th:only-of-type {\n",
       "        vertical-align: middle;\n",
       "    }\n",
       "\n",
       "    .dataframe tbody tr th {\n",
       "        vertical-align: top;\n",
       "    }\n",
       "\n",
       "    .dataframe thead th {\n",
       "        text-align: right;\n",
       "    }\n",
       "</style>\n",
       "<table border=\"1\" class=\"dataframe\">\n",
       "  <thead>\n",
       "    <tr style=\"text-align: right;\">\n",
       "      <th></th>\n",
       "      <th>Model</th>\n",
       "      <th>Accuracy Score</th>\n",
       "    </tr>\n",
       "  </thead>\n",
       "  <tbody>\n",
       "    <tr>\n",
       "      <th>0</th>\n",
       "      <td>Logistic Regression</td>\n",
       "      <td>95.57%</td>\n",
       "    </tr>\n",
       "    <tr>\n",
       "      <th>2</th>\n",
       "      <td>Decision Tree</td>\n",
       "      <td>95.15%</td>\n",
       "    </tr>\n",
       "    <tr>\n",
       "      <th>1</th>\n",
       "      <td>Random Forest</td>\n",
       "      <td>94.85%</td>\n",
       "    </tr>\n",
       "    <tr>\n",
       "      <th>3</th>\n",
       "      <td>SVC Linear</td>\n",
       "      <td>94.33%</td>\n",
       "    </tr>\n",
       "  </tbody>\n",
       "</table>\n",
       "</div>"
      ],
      "text/plain": [
       "                 Model Accuracy Score\n",
       "0  Logistic Regression         95.57%\n",
       "2        Decision Tree         95.15%\n",
       "1        Random Forest         94.85%\n",
       "3           SVC Linear         94.33%"
      ]
     },
     "execution_count": 51,
     "metadata": {},
     "output_type": "execute_result"
    }
   ],
   "source": [
    "lr_time = round(end_time - start_time,3)\n",
    "rf_time = round(rf_end_time - rf_start_time,3)\n",
    "dt_time = round(dt_end_time - dt_start_time,3)\n",
    "svc_time = round(svc_end_time - svc_start_time,3)\n",
    "\n",
    "# Select the 'Logistic Regression', 'Random Forest', 'Decision Tree', 'SVC Linear' columns\n",
    "series = df_modelAcc[['Logistic Regression', 'Random Forest', 'Decision Tree', 'SVC Linear']]\n",
    "series = series.squeeze()\n",
    "df = series.to_frame()\n",
    "df = df.reset_index()\n",
    "df.columns = ['Model','Accuracy Score']\n",
    "df['Accuracy Score'] = df['Accuracy Score'].apply(lambda x: f'{x/100:.2%}')\n",
    "df.sort_values(by=\"Accuracy Score\", ascending= False)"
   ]
  },
  {
   "cell_type": "code",
   "execution_count": 52,
   "id": "80f7f8f5",
   "metadata": {
    "scrolled": true
   },
   "outputs": [
    {
     "data": {
      "text/html": [
       "<div>\n",
       "<style scoped>\n",
       "    .dataframe tbody tr th:only-of-type {\n",
       "        vertical-align: middle;\n",
       "    }\n",
       "\n",
       "    .dataframe tbody tr th {\n",
       "        vertical-align: top;\n",
       "    }\n",
       "\n",
       "    .dataframe thead th {\n",
       "        text-align: right;\n",
       "    }\n",
       "</style>\n",
       "<table border=\"1\" class=\"dataframe\">\n",
       "  <thead>\n",
       "    <tr style=\"text-align: right;\">\n",
       "      <th></th>\n",
       "      <th>Logistic Regression</th>\n",
       "      <th>Random Forest</th>\n",
       "      <th>Decision Tree</th>\n",
       "      <th>SVC Linear</th>\n",
       "    </tr>\n",
       "  </thead>\n",
       "  <tbody>\n",
       "    <tr>\n",
       "      <th>0</th>\n",
       "      <td>0.141</td>\n",
       "      <td>0.281</td>\n",
       "      <td>0.031</td>\n",
       "      <td>0.125</td>\n",
       "    </tr>\n",
       "  </tbody>\n",
       "</table>\n",
       "</div>"
      ],
      "text/plain": [
       "   Logistic Regression  Random Forest  Decision Tree  SVC Linear\n",
       "0                0.141          0.281          0.031       0.125"
      ]
     },
     "execution_count": 52,
     "metadata": {},
     "output_type": "execute_result"
    }
   ],
   "source": [
    "# To read time score of different models in dataframe\n",
    "df_modelTime = pd.DataFrame({'Logistic Regression': [lr_time],\n",
    "                   'Random Forest': [rf_time],\n",
    "                   'Decision Tree': [dt_time],\n",
    "                   'SVC Linear': [svc_time]})\n",
    "df_modelTime"
   ]
  },
  {
   "cell_type": "code",
   "execution_count": 53,
   "id": "903a695d",
   "metadata": {},
   "outputs": [
    {
     "data": {
      "text/html": [
       "<div>\n",
       "<style scoped>\n",
       "    .dataframe tbody tr th:only-of-type {\n",
       "        vertical-align: middle;\n",
       "    }\n",
       "\n",
       "    .dataframe tbody tr th {\n",
       "        vertical-align: top;\n",
       "    }\n",
       "\n",
       "    .dataframe thead th {\n",
       "        text-align: right;\n",
       "    }\n",
       "</style>\n",
       "<table border=\"1\" class=\"dataframe\">\n",
       "  <thead>\n",
       "    <tr style=\"text-align: right;\">\n",
       "      <th></th>\n",
       "      <th>Model</th>\n",
       "      <th>Run Time</th>\n",
       "    </tr>\n",
       "  </thead>\n",
       "  <tbody>\n",
       "    <tr>\n",
       "      <th>2</th>\n",
       "      <td>Decision Tree</td>\n",
       "      <td>0.031s</td>\n",
       "    </tr>\n",
       "    <tr>\n",
       "      <th>3</th>\n",
       "      <td>SVC Linear</td>\n",
       "      <td>0.125s</td>\n",
       "    </tr>\n",
       "    <tr>\n",
       "      <th>0</th>\n",
       "      <td>Logistic Regression</td>\n",
       "      <td>0.141s</td>\n",
       "    </tr>\n",
       "    <tr>\n",
       "      <th>1</th>\n",
       "      <td>Random Forest</td>\n",
       "      <td>0.281s</td>\n",
       "    </tr>\n",
       "  </tbody>\n",
       "</table>\n",
       "</div>"
      ],
      "text/plain": [
       "                 Model Run Time\n",
       "2        Decision Tree   0.031s\n",
       "3           SVC Linear   0.125s\n",
       "0  Logistic Regression   0.141s\n",
       "1        Random Forest   0.281s"
      ]
     },
     "execution_count": 53,
     "metadata": {},
     "output_type": "execute_result"
    }
   ],
   "source": [
    " #Select the 'Logistic Regression', 'Random Forest', 'Decision Tree', 'SVC Linear' columns\n",
    "series2 = df_modelTime[['Logistic Regression', 'Random Forest', 'Decision Tree', 'SVC Linear']]\n",
    "series2 = series2.squeeze()\n",
    "df2 = series2.to_frame()\n",
    "df2 = df2.reset_index()\n",
    "df2.columns = ['Model','Run Time']\n",
    "df2['Run Time'] = df2['Run Time'].apply(lambda x: f'{x:.3f}s')\n",
    "df2.sort_values(by=\"Run Time\")"
   ]
  },
  {
   "cell_type": "code",
   "execution_count": 54,
   "id": "73a37ad9",
   "metadata": {},
   "outputs": [
    {
     "name": "stdout",
     "output_type": "stream",
     "text": [
      "              precision    recall  f1-score   support\n",
      "\n",
      "           0       0.95      0.94      0.95       425\n",
      "           1       0.96      0.97      0.96       545\n",
      "\n",
      "    accuracy                           0.96       970\n",
      "   macro avg       0.96      0.95      0.95       970\n",
      "weighted avg       0.96      0.96      0.96       970\n",
      "\n",
      "              precision    recall  f1-score   support\n",
      "\n",
      "           0       0.95      0.94      0.95       457\n",
      "           1       0.95      0.95      0.95       513\n",
      "\n",
      "    accuracy                           0.95       970\n",
      "   macro avg       0.95      0.95      0.95       970\n",
      "weighted avg       0.95      0.95      0.95       970\n",
      "\n",
      "              precision    recall  f1-score   support\n",
      "\n",
      "           0       0.94      0.96      0.95       457\n",
      "           1       0.96      0.94      0.95       513\n",
      "\n",
      "    accuracy                           0.95       970\n",
      "   macro avg       0.95      0.95      0.95       970\n",
      "weighted avg       0.95      0.95      0.95       970\n",
      "\n",
      "              precision    recall  f1-score   support\n",
      "\n",
      "      Female       0.95      0.93      0.94       457\n",
      "        Male       0.94      0.96      0.95       513\n",
      "\n",
      "    accuracy                           0.94       970\n",
      "   macro avg       0.94      0.94      0.94       970\n",
      "weighted avg       0.94      0.94      0.94       970\n",
      "\n"
     ]
    }
   ],
   "source": [
    "from sklearn.metrics import classification_report\n",
    "print(classification_report(y_test, y_pred))\n",
    "print(classification_report(y_test_rf, y_pred_rf))\n",
    "print(classification_report(y_test_dt, y_pred_dt))\n",
    "print(classification_report(y_test_svc, y_pred_svc))"
   ]
  },
  {
   "cell_type": "code",
   "execution_count": null,
   "id": "5b087c82",
   "metadata": {},
   "outputs": [],
   "source": []
  },
  {
   "cell_type": "code",
   "execution_count": null,
   "id": "254c99c8",
   "metadata": {},
   "outputs": [],
   "source": []
  }
 ],
 "metadata": {
  "hide_input": false,
  "kernelspec": {
   "display_name": "Python 3 (ipykernel)",
   "language": "python",
   "name": "python3"
  },
  "language_info": {
   "codemirror_mode": {
    "name": "ipython",
    "version": 3
   },
   "file_extension": ".py",
   "mimetype": "text/x-python",
   "name": "python",
   "nbconvert_exporter": "python",
   "pygments_lexer": "ipython3",
   "version": "3.9.12"
  },
  "toc": {
   "base_numbering": 1,
   "nav_menu": {},
   "number_sections": true,
   "sideBar": true,
   "skip_h1_title": false,
   "title_cell": "Table of Contents",
   "title_sidebar": "Contents",
   "toc_cell": false,
   "toc_position": {},
   "toc_section_display": true,
   "toc_window_display": false
  },
  "varInspector": {
   "cols": {
    "lenName": 16,
    "lenType": 16,
    "lenVar": 40
   },
   "kernels_config": {
    "python": {
     "delete_cmd_postfix": "",
     "delete_cmd_prefix": "del ",
     "library": "var_list.py",
     "varRefreshCmd": "print(var_dic_list())"
    },
    "r": {
     "delete_cmd_postfix": ") ",
     "delete_cmd_prefix": "rm(",
     "library": "var_list.r",
     "varRefreshCmd": "cat(var_dic_list()) "
    }
   },
   "types_to_exclude": [
    "module",
    "function",
    "builtin_function_or_method",
    "instance",
    "_Feature"
   ],
   "window_display": false
  }
 },
 "nbformat": 4,
 "nbformat_minor": 5
}
