{
 "cells": [
  {
   "cell_type": "markdown",
   "metadata": {
    "colab_type": "text",
    "id": "KdfsFVNKUrfn"
   },
   "source": [
    "# Synopsis\n",
    "\n",
    "In this unit we will learn that:\n",
    "\n",
    "1. \"Simple\" variables in Python can belong to one of three data types: Boolean variables, numbers, or strings:\n",
    "\n",
    "    1. Boolean variables are True and False and can be acted upon with logical operator (and, not, or, ...).\n",
    "    \n",
    "    2. Numbers can be integers (1, 2, ...) or floats (1.2, 0.333333, ...) and can be acted upon with mathematical operators (+. -. *, /, %%, ...)\n",
    "    \n",
    "    3. Strings are sequences of characters ('a', 'aaa', 'no', ...) that can be acted upon with string operators (+, *, ...)  \n",
    "    \n",
    "2. Python data types can be acted upon with functions. We will cover the following functions\n",
    "\n",
    "    1. `print()`, `type()`\n",
    "    \n",
    "    2. Several functions that act upon string variables such as `reverse()`, `sort()`, `strip()`, and so on"
   ]
  },
  {
   "cell_type": "markdown",
   "metadata": {
    "colab_type": "text",
    "id": "-BB60mobUrfo"
   },
   "source": [
    "# Computer programs operate on data \n",
    "\n",
    "A computer program is a set of statements (i.e., intructions) to accomplish one or more of the following: read, create, calculate, transform, organize, and store data.\n",
    "\n",
    "In order to operate on data, a computer program must have a way to store and retrieve it. This goal is achieved through the use of variables. If you think of data as pieces of paper where you wrote something, then a variable is a folder to which you afix a sticker with a name and where you may store one or more pieces of paper.\n",
    "\n",
    "Python has basically only three rules about naming variables:\n",
    "\n",
    "* names you define must start with a letter (a-z,A-Z) or underscore (_) and can be followed by any number of letters, digits (0-9), or underscores\n",
    "\n",
    "\n",
    "* names you define cannot be the same as any of Python's reserved words (see handout)\n",
    "\n",
    "\n",
    "* names are case-sensitive: 'YOU', 'you', 'You', and 'yOu' are all different names in Python\n",
    "\n",
    "\n",
    "Note that '-', '+', '*', and '/' are used by Python for defining operations on data and cannot be used in names. \n",
    "\n",
    "Note also that that the characters '@', '$' and '?' are not used in Python syntax.\n"
   ]
  },
  {
   "cell_type": "markdown",
   "metadata": {
    "colab_type": "text",
    "id": "Y90elPtV2DyO"
   },
   "source": []
  },
  {
   "cell_type": "markdown",
   "metadata": {
    "colab_type": "text",
    "id": "2_OFulrMUrfp"
   },
   "source": [
    "## Different data, different variable types\n",
    "\n",
    "Data come in many formats. It can be a number, a piece of text, an image.  In order to write readable, efficient code it is important to create variables that match the nature of the data.\n",
    "\n",
    "For simple data types, Python figures out what data type is best when you create a new variable. An important thing to keep in mind when naming variables is that it's up to you to name them well. There are a number of different data types in Python, but there's no distinction as to how you must name them. This means that it is up to you to give good, descriptive names to your variables.\n",
    "\n",
    "### Why is that important?\n",
    "\n",
    "The point of descriptive variable names is to improve readability and understanding of code for both yourself and others. While you may believe that you will never re-use a piece of code, or that if you do you will remember what you were doing, the truth is that you won't. **Good naming practices make all the difference.**\n"
   ]
  },
  {
   "cell_type": "markdown",
   "metadata": {
    "colab_type": "text",
    "id": "VT6z8eUlUrfq"
   },
   "source": [
    "## Creating variables\n",
    "\n",
    "One creates a variable by assigning a value to it:"
   ]
  },
  {
   "cell_type": "code",
   "execution_count": 0,
   "metadata": {
    "colab": {},
    "colab_type": "code",
    "id": "PDhb_-32Urfr"
   },
   "outputs": [],
   "source": [
    "a_number = 2\n",
    "a_word = 'dog'"
   ]
  },
  {
   "cell_type": "markdown",
   "metadata": {
    "colab_type": "text",
    "id": "XDIytQ3JUrfv"
   },
   "source": [
    "Now we have created `a_number` as the **variable** and assigned `2` as its **value**. As a hint, the construction\n",
    "\n",
    "*variable* = *value*\n",
    "\n",
    "holds across most programming languages. Now at any time we can use our variable `a_number` again, or just look at its value. \n",
    "\n",
    "We can look at the content of a variable using the `print()` function."
   ]
  },
  {
   "cell_type": "code",
   "execution_count": 0,
   "metadata": {
    "colab": {
     "base_uri": "https://localhost:8080/",
     "height": 34
    },
    "colab_type": "code",
    "executionInfo": {
     "elapsed": 1961,
     "status": "ok",
     "timestamp": 1564801121683,
     "user": {
      "displayName": "Pranjal Dubey",
      "photoUrl": "https://lh5.googleusercontent.com/-rYlYR5QqIq0/AAAAAAAAAAI/AAAAAAAACYg/EU0Mbhl9Axw/s64/photo.jpg",
      "userId": "03415479449600628945"
     },
     "user_tz": -480
    },
    "id": "o4lqvRqOUrfx",
    "outputId": "f82562e8-6307-4878-be06-e268c395c0ad"
   },
   "outputs": [
    {
     "name": "stdout",
     "output_type": "stream",
     "text": [
      "2\n"
     ]
    }
   ],
   "source": [
    "print( a_number )"
   ]
  },
  {
   "cell_type": "markdown",
   "metadata": {
    "colab_type": "text",
    "id": "F9F4aSeUUrf1"
   },
   "source": [
    "We can also determine the data type that Python assigned the variables"
   ]
  },
  {
   "cell_type": "code",
   "execution_count": 0,
   "metadata": {
    "colab": {
     "base_uri": "https://localhost:8080/",
     "height": 34
    },
    "colab_type": "code",
    "executionInfo": {
     "elapsed": 791,
     "status": "ok",
     "timestamp": 1564801124682,
     "user": {
      "displayName": "Pranjal Dubey",
      "photoUrl": "https://lh5.googleusercontent.com/-rYlYR5QqIq0/AAAAAAAAAAI/AAAAAAAACYg/EU0Mbhl9Axw/s64/photo.jpg",
      "userId": "03415479449600628945"
     },
     "user_tz": -480
    },
    "id": "1Ertiq7VUrf1",
    "outputId": "dc36027e-563d-4868-ca9f-debc6b4cb67f"
   },
   "outputs": [
    {
     "data": {
      "text/plain": [
       "int"
      ]
     },
     "execution_count": 3,
     "metadata": {
      "tags": []
     },
     "output_type": "execute_result"
    }
   ],
   "source": [
    "type( a_number )"
   ]
  },
  {
   "cell_type": "code",
   "execution_count": 0,
   "metadata": {
    "colab": {
     "base_uri": "https://localhost:8080/",
     "height": 34
    },
    "colab_type": "code",
    "executionInfo": {
     "elapsed": 765,
     "status": "ok",
     "timestamp": 1564801127248,
     "user": {
      "displayName": "Pranjal Dubey",
      "photoUrl": "https://lh5.googleusercontent.com/-rYlYR5QqIq0/AAAAAAAAAAI/AAAAAAAACYg/EU0Mbhl9Axw/s64/photo.jpg",
      "userId": "03415479449600628945"
     },
     "user_tz": -480
    },
    "id": "lO2YwtitUrf5",
    "outputId": "32349b1a-4642-467f-d74d-cb467709c9d0"
   },
   "outputs": [
    {
     "data": {
      "text/plain": [
       "str"
      ]
     },
     "execution_count": 4,
     "metadata": {
      "tags": []
     },
     "output_type": "execute_result"
    }
   ],
   "source": [
    "type( a_word )"
   ]
  },
  {
   "cell_type": "markdown",
   "metadata": {
    "colab_type": "text",
    "id": "2A3h4kfaUrf8"
   },
   "source": [
    "Once a variable is created, we can perform operations on it:"
   ]
  },
  {
   "cell_type": "code",
   "execution_count": 0,
   "metadata": {
    "colab": {
     "base_uri": "https://localhost:8080/",
     "height": 34
    },
    "colab_type": "code",
    "executionInfo": {
     "elapsed": 718,
     "status": "ok",
     "timestamp": 1564801130640,
     "user": {
      "displayName": "Pranjal Dubey",
      "photoUrl": "https://lh5.googleusercontent.com/-rYlYR5QqIq0/AAAAAAAAAAI/AAAAAAAACYg/EU0Mbhl9Axw/s64/photo.jpg",
      "userId": "03415479449600628945"
     },
     "user_tz": -480
    },
    "id": "63NguZ2YUrf9",
    "outputId": "f092ec2a-b603-4a88-a546-97e1682c18fd"
   },
   "outputs": [
    {
     "data": {
      "text/plain": [
       "4"
      ]
     },
     "execution_count": 5,
     "metadata": {
      "tags": []
     },
     "output_type": "execute_result"
    }
   ],
   "source": [
    "a_number * 2"
   ]
  },
  {
   "cell_type": "markdown",
   "metadata": {
    "colab_type": "text",
    "id": "LVzVWlxeUrgB"
   },
   "source": [
    "But only those operations which are appropriate to the data type"
   ]
  },
  {
   "cell_type": "code",
   "execution_count": 0,
   "metadata": {
    "colab": {
     "base_uri": "https://localhost:8080/",
     "height": 165
    },
    "colab_type": "code",
    "executionInfo": {
     "elapsed": 790,
     "status": "error",
     "timestamp": 1564801134051,
     "user": {
      "displayName": "Pranjal Dubey",
      "photoUrl": "https://lh5.googleusercontent.com/-rYlYR5QqIq0/AAAAAAAAAAI/AAAAAAAACYg/EU0Mbhl9Axw/s64/photo.jpg",
      "userId": "03415479449600628945"
     },
     "user_tz": -480
    },
    "id": "SVcc-DcSUrgC",
    "outputId": "f1b3dbfd-2394-4f34-9e8d-c31c0f95c9b1"
   },
   "outputs": [
    {
     "ename": "TypeError",
     "evalue": "ignored",
     "output_type": "error",
     "traceback": [
      "\u001b[0;31m---------------------------------------------------------------------------\u001b[0m",
      "\u001b[0;31mTypeError\u001b[0m                                 Traceback (most recent call last)",
      "\u001b[0;32m<ipython-input-6-9905214693b5>\u001b[0m in \u001b[0;36m<module>\u001b[0;34m()\u001b[0m\n\u001b[0;32m----> 1\u001b[0;31m \u001b[0ma_word\u001b[0m \u001b[0;34m+\u001b[0m \u001b[0ma_number\u001b[0m\u001b[0;34m\u001b[0m\u001b[0;34m\u001b[0m\u001b[0m\n\u001b[0m",
      "\u001b[0;31mTypeError\u001b[0m: must be str, not int"
     ]
    }
   ],
   "source": [
    "a_word + a_number"
   ]
  },
  {
   "cell_type": "markdown",
   "metadata": {
    "colab_type": "text",
    "id": "D8pcjSrbUrgI"
   },
   "source": [
    "As its name suggest, a variable can have its associated value **changed**. "
   ]
  },
  {
   "cell_type": "code",
   "execution_count": 0,
   "metadata": {
    "colab": {
     "base_uri": "https://localhost:8080/",
     "height": 51
    },
    "colab_type": "code",
    "executionInfo": {
     "elapsed": 787,
     "status": "ok",
     "timestamp": 1564801138240,
     "user": {
      "displayName": "Pranjal Dubey",
      "photoUrl": "https://lh5.googleusercontent.com/-rYlYR5QqIq0/AAAAAAAAAAI/AAAAAAAACYg/EU0Mbhl9Axw/s64/photo.jpg",
      "userId": "03415479449600628945"
     },
     "user_tz": -480
    },
    "id": "LaJF8Gg6UrgJ",
    "outputId": "30880282-6081-485b-df42-cf5e45b075d0"
   },
   "outputs": [
    {
     "name": "stdout",
     "output_type": "stream",
     "text": [
      "2\n",
      "5\n"
     ]
    }
   ],
   "source": [
    "print(a_number)\n",
    "a_number = 5\n",
    "print(a_number)"
   ]
  },
  {
   "cell_type": "markdown",
   "metadata": {
    "colab_type": "text",
    "id": "FJW8laZMUrgM"
   },
   "source": [
    "\n",
    "## Basic data types\n",
    "\n",
    "Python has eight built-in data types. Four of those are quite simple, in the sense that they can **store a single value**:\n",
    "\n",
    "* Integers\n",
    "* Floats\n",
    "* Booleans\n",
    "* Strings\n",
    "\n",
    "\n",
    "The other four are denoted **collections** because they can **store arbitrary numbers of values**. Python's four collection data types are:\n",
    "\n",
    "* Lists\n",
    "* Tuples\n",
    "* Sets\n",
    "* Dictionaries\n",
    "\n",
    "Now, let's start with one of the most basic data types, the integer."
   ]
  },
  {
   "cell_type": "markdown",
   "metadata": {
    "colab_type": "text",
    "id": "a2cBuIfpUrgN"
   },
   "source": [
    "## Integers\n",
    "\n",
    "An Python integer is what in Math is called a **natural number**. They are the numbers you count.\n",
    "\n",
    "Python allows you to do basic arithmetic with integers whether you define variables or not. Those operation are represented using the same notation you saw on a calculator."
   ]
  },
  {
   "cell_type": "code",
   "execution_count": 0,
   "metadata": {
    "colab": {},
    "colab_type": "code",
    "id": "NHUaAQaYUrgN",
    "outputId": "36c06d2f-42f6-4af2-ca79-08469867813f"
   },
   "outputs": [
    {
     "data": {
      "text/plain": [
       "4"
      ]
     },
     "execution_count": 71,
     "metadata": {
      "tags": []
     },
     "output_type": "execute_result"
    }
   ],
   "source": [
    "2 + 2"
   ]
  },
  {
   "cell_type": "code",
   "execution_count": 0,
   "metadata": {
    "colab": {},
    "colab_type": "code",
    "id": "9kjV3oIgUrgR",
    "outputId": "ed831d72-44f5-444a-ca6f-1a473072c6f6"
   },
   "outputs": [
    {
     "data": {
      "text/plain": [
       "2"
      ]
     },
     "execution_count": 72,
     "metadata": {
      "tags": []
     },
     "output_type": "execute_result"
    }
   ],
   "source": [
    "4 - 2"
   ]
  },
  {
   "cell_type": "code",
   "execution_count": 0,
   "metadata": {
    "colab": {},
    "colab_type": "code",
    "id": "Pbih2MS5UrgW",
    "outputId": "bc039e5b-a221-4bc5-caa8-81bc1117f1e3"
   },
   "outputs": [
    {
     "data": {
      "text/plain": [
       "4"
      ]
     },
     "execution_count": 73,
     "metadata": {
      "tags": []
     },
     "output_type": "execute_result"
    }
   ],
   "source": [
    "2 * 2"
   ]
  },
  {
   "cell_type": "code",
   "execution_count": 0,
   "metadata": {
    "colab": {},
    "colab_type": "code",
    "id": "gtrGblV7Urga",
    "outputId": "2a6fa7a5-b630-4bca-ccbe-a923f289c63f"
   },
   "outputs": [
    {
     "data": {
      "text/plain": [
       "1"
      ]
     },
     "execution_count": 74,
     "metadata": {
      "tags": []
     },
     "output_type": "execute_result"
    }
   ],
   "source": [
    "2 / 2"
   ]
  },
  {
   "cell_type": "markdown",
   "metadata": {
    "colab_type": "text",
    "id": "Q2fFBpfKUrge"
   },
   "source": [
    "We can also store the result of an operation into a variable. The variable will store the evaluated answer, not the arithmetic expression."
   ]
  },
  {
   "cell_type": "code",
   "execution_count": 0,
   "metadata": {
    "colab": {
     "base_uri": "https://localhost:8080/",
     "height": 34
    },
    "colab_type": "code",
    "executionInfo": {
     "elapsed": 582,
     "status": "ok",
     "timestamp": 1557544394163,
     "user": {
      "displayName": "Desmond Sek",
      "photoUrl": "https://lh3.googleusercontent.com/-kpaWQQmtEpQ/AAAAAAAAAAI/AAAAAAAAc5k/V4TZA_YKVSI/s64/photo.jpg",
      "userId": "15004601375355093954"
     },
     "user_tz": -480
    },
    "id": "42fbMcVuUrge",
    "outputId": "eee0aacb-bdad-4639-f49d-fa14d022d9c3"
   },
   "outputs": [
    {
     "data": {
      "text/plain": [
       "2.6666666666666665"
      ]
     },
     "execution_count": 9,
     "metadata": {
      "tags": []
     },
     "output_type": "execute_result"
    }
   ],
   "source": [
    "first_result = 8 / 3\n",
    "print(first_result)"
   ]
  },
  {
   "cell_type": "markdown",
   "metadata": {
    "colab_type": "text",
    "id": "JPbwvRQgUrgl"
   },
   "source": [
    "We see that the division operator stores the answer that we are used to, which is $2.6\\bar{6}$. This behavior for the division operator is actually new in Python 3! Before in Python 2 when we would do the operation \n",
    "\n",
    "`first_result = 8 / 3`\n",
    "\n",
    "We would get the result:\n",
    "\n",
    "`print( first_result ) ==> 2`\n",
    "\n",
    "This was because it was thought that if we divide one integer by another integer, the operation should also return an integer in order to keep all the variable types the same. \n",
    "\n",
    "To access this form of truncating division (it's called truncating division, because it just truncates all the numbers after the decimal) we actually use `//` like this:"
   ]
  },
  {
   "cell_type": "code",
   "execution_count": 0,
   "metadata": {
    "colab": {
     "base_uri": "https://localhost:8080/",
     "height": 34
    },
    "colab_type": "code",
    "executionInfo": {
     "elapsed": 697,
     "status": "ok",
     "timestamp": 1557544458023,
     "user": {
      "displayName": "Desmond Sek",
      "photoUrl": "https://lh3.googleusercontent.com/-kpaWQQmtEpQ/AAAAAAAAAAI/AAAAAAAAc5k/V4TZA_YKVSI/s64/photo.jpg",
      "userId": "15004601375355093954"
     },
     "user_tz": -480
    },
    "id": "9IiNRN8IUrgm",
    "outputId": "01ccfbd7-a099-4d38-acdb-b0bb1b467af6"
   },
   "outputs": [
    {
     "data": {
      "text/plain": [
       "2"
      ]
     },
     "execution_count": 10,
     "metadata": {
      "tags": []
     },
     "output_type": "execute_result"
    }
   ],
   "source": [
    "second_result = 8 // 3\n",
    "second_result"
   ]
  },
  {
   "cell_type": "markdown",
   "metadata": {
    "colab_type": "text",
    "id": "HnxYUebqUrgr"
   },
   "source": [
    "What if we want to get the remainder? The symbol is:"
   ]
  },
  {
   "cell_type": "code",
   "execution_count": 0,
   "metadata": {
    "colab": {
     "base_uri": "https://localhost:8080/",
     "height": 34
    },
    "colab_type": "code",
    "executionInfo": {
     "elapsed": 887,
     "status": "ok",
     "timestamp": 1557544525298,
     "user": {
      "displayName": "Desmond Sek",
      "photoUrl": "https://lh3.googleusercontent.com/-kpaWQQmtEpQ/AAAAAAAAAAI/AAAAAAAAc5k/V4TZA_YKVSI/s64/photo.jpg",
      "userId": "15004601375355093954"
     },
     "user_tz": -480
    },
    "id": "YwkmCND-Urgs",
    "outputId": "892c5321-a3f1-4ce5-e931-725c65556e28"
   },
   "outputs": [
    {
     "data": {
      "text/plain": [
       "1"
      ]
     },
     "execution_count": 11,
     "metadata": {
      "tags": []
     },
     "output_type": "execute_result"
    }
   ],
   "source": [
    "5 % 2"
   ]
  },
  {
   "cell_type": "markdown",
   "metadata": {
    "colab_type": "text",
    "id": "Q9e6NMktUrgv"
   },
   "source": [
    "It even works with a decimal remainder:"
   ]
  },
  {
   "cell_type": "code",
   "execution_count": 0,
   "metadata": {
    "colab": {
     "base_uri": "https://localhost:8080/",
     "height": 34
    },
    "colab_type": "code",
    "executionInfo": {
     "elapsed": 585,
     "status": "ok",
     "timestamp": 1557544541478,
     "user": {
      "displayName": "Desmond Sek",
      "photoUrl": "https://lh3.googleusercontent.com/-kpaWQQmtEpQ/AAAAAAAAAAI/AAAAAAAAc5k/V4TZA_YKVSI/s64/photo.jpg",
      "userId": "15004601375355093954"
     },
     "user_tz": -480
    },
    "id": "0zHQ9-RoUrgv",
    "outputId": "26f0b89e-0303-4632-b90e-1e6d2f2f72bc"
   },
   "outputs": [
    {
     "data": {
      "text/plain": [
       "0.20000000000000018"
      ]
     },
     "execution_count": 12,
     "metadata": {
      "tags": []
     },
     "output_type": "execute_result"
    }
   ],
   "source": [
    "4.2 % 2"
   ]
  },
  {
   "cell_type": "markdown",
   "metadata": {
    "colab_type": "text",
    "id": "mGGbyzCPUrgy"
   },
   "source": [
    "## Floats\n",
    "\n",
    "A Python float is what in Math is called a **rational number**. While floats are meant to replicate on the computer **real numbers** the fact is that one can only use a limited amount of storage to keep a number so it is impossible to store an **irrational number** such as **pi**. "
   ]
  },
  {
   "cell_type": "code",
   "execution_count": 0,
   "metadata": {
    "colab": {
     "base_uri": "https://localhost:8080/",
     "height": 34
    },
    "colab_type": "code",
    "executionInfo": {
     "elapsed": 829,
     "status": "ok",
     "timestamp": 1564801365959,
     "user": {
      "displayName": "Pranjal Dubey",
      "photoUrl": "https://lh5.googleusercontent.com/-rYlYR5QqIq0/AAAAAAAAAAI/AAAAAAAACYg/EU0Mbhl9Axw/s64/photo.jpg",
      "userId": "03415479449600628945"
     },
     "user_tz": -480
    },
    "id": "3oDBQh0eUrgz",
    "outputId": "414412fd-59a2-4b55-fac0-a31b127f4735"
   },
   "outputs": [
    {
     "name": "stdout",
     "output_type": "stream",
     "text": [
      "4.0\n"
     ]
    }
   ],
   "source": [
    "new_float = 4.0\n",
    "print(new_float)"
   ]
  },
  {
   "cell_type": "markdown",
   "metadata": {
    "colab_type": "text",
    "id": "ht6Tkn6ZUrg4"
   },
   "source": [
    "So what if we want to change an integer to a float or vice versa???\n",
    "\n",
    "All we have to do is cast the number using the data type name that we want to transform it to. We can see this below:"
   ]
  },
  {
   "cell_type": "code",
   "execution_count": 0,
   "metadata": {
    "colab": {
     "base_uri": "https://localhost:8080/",
     "height": 34
    },
    "colab_type": "code",
    "executionInfo": {
     "elapsed": 797,
     "status": "ok",
     "timestamp": 1564801368132,
     "user": {
      "displayName": "Pranjal Dubey",
      "photoUrl": "https://lh5.googleusercontent.com/-rYlYR5QqIq0/AAAAAAAAAAI/AAAAAAAACYg/EU0Mbhl9Axw/s64/photo.jpg",
      "userId": "03415479449600628945"
     },
     "user_tz": -480
    },
    "id": "XCUMGn_rUrg5",
    "outputId": "50087d05-20db-4083-cea9-143a28468019"
   },
   "outputs": [
    {
     "data": {
      "text/plain": [
       "4"
      ]
     },
     "execution_count": 9,
     "metadata": {
      "tags": []
     },
     "output_type": "execute_result"
    }
   ],
   "source": [
    "int(4.8)"
   ]
  },
  {
   "cell_type": "code",
   "execution_count": 0,
   "metadata": {
    "colab": {
     "base_uri": "https://localhost:8080/",
     "height": 34
    },
    "colab_type": "code",
    "executionInfo": {
     "elapsed": 841,
     "status": "ok",
     "timestamp": 1564801371915,
     "user": {
      "displayName": "Pranjal Dubey",
      "photoUrl": "https://lh5.googleusercontent.com/-rYlYR5QqIq0/AAAAAAAAAAI/AAAAAAAACYg/EU0Mbhl9Axw/s64/photo.jpg",
      "userId": "03415479449600628945"
     },
     "user_tz": -480
    },
    "id": "235DbNRIUrg8",
    "outputId": "59010d42-511f-4dbf-8efc-dbc5e4066f08"
   },
   "outputs": [
    {
     "data": {
      "text/plain": [
       "2.0"
      ]
     },
     "execution_count": 10,
     "metadata": {
      "tags": []
     },
     "output_type": "execute_result"
    }
   ],
   "source": [
    "float(2)"
   ]
  },
  {
   "cell_type": "markdown",
   "metadata": {
    "colab_type": "text",
    "id": "udoNKmxwUrg_"
   },
   "source": [
    "But an important thing to know is that if we cast a variable, it won't actually stay that way unless we assign it to a new a variable!"
   ]
  },
  {
   "cell_type": "code",
   "execution_count": 0,
   "metadata": {
    "colab": {
     "base_uri": "https://localhost:8080/",
     "height": 52
    },
    "colab_type": "code",
    "executionInfo": {
     "elapsed": 677,
     "status": "ok",
     "timestamp": 1557544676133,
     "user": {
      "displayName": "Desmond Sek",
      "photoUrl": "https://lh3.googleusercontent.com/-kpaWQQmtEpQ/AAAAAAAAAAI/AAAAAAAAc5k/V4TZA_YKVSI/s64/photo.jpg",
      "userId": "15004601375355093954"
     },
     "user_tz": -480
    },
    "id": "1YSM3qqNUrg_",
    "outputId": "f0f9aafb-e072-460f-8886-258289072be1"
   },
   "outputs": [
    {
     "name": "stdout",
     "output_type": "stream",
     "text": [
      "2.0\n",
      "<class 'int'>\n"
     ]
    }
   ],
   "source": [
    "basic_int = 2\n",
    "print( float(basic_int) )\n",
    "print( type(basic_int) )"
   ]
  },
  {
   "cell_type": "code",
   "execution_count": 0,
   "metadata": {
    "colab": {
     "base_uri": "https://localhost:8080/",
     "height": 34
    },
    "colab_type": "code",
    "executionInfo": {
     "elapsed": 640,
     "status": "ok",
     "timestamp": 1557544715128,
     "user": {
      "displayName": "Desmond Sek",
      "photoUrl": "https://lh3.googleusercontent.com/-kpaWQQmtEpQ/AAAAAAAAAAI/AAAAAAAAc5k/V4TZA_YKVSI/s64/photo.jpg",
      "userId": "15004601375355093954"
     },
     "user_tz": -480
    },
    "id": "GhDv7iCXUrhC",
    "outputId": "5cad931d-968a-4aa7-fe7f-61bcea0d5a52"
   },
   "outputs": [
    {
     "name": "stdout",
     "output_type": "stream",
     "text": [
      "<class 'float'>\n"
     ]
    }
   ],
   "source": [
    "float_basic_int = float(basic_int)\n",
    "print( type(float_basic_int) )"
   ]
  },
  {
   "cell_type": "markdown",
   "metadata": {
    "colab_type": "text",
    "id": "SdD53SK1UrhF"
   },
   "source": [
    "If you're ever confused or interested about what the type of a variable is you can always just check it with the function `type`"
   ]
  },
  {
   "cell_type": "code",
   "execution_count": 0,
   "metadata": {
    "colab": {
     "base_uri": "https://localhost:8080/",
     "height": 168
    },
    "colab_type": "code",
    "executionInfo": {
     "elapsed": 765,
     "status": "error",
     "timestamp": 1557544749768,
     "user": {
      "displayName": "Desmond Sek",
      "photoUrl": "https://lh3.googleusercontent.com/-kpaWQQmtEpQ/AAAAAAAAAAI/AAAAAAAAc5k/V4TZA_YKVSI/s64/photo.jpg",
      "userId": "15004601375355093954"
     },
     "user_tz": -480
    },
    "id": "SlEFU5NdUrhH",
    "outputId": "3cd4ce3b-9723-4ed2-e37b-9f862b78042e"
   },
   "outputs": [
    {
     "ename": "NameError",
     "evalue": "ignored",
     "output_type": "error",
     "traceback": [
      "\u001b[0;31m---------------------------------------------------------------------------\u001b[0m",
      "\u001b[0;31mNameError\u001b[0m                                 Traceback (most recent call last)",
      "\u001b[0;32m<ipython-input-16-3bd9d5aa3855>\u001b[0m in \u001b[0;36m<module>\u001b[0;34m()\u001b[0m\n\u001b[0;32m----> 1\u001b[0;31m \u001b[0mtype\u001b[0m\u001b[0;34m(\u001b[0m\u001b[0mnew_float\u001b[0m\u001b[0;34m)\u001b[0m\u001b[0;34m\u001b[0m\u001b[0;34m\u001b[0m\u001b[0m\n\u001b[0m",
      "\u001b[0;31mNameError\u001b[0m: name 'new_float' is not defined"
     ]
    }
   ],
   "source": [
    "type(new_float)"
   ]
  },
  {
   "cell_type": "code",
   "execution_count": 0,
   "metadata": {
    "colab": {},
    "colab_type": "code",
    "id": "BdE4J4uIUrhO",
    "outputId": "e91fcb36-19b5-4614-ee87-4c033fb45ece"
   },
   "outputs": [
    {
     "data": {
      "text/plain": [
       "int"
      ]
     },
     "execution_count": 85,
     "metadata": {
      "tags": []
     },
     "output_type": "execute_result"
    }
   ],
   "source": [
    "type(2)"
   ]
  },
  {
   "cell_type": "markdown",
   "metadata": {
    "colab_type": "text",
    "id": "36Z8X1ajUrhR"
   },
   "source": [
    "Now something that you should notice here is that `float` and `int` are colored green (as are `print` and `type`). That's because these are words in Python that are already defined by the language. \n",
    "\n",
    "**Python will let you overwrite them**. However, you should wait until you are a programming god to do it (or just don't do it. ever. either way). \n",
    "\n",
    "If you ever accidentally do it, like so:"
   ]
  },
  {
   "cell_type": "code",
   "execution_count": 0,
   "metadata": {
    "colab": {
     "base_uri": "https://localhost:8080/",
     "height": 222
    },
    "colab_type": "code",
    "executionInfo": {
     "elapsed": 666,
     "status": "error",
     "timestamp": 1557544800057,
     "user": {
      "displayName": "Desmond Sek",
      "photoUrl": "https://lh3.googleusercontent.com/-kpaWQQmtEpQ/AAAAAAAAAAI/AAAAAAAAc5k/V4TZA_YKVSI/s64/photo.jpg",
      "userId": "15004601375355093954"
     },
     "user_tz": -480
    },
    "id": "2x_w7C0kUrhT",
    "outputId": "aea3961a-ea9d-4ecc-82fb-81853898b3c1"
   },
   "outputs": [
    {
     "name": "stdout",
     "output_type": "stream",
     "text": [
      "What have we done to int? 4\n"
     ]
    },
    {
     "ename": "TypeError",
     "evalue": "ignored",
     "output_type": "error",
     "traceback": [
      "\u001b[0;31m---------------------------------------------------------------------------\u001b[0m",
      "\u001b[0;31mTypeError\u001b[0m                                 Traceback (most recent call last)",
      "\u001b[0;32m<ipython-input-17-a632952306d2>\u001b[0m in \u001b[0;36m<module>\u001b[0;34m()\u001b[0m\n\u001b[1;32m      1\u001b[0m \u001b[0mint\u001b[0m \u001b[0;34m=\u001b[0m \u001b[0;36m4\u001b[0m\u001b[0;34m\u001b[0m\u001b[0;34m\u001b[0m\u001b[0m\n\u001b[1;32m      2\u001b[0m \u001b[0mprint\u001b[0m\u001b[0;34m(\u001b[0m\u001b[0;34m\"What have we done to int?\"\u001b[0m\u001b[0;34m,\u001b[0m \u001b[0mint\u001b[0m\u001b[0;34m)\u001b[0m\u001b[0;34m\u001b[0m\u001b[0;34m\u001b[0m\u001b[0m\n\u001b[0;32m----> 3\u001b[0;31m \u001b[0mint\u001b[0m\u001b[0;34m(\u001b[0m\u001b[0;36m5.0\u001b[0m\u001b[0;34m)\u001b[0m\u001b[0;34m\u001b[0m\u001b[0;34m\u001b[0m\u001b[0m\n\u001b[0m",
      "\u001b[0;31mTypeError\u001b[0m: 'int' object is not callable"
     ]
    }
   ],
   "source": [
    "int = 4\n",
    "print(\"What have we done to int?\", int)\n",
    "int(5.0)"
   ]
  },
  {
   "cell_type": "markdown",
   "metadata": {
    "colab_type": "text",
    "id": "OhRwcpaSUrhX"
   },
   "source": [
    "you'll lose the int function. However, you can get it back if you just delete the undesired assignment."
   ]
  },
  {
   "cell_type": "code",
   "execution_count": 0,
   "metadata": {
    "colab": {
     "base_uri": "https://localhost:8080/",
     "height": 34
    },
    "colab_type": "code",
    "executionInfo": {
     "elapsed": 1022,
     "status": "ok",
     "timestamp": 1557544957144,
     "user": {
      "displayName": "Desmond Sek",
      "photoUrl": "https://lh3.googleusercontent.com/-kpaWQQmtEpQ/AAAAAAAAAAI/AAAAAAAAc5k/V4TZA_YKVSI/s64/photo.jpg",
      "userId": "15004601375355093954"
     },
     "user_tz": -480
    },
    "id": "CVAJ781cUrhX",
    "outputId": "45faef49-1529-4e37-a486-df9218c27fe8"
   },
   "outputs": [
    {
     "data": {
      "text/plain": [
       "5"
      ]
     },
     "execution_count": 18,
     "metadata": {
      "tags": []
     },
     "output_type": "execute_result"
    }
   ],
   "source": [
    "del int\n",
    "int(5.0)"
   ]
  },
  {
   "cell_type": "markdown",
   "metadata": {
    "colab_type": "text",
    "id": "EU8gogLuUrhc"
   },
   "source": [
    "### Order of operations\n",
    "\n",
    "Python respects the typical order of operations when it evaluates expressions (PEMDAS - Parentheses, Exponents, Multiplication, Division, Addition, Subtraction).\n",
    "\n",
    "To access the exponentiation operation, you use the `**` symbol."
   ]
  },
  {
   "cell_type": "code",
   "execution_count": 0,
   "metadata": {
    "colab": {
     "base_uri": "https://localhost:8080/",
     "height": 34
    },
    "colab_type": "code",
    "executionInfo": {
     "elapsed": 584,
     "status": "ok",
     "timestamp": 1557544975730,
     "user": {
      "displayName": "Desmond Sek",
      "photoUrl": "https://lh3.googleusercontent.com/-kpaWQQmtEpQ/AAAAAAAAAAI/AAAAAAAAc5k/V4TZA_YKVSI/s64/photo.jpg",
      "userId": "15004601375355093954"
     },
     "user_tz": -480
    },
    "id": "mjdwQPmqUrhc",
    "outputId": "3556867f-b699-44e8-f821-3b8f34bf83ff"
   },
   "outputs": [
    {
     "data": {
      "text/plain": [
       "8"
      ]
     },
     "execution_count": 19,
     "metadata": {
      "tags": []
     },
     "output_type": "execute_result"
    }
   ],
   "source": [
    "2 ** 3"
   ]
  },
  {
   "cell_type": "code",
   "execution_count": 0,
   "metadata": {
    "colab": {
     "base_uri": "https://localhost:8080/",
     "height": 34
    },
    "colab_type": "code",
    "executionInfo": {
     "elapsed": 614,
     "status": "ok",
     "timestamp": 1557545017436,
     "user": {
      "displayName": "Desmond Sek",
      "photoUrl": "https://lh3.googleusercontent.com/-kpaWQQmtEpQ/AAAAAAAAAAI/AAAAAAAAc5k/V4TZA_YKVSI/s64/photo.jpg",
      "userId": "15004601375355093954"
     },
     "user_tz": -480
    },
    "id": "YYmyL2x3Urhf",
    "outputId": "d7bc56d4-4a70-42f2-ca84-6bcd9ecce03c"
   },
   "outputs": [
    {
     "name": "stdout",
     "output_type": "stream",
     "text": [
      "4\n"
     ]
    }
   ],
   "source": [
    "eqn1 = 2 * 3 - 2\n",
    "print( eqn1 )"
   ]
  },
  {
   "cell_type": "code",
   "execution_count": 0,
   "metadata": {
    "colab": {
     "base_uri": "https://localhost:8080/",
     "height": 34
    },
    "colab_type": "code",
    "executionInfo": {
     "elapsed": 748,
     "status": "ok",
     "timestamp": 1557545027780,
     "user": {
      "displayName": "Desmond Sek",
      "photoUrl": "https://lh3.googleusercontent.com/-kpaWQQmtEpQ/AAAAAAAAAAI/AAAAAAAAc5k/V4TZA_YKVSI/s64/photo.jpg",
      "userId": "15004601375355093954"
     },
     "user_tz": -480
    },
    "id": "d46AZ_xcUrhh",
    "outputId": "cb34d9bd-6927-478a-d379-876edecca284"
   },
   "outputs": [
    {
     "name": "stdout",
     "output_type": "stream",
     "text": [
      "4\n"
     ]
    }
   ],
   "source": [
    "eqn2 = -2 + 2 * 3\n",
    "print( eqn2 )"
   ]
  },
  {
   "cell_type": "code",
   "execution_count": 0,
   "metadata": {
    "colab": {
     "base_uri": "https://localhost:8080/",
     "height": 34
    },
    "colab_type": "code",
    "executionInfo": {
     "elapsed": 638,
     "status": "ok",
     "timestamp": 1557545045190,
     "user": {
      "displayName": "Desmond Sek",
      "photoUrl": "https://lh3.googleusercontent.com/-kpaWQQmtEpQ/AAAAAAAAAAI/AAAAAAAAc5k/V4TZA_YKVSI/s64/photo.jpg",
      "userId": "15004601375355093954"
     },
     "user_tz": -480
    },
    "id": "rJ3YvvgtUrhk",
    "outputId": "4432ba72-0982-4530-cb83-166a2c8a876e"
   },
   "outputs": [
    {
     "name": "stdout",
     "output_type": "stream",
     "text": [
      "0\n"
     ]
    }
   ],
   "source": [
    "eqn3 = -2 + (2 % 3)\n",
    "print( eqn3 )"
   ]
  },
  {
   "cell_type": "code",
   "execution_count": 0,
   "metadata": {
    "colab": {},
    "colab_type": "code",
    "id": "knShkg_BUrhq",
    "outputId": "90be8410-4cc3-4a9a-b37e-c9a06860bd7f"
   },
   "outputs": [
    {
     "name": "stdout",
     "output_type": "stream",
     "text": [
      "2.0\n"
     ]
    }
   ],
   "source": [
    "eqn4 = (.3 + 5) // 2\n",
    "print(eqn4)"
   ]
  },
  {
   "cell_type": "markdown",
   "metadata": {
    "colab_type": "text",
    "id": "76VCtO9ZUrhu"
   },
   "source": [
    "## Comparing numbers\n",
    "\n",
    "As important as being able to calculate something, is to be able to compare the result of several computations.  \n",
    "\n",
    "Most of the symbols used for comparison are quite standard and just what you would expect.  The exceptions are the symbols for 'different' and 'equal to'."
   ]
  },
  {
   "cell_type": "markdown",
   "metadata": {
    "colab_type": "raw",
    "id": "F7xPFII-Urhv"
   },
   "source": [
    "!=\n",
    "==\n",
    "\n",
    "<=\n",
    ">=\n",
    "<\n",
    ">"
   ]
  },
  {
   "cell_type": "markdown",
   "metadata": {
    "colab_type": "text",
    "id": "E9llcWxkUrhw"
   },
   "source": [
    "The $==$ allows us to check if one side of the operator is equal to the other side."
   ]
  },
  {
   "cell_type": "code",
   "execution_count": 0,
   "metadata": {
    "colab": {},
    "colab_type": "code",
    "id": "TVCtVfBfUrhx",
    "outputId": "9602e2a0-5763-4c85-c011-d51c26e35cc9"
   },
   "outputs": [
    {
     "data": {
      "text/plain": [
       "True"
      ]
     },
     "execution_count": 93,
     "metadata": {
      "tags": []
     },
     "output_type": "execute_result"
    }
   ],
   "source": [
    "4 == 4"
   ]
  },
  {
   "cell_type": "code",
   "execution_count": 0,
   "metadata": {
    "colab": {},
    "colab_type": "code",
    "id": "h3FgEtqgUrh5",
    "outputId": "85a4a9c4-83ac-4349-dc0b-6d55580f06a7"
   },
   "outputs": [
    {
     "data": {
      "text/plain": [
       "False"
      ]
     },
     "execution_count": 94,
     "metadata": {
      "tags": []
     },
     "output_type": "execute_result"
    }
   ],
   "source": [
    "4 == 5"
   ]
  },
  {
   "cell_type": "markdown",
   "metadata": {
    "colab_type": "text",
    "id": "S04Oht6CUrh8"
   },
   "source": [
    "Python evaluates the expression and tells us that it is `True` if it is correct or `False` if it is incorrect.\n",
    "\n",
    "The $!=$ operator allows us to check if one side does not equal the other side:"
   ]
  },
  {
   "cell_type": "code",
   "execution_count": 0,
   "metadata": {
    "colab": {},
    "colab_type": "code",
    "id": "I9UybriQUrh9",
    "outputId": "286c05e4-1899-4099-fd7f-6191d47e0844"
   },
   "outputs": [
    {
     "data": {
      "text/plain": [
       "True"
      ]
     },
     "execution_count": 95,
     "metadata": {
      "tags": []
     },
     "output_type": "execute_result"
    }
   ],
   "source": [
    "4 != 2"
   ]
  },
  {
   "cell_type": "code",
   "execution_count": 0,
   "metadata": {
    "colab": {},
    "colab_type": "code",
    "id": "rCX8-7BvUriC",
    "outputId": "ba6010d4-4068-4ae5-827b-b077584a6396"
   },
   "outputs": [
    {
     "data": {
      "text/plain": [
       "False"
      ]
     },
     "execution_count": 96,
     "metadata": {
      "tags": []
     },
     "output_type": "execute_result"
    }
   ],
   "source": [
    "4 != 4"
   ]
  },
  {
   "cell_type": "markdown",
   "metadata": {
    "colab_type": "text",
    "id": "WKfJOOKkUriI"
   },
   "source": [
    "The greater than, less than, greater than or equal to, and less than or equal to operators all work as we would expect."
   ]
  },
  {
   "cell_type": "code",
   "execution_count": 0,
   "metadata": {
    "colab": {},
    "colab_type": "code",
    "id": "29KkKgLoUriJ",
    "outputId": "63c4453a-956d-4858-9a9b-e9daed2c3a7e"
   },
   "outputs": [
    {
     "data": {
      "text/plain": [
       "True"
      ]
     },
     "execution_count": 97,
     "metadata": {
      "tags": []
     },
     "output_type": "execute_result"
    }
   ],
   "source": [
    "4 > 2"
   ]
  },
  {
   "cell_type": "code",
   "execution_count": 0,
   "metadata": {
    "colab": {},
    "colab_type": "code",
    "id": "nZYxsyOzUriO",
    "outputId": "d5e417dd-cd80-4c6b-b310-89e9549c543d"
   },
   "outputs": [
    {
     "data": {
      "text/plain": [
       "False"
      ]
     },
     "execution_count": 98,
     "metadata": {
      "tags": []
     },
     "output_type": "execute_result"
    }
   ],
   "source": [
    "4 > 4"
   ]
  },
  {
   "cell_type": "code",
   "execution_count": 0,
   "metadata": {
    "colab": {},
    "colab_type": "code",
    "id": "BuuFIe75UriU",
    "outputId": "4a332027-98e3-4bdb-c443-870f69a8516d"
   },
   "outputs": [
    {
     "data": {
      "text/plain": [
       "True"
      ]
     },
     "execution_count": 99,
     "metadata": {
      "tags": []
     },
     "output_type": "execute_result"
    }
   ],
   "source": [
    "4 >= 4"
   ]
  },
  {
   "cell_type": "markdown",
   "metadata": {
    "colab_type": "text",
    "id": "MngAAYFmUria"
   },
   "source": [
    "## Booleans\n",
    "\n",
    "A Python Boolean is what is math is called a **logical variable**. The name Boolean refers to **George Boole** who first defined an algebraic system of logic in the mid 19th century. The Boolean data type is primarily associated with conditional statements, which allow different actions and change control flow depending on whether a programmer-specified Boolean condition evaluates to `True` or `False`.\n",
    "\n",
    "With just these two variable values we can implement basic logic and check for truth in a programming language. Let's say that I have one puppy at home and his name is Frankenstein. I will say that the variable puppy is True."
   ]
  },
  {
   "cell_type": "code",
   "execution_count": 0,
   "metadata": {
    "colab": {},
    "colab_type": "code",
    "id": "2VqY1h48Urib"
   },
   "outputs": [],
   "source": [
    "puppy = True"
   ]
  },
  {
   "cell_type": "code",
   "execution_count": 0,
   "metadata": {
    "colab": {},
    "colab_type": "code",
    "id": "ZZXbGjohUrid",
    "outputId": "2894523c-f7c7-40bf-b7e5-e36d964b4917"
   },
   "outputs": [
    {
     "name": "stdout",
     "output_type": "stream",
     "text": [
      "True\n"
     ]
    }
   ],
   "source": [
    "print(puppy)"
   ]
  },
  {
   "cell_type": "code",
   "execution_count": 0,
   "metadata": {
    "colab": {},
    "colab_type": "code",
    "id": "ajujAng2Urig",
    "outputId": "0be25f16-d8fa-4b99-afd2-828d478581a7"
   },
   "outputs": [
    {
     "data": {
      "text/plain": [
       "bool"
      ]
     },
     "execution_count": 102,
     "metadata": {
      "tags": []
     },
     "output_type": "execute_result"
    }
   ],
   "source": [
    "type(puppy)"
   ]
  },
  {
   "cell_type": "markdown",
   "metadata": {
    "colab_type": "text",
    "id": "luZEGejHUrik"
   },
   "source": [
    "We can see that when we print `puppy` it says `True` and that the type is `bool`. \n",
    "\n",
    "Since I only have one puppy, I'm going to say that `puppies` is `False`."
   ]
  },
  {
   "cell_type": "code",
   "execution_count": 0,
   "metadata": {
    "colab": {},
    "colab_type": "code",
    "id": "SySTiTlJUril"
   },
   "outputs": [],
   "source": [
    "puppies = False"
   ]
  },
  {
   "cell_type": "markdown",
   "metadata": {
    "colab_type": "text",
    "id": "Ahzs_cU2Urin"
   },
   "source": [
    "In Python we could have just created both of those variables at the same time, as we've done below. It's important that the number of variables on the left-hand side equals the number of variables on the right-hand side:"
   ]
  },
  {
   "cell_type": "code",
   "execution_count": 0,
   "metadata": {
    "colab": {},
    "colab_type": "code",
    "id": "NW3SUukgUrin"
   },
   "outputs": [],
   "source": [
    "puppy, puppies = True, False"
   ]
  },
  {
   "cell_type": "markdown",
   "metadata": {
    "colab_type": "text",
    "id": "_0t1tK16Urip"
   },
   "source": [
    "We'll see here that each of those variables has its own value."
   ]
  },
  {
   "cell_type": "code",
   "execution_count": 0,
   "metadata": {
    "colab": {
     "base_uri": "https://localhost:8080/",
     "height": 52
    },
    "colab_type": "code",
    "executionInfo": {
     "elapsed": 684,
     "status": "ok",
     "timestamp": 1557545200573,
     "user": {
      "displayName": "Desmond Sek",
      "photoUrl": "https://lh3.googleusercontent.com/-kpaWQQmtEpQ/AAAAAAAAAAI/AAAAAAAAc5k/V4TZA_YKVSI/s64/photo.jpg",
      "userId": "15004601375355093954"
     },
     "user_tz": -480
    },
    "id": "6LUzRbCeUrip",
    "outputId": "d7d0d464-a783-4177-e705-59c7270bad32"
   },
   "outputs": [
    {
     "name": "stdout",
     "output_type": "stream",
     "text": [
      "Do I have a puppy? True\n",
      "Do I have puppies? False\n"
     ]
    }
   ],
   "source": [
    "print(\"Do I have a puppy?\", puppy)\n",
    "print(\"Do I have puppies?\", puppies)"
   ]
  },
  {
   "cell_type": "markdown",
   "metadata": {
    "colab_type": "text",
    "id": "2B-SzV-kUriu"
   },
   "source": [
    "To implement logic we have three basic operations: `and`, `not`, and `or`.\n",
    "\n",
    "These can be used to create the most basic statements. Here's how they work.\n",
    "\n",
    "If I use the `and` operator, then both sides of the `and` expression need to be True for the expression to be true."
   ]
  },
  {
   "cell_type": "code",
   "execution_count": 0,
   "metadata": {
    "colab": {},
    "colab_type": "code",
    "id": "5cRnSv99Uriu",
    "outputId": "4ab71430-5522-45fa-d463-130271d88cc7"
   },
   "outputs": [
    {
     "data": {
      "text/plain": [
       "True"
      ]
     },
     "execution_count": 106,
     "metadata": {
      "tags": []
     },
     "output_type": "execute_result"
    }
   ],
   "source": [
    "True and True"
   ]
  },
  {
   "cell_type": "markdown",
   "metadata": {
    "colab_type": "text",
    "id": "DELtpUkpUri2"
   },
   "source": [
    "If one side of the expression is `False`, then the whole expression will be `False`"
   ]
  },
  {
   "cell_type": "code",
   "execution_count": 0,
   "metadata": {
    "colab": {},
    "colab_type": "code",
    "id": "k8qafxa4Uri3",
    "outputId": "f8af2108-f69f-402c-b4c6-c28c59a1a5fb"
   },
   "outputs": [
    {
     "data": {
      "text/plain": [
       "False"
      ]
     },
     "execution_count": 107,
     "metadata": {
      "tags": []
     },
     "output_type": "execute_result"
    }
   ],
   "source": [
    "True and False"
   ]
  },
  {
   "cell_type": "markdown",
   "metadata": {
    "colab_type": "text",
    "id": "JOgFaU1JUri8"
   },
   "source": [
    "As you would expect, we can perform these expressions with variables (remember that I only have one puppy)."
   ]
  },
  {
   "cell_type": "code",
   "execution_count": 0,
   "metadata": {
    "colab": {},
    "colab_type": "code",
    "id": "n8K5jkQXUri8",
    "outputId": "7f2f53d0-fa87-4498-c8bd-e0541575dc7c"
   },
   "outputs": [
    {
     "data": {
      "text/plain": [
       "False"
      ]
     },
     "execution_count": 108,
     "metadata": {
      "tags": []
     },
     "output_type": "execute_result"
    }
   ],
   "source": [
    "puppy and puppies"
   ]
  },
  {
   "cell_type": "markdown",
   "metadata": {
    "colab_type": "text",
    "id": "33zCchUOUri_"
   },
   "source": [
    "The `not` operator expects that the following value should be `False` for the expression to be true. If the following value is `True` or exists then it will say that the expression is `False`"
   ]
  },
  {
   "cell_type": "code",
   "execution_count": 0,
   "metadata": {
    "colab": {},
    "colab_type": "code",
    "id": "KhK9VEEOUrjA",
    "outputId": "7e6e8d4b-701f-471f-e434-443f8587922c"
   },
   "outputs": [
    {
     "data": {
      "text/plain": [
       "True"
      ]
     },
     "execution_count": 109,
     "metadata": {
      "tags": []
     },
     "output_type": "execute_result"
    }
   ],
   "source": [
    "not puppies"
   ]
  },
  {
   "cell_type": "code",
   "execution_count": 0,
   "metadata": {
    "colab": {},
    "colab_type": "code",
    "id": "kQE6hvTZUrjC",
    "outputId": "d582314b-3e3e-430a-a3ce-67af926e2832"
   },
   "outputs": [
    {
     "data": {
      "text/plain": [
       "False"
      ]
     },
     "execution_count": 110,
     "metadata": {
      "tags": []
     },
     "output_type": "execute_result"
    }
   ],
   "source": [
    "not puppy"
   ]
  },
  {
   "cell_type": "markdown",
   "metadata": {
    "colab_type": "text",
    "id": "2EErruxnUrjH"
   },
   "source": [
    "We can combine this with the `and` operator to make our entire previous statement about my pets `True`"
   ]
  },
  {
   "cell_type": "code",
   "execution_count": 0,
   "metadata": {
    "colab": {},
    "colab_type": "code",
    "id": "HugZA5nhUrjH",
    "outputId": "888b7ed6-ffe0-40e4-c8ee-4e64d91eacb8"
   },
   "outputs": [
    {
     "data": {
      "text/plain": [
       "True"
      ]
     },
     "execution_count": 111,
     "metadata": {
      "tags": []
     },
     "output_type": "execute_result"
    }
   ],
   "source": [
    "puppy and not puppies"
   ]
  },
  {
   "cell_type": "markdown",
   "metadata": {
    "colab_type": "text",
    "id": "v0iG329AUrjJ"
   },
   "source": [
    "Finally, the `or` operator only requires that **at least one** side of the expression is `True` for the expression to be `True`"
   ]
  },
  {
   "cell_type": "code",
   "execution_count": 0,
   "metadata": {
    "colab": {},
    "colab_type": "code",
    "id": "UaDCuF4mUrjK",
    "outputId": "9491d72e-5240-49df-8198-a19c91fef33a"
   },
   "outputs": [
    {
     "data": {
      "text/plain": [
       "True"
      ]
     },
     "execution_count": 112,
     "metadata": {
      "tags": []
     },
     "output_type": "execute_result"
    }
   ],
   "source": [
    "puppy or puppies"
   ]
  },
  {
   "cell_type": "markdown",
   "metadata": {
    "colab_type": "text",
    "id": "g3atv0FLUrjV"
   },
   "source": [
    "But, we still need at least one side to be `True` !"
   ]
  },
  {
   "cell_type": "code",
   "execution_count": 0,
   "metadata": {
    "colab": {},
    "colab_type": "code",
    "id": "A3yCcVJMUrjW",
    "outputId": "c20f51fd-f7f3-4bc3-b315-3e78136a2302"
   },
   "outputs": [
    {
     "data": {
      "text/plain": [
       "False"
      ]
     },
     "execution_count": 113,
     "metadata": {
      "tags": []
     },
     "output_type": "execute_result"
    }
   ],
   "source": [
    "False or False"
   ]
  },
  {
   "cell_type": "markdown",
   "metadata": {
    "colab_type": "text",
    "id": "s3kQ9JoVUrjf"
   },
   "source": [
    "## Strings\n",
    "\n",
    "A Python string is an **ordered sequence of characters**. Python strings are very powerful and enable us to deal with text even if there is a lot of it and even if we don't know its structure.\n",
    "\n",
    "To start off let's make some variables."
   ]
  },
  {
   "cell_type": "code",
   "execution_count": 0,
   "metadata": {
    "colab": {},
    "colab_type": "code",
    "id": "srUmiGDhUrjf",
    "outputId": "9e03f4a7-4c38-4eb3-bd24-ef51b7ca1e4d"
   },
   "outputs": [
    {
     "name": "stdout",
     "output_type": "stream",
     "text": [
      "hello\n"
     ]
    }
   ],
   "source": [
    "hello = 'hello'\n",
    "\n",
    "print( hello )"
   ]
  },
  {
   "cell_type": "markdown",
   "metadata": {
    "colab_type": "text",
    "id": "S-jtrg8bUrjh"
   },
   "source": [
    "It's important to remember that the variable's name does not need to be the same as its value."
   ]
  },
  {
   "cell_type": "code",
   "execution_count": 0,
   "metadata": {
    "colab": {},
    "colab_type": "code",
    "id": "iiDE3w52Urji",
    "outputId": "c2c26c16-f6d1-4376-bdec-b0c0832d7688"
   },
   "outputs": [
    {
     "name": "stdout",
     "output_type": "stream",
     "text": [
      "gyro\n"
     ]
    }
   ],
   "source": [
    "falafel = 'gyro'\n",
    "\n",
    "print( falafel )"
   ]
  },
  {
   "cell_type": "markdown",
   "metadata": {
    "colab_type": "text",
    "id": "nwtINZvYUrjj"
   },
   "source": [
    "You can use basic math operators to add strings together and make a longer string."
   ]
  },
  {
   "cell_type": "code",
   "execution_count": 0,
   "metadata": {
    "colab": {
     "base_uri": "https://localhost:8080/",
     "height": 34
    },
    "colab_type": "code",
    "executionInfo": {
     "elapsed": 1607,
     "status": "ok",
     "timestamp": 1557545440299,
     "user": {
      "displayName": "Desmond Sek",
      "photoUrl": "https://lh3.googleusercontent.com/-kpaWQQmtEpQ/AAAAAAAAAAI/AAAAAAAAc5k/V4TZA_YKVSI/s64/photo.jpg",
      "userId": "15004601375355093954"
     },
     "user_tz": -480
    },
    "id": "qTvsGgarUrjk",
    "outputId": "e84a52e6-00c5-4764-b137-c42bc10a856b"
   },
   "outputs": [
    {
     "name": "stdout",
     "output_type": "stream",
     "text": [
      "gyros and falafel\n"
     ]
    }
   ],
   "source": [
    "print(\"gyros\" + \" and \" + \"falafel\")"
   ]
  },
  {
   "cell_type": "markdown",
   "metadata": {
    "colab_type": "text",
    "id": "m-cB7CtUUrjp"
   },
   "source": [
    "You can even just multiply a string to make it longer. Can you say `gyros` seven times fast?"
   ]
  },
  {
   "cell_type": "code",
   "execution_count": 0,
   "metadata": {
    "colab": {},
    "colab_type": "code",
    "id": "bpGIH0FRUrjp",
    "outputId": "ab0d6fd5-b8e9-47b4-a8b1-d18843c39755"
   },
   "outputs": [
    {
     "data": {
      "text/plain": [
       "'gyros gyros gyros gyros gyros gyros gyros '"
      ]
     },
     "execution_count": 117,
     "metadata": {
      "tags": []
     },
     "output_type": "execute_result"
    }
   ],
   "source": [
    "\"gyros \" * 7"
   ]
  },
  {
   "cell_type": "markdown",
   "metadata": {
    "colab_type": "text",
    "id": "PEIMd7O3Urjt"
   },
   "source": [
    "Python can!\n",
    "\n",
    "However, you can only use mathematical operations that are unambiguous. Since it is unclear what dividing or subtracting strings should entail, those operations have not been built-in.\n",
    "\n",
    "You can define your own interpretation of those operations, though!"
   ]
  },
  {
   "cell_type": "code",
   "execution_count": 0,
   "metadata": {
    "colab": {},
    "colab_type": "code",
    "id": "XSiL_Y7dUrju",
    "outputId": "359ee767-5f7c-4570-809a-a2f85ce80a9b"
   },
   "outputs": [
    {
     "ename": "TypeError",
     "evalue": "unsupported operand type(s) for /: 'str' and 'str'",
     "output_type": "error",
     "traceback": [
      "\u001b[0;31m---------------------------------------------------------------------------\u001b[0m",
      "\u001b[0;31mTypeError\u001b[0m                                 Traceback (most recent call last)",
      "\u001b[0;32m<ipython-input-118-ec2273e01fb3>\u001b[0m in \u001b[0;36m<module>\u001b[0;34m()\u001b[0m\n\u001b[0;32m----> 1\u001b[0;31m \u001b[1;34m\"gyros\"\u001b[0m\u001b[1;33m/\u001b[0m\u001b[1;34m\"falafel\"\u001b[0m\u001b[1;33m\u001b[0m\u001b[0m\n\u001b[0m",
      "\u001b[0;31mTypeError\u001b[0m: unsupported operand type(s) for /: 'str' and 'str'"
     ]
    }
   ],
   "source": [
    "\"gyros\"/\"falafel\""
   ]
  },
  {
   "cell_type": "code",
   "execution_count": 0,
   "metadata": {
    "colab": {},
    "colab_type": "code",
    "id": "Nq97PEeaUrj4",
    "outputId": "b2c61c20-f940-423a-fced-7d5a0882930d"
   },
   "outputs": [
    {
     "ename": "TypeError",
     "evalue": "unsupported operand type(s) for -: 'str' and 'str'",
     "output_type": "error",
     "traceback": [
      "\u001b[0;31m---------------------------------------------------------------------------\u001b[0m",
      "\u001b[0;31mTypeError\u001b[0m                                 Traceback (most recent call last)",
      "\u001b[0;32m<ipython-input-119-df4656ac4e0f>\u001b[0m in \u001b[0;36m<module>\u001b[0;34m()\u001b[0m\n\u001b[0;32m----> 1\u001b[0;31m \u001b[1;34m\"gyros\"\u001b[0m \u001b[1;33m-\u001b[0m \u001b[1;34m\"falafel\"\u001b[0m\u001b[1;33m\u001b[0m\u001b[0m\n\u001b[0m",
      "\u001b[0;31mTypeError\u001b[0m: unsupported operand type(s) for -: 'str' and 'str'"
     ]
    }
   ],
   "source": [
    "\"gyros\" - \"falafel\""
   ]
  },
  {
   "cell_type": "markdown",
   "metadata": {
    "colab_type": "text",
    "id": "CbUKAFGDUrj8"
   },
   "source": [
    "We can add strings and variables that have string values together to create a longer string, then assign that longer string to a variable."
   ]
  },
  {
   "cell_type": "code",
   "execution_count": 0,
   "metadata": {
    "colab": {},
    "colab_type": "code",
    "id": "Uys6Kg1WUrkB",
    "outputId": "8ded9dca-9ede-4349-fc8b-c22cb2665fad"
   },
   "outputs": [
    {
     "name": "stdout",
     "output_type": "stream",
     "text": [
      "hello, I would like a gyro\n"
     ]
    }
   ],
   "source": [
    "order = hello + ', I would like a ' + falafel\n",
    "\n",
    "print(order)"
   ]
  },
  {
   "cell_type": "markdown",
   "metadata": {
    "colab_type": "text",
    "id": "wnLH5CcEUrkD"
   },
   "source": [
    "Hmmm, well it is correct as a sentence but we forgot to capitalize `hello`! \n",
    "\n",
    "Keep in mind that after a lifetime of reading it is a lot easier for us to see and recognize correct strings than it is to tell the computer to recognize them. \n",
    "\n",
    "Fortunately, string variables have some **built-in methods** that we use on the variables to help with these situations."
   ]
  },
  {
   "cell_type": "code",
   "execution_count": 0,
   "metadata": {
    "colab": {},
    "colab_type": "code",
    "id": "GfCZFRM2UrkD",
    "outputId": "353c1cef-1e2d-4ea5-edee-cab0aa0098d4"
   },
   "outputs": [
    {
     "data": {
      "text/plain": [
       "'Hello, i would like a gyro'"
      ]
     },
     "execution_count": 121,
     "metadata": {
      "tags": []
     },
     "output_type": "execute_result"
    }
   ],
   "source": [
    "order.capitalize()"
   ]
  },
  {
   "cell_type": "markdown",
   "metadata": {
    "colab_type": "text",
    "id": "BrTt5qGCUrkF"
   },
   "source": [
    "BAM! \n",
    "\n",
    "By using the capitalize() method on the order variable, you got the capitalized `hello`. \n",
    "\n",
    "An important thing to note, though, is that while that cell printed the string with `Hello`, **it didn't actually change the variable**."
   ]
  },
  {
   "cell_type": "code",
   "execution_count": 0,
   "metadata": {
    "colab": {},
    "colab_type": "code",
    "id": "f0SW9TdFUrkF",
    "outputId": "813b3f93-47db-4ca7-b1ac-b0e39e8ff021"
   },
   "outputs": [
    {
     "data": {
      "text/plain": [
       "'hello, I would like a gyro'"
      ]
     },
     "execution_count": 122,
     "metadata": {
      "tags": []
     },
     "output_type": "execute_result"
    }
   ],
   "source": [
    "order"
   ]
  },
  {
   "cell_type": "markdown",
   "metadata": {
    "colab_type": "text",
    "id": "q4AMqsSVUrkH"
   },
   "source": [
    "If you want to change the value of `order` variable to the capitalized version, you need to re-assign the variable:"
   ]
  },
  {
   "cell_type": "code",
   "execution_count": 0,
   "metadata": {
    "colab": {},
    "colab_type": "code",
    "id": "GOt0dAZUUrkI",
    "outputId": "69462acb-b6e1-40e2-ae52-27b99f7fddb1"
   },
   "outputs": [
    {
     "data": {
      "text/plain": [
       "'Hello, i would like a gyro'"
      ]
     },
     "execution_count": 123,
     "metadata": {
      "tags": []
     },
     "output_type": "execute_result"
    }
   ],
   "source": [
    "order = order.capitalize()\n",
    "\n",
    "order"
   ]
  },
  {
   "cell_type": "markdown",
   "metadata": {
    "colab_type": "text",
    "id": "ublIIRIgUrkK"
   },
   "source": [
    "There are three other functions that perform actions like `capitalize()`, and those are:\n",
    "\n",
    "* `lower()`, makes the entire string lowercase\n",
    "* `upper()`, makes the entire string uppercase\n",
    "* `title()`, capitalizes every word in a string"
   ]
  },
  {
   "cell_type": "code",
   "execution_count": 0,
   "metadata": {
    "colab": {},
    "colab_type": "code",
    "id": "kf9qx2YJUrkL",
    "outputId": "35253ba8-8537-4222-ddb3-5e3a9418da1f"
   },
   "outputs": [
    {
     "data": {
      "text/plain": [
       "'Hello, I Would Like A Gyro'"
      ]
     },
     "execution_count": 124,
     "metadata": {
      "tags": []
     },
     "output_type": "execute_result"
    }
   ],
   "source": [
    "order.title()"
   ]
  },
  {
   "cell_type": "markdown",
   "metadata": {
    "colab_type": "text",
    "id": "PuYCdKIdUrkQ"
   },
   "source": [
    "But you'll notice that I screwed up a little bit by setting `order` to the capitalized version of itself (the grammar nazis reading along have probably been going crazy all this time!). When we capitalized the string, we lost the capitalized `i`! Python is pretty smart, but it only does exactly what we tell it to do and the `capitalize()` function only capitalizes the first letter in a string.\n",
    "\n",
    "The simplest remedy would be to go back and recreate the order variable."
   ]
  },
  {
   "cell_type": "code",
   "execution_count": 0,
   "metadata": {
    "colab": {},
    "colab_type": "code",
    "id": "8DCZDQw4UrkR",
    "outputId": "b6834dfa-780c-468b-e5ac-d1279d3ce86a"
   },
   "outputs": [
    {
     "data": {
      "text/plain": [
       "'Hello, I would like a gyro'"
      ]
     },
     "execution_count": 125,
     "metadata": {
      "tags": []
     },
     "output_type": "execute_result"
    }
   ],
   "source": [
    "order = hello.capitalize() + ', I would like a ' + falafel\n",
    "\n",
    "order"
   ]
  },
  {
   "cell_type": "markdown",
   "metadata": {
    "colab_type": "text",
    "id": "EscNd_yjUrkZ"
   },
   "source": [
    "We could do this programmatically by using some of the other built-in functions.\n",
    "\n",
    "One way would be to `strip` away the `Hello,` at the start. Python has a `strip` method that strips away characters from the right side as well as `lstrip` which strips away characters starting from the left."
   ]
  },
  {
   "cell_type": "code",
   "execution_count": 0,
   "metadata": {
    "colab": {},
    "colab_type": "code",
    "id": "LyM5YGLzUrka",
    "outputId": "204d20e2-5b5d-453e-d495-d7888138b600"
   },
   "outputs": [
    {
     "data": {
      "text/plain": [
       "' I would like a gyro'"
      ]
     },
     "execution_count": 126,
     "metadata": {
      "tags": []
     },
     "output_type": "execute_result"
    }
   ],
   "source": [
    "order.lstrip('Helo,')"
   ]
  },
  {
   "cell_type": "markdown",
   "metadata": {
    "colab_type": "text",
    "id": "8v5noqvNUrkd"
   },
   "source": [
    "Notice that I didn't need to put in `l` twice? That's because I just put in all of the individual characters I want stripped and Python goes and removes **any and all** instances of those characters until it encounters a character that I did not tell it to strip. We can test that by adding an `I` as the next character that we see, but not the space which comes before it."
   ]
  },
  {
   "cell_type": "code",
   "execution_count": 0,
   "metadata": {
    "colab": {},
    "colab_type": "code",
    "id": "9SmxLVRCUrkd",
    "outputId": "f167f87e-ad20-4717-be27-dbeb48b2595a"
   },
   "outputs": [
    {
     "data": {
      "text/plain": [
       "' I would like a gyro'"
      ]
     },
     "execution_count": 127,
     "metadata": {
      "tags": []
     },
     "output_type": "execute_result"
    }
   ],
   "source": [
    "order.lstrip('Helo,I')"
   ]
  },
  {
   "cell_type": "markdown",
   "metadata": {
    "colab_type": "text",
    "id": "wUVI_UxTUrkg"
   },
   "source": [
    "Same result! This is a handy way of thinking, we just want to strip away the parts we don't want until we get to what we do want.\n",
    "\n",
    "We can also check the contents of a string using built-in methods. For example, we can make sure that all of the characters are alphabetical."
   ]
  },
  {
   "cell_type": "code",
   "execution_count": 0,
   "metadata": {
    "colab": {},
    "colab_type": "code",
    "id": "bh7Z8vUrUrkh",
    "outputId": "0dfedde3-e3ee-49aa-caa0-663418693cea"
   },
   "outputs": [
    {
     "data": {
      "text/plain": [
       "True"
      ]
     },
     "execution_count": 128,
     "metadata": {
      "tags": []
     },
     "output_type": "execute_result"
    }
   ],
   "source": [
    "hello.isalpha()"
   ]
  },
  {
   "cell_type": "markdown",
   "metadata": {
    "colab_type": "text",
    "id": "NoEYwRlUUrki"
   },
   "source": [
    "This is handy because we can have numbers that are a string"
   ]
  },
  {
   "cell_type": "code",
   "execution_count": 0,
   "metadata": {
    "colab": {},
    "colab_type": "code",
    "id": "fos3NIifUrki",
    "outputId": "f7103732-0ef4-4d09-ee9a-fbfa22c3769b"
   },
   "outputs": [
    {
     "name": "stdout",
     "output_type": "stream",
     "text": [
      "4\n",
      "<type 'int'>\n"
     ]
    }
   ],
   "source": [
    "real_number = int('4')\n",
    "\n",
    "print( real_number )\n",
    "print( type(real_number) )"
   ]
  },
  {
   "cell_type": "markdown",
   "metadata": {
    "colab_type": "text",
    "id": "friysXA4Urkj"
   },
   "source": [
    "We can do the same thing for floats, too."
   ]
  },
  {
   "cell_type": "code",
   "execution_count": 0,
   "metadata": {
    "colab": {},
    "colab_type": "code",
    "id": "YXh54TvWUrkj",
    "outputId": "20ae879c-b647-4776-d4ca-22a2b3854a2d"
   },
   "outputs": [
    {
     "data": {
      "text/plain": [
       "8.4"
      ]
     },
     "execution_count": 130,
     "metadata": {
      "tags": []
     },
     "output_type": "execute_result"
    }
   ],
   "source": [
    "float('4.2') * 2"
   ]
  },
  {
   "cell_type": "markdown",
   "metadata": {
    "colab_type": "text",
    "id": "IDCJFL58Urkl"
   },
   "source": [
    "However, we cannot do that with anything that has alphabetical characters."
   ]
  },
  {
   "cell_type": "code",
   "execution_count": 0,
   "metadata": {
    "colab": {},
    "colab_type": "code",
    "id": "uyL3jJK_Urkm",
    "outputId": "df7481bd-d4a4-40f2-e185-0358357f7a5f"
   },
   "outputs": [
    {
     "ename": "ValueError",
     "evalue": "could not convert string to float: I would like 4.5 gyros",
     "output_type": "error",
     "traceback": [
      "\u001b[0;31m---------------------------------------------------------------------------\u001b[0m",
      "\u001b[0;31mValueError\u001b[0m                                Traceback (most recent call last)",
      "\u001b[0;32m<ipython-input-131-b7a074fdfbca>\u001b[0m in \u001b[0;36m<module>\u001b[0;34m()\u001b[0m\n\u001b[0;32m----> 1\u001b[0;31m \u001b[0mfloat\u001b[0m\u001b[1;33m(\u001b[0m\u001b[1;34m'I would like 4.5 gyros'\u001b[0m\u001b[1;33m)\u001b[0m\u001b[1;33m\u001b[0m\u001b[0m\n\u001b[0m",
      "\u001b[0;31mValueError\u001b[0m: could not convert string to float: I would like 4.5 gyros"
     ]
    }
   ],
   "source": [
    "float('I would like 4.5 gyros')"
   ]
  },
  {
   "cell_type": "markdown",
   "metadata": {
    "colab_type": "text",
    "id": "BGo7FzlKUrkn"
   },
   "source": [
    "### Strings are actually collections!\n",
    "\n",
    "Strings are collections of characters.  Because they are collections, you are able to access its elements individually or in groups. \n",
    "\n",
    "Accessing a single element of the string is called **indexing**. \n",
    "\n",
    "**To index a single element, you add `[ ]` after the variable name** and tell it the numerical index of the element you want to access."
   ]
  },
  {
   "cell_type": "code",
   "execution_count": 0,
   "metadata": {
    "colab": {},
    "colab_type": "code",
    "id": "HLXXgwPKUrko",
    "outputId": "89de54d5-beb5-4ac6-c7a2-a78b2f1336cd"
   },
   "outputs": [
    {
     "data": {
      "text/plain": [
       "'gyro'"
      ]
     },
     "execution_count": 132,
     "metadata": {
      "tags": []
     },
     "output_type": "execute_result"
    }
   ],
   "source": [
    "falafel"
   ]
  },
  {
   "cell_type": "code",
   "execution_count": 0,
   "metadata": {
    "colab": {},
    "colab_type": "code",
    "id": "m2pMR3qaUrkq",
    "outputId": "a9f95001-191b-460e-b000-c882277090f7"
   },
   "outputs": [
    {
     "data": {
      "text/plain": [
       "'y'"
      ]
     },
     "execution_count": 133,
     "metadata": {
      "tags": []
     },
     "output_type": "execute_result"
    }
   ],
   "source": [
    "falafel[1]"
   ]
  },
  {
   "cell_type": "markdown",
   "metadata": {
    "colab_type": "text",
    "id": "VR6Ug-SzUrks"
   },
   "source": [
    "Huh? I said that I wanted the first element but Python returned `y` which is the second character in the `falafel` variable. \n",
    "\n",
    "Why is that???\n",
    "\n",
    "In Python, like in many other programming languages, all sequences are **zero-indexed**. That means the numerical index for the first element is actually `0`"
   ]
  },
  {
   "cell_type": "code",
   "execution_count": 0,
   "metadata": {
    "colab": {},
    "colab_type": "code",
    "id": "3SKiQQy2Urks",
    "outputId": "19f0132b-7445-4e93-c772-5b251cc3c8a2"
   },
   "outputs": [
    {
     "data": {
      "text/plain": [
       "'g'"
      ]
     },
     "execution_count": 134,
     "metadata": {
      "tags": []
     },
     "output_type": "execute_result"
    }
   ],
   "source": [
    "falafel[0]"
   ]
  },
  {
   "cell_type": "markdown",
   "metadata": {
    "colab_type": "text",
    "id": "auneRqv9Urkt"
   },
   "source": [
    "The counting after that position is normal. So if want the letter `r` which is the **third** letter in the word `gyro`, then the index will be **`2`**"
   ]
  },
  {
   "cell_type": "code",
   "execution_count": 0,
   "metadata": {
    "colab": {},
    "colab_type": "code",
    "id": "_gzL5LxdUrkt",
    "outputId": "cb6c510d-7157-4120-99f2-e8a7e78cc4b8"
   },
   "outputs": [
    {
     "data": {
      "text/plain": [
       "'r'"
      ]
     },
     "execution_count": 135,
     "metadata": {
      "tags": []
     },
     "output_type": "execute_result"
    }
   ],
   "source": [
    "falafel[2]"
   ]
  },
  {
   "cell_type": "markdown",
   "metadata": {
    "colab_type": "text",
    "id": "yNZ5oKrUUrkx"
   },
   "source": [
    "For longer strings it is hard to figure out the index of the final elements. To circumvent that difficult, Python allows you to access elements by counting from the end of the string too.\n",
    "\n",
    "When counting from the end, you use negative indicies. A way to figure this out is to see a string a written on a ring where the last element comes just before the first element.  So, if the first element has index 0, the one before must have index **`-1`**. "
   ]
  },
  {
   "cell_type": "code",
   "execution_count": 0,
   "metadata": {
    "colab": {},
    "colab_type": "code",
    "id": "AUJAw_NcUrk0",
    "outputId": "05b74854-4e89-43cf-aa2a-880de03dfd62"
   },
   "outputs": [
    {
     "data": {
      "text/plain": [
       "'o'"
      ]
     },
     "execution_count": 136,
     "metadata": {
      "tags": []
     },
     "output_type": "execute_result"
    }
   ],
   "source": [
    "falafel[-1]"
   ]
  },
  {
   "cell_type": "markdown",
   "metadata": {
    "colab_type": "text",
    "id": "2SWNIuWtUrk2"
   },
   "source": [
    "From the end, the counting works just the same as from the start"
   ]
  },
  {
   "cell_type": "code",
   "execution_count": 0,
   "metadata": {
    "colab": {},
    "colab_type": "code",
    "id": "hKMe-XDdUrk3",
    "outputId": "d353fb63-965c-46c8-cfd5-fcb5c367601a"
   },
   "outputs": [
    {
     "data": {
      "text/plain": [
       "'r'"
      ]
     },
     "execution_count": 137,
     "metadata": {
      "tags": []
     },
     "output_type": "execute_result"
    }
   ],
   "source": [
    "falafel[-2]"
   ]
  },
  {
   "cell_type": "markdown",
   "metadata": {
    "colab_type": "text",
    "id": "SRTykd5FUrk7"
   },
   "source": [
    "\n",
    "Something to be aware of, though, is that if you try to access an element **it must exist**. That means that since `gyro` is four characters long, you cannot try to access the element with index `4`."
   ]
  },
  {
   "cell_type": "code",
   "execution_count": 0,
   "metadata": {
    "colab": {},
    "colab_type": "code",
    "id": "j36Fo5NzUrk8",
    "outputId": "61402a68-b4af-4086-9555-21de24ac02a2"
   },
   "outputs": [
    {
     "ename": "IndexError",
     "evalue": "string index out of range",
     "output_type": "error",
     "traceback": [
      "\u001b[0;31m---------------------------------------------------------------------------\u001b[0m",
      "\u001b[0;31mIndexError\u001b[0m                                Traceback (most recent call last)",
      "\u001b[0;32m<ipython-input-138-d17bd023c47b>\u001b[0m in \u001b[0;36m<module>\u001b[0;34m()\u001b[0m\n\u001b[0;32m----> 1\u001b[0;31m \u001b[0mfalafel\u001b[0m\u001b[1;33m[\u001b[0m\u001b[1;36m4\u001b[0m\u001b[1;33m]\u001b[0m\u001b[1;33m\u001b[0m\u001b[0m\n\u001b[0m",
      "\u001b[0;31mIndexError\u001b[0m: string index out of range"
     ]
    }
   ],
   "source": [
    "falafel[4]"
   ]
  },
  {
   "cell_type": "markdown",
   "metadata": {
    "colab_type": "text",
    "id": "vj6hIFlBUrk_"
   },
   "source": [
    "### Slicing a string\n",
    "\n",
    "What if we wanted to get out more than one element from a string? We can do that too, it's called slicing.\n",
    "\n",
    "The syntax for slicing is deceptively simple, the full syntax is:\n",
    "\n",
    "`variable[start_index : stop_index : step]`\n",
    "\n",
    "You'll see that all of the inputs go within the `[]` and the `:` separates each input. \n",
    "\n",
    "The `start_index` tells python which index we want to start getting elements from.\n",
    "\n",
    "The `stop_index` tells python which index we want elements **up to but not including**\n",
    "\n",
    "The `step` tells python how many steps to take between elements within the range. This means that you don't need to take every element. You could take **every other** element. To do that you just specify a `step` of `2`.\n"
   ]
  },
  {
   "cell_type": "code",
   "execution_count": 0,
   "metadata": {
    "colab": {
     "base_uri": "https://localhost:8080/",
     "height": 34
    },
    "colab_type": "code",
    "executionInfo": {
     "elapsed": 1225,
     "status": "ok",
     "timestamp": 1557546507312,
     "user": {
      "displayName": "Desmond Sek",
      "photoUrl": "https://lh3.googleusercontent.com/-kpaWQQmtEpQ/AAAAAAAAAAI/AAAAAAAAc5k/V4TZA_YKVSI/s64/photo.jpg",
      "userId": "15004601375355093954"
     },
     "user_tz": -480
    },
    "id": "Dzw-xLt-UrlA",
    "outputId": "92f94c6c-4e99-415e-ec51-efc584447425"
   },
   "outputs": [
    {
     "data": {
      "text/plain": [
       "'falafel burger is awesome'"
      ]
     },
     "execution_count": 31,
     "metadata": {
      "tags": []
     },
     "output_type": "execute_result"
    }
   ],
   "source": [
    "falafel = \"gryo\"\n",
    "falafel"
   ]
  },
  {
   "cell_type": "markdown",
   "metadata": {
    "colab_type": "text",
    "id": "e3MxQlRQUrlD"
   },
   "source": [
    "If we wanted to access the `gy` part from `gyros`, you write:"
   ]
  },
  {
   "cell_type": "code",
   "execution_count": 0,
   "metadata": {
    "colab": {
     "base_uri": "https://localhost:8080/",
     "height": 34
    },
    "colab_type": "code",
    "executionInfo": {
     "elapsed": 933,
     "status": "ok",
     "timestamp": 1557546756085,
     "user": {
      "displayName": "Desmond Sek",
      "photoUrl": "https://lh3.googleusercontent.com/-kpaWQQmtEpQ/AAAAAAAAAAI/AAAAAAAAc5k/V4TZA_YKVSI/s64/photo.jpg",
      "userId": "15004601375355093954"
     },
     "user_tz": -480
    },
    "id": "sTjiA32yUrlE",
    "outputId": "f9b515fd-c6ba-4730-d065-dccfa9a3eff4"
   },
   "outputs": [
    {
     "data": {
      "text/plain": [
       "'flflbre '"
      ]
     },
     "execution_count": 36,
     "metadata": {
      "tags": []
     },
     "output_type": "execute_result"
    }
   ],
   "source": [
    "falafel[0 : 2 : 1]"
   ]
  },
  {
   "cell_type": "markdown",
   "metadata": {
    "colab_type": "text",
    "id": "pV3Lz9pxUrlF"
   },
   "source": [
    "Remember that the index of `2` means the third element, so we specified that we wanted every letter from the first index **up until** the third index, and we want every letter.\n",
    "\n",
    "We could get every other letter from the first four letters like so:"
   ]
  },
  {
   "cell_type": "code",
   "execution_count": 0,
   "metadata": {
    "colab": {},
    "colab_type": "code",
    "id": "h1kNeuzLUrlF",
    "outputId": "3bdfee63-5273-4092-b633-369767a2cfae"
   },
   "outputs": [
    {
     "data": {
      "text/plain": [
       "'gr'"
      ]
     },
     "execution_count": 141,
     "metadata": {
      "tags": []
     },
     "output_type": "execute_result"
    }
   ],
   "source": [
    "falafel[0 : 4 : 2]"
   ]
  },
  {
   "cell_type": "markdown",
   "metadata": {
    "colab_type": "text",
    "id": "7_LSRX46UrlI"
   },
   "source": [
    "Because some types of slicing are used more frequently than others, Python assumes that if you leave an option empty that you are making the default selection. The defaults for slicing are:\n",
    "\n",
    "* `start_index` is set to `0`\n",
    "* `stop_index` is set to `-1` (notice that this will always be the last character no matter how long the string is)\n",
    "* `step` is set to  `1`"
   ]
  },
  {
   "cell_type": "code",
   "execution_count": 0,
   "metadata": {
    "colab": {},
    "colab_type": "code",
    "id": "i5oLcJzhUrlI",
    "outputId": "e75970f7-12ae-459c-9a55-6c4cd576223e"
   },
   "outputs": [
    {
     "data": {
      "text/plain": [
       "'gy'"
      ]
     },
     "execution_count": 142,
     "metadata": {
      "tags": []
     },
     "output_type": "execute_result"
    }
   ],
   "source": [
    "falafel[0 : 2]"
   ]
  },
  {
   "cell_type": "code",
   "execution_count": 0,
   "metadata": {
    "colab": {},
    "colab_type": "code",
    "id": "gx-YUVA3UrlL",
    "outputId": "af6addf4-9cd0-498b-b643-298f06915c39"
   },
   "outputs": [
    {
     "data": {
      "text/plain": [
       "'gy'"
      ]
     },
     "execution_count": 143,
     "metadata": {
      "tags": []
     },
     "output_type": "execute_result"
    }
   ],
   "source": [
    "falafel[: 2]"
   ]
  },
  {
   "cell_type": "code",
   "execution_count": 0,
   "metadata": {
    "colab": {},
    "colab_type": "code",
    "id": "L5_dFD5uUrlM",
    "outputId": "e5161ed8-9d84-4b14-8b47-69326bf7e4df"
   },
   "outputs": [
    {
     "data": {
      "text/plain": [
       "'gr'"
      ]
     },
     "execution_count": 144,
     "metadata": {
      "tags": []
     },
     "output_type": "execute_result"
    }
   ],
   "source": [
    "falafel[: 4 : 2]"
   ]
  },
  {
   "cell_type": "markdown",
   "metadata": {
    "colab_type": "text",
    "id": "G1UqmNTIUrlN"
   },
   "source": [
    "We can mix and match positive and negative indices like so:"
   ]
  },
  {
   "cell_type": "code",
   "execution_count": 0,
   "metadata": {
    "colab": {},
    "colab_type": "code",
    "id": "9Q2DiqL4UrlO",
    "outputId": "d97e3919-7854-4b76-943e-f4fdd8a7da04"
   },
   "outputs": [
    {
     "data": {
      "text/plain": [
       "'gr'"
      ]
     },
     "execution_count": 145,
     "metadata": {
      "tags": []
     },
     "output_type": "execute_result"
    }
   ],
   "source": [
    "falafel[ : -1 : 2]"
   ]
  },
  {
   "cell_type": "markdown",
   "metadata": {
    "colab_type": "text",
    "id": "O5NWcm7pUrlP"
   },
   "source": [
    "One difference from accessing a single element is that we can specify a `stop_index` that is greater than the length of the string. Python will just give us all of the possible characters that exist within the constraint."
   ]
  },
  {
   "cell_type": "code",
   "execution_count": 0,
   "metadata": {
    "colab": {},
    "colab_type": "code",
    "id": "AZd5JsgmUrlQ",
    "outputId": "e7219f00-e227-41c1-e973-06452e394202"
   },
   "outputs": [
    {
     "data": {
      "text/plain": [
       "'gyro'"
      ]
     },
     "execution_count": 146,
     "metadata": {
      "tags": []
     },
     "output_type": "execute_result"
    }
   ],
   "source": [
    "falafel[: 10]"
   ]
  },
  {
   "cell_type": "markdown",
   "metadata": {
    "colab_type": "text",
    "id": "whJxBClhUrlQ"
   },
   "source": [
    "In most situations this is poor practice and you should just omit the `stop_index` so that it returns all of the characters."
   ]
  },
  {
   "cell_type": "code",
   "execution_count": 0,
   "metadata": {
    "colab": {},
    "colab_type": "code",
    "id": "aL5ImHBjUrlR",
    "outputId": "6dd55193-8556-4b67-c5a9-e3f0551e5605"
   },
   "outputs": [
    {
     "data": {
      "text/plain": [
       "'gyro'"
      ]
     },
     "execution_count": 147,
     "metadata": {
      "tags": []
     },
     "output_type": "execute_result"
    }
   ],
   "source": [
    "falafel[:]"
   ]
  },
  {
   "cell_type": "markdown",
   "metadata": {
    "colab_type": "text",
    "id": "RLyGOGsqUrlS"
   },
   "source": [
    "Note that the `start_index` always has to come before the `stop_index`, otherwise we will get an empty string:"
   ]
  },
  {
   "cell_type": "code",
   "execution_count": 0,
   "metadata": {
    "colab": {},
    "colab_type": "code",
    "id": "acWSx1tnUrlS",
    "outputId": "adc5de8e-f52e-49fe-eb2a-f3e8dad3b886"
   },
   "outputs": [
    {
     "data": {
      "text/plain": [
       "''"
      ]
     },
     "execution_count": 148,
     "metadata": {
      "tags": []
     },
     "output_type": "execute_result"
    }
   ],
   "source": [
    "falafel[3 : 1]"
   ]
  },
  {
   "cell_type": "markdown",
   "metadata": {
    "colab_type": "text",
    "id": "3QeGLtqHUrlX"
   },
   "source": [
    "That's because there is no valid sequence moving from left to right that exists within those limits.\n",
    "\n",
    "If we want it to return the slice but reversed, we actually control that with the `step` input and tell it that we want the reverse slice."
   ]
  },
  {
   "cell_type": "code",
   "execution_count": 0,
   "metadata": {
    "colab": {},
    "colab_type": "code",
    "id": "FTwQcr8RUrlY",
    "outputId": "648c24b1-f977-4351-c7a4-569b33913209"
   },
   "outputs": [
    {
     "data": {
      "text/plain": [
       "'or'"
      ]
     },
     "execution_count": 149,
     "metadata": {
      "tags": []
     },
     "output_type": "execute_result"
    }
   ],
   "source": [
    "falafel[3 : 1 : -1]"
   ]
  },
  {
   "cell_type": "markdown",
   "metadata": {
    "colab_type": "text",
    "id": "hYWiGnD7Urlb"
   },
   "source": [
    "# Exercises"
   ]
  },
  {
   "cell_type": "markdown",
   "metadata": {
    "colab_type": "text",
    "id": "SxcgvYHYUrlb"
   },
   "source": [
    "Use five mathematical operators (`+ - * / **`) to produce the number `4`"
   ]
  },
  {
   "cell_type": "code",
   "execution_count": 0,
   "metadata": {
    "colab": {},
    "colab_type": "code",
    "id": "eMAM835lUrlb"
   },
   "outputs": [],
   "source": []
  },
  {
   "cell_type": "markdown",
   "metadata": {
    "colab_type": "text",
    "id": "O_GBfmDTUrld"
   },
   "source": [
    "Convert the output of one of those expressions to a `float`"
   ]
  },
  {
   "cell_type": "code",
   "execution_count": 0,
   "metadata": {
    "colab": {},
    "colab_type": "code",
    "id": "Ld5rSzEPUrld"
   },
   "outputs": [],
   "source": []
  },
  {
   "cell_type": "markdown",
   "metadata": {
    "colab_type": "text",
    "id": "RyIC-riRUrle"
   },
   "source": [
    "I have a string called pet_shop that has all of the different pet varieties in a store."
   ]
  },
  {
   "cell_type": "code",
   "execution_count": 0,
   "metadata": {
    "colab": {},
    "colab_type": "code",
    "id": "VODx510HUrlf"
   },
   "outputs": [],
   "source": [
    "pet_shop = 'dog cat hedgehog fish bird'"
   ]
  },
  {
   "cell_type": "markdown",
   "metadata": {
    "colab_type": "text",
    "id": "D2EqVI-CUrlf"
   },
   "source": [
    "Capitalize all of the different pet types in a single line"
   ]
  },
  {
   "cell_type": "code",
   "execution_count": 0,
   "metadata": {
    "colab": {},
    "colab_type": "code",
    "id": "BLQAmrpyUrlf"
   },
   "outputs": [],
   "source": []
  },
  {
   "cell_type": "markdown",
   "metadata": {
    "colab_type": "text",
    "id": "Lqrld4GKUrlh"
   },
   "source": [
    "Print out a single `g` from `pet_shop`"
   ]
  },
  {
   "cell_type": "code",
   "execution_count": 0,
   "metadata": {
    "colab": {},
    "colab_type": "code",
    "id": "-uFdJm8VUrlh"
   },
   "outputs": [],
   "source": []
  },
  {
   "cell_type": "markdown",
   "metadata": {
    "colab_type": "text",
    "id": "F_vursvMUrli"
   },
   "source": [
    "Print out just `hedgehog`"
   ]
  },
  {
   "cell_type": "code",
   "execution_count": 0,
   "metadata": {
    "colab": {},
    "colab_type": "code",
    "id": "TVzIdQQsUrli"
   },
   "outputs": [],
   "source": []
  },
  {
   "cell_type": "markdown",
   "metadata": {
    "colab_type": "text",
    "id": "r0fgWqLZUrli"
   },
   "source": [
    "Print out `gohegdeh`"
   ]
  },
  {
   "cell_type": "code",
   "execution_count": 0,
   "metadata": {
    "colab": {},
    "colab_type": "code",
    "id": "Tgaxo89SUrlj"
   },
   "outputs": [],
   "source": []
  },
  {
   "cell_type": "markdown",
   "metadata": {
    "colab_type": "text",
    "id": "Z9G-cgq0Urlj"
   },
   "source": [
    "I have two variables, dogs and cats:"
   ]
  },
  {
   "cell_type": "code",
   "execution_count": 0,
   "metadata": {
    "colab": {},
    "colab_type": "code",
    "id": "zR4f4QD_Urlj"
   },
   "outputs": [],
   "source": [
    "dogs, cats = '8', '4'"
   ]
  },
  {
   "cell_type": "markdown",
   "metadata": {
    "colab_type": "text",
    "id": "bTJaoen-Urll"
   },
   "source": [
    "that tell me how many `dogs` and `cats` I have at the store. Using these two variables, calculate how many more dogs I have than cats"
   ]
  },
  {
   "cell_type": "code",
   "execution_count": 0,
   "metadata": {
    "colab": {},
    "colab_type": "code",
    "id": "vFFjCSKfUrll"
   },
   "outputs": [],
   "source": []
  },
  {
   "cell_type": "markdown",
   "metadata": {
    "colab_type": "text",
    "id": "VF3JL_UMUrlm"
   },
   "source": [
    "Exercises completed!"
   ]
  },
  {
   "cell_type": "code",
   "execution_count": 0,
   "metadata": {
    "colab": {},
    "colab_type": "code",
    "id": "q-6DqUOcUrlm"
   },
   "outputs": [],
   "source": []
  }
 ],
 "metadata": {
  "colab": {
   "name": "Day1_2_Data-Types.ipynb",
   "provenance": []
  },
  "kernelspec": {
   "display_name": "Python 3",
   "language": "python",
   "name": "python3"
  },
  "language_info": {
   "codemirror_mode": {
    "name": "ipython",
    "version": 3
   },
   "file_extension": ".py",
   "mimetype": "text/x-python",
   "name": "python",
   "nbconvert_exporter": "python",
   "pygments_lexer": "ipython3",
   "version": "3.7.3"
  }
 },
 "nbformat": 4,
 "nbformat_minor": 1
}
