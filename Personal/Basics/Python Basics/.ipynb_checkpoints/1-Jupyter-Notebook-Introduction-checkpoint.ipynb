{
 "cells": [
  {
   "cell_type": "markdown",
   "metadata": {
    "id": "EMvqqu4T1VAt"
   },
   "source": [
    "# Jupyter Notebook Start Guide\n",
    "**1.1** <font color=white>**What is the Jupyter Notebook?**</font> <br>\n",
    "Jupyter Notebook is an open-source web-based IDE that allows us to create and share codes, plots and documents. It help us to streamline the work and enable more productivity and easy collaboration. Using 'RISE' package we can also convert it into slideshow.\n",
    "-  <font color=white>Notebook Document</font>\n",
    "-  <font color=white>Jupyter Notebook App</font>\n",
    "-  <font color=white>Kernel</font>\n",
    "-  <font color=white>Notebook Dashboard</font>\n",
    "-  <font color=blwhiteue>The Cell</font>"
   ]
  },
  {
   "cell_type": "markdown",
   "metadata": {
    "id": "qsrsv_ZBeXiF"
   },
   "source": [
    "**1.1.1  <font color=grey>Notebook document: </font>** Notebook documents are produced by the Jupyter Notebook App which contain both both computer code and rich text elements(paragraph, equations, figures, links etc..)."
   ]
  },
  {
   "cell_type": "markdown",
   "metadata": {
    "id": "aGzLwWnqeXiG"
   },
   "source": [
    "__1.1.2  <font color=grey>Jupyter Notebook App: </font>__ The Jupyter Notebook App is a server-client application that allows editing and running notebook documents via a web browser. The Jupyter Notebook App can be executed on a local desktop requiring no internet access or installed on a remote server and accessed through the internet. In addition to displaying/editing/running notebook documents, the Jupyter Notebook App has a “Dashboard” (Notebook Dashboard), a “control panel” showing local ﬁles and allowing to open notebook documents or shutting down their kernels."
   ]
  },
  {
   "cell_type": "markdown",
   "metadata": {
    "id": "vdyGWC-ceXiI"
   },
   "source": [
    "__1.1.3  <font color=grey>Kernel: </font>__ The Jupyter notebook kernel is a \"computational engine\" that executes the code contained in a Notebook document. Note that the RAM is not released until the kernel is shut-down. "
   ]
  },
  {
   "cell_type": "markdown",
   "metadata": {
    "id": "uSEVh3WMeXiJ"
   },
   "source": [
    "__1.1.4  <font color=grey>Notebook Dashboard: </font>__ The Notebook Dashboard is the component which is shown ﬁrst when launching Jupyter Notebook App. The Notebook Dashboard is mainly used to open notebook documents, and to manage the running kernels (visualize and shutdown)."
   ]
  },
  {
   "cell_type": "markdown",
   "metadata": {
    "id": "5iOJ11f_eXiK"
   },
   "source": [
    "__1.1.5  <font color=grey>The Cell: </font>__ The gray boxes are called cells.\n",
    "A cell can have its type changed. By default its type is `Code`, which means Python code. To produce a text paragraphs, you should use `Markdown`."
   ]
  },
  {
   "cell_type": "code",
   "execution_count": 9,
   "metadata": {
    "colab": {
     "base_uri": "https://localhost:8080/",
     "height": 35
    },
    "executionInfo": {
     "elapsed": 321,
     "status": "ok",
     "timestamp": 1670637966618,
     "user": {
      "displayName": "Zhanpeng Yin (Justin)",
      "userId": "08219578712604863430"
     },
     "user_tz": -480
    },
    "id": "ZEGBRuKjeXiL",
    "outputId": "1495ae73-0df1-44e0-8e1d-fc50e298693f"
   },
   "outputs": [
    {
     "data": {
      "application/vnd.google.colaboratory.intrinsic+json": {
       "type": "string"
      },
      "text/plain": [
       "'Data Mavericks Data Mavericks Data Mavericks Data Mavericks Data Mavericks Data Mavericks Data Mavericks '"
      ]
     },
     "execution_count": 9,
     "metadata": {},
     "output_type": "execute_result"
    }
   ],
   "source": [
    "(\"Data Mavericks \"*7)"
   ]
  },
  {
   "cell_type": "markdown",
   "metadata": {
    "collapsed": true,
    "id": "5DNHw4Oh1VBF"
   },
   "source": [
    "**1.2 <font color=blue>Running cells</font> <br>** \n",
    "We can type code in a cell, but until we push the `play` button at the top or press `Shift+Enter` it has not been \"run.\" We can check this because there will not be a number in the prompt to the side. When a cell has a number to the side that means that the cell has been **executed**. That number also tells you the order that the cell was executed in. <br>\n",
    "**Cells can and are executed out of the linear order that they appear in the page!**"
   ]
  },
  {
   "cell_type": "code",
   "execution_count": 6,
   "metadata": {
    "colab": {
     "base_uri": "https://localhost:8080/"
    },
    "executionInfo": {
     "elapsed": 332,
     "status": "ok",
     "timestamp": 1670636657554,
     "user": {
      "displayName": "Zhanpeng Yin (Justin)",
      "userId": "08219578712604863430"
     },
     "user_tz": -480
    },
    "id": "1eMQGX-W1VBJ",
    "outputId": "9b7574f5-861d-44d7-da41-6c2f821e8d08"
   },
   "outputs": [
    {
     "data": {
      "text/plain": [
       "10"
      ]
     },
     "execution_count": 6,
     "metadata": {},
     "output_type": "execute_result"
    }
   ],
   "source": [
    "\n",
    "#Execute me second\n",
    "a_number * 2"
   ]
  },
  {
   "cell_type": "code",
   "execution_count": 5,
   "metadata": {
    "executionInfo": {
     "elapsed": 336,
     "status": "ok",
     "timestamp": 1670636654674,
     "user": {
      "displayName": "Zhanpeng Yin (Justin)",
      "userId": "08219578712604863430"
     },
     "user_tz": -480
    },
    "id": "MKB5-Jld1VBS"
   },
   "outputs": [],
   "source": [
    "#Execute me first \n",
    "a_number = 5"
   ]
  },
  {
   "cell_type": "markdown",
   "metadata": {
    "id": "0olyL-rR1VBc"
   },
   "source": [
    "Be aware that once you use a variable name, \n",
    "**it persists across all cells going forward in execution order**."
   ]
  },
  {
   "cell_type": "code",
   "execution_count": null,
   "metadata": {
    "colab": {
     "base_uri": "https://localhost:8080/",
     "height": 34
    },
    "executionInfo": {
     "elapsed": 861,
     "status": "ok",
     "timestamp": 1550507997435,
     "user": {
      "displayName": "A M Aditya",
      "photoUrl": "https://lh3.googleusercontent.com/-WI8p7JNWLic/AAAAAAAAAAI/AAAAAAAAAfs/vS8ElgH0p0c/s64/photo.jpg",
      "userId": "15341571102300750919"
     },
     "user_tz": -480
    },
    "id": "qGdvJJM21VBf",
    "outputId": "6cf79aa9-b89e-450e-c84a-e1a19dfab137"
   },
   "outputs": [
    {
     "data": {
      "text/plain": [
       "25"
      ]
     },
     "execution_count": 5,
     "metadata": {
      "tags": []
     },
     "output_type": "execute_result"
    }
   ],
   "source": [
    "a_number * 5"
   ]
  },
  {
   "cell_type": "markdown",
   "metadata": {
    "id": "s8F3G_kw1VBo"
   },
   "source": [
    "**1.3 <font color=blue>Execution of code inside a cell</font> <br>**\n",
    "Each line of code inside a cell is called a `statement`.\n",
    "Statements are executed in the order in which they appear inside the cell unless you use `flow control` commands.  \n",
    "Flow control enables you to avoid executing some statements, repeat the execution of some statements. Sets of statements whose execution is controlled by flow control commands are called `blocks`. <br> \n",
    "Python uses `indentation` to highlight block structures in the code.\n"
   ]
  },
  {
   "cell_type": "code",
   "execution_count": null,
   "metadata": {
    "colab": {
     "base_uri": "https://localhost:8080/",
     "height": 34
    },
    "executionInfo": {
     "elapsed": 810,
     "status": "ok",
     "timestamp": 1550508000817,
     "user": {
      "displayName": "A M Aditya",
      "photoUrl": "https://lh3.googleusercontent.com/-WI8p7JNWLic/AAAAAAAAAAI/AAAAAAAAAfs/vS8ElgH0p0c/s64/photo.jpg",
      "userId": "15341571102300750919"
     },
     "user_tz": -480
    },
    "id": "QAZsMnf51VBs",
    "outputId": "4d65d173-7746-490b-c3b8-07c932f29668"
   },
   "outputs": [
    {
     "name": "stdout",
     "output_type": "stream",
     "text": [
      "Greater than 2!\n"
     ]
    }
   ],
   "source": [
    "if a_number > 2:\n",
    "    print('Greater than 2!')\n",
    "else:\n",
    "    print('Not greater than 2!')"
   ]
  },
  {
   "cell_type": "markdown",
   "metadata": {
    "collapsed": true,
    "id": "5QivPt9B1VB1"
   },
   "source": [
    "**1.4 <font color=blue>Notebook features</font> <br>**\n",
    "**1.4.1 <font color=grey>Tab Completion: </font>** Tab-completion does what it says: when you press `tab` it completes what you're typing as if it knows what it is."
   ]
  },
  {
   "cell_type": "code",
   "execution_count": 7,
   "metadata": {
    "colab": {
     "base_uri": "https://localhost:8080/"
    },
    "executionInfo": {
     "elapsed": 324,
     "status": "ok",
     "timestamp": 1670636723299,
     "user": {
      "displayName": "Zhanpeng Yin (Justin)",
      "userId": "08219578712604863430"
     },
     "user_tz": -480
    },
    "id": "PpU1AGX91VB5",
    "outputId": "76ac9e35-cc2c-4a4f-b622-3d550d7978ce"
   },
   "outputs": [
    {
     "data": {
      "text/plain": [
       "5"
      ]
     },
     "execution_count": 7,
     "metadata": {},
     "output_type": "execute_result"
    }
   ],
   "source": [
    "#Place your cursor at the `_` and press tab\n",
    "a_number"
   ]
  },
  {
   "cell_type": "markdown",
   "metadata": {
    "id": "E3tGLqgb1VCE"
   },
   "source": [
    "__1.4.2  <font color=grey>Helpful documentation: </font>__ You hopefully noticed the lines starting with '#' and colored green.  Those lines are **comments**. Their purpose is to provide information to the person reading the code.  They help make code more readible and should be used intelligently. <br>\n",
    "However, commenting should be used for choices made by the developer of the code.  You should not typically provide information on things that are part of standard Python. <br>\n",
    "Fortunately, for those things, help is always a click away. Whenever you have a function whose working you are unsure about, you can have the Notebook look it up for you by pressing `Shift+Tab` inside the parentheses."
   ]
  },
  {
   "cell_type": "code",
   "execution_count": null,
   "metadata": {
    "colab": {
     "base_uri": "https://localhost:8080/",
     "height": 34
    },
    "executionInfo": {
     "elapsed": 706,
     "status": "ok",
     "timestamp": 1550508022907,
     "user": {
      "displayName": "A M Aditya",
      "photoUrl": "https://lh3.googleusercontent.com/-WI8p7JNWLic/AAAAAAAAAAI/AAAAAAAAAfs/vS8ElgH0p0c/s64/photo.jpg",
      "userId": "15341571102300750919"
     },
     "user_tz": -480
    },
    "id": "RPEHQl9g1VCH",
    "outputId": "fbdb39a0-2f0c-44a2-9f65-82d2f1e5ed06"
   },
   "outputs": [
    {
     "data": {
      "text/plain": [
       "range(0, 4)"
      ]
     },
     "execution_count": 9,
     "metadata": {
      "tags": []
     },
     "output_type": "execute_result"
    }
   ],
   "source": [
    "#Place your cursor after the `(` and press Shift+Tab\n",
    "range()"
   ]
  },
  {
   "cell_type": "markdown",
   "metadata": {
    "id": "yi0nKR-l1VCS"
   },
   "source": [
    "__1.4.3  <font color=grey> Commenting multiple lines: </font>__ You can also easily comment multiple lines. Just select multiple lines with your cursor and then press `Cmd and /` (`Ctrl and /` for Windows) <br>\n",
    "(You can uncomment multiple lines with the same key command)"
   ]
  },
  {
   "cell_type": "code",
   "execution_count": null,
   "metadata": {
    "id": "DAAp6Yct1VCV"
   },
   "outputs": [],
   "source": [
    "# #Highlight the lines and then press Cmd+/\n",
    "# one_variable = 1\n",
    "# two_variable = 2"
   ]
  },
  {
   "cell_type": "markdown",
   "metadata": {
    "id": "Qzn-SNUN1VCg"
   },
   "source": [
    "__1.4.4  <font color=grey> Indenting multiple lines: </font>__ As code gets complex, blocks of code (see above) can occur inside other blocks. As you write your code, you may change the structure of your program and may need to change the indentation of multiple lines of code.\n",
    "You can indent multiple lines by selecting them and then pressing `Tab`.\n",
    "To de-indent, you press `Shift+Tab` instead."
   ]
  },
  {
   "cell_type": "code",
   "execution_count": null,
   "metadata": {
    "id": "bM7QUCzv1VCh"
   },
   "outputs": [],
   "source": [
    "#Highlight the lines and then press Tab\n",
    "one_variable = 1\n",
    "one_variable = 2"
   ]
  },
  {
   "cell_type": "markdown",
   "metadata": {
    "id": "4orH6a-K1VCl"
   },
   "source": [
    "There are more key commands if you're interested in using them.\n",
    "To see the list of keyboard commands just press `Esc` and then `h`, that will bring up the entire list of keyboard commands.\n",
    "But for now, that's more than enough to get going. Let's learn Python!"
   ]
  }
 ],
 "metadata": {
  "colab": {
   "provenance": []
  },
  "kernelspec": {
   "display_name": "Python 3 (ipykernel)",
   "language": "python",
   "name": "python3"
  },
  "language_info": {
   "codemirror_mode": {
    "name": "ipython",
    "version": 3
   },
   "file_extension": ".py",
   "mimetype": "text/x-python",
   "name": "python",
   "nbconvert_exporter": "python",
   "pygments_lexer": "ipython3",
   "version": "3.9.12"
  }
 },
 "nbformat": 4,
 "nbformat_minor": 1
}
